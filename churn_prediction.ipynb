{
  "cells": [
    {
      "cell_type": "markdown",
      "metadata": {
        "id": "_vggRru00T4O"
      },
      "source": [
        "# Отток клиентов"
      ]
    },
    {
      "cell_type": "markdown",
      "metadata": {
        "id": "GUz99MO80T4O"
      },
      "source": [
        "Из «Бета-Банка» стали уходить клиенты. Каждый месяц. Немного, но заметно. Банковские маркетологи посчитали: сохранять текущих клиентов дешевле, чем привлекать новых.\n",
        "\n",
        "Необходимо спрогнозировать, уйдёт клиент из банка в ближайшее время или нет. Вам предоставлены исторические данные о поведении клиентов и расторжении договоров с банком. \n",
        "\n"
      ]
    },
    {
      "cell_type": "markdown",
      "source": [
        "*Примечание*"
      ],
      "metadata": {
        "id": "k30fW5AF06Ot"
      }
    },
    {
      "cell_type": "markdown",
      "source": [
        "*Необходимый минимум метрики F1-меры* `0.59`.\n",
        "\n",
        "Источник данных: [https://www.kaggle.com/barelydedicated/bank-customer-churn-modeling](https://www.kaggle.com/barelydedicated/bank-customer-churn-modeling)"
      ],
      "metadata": {
        "id": "5OuiKTg_04o9"
      }
    },
    {
      "cell_type": "code",
      "execution_count": null,
      "metadata": {
        "id": "FL2xtark0T4Q"
      },
      "outputs": [],
      "source": [
        "import pandas as pd\n",
        "import numpy as np\n",
        "import math\n",
        "import matplotlib.pyplot as plt\n",
        "from sklearn.model_selection import train_test_split\n",
        "from sklearn.preprocessing import StandardScaler\n",
        "from sklearn.tree import DecisionTreeClassifier\n",
        "from sklearn.linear_model import LogisticRegression\n",
        "from sklearn.ensemble import RandomForestClassifier\n",
        "from sklearn.tree import DecisionTreeClassifier\n",
        "from sklearn.metrics import confusion_matrix\n",
        "from sklearn.metrics import recall_score\n",
        "from sklearn.metrics import precision_score\n",
        "from sklearn.metrics import f1_score\n",
        "from sklearn.metrics import roc_auc_score\n",
        "from sklearn.utils import shuffle\n",
        "from sklearn.metrics import precision_recall_curve\n",
        "from sklearn.metrics import roc_curve\n",
        "from sklearn.metrics import auc\n",
        "pd.options.mode.chained_assignment = None"
      ]
    },
    {
      "cell_type": "code",
      "execution_count": null,
      "metadata": {
        "id": "88BVxFIx0T4S"
      },
      "outputs": [],
      "source": [
        "def review(df): \n",
        "    \"\"\"функция для отображения общей информации\"\"\"\n",
        "    info = display(df.head(10)), df.info(), display(df.describe(), df.describe(include=['object', 'bool']))"
      ]
    },
    {
      "cell_type": "code",
      "execution_count": null,
      "metadata": {
        "id": "nbG2cHfz0T4T"
      },
      "outputs": [],
      "source": [
        "try:\n",
        "    df = pd.read_csv('/datasets/Churn.csv')\n",
        "except:\n",
        "    df = pd.read_csv('Churn.csv')"
      ]
    },
    {
      "cell_type": "markdown",
      "metadata": {
        "id": "xtBqubGw0T4T"
      },
      "source": [
        "## Изучим данные."
      ]
    },
    {
      "cell_type": "code",
      "execution_count": null,
      "metadata": {
        "scrolled": false,
        "id": "n71NCR0a0T4U",
        "outputId": "751ba688-8b30-4aef-ad9e-0b4537eb753f"
      },
      "outputs": [
        {
          "data": {
            "text/html": [
              "<div>\n",
              "<style scoped>\n",
              "    .dataframe tbody tr th:only-of-type {\n",
              "        vertical-align: middle;\n",
              "    }\n",
              "\n",
              "    .dataframe tbody tr th {\n",
              "        vertical-align: top;\n",
              "    }\n",
              "\n",
              "    .dataframe thead th {\n",
              "        text-align: right;\n",
              "    }\n",
              "</style>\n",
              "<table border=\"1\" class=\"dataframe\">\n",
              "  <thead>\n",
              "    <tr style=\"text-align: right;\">\n",
              "      <th></th>\n",
              "      <th>RowNumber</th>\n",
              "      <th>CustomerId</th>\n",
              "      <th>Surname</th>\n",
              "      <th>CreditScore</th>\n",
              "      <th>Geography</th>\n",
              "      <th>Gender</th>\n",
              "      <th>Age</th>\n",
              "      <th>Tenure</th>\n",
              "      <th>Balance</th>\n",
              "      <th>NumOfProducts</th>\n",
              "      <th>HasCrCard</th>\n",
              "      <th>IsActiveMember</th>\n",
              "      <th>EstimatedSalary</th>\n",
              "      <th>Exited</th>\n",
              "    </tr>\n",
              "  </thead>\n",
              "  <tbody>\n",
              "    <tr>\n",
              "      <th>0</th>\n",
              "      <td>1</td>\n",
              "      <td>15634602</td>\n",
              "      <td>Hargrave</td>\n",
              "      <td>619</td>\n",
              "      <td>France</td>\n",
              "      <td>Female</td>\n",
              "      <td>42</td>\n",
              "      <td>2.0</td>\n",
              "      <td>0.00</td>\n",
              "      <td>1</td>\n",
              "      <td>1</td>\n",
              "      <td>1</td>\n",
              "      <td>101348.88</td>\n",
              "      <td>1</td>\n",
              "    </tr>\n",
              "    <tr>\n",
              "      <th>1</th>\n",
              "      <td>2</td>\n",
              "      <td>15647311</td>\n",
              "      <td>Hill</td>\n",
              "      <td>608</td>\n",
              "      <td>Spain</td>\n",
              "      <td>Female</td>\n",
              "      <td>41</td>\n",
              "      <td>1.0</td>\n",
              "      <td>83807.86</td>\n",
              "      <td>1</td>\n",
              "      <td>0</td>\n",
              "      <td>1</td>\n",
              "      <td>112542.58</td>\n",
              "      <td>0</td>\n",
              "    </tr>\n",
              "    <tr>\n",
              "      <th>2</th>\n",
              "      <td>3</td>\n",
              "      <td>15619304</td>\n",
              "      <td>Onio</td>\n",
              "      <td>502</td>\n",
              "      <td>France</td>\n",
              "      <td>Female</td>\n",
              "      <td>42</td>\n",
              "      <td>8.0</td>\n",
              "      <td>159660.80</td>\n",
              "      <td>3</td>\n",
              "      <td>1</td>\n",
              "      <td>0</td>\n",
              "      <td>113931.57</td>\n",
              "      <td>1</td>\n",
              "    </tr>\n",
              "    <tr>\n",
              "      <th>3</th>\n",
              "      <td>4</td>\n",
              "      <td>15701354</td>\n",
              "      <td>Boni</td>\n",
              "      <td>699</td>\n",
              "      <td>France</td>\n",
              "      <td>Female</td>\n",
              "      <td>39</td>\n",
              "      <td>1.0</td>\n",
              "      <td>0.00</td>\n",
              "      <td>2</td>\n",
              "      <td>0</td>\n",
              "      <td>0</td>\n",
              "      <td>93826.63</td>\n",
              "      <td>0</td>\n",
              "    </tr>\n",
              "    <tr>\n",
              "      <th>4</th>\n",
              "      <td>5</td>\n",
              "      <td>15737888</td>\n",
              "      <td>Mitchell</td>\n",
              "      <td>850</td>\n",
              "      <td>Spain</td>\n",
              "      <td>Female</td>\n",
              "      <td>43</td>\n",
              "      <td>2.0</td>\n",
              "      <td>125510.82</td>\n",
              "      <td>1</td>\n",
              "      <td>1</td>\n",
              "      <td>1</td>\n",
              "      <td>79084.10</td>\n",
              "      <td>0</td>\n",
              "    </tr>\n",
              "    <tr>\n",
              "      <th>5</th>\n",
              "      <td>6</td>\n",
              "      <td>15574012</td>\n",
              "      <td>Chu</td>\n",
              "      <td>645</td>\n",
              "      <td>Spain</td>\n",
              "      <td>Male</td>\n",
              "      <td>44</td>\n",
              "      <td>8.0</td>\n",
              "      <td>113755.78</td>\n",
              "      <td>2</td>\n",
              "      <td>1</td>\n",
              "      <td>0</td>\n",
              "      <td>149756.71</td>\n",
              "      <td>1</td>\n",
              "    </tr>\n",
              "    <tr>\n",
              "      <th>6</th>\n",
              "      <td>7</td>\n",
              "      <td>15592531</td>\n",
              "      <td>Bartlett</td>\n",
              "      <td>822</td>\n",
              "      <td>France</td>\n",
              "      <td>Male</td>\n",
              "      <td>50</td>\n",
              "      <td>7.0</td>\n",
              "      <td>0.00</td>\n",
              "      <td>2</td>\n",
              "      <td>1</td>\n",
              "      <td>1</td>\n",
              "      <td>10062.80</td>\n",
              "      <td>0</td>\n",
              "    </tr>\n",
              "    <tr>\n",
              "      <th>7</th>\n",
              "      <td>8</td>\n",
              "      <td>15656148</td>\n",
              "      <td>Obinna</td>\n",
              "      <td>376</td>\n",
              "      <td>Germany</td>\n",
              "      <td>Female</td>\n",
              "      <td>29</td>\n",
              "      <td>4.0</td>\n",
              "      <td>115046.74</td>\n",
              "      <td>4</td>\n",
              "      <td>1</td>\n",
              "      <td>0</td>\n",
              "      <td>119346.88</td>\n",
              "      <td>1</td>\n",
              "    </tr>\n",
              "    <tr>\n",
              "      <th>8</th>\n",
              "      <td>9</td>\n",
              "      <td>15792365</td>\n",
              "      <td>He</td>\n",
              "      <td>501</td>\n",
              "      <td>France</td>\n",
              "      <td>Male</td>\n",
              "      <td>44</td>\n",
              "      <td>4.0</td>\n",
              "      <td>142051.07</td>\n",
              "      <td>2</td>\n",
              "      <td>0</td>\n",
              "      <td>1</td>\n",
              "      <td>74940.50</td>\n",
              "      <td>0</td>\n",
              "    </tr>\n",
              "    <tr>\n",
              "      <th>9</th>\n",
              "      <td>10</td>\n",
              "      <td>15592389</td>\n",
              "      <td>H?</td>\n",
              "      <td>684</td>\n",
              "      <td>France</td>\n",
              "      <td>Male</td>\n",
              "      <td>27</td>\n",
              "      <td>2.0</td>\n",
              "      <td>134603.88</td>\n",
              "      <td>1</td>\n",
              "      <td>1</td>\n",
              "      <td>1</td>\n",
              "      <td>71725.73</td>\n",
              "      <td>0</td>\n",
              "    </tr>\n",
              "  </tbody>\n",
              "</table>\n",
              "</div>"
            ],
            "text/plain": [
              "   RowNumber  CustomerId   Surname  CreditScore Geography  Gender  Age  \\\n",
              "0          1    15634602  Hargrave          619    France  Female   42   \n",
              "1          2    15647311      Hill          608     Spain  Female   41   \n",
              "2          3    15619304      Onio          502    France  Female   42   \n",
              "3          4    15701354      Boni          699    France  Female   39   \n",
              "4          5    15737888  Mitchell          850     Spain  Female   43   \n",
              "5          6    15574012       Chu          645     Spain    Male   44   \n",
              "6          7    15592531  Bartlett          822    France    Male   50   \n",
              "7          8    15656148    Obinna          376   Germany  Female   29   \n",
              "8          9    15792365        He          501    France    Male   44   \n",
              "9         10    15592389        H?          684    France    Male   27   \n",
              "\n",
              "   Tenure    Balance  NumOfProducts  HasCrCard  IsActiveMember  \\\n",
              "0     2.0       0.00              1          1               1   \n",
              "1     1.0   83807.86              1          0               1   \n",
              "2     8.0  159660.80              3          1               0   \n",
              "3     1.0       0.00              2          0               0   \n",
              "4     2.0  125510.82              1          1               1   \n",
              "5     8.0  113755.78              2          1               0   \n",
              "6     7.0       0.00              2          1               1   \n",
              "7     4.0  115046.74              4          1               0   \n",
              "8     4.0  142051.07              2          0               1   \n",
              "9     2.0  134603.88              1          1               1   \n",
              "\n",
              "   EstimatedSalary  Exited  \n",
              "0        101348.88       1  \n",
              "1        112542.58       0  \n",
              "2        113931.57       1  \n",
              "3         93826.63       0  \n",
              "4         79084.10       0  \n",
              "5        149756.71       1  \n",
              "6         10062.80       0  \n",
              "7        119346.88       1  \n",
              "8         74940.50       0  \n",
              "9         71725.73       0  "
            ]
          },
          "metadata": {},
          "output_type": "display_data"
        },
        {
          "name": "stdout",
          "output_type": "stream",
          "text": [
            "<class 'pandas.core.frame.DataFrame'>\n",
            "RangeIndex: 10000 entries, 0 to 9999\n",
            "Data columns (total 14 columns):\n",
            " #   Column           Non-Null Count  Dtype  \n",
            "---  ------           --------------  -----  \n",
            " 0   RowNumber        10000 non-null  int64  \n",
            " 1   CustomerId       10000 non-null  int64  \n",
            " 2   Surname          10000 non-null  object \n",
            " 3   CreditScore      10000 non-null  int64  \n",
            " 4   Geography        10000 non-null  object \n",
            " 5   Gender           10000 non-null  object \n",
            " 6   Age              10000 non-null  int64  \n",
            " 7   Tenure           9091 non-null   float64\n",
            " 8   Balance          10000 non-null  float64\n",
            " 9   NumOfProducts    10000 non-null  int64  \n",
            " 10  HasCrCard        10000 non-null  int64  \n",
            " 11  IsActiveMember   10000 non-null  int64  \n",
            " 12  EstimatedSalary  10000 non-null  float64\n",
            " 13  Exited           10000 non-null  int64  \n",
            "dtypes: float64(3), int64(8), object(3)\n",
            "memory usage: 1.1+ MB\n"
          ]
        },
        {
          "data": {
            "text/html": [
              "<div>\n",
              "<style scoped>\n",
              "    .dataframe tbody tr th:only-of-type {\n",
              "        vertical-align: middle;\n",
              "    }\n",
              "\n",
              "    .dataframe tbody tr th {\n",
              "        vertical-align: top;\n",
              "    }\n",
              "\n",
              "    .dataframe thead th {\n",
              "        text-align: right;\n",
              "    }\n",
              "</style>\n",
              "<table border=\"1\" class=\"dataframe\">\n",
              "  <thead>\n",
              "    <tr style=\"text-align: right;\">\n",
              "      <th></th>\n",
              "      <th>RowNumber</th>\n",
              "      <th>CustomerId</th>\n",
              "      <th>CreditScore</th>\n",
              "      <th>Age</th>\n",
              "      <th>Tenure</th>\n",
              "      <th>Balance</th>\n",
              "      <th>NumOfProducts</th>\n",
              "      <th>HasCrCard</th>\n",
              "      <th>IsActiveMember</th>\n",
              "      <th>EstimatedSalary</th>\n",
              "      <th>Exited</th>\n",
              "    </tr>\n",
              "  </thead>\n",
              "  <tbody>\n",
              "    <tr>\n",
              "      <th>count</th>\n",
              "      <td>10000.00000</td>\n",
              "      <td>1.000000e+04</td>\n",
              "      <td>10000.000000</td>\n",
              "      <td>10000.000000</td>\n",
              "      <td>9091.000000</td>\n",
              "      <td>10000.000000</td>\n",
              "      <td>10000.000000</td>\n",
              "      <td>10000.00000</td>\n",
              "      <td>10000.000000</td>\n",
              "      <td>10000.000000</td>\n",
              "      <td>10000.000000</td>\n",
              "    </tr>\n",
              "    <tr>\n",
              "      <th>mean</th>\n",
              "      <td>5000.50000</td>\n",
              "      <td>1.569094e+07</td>\n",
              "      <td>650.528800</td>\n",
              "      <td>38.921800</td>\n",
              "      <td>4.997690</td>\n",
              "      <td>76485.889288</td>\n",
              "      <td>1.530200</td>\n",
              "      <td>0.70550</td>\n",
              "      <td>0.515100</td>\n",
              "      <td>100090.239881</td>\n",
              "      <td>0.203700</td>\n",
              "    </tr>\n",
              "    <tr>\n",
              "      <th>std</th>\n",
              "      <td>2886.89568</td>\n",
              "      <td>7.193619e+04</td>\n",
              "      <td>96.653299</td>\n",
              "      <td>10.487806</td>\n",
              "      <td>2.894723</td>\n",
              "      <td>62397.405202</td>\n",
              "      <td>0.581654</td>\n",
              "      <td>0.45584</td>\n",
              "      <td>0.499797</td>\n",
              "      <td>57510.492818</td>\n",
              "      <td>0.402769</td>\n",
              "    </tr>\n",
              "    <tr>\n",
              "      <th>min</th>\n",
              "      <td>1.00000</td>\n",
              "      <td>1.556570e+07</td>\n",
              "      <td>350.000000</td>\n",
              "      <td>18.000000</td>\n",
              "      <td>0.000000</td>\n",
              "      <td>0.000000</td>\n",
              "      <td>1.000000</td>\n",
              "      <td>0.00000</td>\n",
              "      <td>0.000000</td>\n",
              "      <td>11.580000</td>\n",
              "      <td>0.000000</td>\n",
              "    </tr>\n",
              "    <tr>\n",
              "      <th>25%</th>\n",
              "      <td>2500.75000</td>\n",
              "      <td>1.562853e+07</td>\n",
              "      <td>584.000000</td>\n",
              "      <td>32.000000</td>\n",
              "      <td>2.000000</td>\n",
              "      <td>0.000000</td>\n",
              "      <td>1.000000</td>\n",
              "      <td>0.00000</td>\n",
              "      <td>0.000000</td>\n",
              "      <td>51002.110000</td>\n",
              "      <td>0.000000</td>\n",
              "    </tr>\n",
              "    <tr>\n",
              "      <th>50%</th>\n",
              "      <td>5000.50000</td>\n",
              "      <td>1.569074e+07</td>\n",
              "      <td>652.000000</td>\n",
              "      <td>37.000000</td>\n",
              "      <td>5.000000</td>\n",
              "      <td>97198.540000</td>\n",
              "      <td>1.000000</td>\n",
              "      <td>1.00000</td>\n",
              "      <td>1.000000</td>\n",
              "      <td>100193.915000</td>\n",
              "      <td>0.000000</td>\n",
              "    </tr>\n",
              "    <tr>\n",
              "      <th>75%</th>\n",
              "      <td>7500.25000</td>\n",
              "      <td>1.575323e+07</td>\n",
              "      <td>718.000000</td>\n",
              "      <td>44.000000</td>\n",
              "      <td>7.000000</td>\n",
              "      <td>127644.240000</td>\n",
              "      <td>2.000000</td>\n",
              "      <td>1.00000</td>\n",
              "      <td>1.000000</td>\n",
              "      <td>149388.247500</td>\n",
              "      <td>0.000000</td>\n",
              "    </tr>\n",
              "    <tr>\n",
              "      <th>max</th>\n",
              "      <td>10000.00000</td>\n",
              "      <td>1.581569e+07</td>\n",
              "      <td>850.000000</td>\n",
              "      <td>92.000000</td>\n",
              "      <td>10.000000</td>\n",
              "      <td>250898.090000</td>\n",
              "      <td>4.000000</td>\n",
              "      <td>1.00000</td>\n",
              "      <td>1.000000</td>\n",
              "      <td>199992.480000</td>\n",
              "      <td>1.000000</td>\n",
              "    </tr>\n",
              "  </tbody>\n",
              "</table>\n",
              "</div>"
            ],
            "text/plain": [
              "         RowNumber    CustomerId   CreditScore           Age       Tenure  \\\n",
              "count  10000.00000  1.000000e+04  10000.000000  10000.000000  9091.000000   \n",
              "mean    5000.50000  1.569094e+07    650.528800     38.921800     4.997690   \n",
              "std     2886.89568  7.193619e+04     96.653299     10.487806     2.894723   \n",
              "min        1.00000  1.556570e+07    350.000000     18.000000     0.000000   \n",
              "25%     2500.75000  1.562853e+07    584.000000     32.000000     2.000000   \n",
              "50%     5000.50000  1.569074e+07    652.000000     37.000000     5.000000   \n",
              "75%     7500.25000  1.575323e+07    718.000000     44.000000     7.000000   \n",
              "max    10000.00000  1.581569e+07    850.000000     92.000000    10.000000   \n",
              "\n",
              "             Balance  NumOfProducts    HasCrCard  IsActiveMember  \\\n",
              "count   10000.000000   10000.000000  10000.00000    10000.000000   \n",
              "mean    76485.889288       1.530200      0.70550        0.515100   \n",
              "std     62397.405202       0.581654      0.45584        0.499797   \n",
              "min         0.000000       1.000000      0.00000        0.000000   \n",
              "25%         0.000000       1.000000      0.00000        0.000000   \n",
              "50%     97198.540000       1.000000      1.00000        1.000000   \n",
              "75%    127644.240000       2.000000      1.00000        1.000000   \n",
              "max    250898.090000       4.000000      1.00000        1.000000   \n",
              "\n",
              "       EstimatedSalary        Exited  \n",
              "count     10000.000000  10000.000000  \n",
              "mean     100090.239881      0.203700  \n",
              "std       57510.492818      0.402769  \n",
              "min          11.580000      0.000000  \n",
              "25%       51002.110000      0.000000  \n",
              "50%      100193.915000      0.000000  \n",
              "75%      149388.247500      0.000000  \n",
              "max      199992.480000      1.000000  "
            ]
          },
          "metadata": {},
          "output_type": "display_data"
        },
        {
          "data": {
            "text/html": [
              "<div>\n",
              "<style scoped>\n",
              "    .dataframe tbody tr th:only-of-type {\n",
              "        vertical-align: middle;\n",
              "    }\n",
              "\n",
              "    .dataframe tbody tr th {\n",
              "        vertical-align: top;\n",
              "    }\n",
              "\n",
              "    .dataframe thead th {\n",
              "        text-align: right;\n",
              "    }\n",
              "</style>\n",
              "<table border=\"1\" class=\"dataframe\">\n",
              "  <thead>\n",
              "    <tr style=\"text-align: right;\">\n",
              "      <th></th>\n",
              "      <th>Surname</th>\n",
              "      <th>Geography</th>\n",
              "      <th>Gender</th>\n",
              "    </tr>\n",
              "  </thead>\n",
              "  <tbody>\n",
              "    <tr>\n",
              "      <th>count</th>\n",
              "      <td>10000</td>\n",
              "      <td>10000</td>\n",
              "      <td>10000</td>\n",
              "    </tr>\n",
              "    <tr>\n",
              "      <th>unique</th>\n",
              "      <td>2932</td>\n",
              "      <td>3</td>\n",
              "      <td>2</td>\n",
              "    </tr>\n",
              "    <tr>\n",
              "      <th>top</th>\n",
              "      <td>Smith</td>\n",
              "      <td>France</td>\n",
              "      <td>Male</td>\n",
              "    </tr>\n",
              "    <tr>\n",
              "      <th>freq</th>\n",
              "      <td>32</td>\n",
              "      <td>5014</td>\n",
              "      <td>5457</td>\n",
              "    </tr>\n",
              "  </tbody>\n",
              "</table>\n",
              "</div>"
            ],
            "text/plain": [
              "       Surname Geography Gender\n",
              "count    10000     10000  10000\n",
              "unique    2932         3      2\n",
              "top      Smith    France   Male\n",
              "freq        32      5014   5457"
            ]
          },
          "metadata": {},
          "output_type": "display_data"
        }
      ],
      "source": [
        "review(df)"
      ]
    },
    {
      "cell_type": "markdown",
      "metadata": {
        "id": "2XzWHSdj0T4V"
      },
      "source": [
        "### Вывод"
      ]
    },
    {
      "cell_type": "markdown",
      "metadata": {
        "id": "5BX1AdMY0T4W"
      },
      "source": [
        "- пропуски в столбце `Tenure`;\n",
        "- столбец `Tenure` необходимо привести к числовому типу данных;\n",
        "- заголовки столбцов не приведены к нижнему регистру;\n",
        "- информация в столбцах `rownumber`, `customerid` и `surname` не потребуется для исследования."
      ]
    },
    {
      "cell_type": "markdown",
      "metadata": {
        "id": "HYjH4uKh0T4X"
      },
      "source": [
        "## Подготовка данных"
      ]
    },
    {
      "cell_type": "markdown",
      "metadata": {
        "id": "gEu5Q3Aw0T4X"
      },
      "source": [
        "Приведем заголовки к нижнему регистру"
      ]
    },
    {
      "cell_type": "code",
      "execution_count": null,
      "metadata": {
        "id": "IdXP4lqv0T4Y"
      },
      "outputs": [],
      "source": [
        "df.columns = [x.lower() for x in df.columns]"
      ]
    },
    {
      "cell_type": "markdown",
      "metadata": {
        "id": "cUF27h_V0T4Y"
      },
      "source": [
        "Приведем столбец `Tenure` к типу данных `Int64`"
      ]
    },
    {
      "cell_type": "code",
      "execution_count": null,
      "metadata": {
        "id": "w0TBbTXA0T4Y"
      },
      "outputs": [],
      "source": [
        "df['tenure'] = pd.to_numeric(df['tenure']).astype('Int64')"
      ]
    },
    {
      "cell_type": "markdown",
      "metadata": {
        "id": "LFCPi61Y0T4Z"
      },
      "source": [
        "Удалим столбцы `rownumber`, `customerid` и `surname`."
      ]
    },
    {
      "cell_type": "code",
      "execution_count": null,
      "metadata": {
        "id": "gffgpnUP0T4Z"
      },
      "outputs": [],
      "source": [
        "df = df.drop(columns=['rownumber', 'customerid', 'surname'], axis=1)"
      ]
    },
    {
      "cell_type": "markdown",
      "metadata": {
        "id": "rTDxb9540T4a"
      },
      "source": [
        "Заполним пропуски в столбце `tenure`. Возможно использовать 3 способа:\n",
        "\n",
        "1. Удалить пропуски.\n",
        "2. Заменить пропуски на значение - `0`.\n",
        "3. Заменить пропуски на медианное значение.\n",
        "\n",
        "Поскольку нам необходимо изучить как поведут себя модели, будем использовать все 3 способа, для этого создадим 3 датафрейма:\n",
        "- `df_nopasses` - с удаленными пропусками;\n",
        "- `df_zeropasses` - с заменой пропусков на значиние - `0`;\n",
        "- `df_medianpasses` - с заменой пропусков на медианное значение по столбцу."
      ]
    },
    {
      "cell_type": "code",
      "execution_count": null,
      "metadata": {
        "id": "RS1ckcGv0T4a"
      },
      "outputs": [],
      "source": [
        "df_nopasses = df.dropna(subset = ['tenure'], axis = 0)\n",
        "df_zeropasses = df.fillna(0) \n",
        "df_medianpasses = df.copy()\n",
        "df_medianpasses['tenure'] = df_medianpasses['tenure'].fillna(df_medianpasses['tenure'].median())"
      ]
    },
    {
      "cell_type": "code",
      "execution_count": null,
      "metadata": {
        "id": "838g4hEj0T4b",
        "outputId": "23c65af2-15f7-4bfb-ff2b-85d3bd2e92b7"
      },
      "outputs": [
        {
          "data": {
            "text/html": [
              "<div>\n",
              "<style scoped>\n",
              "    .dataframe tbody tr th:only-of-type {\n",
              "        vertical-align: middle;\n",
              "    }\n",
              "\n",
              "    .dataframe tbody tr th {\n",
              "        vertical-align: top;\n",
              "    }\n",
              "\n",
              "    .dataframe thead th {\n",
              "        text-align: right;\n",
              "    }\n",
              "</style>\n",
              "<table border=\"1\" class=\"dataframe\">\n",
              "  <thead>\n",
              "    <tr style=\"text-align: right;\">\n",
              "      <th></th>\n",
              "      <th>creditscore</th>\n",
              "      <th>geography</th>\n",
              "      <th>gender</th>\n",
              "      <th>age</th>\n",
              "      <th>tenure</th>\n",
              "      <th>balance</th>\n",
              "      <th>numofproducts</th>\n",
              "      <th>hascrcard</th>\n",
              "      <th>isactivemember</th>\n",
              "      <th>estimatedsalary</th>\n",
              "      <th>exited</th>\n",
              "    </tr>\n",
              "  </thead>\n",
              "  <tbody>\n",
              "    <tr>\n",
              "      <th>0</th>\n",
              "      <td>619</td>\n",
              "      <td>France</td>\n",
              "      <td>Female</td>\n",
              "      <td>42</td>\n",
              "      <td>2</td>\n",
              "      <td>0.00</td>\n",
              "      <td>1</td>\n",
              "      <td>1</td>\n",
              "      <td>1</td>\n",
              "      <td>101348.88</td>\n",
              "      <td>1</td>\n",
              "    </tr>\n",
              "    <tr>\n",
              "      <th>1</th>\n",
              "      <td>608</td>\n",
              "      <td>Spain</td>\n",
              "      <td>Female</td>\n",
              "      <td>41</td>\n",
              "      <td>1</td>\n",
              "      <td>83807.86</td>\n",
              "      <td>1</td>\n",
              "      <td>0</td>\n",
              "      <td>1</td>\n",
              "      <td>112542.58</td>\n",
              "      <td>0</td>\n",
              "    </tr>\n",
              "    <tr>\n",
              "      <th>2</th>\n",
              "      <td>502</td>\n",
              "      <td>France</td>\n",
              "      <td>Female</td>\n",
              "      <td>42</td>\n",
              "      <td>8</td>\n",
              "      <td>159660.80</td>\n",
              "      <td>3</td>\n",
              "      <td>1</td>\n",
              "      <td>0</td>\n",
              "      <td>113931.57</td>\n",
              "      <td>1</td>\n",
              "    </tr>\n",
              "    <tr>\n",
              "      <th>3</th>\n",
              "      <td>699</td>\n",
              "      <td>France</td>\n",
              "      <td>Female</td>\n",
              "      <td>39</td>\n",
              "      <td>1</td>\n",
              "      <td>0.00</td>\n",
              "      <td>2</td>\n",
              "      <td>0</td>\n",
              "      <td>0</td>\n",
              "      <td>93826.63</td>\n",
              "      <td>0</td>\n",
              "    </tr>\n",
              "    <tr>\n",
              "      <th>4</th>\n",
              "      <td>850</td>\n",
              "      <td>Spain</td>\n",
              "      <td>Female</td>\n",
              "      <td>43</td>\n",
              "      <td>2</td>\n",
              "      <td>125510.82</td>\n",
              "      <td>1</td>\n",
              "      <td>1</td>\n",
              "      <td>1</td>\n",
              "      <td>79084.10</td>\n",
              "      <td>0</td>\n",
              "    </tr>\n",
              "    <tr>\n",
              "      <th>5</th>\n",
              "      <td>645</td>\n",
              "      <td>Spain</td>\n",
              "      <td>Male</td>\n",
              "      <td>44</td>\n",
              "      <td>8</td>\n",
              "      <td>113755.78</td>\n",
              "      <td>2</td>\n",
              "      <td>1</td>\n",
              "      <td>0</td>\n",
              "      <td>149756.71</td>\n",
              "      <td>1</td>\n",
              "    </tr>\n",
              "    <tr>\n",
              "      <th>6</th>\n",
              "      <td>822</td>\n",
              "      <td>France</td>\n",
              "      <td>Male</td>\n",
              "      <td>50</td>\n",
              "      <td>7</td>\n",
              "      <td>0.00</td>\n",
              "      <td>2</td>\n",
              "      <td>1</td>\n",
              "      <td>1</td>\n",
              "      <td>10062.80</td>\n",
              "      <td>0</td>\n",
              "    </tr>\n",
              "    <tr>\n",
              "      <th>7</th>\n",
              "      <td>376</td>\n",
              "      <td>Germany</td>\n",
              "      <td>Female</td>\n",
              "      <td>29</td>\n",
              "      <td>4</td>\n",
              "      <td>115046.74</td>\n",
              "      <td>4</td>\n",
              "      <td>1</td>\n",
              "      <td>0</td>\n",
              "      <td>119346.88</td>\n",
              "      <td>1</td>\n",
              "    </tr>\n",
              "    <tr>\n",
              "      <th>8</th>\n",
              "      <td>501</td>\n",
              "      <td>France</td>\n",
              "      <td>Male</td>\n",
              "      <td>44</td>\n",
              "      <td>4</td>\n",
              "      <td>142051.07</td>\n",
              "      <td>2</td>\n",
              "      <td>0</td>\n",
              "      <td>1</td>\n",
              "      <td>74940.50</td>\n",
              "      <td>0</td>\n",
              "    </tr>\n",
              "    <tr>\n",
              "      <th>9</th>\n",
              "      <td>684</td>\n",
              "      <td>France</td>\n",
              "      <td>Male</td>\n",
              "      <td>27</td>\n",
              "      <td>2</td>\n",
              "      <td>134603.88</td>\n",
              "      <td>1</td>\n",
              "      <td>1</td>\n",
              "      <td>1</td>\n",
              "      <td>71725.73</td>\n",
              "      <td>0</td>\n",
              "    </tr>\n",
              "  </tbody>\n",
              "</table>\n",
              "</div>"
            ],
            "text/plain": [
              "   creditscore geography  gender  age  tenure    balance  numofproducts  \\\n",
              "0          619    France  Female   42       2       0.00              1   \n",
              "1          608     Spain  Female   41       1   83807.86              1   \n",
              "2          502    France  Female   42       8  159660.80              3   \n",
              "3          699    France  Female   39       1       0.00              2   \n",
              "4          850     Spain  Female   43       2  125510.82              1   \n",
              "5          645     Spain    Male   44       8  113755.78              2   \n",
              "6          822    France    Male   50       7       0.00              2   \n",
              "7          376   Germany  Female   29       4  115046.74              4   \n",
              "8          501    France    Male   44       4  142051.07              2   \n",
              "9          684    France    Male   27       2  134603.88              1   \n",
              "\n",
              "   hascrcard  isactivemember  estimatedsalary  exited  \n",
              "0          1               1        101348.88       1  \n",
              "1          0               1        112542.58       0  \n",
              "2          1               0        113931.57       1  \n",
              "3          0               0         93826.63       0  \n",
              "4          1               1         79084.10       0  \n",
              "5          1               0        149756.71       1  \n",
              "6          1               1         10062.80       0  \n",
              "7          1               0        119346.88       1  \n",
              "8          0               1         74940.50       0  \n",
              "9          1               1         71725.73       0  "
            ]
          },
          "metadata": {},
          "output_type": "display_data"
        },
        {
          "name": "stdout",
          "output_type": "stream",
          "text": [
            "<class 'pandas.core.frame.DataFrame'>\n",
            "Int64Index: 9091 entries, 0 to 9998\n",
            "Data columns (total 11 columns):\n",
            " #   Column           Non-Null Count  Dtype  \n",
            "---  ------           --------------  -----  \n",
            " 0   creditscore      9091 non-null   int64  \n",
            " 1   geography        9091 non-null   object \n",
            " 2   gender           9091 non-null   object \n",
            " 3   age              9091 non-null   int64  \n",
            " 4   tenure           9091 non-null   Int64  \n",
            " 5   balance          9091 non-null   float64\n",
            " 6   numofproducts    9091 non-null   int64  \n",
            " 7   hascrcard        9091 non-null   int64  \n",
            " 8   isactivemember   9091 non-null   int64  \n",
            " 9   estimatedsalary  9091 non-null   float64\n",
            " 10  exited           9091 non-null   int64  \n",
            "dtypes: Int64(1), float64(2), int64(6), object(2)\n",
            "memory usage: 861.2+ KB\n"
          ]
        },
        {
          "data": {
            "text/html": [
              "<div>\n",
              "<style scoped>\n",
              "    .dataframe tbody tr th:only-of-type {\n",
              "        vertical-align: middle;\n",
              "    }\n",
              "\n",
              "    .dataframe tbody tr th {\n",
              "        vertical-align: top;\n",
              "    }\n",
              "\n",
              "    .dataframe thead th {\n",
              "        text-align: right;\n",
              "    }\n",
              "</style>\n",
              "<table border=\"1\" class=\"dataframe\">\n",
              "  <thead>\n",
              "    <tr style=\"text-align: right;\">\n",
              "      <th></th>\n",
              "      <th>creditscore</th>\n",
              "      <th>age</th>\n",
              "      <th>tenure</th>\n",
              "      <th>balance</th>\n",
              "      <th>numofproducts</th>\n",
              "      <th>hascrcard</th>\n",
              "      <th>isactivemember</th>\n",
              "      <th>estimatedsalary</th>\n",
              "      <th>exited</th>\n",
              "    </tr>\n",
              "  </thead>\n",
              "  <tbody>\n",
              "    <tr>\n",
              "      <th>count</th>\n",
              "      <td>9091.000000</td>\n",
              "      <td>9091.000000</td>\n",
              "      <td>9091.000000</td>\n",
              "      <td>9091.000000</td>\n",
              "      <td>9091.000000</td>\n",
              "      <td>9091.000000</td>\n",
              "      <td>9091.000000</td>\n",
              "      <td>9091.000000</td>\n",
              "      <td>9091.000000</td>\n",
              "    </tr>\n",
              "    <tr>\n",
              "      <th>mean</th>\n",
              "      <td>650.736553</td>\n",
              "      <td>38.949181</td>\n",
              "      <td>4.997690</td>\n",
              "      <td>76522.740015</td>\n",
              "      <td>1.530195</td>\n",
              "      <td>0.704983</td>\n",
              "      <td>0.515565</td>\n",
              "      <td>100181.214924</td>\n",
              "      <td>0.203938</td>\n",
              "    </tr>\n",
              "    <tr>\n",
              "      <th>std</th>\n",
              "      <td>96.410471</td>\n",
              "      <td>10.555581</td>\n",
              "      <td>2.894723</td>\n",
              "      <td>62329.528576</td>\n",
              "      <td>0.581003</td>\n",
              "      <td>0.456076</td>\n",
              "      <td>0.499785</td>\n",
              "      <td>57624.755647</td>\n",
              "      <td>0.402946</td>\n",
              "    </tr>\n",
              "    <tr>\n",
              "      <th>min</th>\n",
              "      <td>350.000000</td>\n",
              "      <td>18.000000</td>\n",
              "      <td>0.000000</td>\n",
              "      <td>0.000000</td>\n",
              "      <td>1.000000</td>\n",
              "      <td>0.000000</td>\n",
              "      <td>0.000000</td>\n",
              "      <td>11.580000</td>\n",
              "      <td>0.000000</td>\n",
              "    </tr>\n",
              "    <tr>\n",
              "      <th>25%</th>\n",
              "      <td>584.000000</td>\n",
              "      <td>32.000000</td>\n",
              "      <td>2.000000</td>\n",
              "      <td>0.000000</td>\n",
              "      <td>1.000000</td>\n",
              "      <td>0.000000</td>\n",
              "      <td>0.000000</td>\n",
              "      <td>51227.745000</td>\n",
              "      <td>0.000000</td>\n",
              "    </tr>\n",
              "    <tr>\n",
              "      <th>50%</th>\n",
              "      <td>652.000000</td>\n",
              "      <td>37.000000</td>\n",
              "      <td>5.000000</td>\n",
              "      <td>97318.250000</td>\n",
              "      <td>1.000000</td>\n",
              "      <td>1.000000</td>\n",
              "      <td>1.000000</td>\n",
              "      <td>100240.200000</td>\n",
              "      <td>0.000000</td>\n",
              "    </tr>\n",
              "    <tr>\n",
              "      <th>75%</th>\n",
              "      <td>717.000000</td>\n",
              "      <td>44.000000</td>\n",
              "      <td>7.000000</td>\n",
              "      <td>127561.890000</td>\n",
              "      <td>2.000000</td>\n",
              "      <td>1.000000</td>\n",
              "      <td>1.000000</td>\n",
              "      <td>149567.210000</td>\n",
              "      <td>0.000000</td>\n",
              "    </tr>\n",
              "    <tr>\n",
              "      <th>max</th>\n",
              "      <td>850.000000</td>\n",
              "      <td>92.000000</td>\n",
              "      <td>10.000000</td>\n",
              "      <td>250898.090000</td>\n",
              "      <td>4.000000</td>\n",
              "      <td>1.000000</td>\n",
              "      <td>1.000000</td>\n",
              "      <td>199992.480000</td>\n",
              "      <td>1.000000</td>\n",
              "    </tr>\n",
              "  </tbody>\n",
              "</table>\n",
              "</div>"
            ],
            "text/plain": [
              "       creditscore          age       tenure        balance  numofproducts  \\\n",
              "count  9091.000000  9091.000000  9091.000000    9091.000000    9091.000000   \n",
              "mean    650.736553    38.949181     4.997690   76522.740015       1.530195   \n",
              "std      96.410471    10.555581     2.894723   62329.528576       0.581003   \n",
              "min     350.000000    18.000000     0.000000       0.000000       1.000000   \n",
              "25%     584.000000    32.000000     2.000000       0.000000       1.000000   \n",
              "50%     652.000000    37.000000     5.000000   97318.250000       1.000000   \n",
              "75%     717.000000    44.000000     7.000000  127561.890000       2.000000   \n",
              "max     850.000000    92.000000    10.000000  250898.090000       4.000000   \n",
              "\n",
              "         hascrcard  isactivemember  estimatedsalary       exited  \n",
              "count  9091.000000     9091.000000      9091.000000  9091.000000  \n",
              "mean      0.704983        0.515565    100181.214924     0.203938  \n",
              "std       0.456076        0.499785     57624.755647     0.402946  \n",
              "min       0.000000        0.000000        11.580000     0.000000  \n",
              "25%       0.000000        0.000000     51227.745000     0.000000  \n",
              "50%       1.000000        1.000000    100240.200000     0.000000  \n",
              "75%       1.000000        1.000000    149567.210000     0.000000  \n",
              "max       1.000000        1.000000    199992.480000     1.000000  "
            ]
          },
          "metadata": {},
          "output_type": "display_data"
        },
        {
          "data": {
            "text/html": [
              "<div>\n",
              "<style scoped>\n",
              "    .dataframe tbody tr th:only-of-type {\n",
              "        vertical-align: middle;\n",
              "    }\n",
              "\n",
              "    .dataframe tbody tr th {\n",
              "        vertical-align: top;\n",
              "    }\n",
              "\n",
              "    .dataframe thead th {\n",
              "        text-align: right;\n",
              "    }\n",
              "</style>\n",
              "<table border=\"1\" class=\"dataframe\">\n",
              "  <thead>\n",
              "    <tr style=\"text-align: right;\">\n",
              "      <th></th>\n",
              "      <th>geography</th>\n",
              "      <th>gender</th>\n",
              "    </tr>\n",
              "  </thead>\n",
              "  <tbody>\n",
              "    <tr>\n",
              "      <th>count</th>\n",
              "      <td>9091</td>\n",
              "      <td>9091</td>\n",
              "    </tr>\n",
              "    <tr>\n",
              "      <th>unique</th>\n",
              "      <td>3</td>\n",
              "      <td>2</td>\n",
              "    </tr>\n",
              "    <tr>\n",
              "      <th>top</th>\n",
              "      <td>France</td>\n",
              "      <td>Male</td>\n",
              "    </tr>\n",
              "    <tr>\n",
              "      <th>freq</th>\n",
              "      <td>4550</td>\n",
              "      <td>4974</td>\n",
              "    </tr>\n",
              "  </tbody>\n",
              "</table>\n",
              "</div>"
            ],
            "text/plain": [
              "       geography gender\n",
              "count       9091   9091\n",
              "unique         3      2\n",
              "top       France   Male\n",
              "freq        4550   4974"
            ]
          },
          "metadata": {},
          "output_type": "display_data"
        }
      ],
      "source": [
        "review(df_nopasses)"
      ]
    },
    {
      "cell_type": "code",
      "execution_count": null,
      "metadata": {
        "id": "28q3plFl0T4c",
        "outputId": "20918793-d282-475f-e3f9-769f5d3d39d5"
      },
      "outputs": [
        {
          "data": {
            "text/html": [
              "<div>\n",
              "<style scoped>\n",
              "    .dataframe tbody tr th:only-of-type {\n",
              "        vertical-align: middle;\n",
              "    }\n",
              "\n",
              "    .dataframe tbody tr th {\n",
              "        vertical-align: top;\n",
              "    }\n",
              "\n",
              "    .dataframe thead th {\n",
              "        text-align: right;\n",
              "    }\n",
              "</style>\n",
              "<table border=\"1\" class=\"dataframe\">\n",
              "  <thead>\n",
              "    <tr style=\"text-align: right;\">\n",
              "      <th></th>\n",
              "      <th>creditscore</th>\n",
              "      <th>geography</th>\n",
              "      <th>gender</th>\n",
              "      <th>age</th>\n",
              "      <th>tenure</th>\n",
              "      <th>balance</th>\n",
              "      <th>numofproducts</th>\n",
              "      <th>hascrcard</th>\n",
              "      <th>isactivemember</th>\n",
              "      <th>estimatedsalary</th>\n",
              "      <th>exited</th>\n",
              "    </tr>\n",
              "  </thead>\n",
              "  <tbody>\n",
              "    <tr>\n",
              "      <th>0</th>\n",
              "      <td>619</td>\n",
              "      <td>France</td>\n",
              "      <td>Female</td>\n",
              "      <td>42</td>\n",
              "      <td>2</td>\n",
              "      <td>0.00</td>\n",
              "      <td>1</td>\n",
              "      <td>1</td>\n",
              "      <td>1</td>\n",
              "      <td>101348.88</td>\n",
              "      <td>1</td>\n",
              "    </tr>\n",
              "    <tr>\n",
              "      <th>1</th>\n",
              "      <td>608</td>\n",
              "      <td>Spain</td>\n",
              "      <td>Female</td>\n",
              "      <td>41</td>\n",
              "      <td>1</td>\n",
              "      <td>83807.86</td>\n",
              "      <td>1</td>\n",
              "      <td>0</td>\n",
              "      <td>1</td>\n",
              "      <td>112542.58</td>\n",
              "      <td>0</td>\n",
              "    </tr>\n",
              "    <tr>\n",
              "      <th>2</th>\n",
              "      <td>502</td>\n",
              "      <td>France</td>\n",
              "      <td>Female</td>\n",
              "      <td>42</td>\n",
              "      <td>8</td>\n",
              "      <td>159660.80</td>\n",
              "      <td>3</td>\n",
              "      <td>1</td>\n",
              "      <td>0</td>\n",
              "      <td>113931.57</td>\n",
              "      <td>1</td>\n",
              "    </tr>\n",
              "    <tr>\n",
              "      <th>3</th>\n",
              "      <td>699</td>\n",
              "      <td>France</td>\n",
              "      <td>Female</td>\n",
              "      <td>39</td>\n",
              "      <td>1</td>\n",
              "      <td>0.00</td>\n",
              "      <td>2</td>\n",
              "      <td>0</td>\n",
              "      <td>0</td>\n",
              "      <td>93826.63</td>\n",
              "      <td>0</td>\n",
              "    </tr>\n",
              "    <tr>\n",
              "      <th>4</th>\n",
              "      <td>850</td>\n",
              "      <td>Spain</td>\n",
              "      <td>Female</td>\n",
              "      <td>43</td>\n",
              "      <td>2</td>\n",
              "      <td>125510.82</td>\n",
              "      <td>1</td>\n",
              "      <td>1</td>\n",
              "      <td>1</td>\n",
              "      <td>79084.10</td>\n",
              "      <td>0</td>\n",
              "    </tr>\n",
              "    <tr>\n",
              "      <th>5</th>\n",
              "      <td>645</td>\n",
              "      <td>Spain</td>\n",
              "      <td>Male</td>\n",
              "      <td>44</td>\n",
              "      <td>8</td>\n",
              "      <td>113755.78</td>\n",
              "      <td>2</td>\n",
              "      <td>1</td>\n",
              "      <td>0</td>\n",
              "      <td>149756.71</td>\n",
              "      <td>1</td>\n",
              "    </tr>\n",
              "    <tr>\n",
              "      <th>6</th>\n",
              "      <td>822</td>\n",
              "      <td>France</td>\n",
              "      <td>Male</td>\n",
              "      <td>50</td>\n",
              "      <td>7</td>\n",
              "      <td>0.00</td>\n",
              "      <td>2</td>\n",
              "      <td>1</td>\n",
              "      <td>1</td>\n",
              "      <td>10062.80</td>\n",
              "      <td>0</td>\n",
              "    </tr>\n",
              "    <tr>\n",
              "      <th>7</th>\n",
              "      <td>376</td>\n",
              "      <td>Germany</td>\n",
              "      <td>Female</td>\n",
              "      <td>29</td>\n",
              "      <td>4</td>\n",
              "      <td>115046.74</td>\n",
              "      <td>4</td>\n",
              "      <td>1</td>\n",
              "      <td>0</td>\n",
              "      <td>119346.88</td>\n",
              "      <td>1</td>\n",
              "    </tr>\n",
              "    <tr>\n",
              "      <th>8</th>\n",
              "      <td>501</td>\n",
              "      <td>France</td>\n",
              "      <td>Male</td>\n",
              "      <td>44</td>\n",
              "      <td>4</td>\n",
              "      <td>142051.07</td>\n",
              "      <td>2</td>\n",
              "      <td>0</td>\n",
              "      <td>1</td>\n",
              "      <td>74940.50</td>\n",
              "      <td>0</td>\n",
              "    </tr>\n",
              "    <tr>\n",
              "      <th>9</th>\n",
              "      <td>684</td>\n",
              "      <td>France</td>\n",
              "      <td>Male</td>\n",
              "      <td>27</td>\n",
              "      <td>2</td>\n",
              "      <td>134603.88</td>\n",
              "      <td>1</td>\n",
              "      <td>1</td>\n",
              "      <td>1</td>\n",
              "      <td>71725.73</td>\n",
              "      <td>0</td>\n",
              "    </tr>\n",
              "  </tbody>\n",
              "</table>\n",
              "</div>"
            ],
            "text/plain": [
              "   creditscore geography  gender  age  tenure    balance  numofproducts  \\\n",
              "0          619    France  Female   42       2       0.00              1   \n",
              "1          608     Spain  Female   41       1   83807.86              1   \n",
              "2          502    France  Female   42       8  159660.80              3   \n",
              "3          699    France  Female   39       1       0.00              2   \n",
              "4          850     Spain  Female   43       2  125510.82              1   \n",
              "5          645     Spain    Male   44       8  113755.78              2   \n",
              "6          822    France    Male   50       7       0.00              2   \n",
              "7          376   Germany  Female   29       4  115046.74              4   \n",
              "8          501    France    Male   44       4  142051.07              2   \n",
              "9          684    France    Male   27       2  134603.88              1   \n",
              "\n",
              "   hascrcard  isactivemember  estimatedsalary  exited  \n",
              "0          1               1        101348.88       1  \n",
              "1          0               1        112542.58       0  \n",
              "2          1               0        113931.57       1  \n",
              "3          0               0         93826.63       0  \n",
              "4          1               1         79084.10       0  \n",
              "5          1               0        149756.71       1  \n",
              "6          1               1         10062.80       0  \n",
              "7          1               0        119346.88       1  \n",
              "8          0               1         74940.50       0  \n",
              "9          1               1         71725.73       0  "
            ]
          },
          "metadata": {},
          "output_type": "display_data"
        },
        {
          "name": "stdout",
          "output_type": "stream",
          "text": [
            "<class 'pandas.core.frame.DataFrame'>\n",
            "RangeIndex: 10000 entries, 0 to 9999\n",
            "Data columns (total 11 columns):\n",
            " #   Column           Non-Null Count  Dtype  \n",
            "---  ------           --------------  -----  \n",
            " 0   creditscore      10000 non-null  int64  \n",
            " 1   geography        10000 non-null  object \n",
            " 2   gender           10000 non-null  object \n",
            " 3   age              10000 non-null  int64  \n",
            " 4   tenure           10000 non-null  Int64  \n",
            " 5   balance          10000 non-null  float64\n",
            " 6   numofproducts    10000 non-null  int64  \n",
            " 7   hascrcard        10000 non-null  int64  \n",
            " 8   isactivemember   10000 non-null  int64  \n",
            " 9   estimatedsalary  10000 non-null  float64\n",
            " 10  exited           10000 non-null  int64  \n",
            "dtypes: Int64(1), float64(2), int64(6), object(2)\n",
            "memory usage: 869.3+ KB\n"
          ]
        },
        {
          "data": {
            "text/html": [
              "<div>\n",
              "<style scoped>\n",
              "    .dataframe tbody tr th:only-of-type {\n",
              "        vertical-align: middle;\n",
              "    }\n",
              "\n",
              "    .dataframe tbody tr th {\n",
              "        vertical-align: top;\n",
              "    }\n",
              "\n",
              "    .dataframe thead th {\n",
              "        text-align: right;\n",
              "    }\n",
              "</style>\n",
              "<table border=\"1\" class=\"dataframe\">\n",
              "  <thead>\n",
              "    <tr style=\"text-align: right;\">\n",
              "      <th></th>\n",
              "      <th>creditscore</th>\n",
              "      <th>age</th>\n",
              "      <th>tenure</th>\n",
              "      <th>balance</th>\n",
              "      <th>numofproducts</th>\n",
              "      <th>hascrcard</th>\n",
              "      <th>isactivemember</th>\n",
              "      <th>estimatedsalary</th>\n",
              "      <th>exited</th>\n",
              "    </tr>\n",
              "  </thead>\n",
              "  <tbody>\n",
              "    <tr>\n",
              "      <th>count</th>\n",
              "      <td>10000.000000</td>\n",
              "      <td>10000.000000</td>\n",
              "      <td>10000.000000</td>\n",
              "      <td>10000.000000</td>\n",
              "      <td>10000.000000</td>\n",
              "      <td>10000.00000</td>\n",
              "      <td>10000.000000</td>\n",
              "      <td>10000.000000</td>\n",
              "      <td>10000.000000</td>\n",
              "    </tr>\n",
              "    <tr>\n",
              "      <th>mean</th>\n",
              "      <td>650.528800</td>\n",
              "      <td>38.921800</td>\n",
              "      <td>4.543400</td>\n",
              "      <td>76485.889288</td>\n",
              "      <td>1.530200</td>\n",
              "      <td>0.70550</td>\n",
              "      <td>0.515100</td>\n",
              "      <td>100090.239881</td>\n",
              "      <td>0.203700</td>\n",
              "    </tr>\n",
              "    <tr>\n",
              "      <th>std</th>\n",
              "      <td>96.653299</td>\n",
              "      <td>10.487806</td>\n",
              "      <td>3.111573</td>\n",
              "      <td>62397.405202</td>\n",
              "      <td>0.581654</td>\n",
              "      <td>0.45584</td>\n",
              "      <td>0.499797</td>\n",
              "      <td>57510.492818</td>\n",
              "      <td>0.402769</td>\n",
              "    </tr>\n",
              "    <tr>\n",
              "      <th>min</th>\n",
              "      <td>350.000000</td>\n",
              "      <td>18.000000</td>\n",
              "      <td>0.000000</td>\n",
              "      <td>0.000000</td>\n",
              "      <td>1.000000</td>\n",
              "      <td>0.00000</td>\n",
              "      <td>0.000000</td>\n",
              "      <td>11.580000</td>\n",
              "      <td>0.000000</td>\n",
              "    </tr>\n",
              "    <tr>\n",
              "      <th>25%</th>\n",
              "      <td>584.000000</td>\n",
              "      <td>32.000000</td>\n",
              "      <td>2.000000</td>\n",
              "      <td>0.000000</td>\n",
              "      <td>1.000000</td>\n",
              "      <td>0.00000</td>\n",
              "      <td>0.000000</td>\n",
              "      <td>51002.110000</td>\n",
              "      <td>0.000000</td>\n",
              "    </tr>\n",
              "    <tr>\n",
              "      <th>50%</th>\n",
              "      <td>652.000000</td>\n",
              "      <td>37.000000</td>\n",
              "      <td>4.000000</td>\n",
              "      <td>97198.540000</td>\n",
              "      <td>1.000000</td>\n",
              "      <td>1.00000</td>\n",
              "      <td>1.000000</td>\n",
              "      <td>100193.915000</td>\n",
              "      <td>0.000000</td>\n",
              "    </tr>\n",
              "    <tr>\n",
              "      <th>75%</th>\n",
              "      <td>718.000000</td>\n",
              "      <td>44.000000</td>\n",
              "      <td>7.000000</td>\n",
              "      <td>127644.240000</td>\n",
              "      <td>2.000000</td>\n",
              "      <td>1.00000</td>\n",
              "      <td>1.000000</td>\n",
              "      <td>149388.247500</td>\n",
              "      <td>0.000000</td>\n",
              "    </tr>\n",
              "    <tr>\n",
              "      <th>max</th>\n",
              "      <td>850.000000</td>\n",
              "      <td>92.000000</td>\n",
              "      <td>10.000000</td>\n",
              "      <td>250898.090000</td>\n",
              "      <td>4.000000</td>\n",
              "      <td>1.00000</td>\n",
              "      <td>1.000000</td>\n",
              "      <td>199992.480000</td>\n",
              "      <td>1.000000</td>\n",
              "    </tr>\n",
              "  </tbody>\n",
              "</table>\n",
              "</div>"
            ],
            "text/plain": [
              "        creditscore           age        tenure        balance  numofproducts  \\\n",
              "count  10000.000000  10000.000000  10000.000000   10000.000000   10000.000000   \n",
              "mean     650.528800     38.921800      4.543400   76485.889288       1.530200   \n",
              "std       96.653299     10.487806      3.111573   62397.405202       0.581654   \n",
              "min      350.000000     18.000000      0.000000       0.000000       1.000000   \n",
              "25%      584.000000     32.000000      2.000000       0.000000       1.000000   \n",
              "50%      652.000000     37.000000      4.000000   97198.540000       1.000000   \n",
              "75%      718.000000     44.000000      7.000000  127644.240000       2.000000   \n",
              "max      850.000000     92.000000     10.000000  250898.090000       4.000000   \n",
              "\n",
              "         hascrcard  isactivemember  estimatedsalary        exited  \n",
              "count  10000.00000    10000.000000     10000.000000  10000.000000  \n",
              "mean       0.70550        0.515100    100090.239881      0.203700  \n",
              "std        0.45584        0.499797     57510.492818      0.402769  \n",
              "min        0.00000        0.000000        11.580000      0.000000  \n",
              "25%        0.00000        0.000000     51002.110000      0.000000  \n",
              "50%        1.00000        1.000000    100193.915000      0.000000  \n",
              "75%        1.00000        1.000000    149388.247500      0.000000  \n",
              "max        1.00000        1.000000    199992.480000      1.000000  "
            ]
          },
          "metadata": {},
          "output_type": "display_data"
        },
        {
          "data": {
            "text/html": [
              "<div>\n",
              "<style scoped>\n",
              "    .dataframe tbody tr th:only-of-type {\n",
              "        vertical-align: middle;\n",
              "    }\n",
              "\n",
              "    .dataframe tbody tr th {\n",
              "        vertical-align: top;\n",
              "    }\n",
              "\n",
              "    .dataframe thead th {\n",
              "        text-align: right;\n",
              "    }\n",
              "</style>\n",
              "<table border=\"1\" class=\"dataframe\">\n",
              "  <thead>\n",
              "    <tr style=\"text-align: right;\">\n",
              "      <th></th>\n",
              "      <th>geography</th>\n",
              "      <th>gender</th>\n",
              "    </tr>\n",
              "  </thead>\n",
              "  <tbody>\n",
              "    <tr>\n",
              "      <th>count</th>\n",
              "      <td>10000</td>\n",
              "      <td>10000</td>\n",
              "    </tr>\n",
              "    <tr>\n",
              "      <th>unique</th>\n",
              "      <td>3</td>\n",
              "      <td>2</td>\n",
              "    </tr>\n",
              "    <tr>\n",
              "      <th>top</th>\n",
              "      <td>France</td>\n",
              "      <td>Male</td>\n",
              "    </tr>\n",
              "    <tr>\n",
              "      <th>freq</th>\n",
              "      <td>5014</td>\n",
              "      <td>5457</td>\n",
              "    </tr>\n",
              "  </tbody>\n",
              "</table>\n",
              "</div>"
            ],
            "text/plain": [
              "       geography gender\n",
              "count      10000  10000\n",
              "unique         3      2\n",
              "top       France   Male\n",
              "freq        5014   5457"
            ]
          },
          "metadata": {},
          "output_type": "display_data"
        }
      ],
      "source": [
        "review(df_zeropasses)"
      ]
    },
    {
      "cell_type": "code",
      "execution_count": null,
      "metadata": {
        "id": "XjqSOHxx0T4c",
        "outputId": "1044493b-dae1-4ee8-c998-b2ba97b37f3d"
      },
      "outputs": [
        {
          "data": {
            "text/html": [
              "<div>\n",
              "<style scoped>\n",
              "    .dataframe tbody tr th:only-of-type {\n",
              "        vertical-align: middle;\n",
              "    }\n",
              "\n",
              "    .dataframe tbody tr th {\n",
              "        vertical-align: top;\n",
              "    }\n",
              "\n",
              "    .dataframe thead th {\n",
              "        text-align: right;\n",
              "    }\n",
              "</style>\n",
              "<table border=\"1\" class=\"dataframe\">\n",
              "  <thead>\n",
              "    <tr style=\"text-align: right;\">\n",
              "      <th></th>\n",
              "      <th>creditscore</th>\n",
              "      <th>geography</th>\n",
              "      <th>gender</th>\n",
              "      <th>age</th>\n",
              "      <th>tenure</th>\n",
              "      <th>balance</th>\n",
              "      <th>numofproducts</th>\n",
              "      <th>hascrcard</th>\n",
              "      <th>isactivemember</th>\n",
              "      <th>estimatedsalary</th>\n",
              "      <th>exited</th>\n",
              "    </tr>\n",
              "  </thead>\n",
              "  <tbody>\n",
              "    <tr>\n",
              "      <th>0</th>\n",
              "      <td>619</td>\n",
              "      <td>France</td>\n",
              "      <td>Female</td>\n",
              "      <td>42</td>\n",
              "      <td>2</td>\n",
              "      <td>0.00</td>\n",
              "      <td>1</td>\n",
              "      <td>1</td>\n",
              "      <td>1</td>\n",
              "      <td>101348.88</td>\n",
              "      <td>1</td>\n",
              "    </tr>\n",
              "    <tr>\n",
              "      <th>1</th>\n",
              "      <td>608</td>\n",
              "      <td>Spain</td>\n",
              "      <td>Female</td>\n",
              "      <td>41</td>\n",
              "      <td>1</td>\n",
              "      <td>83807.86</td>\n",
              "      <td>1</td>\n",
              "      <td>0</td>\n",
              "      <td>1</td>\n",
              "      <td>112542.58</td>\n",
              "      <td>0</td>\n",
              "    </tr>\n",
              "    <tr>\n",
              "      <th>2</th>\n",
              "      <td>502</td>\n",
              "      <td>France</td>\n",
              "      <td>Female</td>\n",
              "      <td>42</td>\n",
              "      <td>8</td>\n",
              "      <td>159660.80</td>\n",
              "      <td>3</td>\n",
              "      <td>1</td>\n",
              "      <td>0</td>\n",
              "      <td>113931.57</td>\n",
              "      <td>1</td>\n",
              "    </tr>\n",
              "    <tr>\n",
              "      <th>3</th>\n",
              "      <td>699</td>\n",
              "      <td>France</td>\n",
              "      <td>Female</td>\n",
              "      <td>39</td>\n",
              "      <td>1</td>\n",
              "      <td>0.00</td>\n",
              "      <td>2</td>\n",
              "      <td>0</td>\n",
              "      <td>0</td>\n",
              "      <td>93826.63</td>\n",
              "      <td>0</td>\n",
              "    </tr>\n",
              "    <tr>\n",
              "      <th>4</th>\n",
              "      <td>850</td>\n",
              "      <td>Spain</td>\n",
              "      <td>Female</td>\n",
              "      <td>43</td>\n",
              "      <td>2</td>\n",
              "      <td>125510.82</td>\n",
              "      <td>1</td>\n",
              "      <td>1</td>\n",
              "      <td>1</td>\n",
              "      <td>79084.10</td>\n",
              "      <td>0</td>\n",
              "    </tr>\n",
              "    <tr>\n",
              "      <th>5</th>\n",
              "      <td>645</td>\n",
              "      <td>Spain</td>\n",
              "      <td>Male</td>\n",
              "      <td>44</td>\n",
              "      <td>8</td>\n",
              "      <td>113755.78</td>\n",
              "      <td>2</td>\n",
              "      <td>1</td>\n",
              "      <td>0</td>\n",
              "      <td>149756.71</td>\n",
              "      <td>1</td>\n",
              "    </tr>\n",
              "    <tr>\n",
              "      <th>6</th>\n",
              "      <td>822</td>\n",
              "      <td>France</td>\n",
              "      <td>Male</td>\n",
              "      <td>50</td>\n",
              "      <td>7</td>\n",
              "      <td>0.00</td>\n",
              "      <td>2</td>\n",
              "      <td>1</td>\n",
              "      <td>1</td>\n",
              "      <td>10062.80</td>\n",
              "      <td>0</td>\n",
              "    </tr>\n",
              "    <tr>\n",
              "      <th>7</th>\n",
              "      <td>376</td>\n",
              "      <td>Germany</td>\n",
              "      <td>Female</td>\n",
              "      <td>29</td>\n",
              "      <td>4</td>\n",
              "      <td>115046.74</td>\n",
              "      <td>4</td>\n",
              "      <td>1</td>\n",
              "      <td>0</td>\n",
              "      <td>119346.88</td>\n",
              "      <td>1</td>\n",
              "    </tr>\n",
              "    <tr>\n",
              "      <th>8</th>\n",
              "      <td>501</td>\n",
              "      <td>France</td>\n",
              "      <td>Male</td>\n",
              "      <td>44</td>\n",
              "      <td>4</td>\n",
              "      <td>142051.07</td>\n",
              "      <td>2</td>\n",
              "      <td>0</td>\n",
              "      <td>1</td>\n",
              "      <td>74940.50</td>\n",
              "      <td>0</td>\n",
              "    </tr>\n",
              "    <tr>\n",
              "      <th>9</th>\n",
              "      <td>684</td>\n",
              "      <td>France</td>\n",
              "      <td>Male</td>\n",
              "      <td>27</td>\n",
              "      <td>2</td>\n",
              "      <td>134603.88</td>\n",
              "      <td>1</td>\n",
              "      <td>1</td>\n",
              "      <td>1</td>\n",
              "      <td>71725.73</td>\n",
              "      <td>0</td>\n",
              "    </tr>\n",
              "  </tbody>\n",
              "</table>\n",
              "</div>"
            ],
            "text/plain": [
              "   creditscore geography  gender  age  tenure    balance  numofproducts  \\\n",
              "0          619    France  Female   42       2       0.00              1   \n",
              "1          608     Spain  Female   41       1   83807.86              1   \n",
              "2          502    France  Female   42       8  159660.80              3   \n",
              "3          699    France  Female   39       1       0.00              2   \n",
              "4          850     Spain  Female   43       2  125510.82              1   \n",
              "5          645     Spain    Male   44       8  113755.78              2   \n",
              "6          822    France    Male   50       7       0.00              2   \n",
              "7          376   Germany  Female   29       4  115046.74              4   \n",
              "8          501    France    Male   44       4  142051.07              2   \n",
              "9          684    France    Male   27       2  134603.88              1   \n",
              "\n",
              "   hascrcard  isactivemember  estimatedsalary  exited  \n",
              "0          1               1        101348.88       1  \n",
              "1          0               1        112542.58       0  \n",
              "2          1               0        113931.57       1  \n",
              "3          0               0         93826.63       0  \n",
              "4          1               1         79084.10       0  \n",
              "5          1               0        149756.71       1  \n",
              "6          1               1         10062.80       0  \n",
              "7          1               0        119346.88       1  \n",
              "8          0               1         74940.50       0  \n",
              "9          1               1         71725.73       0  "
            ]
          },
          "metadata": {},
          "output_type": "display_data"
        },
        {
          "name": "stdout",
          "output_type": "stream",
          "text": [
            "<class 'pandas.core.frame.DataFrame'>\n",
            "RangeIndex: 10000 entries, 0 to 9999\n",
            "Data columns (total 11 columns):\n",
            " #   Column           Non-Null Count  Dtype  \n",
            "---  ------           --------------  -----  \n",
            " 0   creditscore      10000 non-null  int64  \n",
            " 1   geography        10000 non-null  object \n",
            " 2   gender           10000 non-null  object \n",
            " 3   age              10000 non-null  int64  \n",
            " 4   tenure           10000 non-null  Int64  \n",
            " 5   balance          10000 non-null  float64\n",
            " 6   numofproducts    10000 non-null  int64  \n",
            " 7   hascrcard        10000 non-null  int64  \n",
            " 8   isactivemember   10000 non-null  int64  \n",
            " 9   estimatedsalary  10000 non-null  float64\n",
            " 10  exited           10000 non-null  int64  \n",
            "dtypes: Int64(1), float64(2), int64(6), object(2)\n",
            "memory usage: 869.3+ KB\n"
          ]
        },
        {
          "data": {
            "text/html": [
              "<div>\n",
              "<style scoped>\n",
              "    .dataframe tbody tr th:only-of-type {\n",
              "        vertical-align: middle;\n",
              "    }\n",
              "\n",
              "    .dataframe tbody tr th {\n",
              "        vertical-align: top;\n",
              "    }\n",
              "\n",
              "    .dataframe thead th {\n",
              "        text-align: right;\n",
              "    }\n",
              "</style>\n",
              "<table border=\"1\" class=\"dataframe\">\n",
              "  <thead>\n",
              "    <tr style=\"text-align: right;\">\n",
              "      <th></th>\n",
              "      <th>creditscore</th>\n",
              "      <th>age</th>\n",
              "      <th>tenure</th>\n",
              "      <th>balance</th>\n",
              "      <th>numofproducts</th>\n",
              "      <th>hascrcard</th>\n",
              "      <th>isactivemember</th>\n",
              "      <th>estimatedsalary</th>\n",
              "      <th>exited</th>\n",
              "    </tr>\n",
              "  </thead>\n",
              "  <tbody>\n",
              "    <tr>\n",
              "      <th>count</th>\n",
              "      <td>10000.000000</td>\n",
              "      <td>10000.000000</td>\n",
              "      <td>10000.00000</td>\n",
              "      <td>10000.000000</td>\n",
              "      <td>10000.000000</td>\n",
              "      <td>10000.00000</td>\n",
              "      <td>10000.000000</td>\n",
              "      <td>10000.000000</td>\n",
              "      <td>10000.000000</td>\n",
              "    </tr>\n",
              "    <tr>\n",
              "      <th>mean</th>\n",
              "      <td>650.528800</td>\n",
              "      <td>38.921800</td>\n",
              "      <td>4.99790</td>\n",
              "      <td>76485.889288</td>\n",
              "      <td>1.530200</td>\n",
              "      <td>0.70550</td>\n",
              "      <td>0.515100</td>\n",
              "      <td>100090.239881</td>\n",
              "      <td>0.203700</td>\n",
              "    </tr>\n",
              "    <tr>\n",
              "      <th>std</th>\n",
              "      <td>96.653299</td>\n",
              "      <td>10.487806</td>\n",
              "      <td>2.76001</td>\n",
              "      <td>62397.405202</td>\n",
              "      <td>0.581654</td>\n",
              "      <td>0.45584</td>\n",
              "      <td>0.499797</td>\n",
              "      <td>57510.492818</td>\n",
              "      <td>0.402769</td>\n",
              "    </tr>\n",
              "    <tr>\n",
              "      <th>min</th>\n",
              "      <td>350.000000</td>\n",
              "      <td>18.000000</td>\n",
              "      <td>0.00000</td>\n",
              "      <td>0.000000</td>\n",
              "      <td>1.000000</td>\n",
              "      <td>0.00000</td>\n",
              "      <td>0.000000</td>\n",
              "      <td>11.580000</td>\n",
              "      <td>0.000000</td>\n",
              "    </tr>\n",
              "    <tr>\n",
              "      <th>25%</th>\n",
              "      <td>584.000000</td>\n",
              "      <td>32.000000</td>\n",
              "      <td>3.00000</td>\n",
              "      <td>0.000000</td>\n",
              "      <td>1.000000</td>\n",
              "      <td>0.00000</td>\n",
              "      <td>0.000000</td>\n",
              "      <td>51002.110000</td>\n",
              "      <td>0.000000</td>\n",
              "    </tr>\n",
              "    <tr>\n",
              "      <th>50%</th>\n",
              "      <td>652.000000</td>\n",
              "      <td>37.000000</td>\n",
              "      <td>5.00000</td>\n",
              "      <td>97198.540000</td>\n",
              "      <td>1.000000</td>\n",
              "      <td>1.00000</td>\n",
              "      <td>1.000000</td>\n",
              "      <td>100193.915000</td>\n",
              "      <td>0.000000</td>\n",
              "    </tr>\n",
              "    <tr>\n",
              "      <th>75%</th>\n",
              "      <td>718.000000</td>\n",
              "      <td>44.000000</td>\n",
              "      <td>7.00000</td>\n",
              "      <td>127644.240000</td>\n",
              "      <td>2.000000</td>\n",
              "      <td>1.00000</td>\n",
              "      <td>1.000000</td>\n",
              "      <td>149388.247500</td>\n",
              "      <td>0.000000</td>\n",
              "    </tr>\n",
              "    <tr>\n",
              "      <th>max</th>\n",
              "      <td>850.000000</td>\n",
              "      <td>92.000000</td>\n",
              "      <td>10.00000</td>\n",
              "      <td>250898.090000</td>\n",
              "      <td>4.000000</td>\n",
              "      <td>1.00000</td>\n",
              "      <td>1.000000</td>\n",
              "      <td>199992.480000</td>\n",
              "      <td>1.000000</td>\n",
              "    </tr>\n",
              "  </tbody>\n",
              "</table>\n",
              "</div>"
            ],
            "text/plain": [
              "        creditscore           age       tenure        balance  numofproducts  \\\n",
              "count  10000.000000  10000.000000  10000.00000   10000.000000   10000.000000   \n",
              "mean     650.528800     38.921800      4.99790   76485.889288       1.530200   \n",
              "std       96.653299     10.487806      2.76001   62397.405202       0.581654   \n",
              "min      350.000000     18.000000      0.00000       0.000000       1.000000   \n",
              "25%      584.000000     32.000000      3.00000       0.000000       1.000000   \n",
              "50%      652.000000     37.000000      5.00000   97198.540000       1.000000   \n",
              "75%      718.000000     44.000000      7.00000  127644.240000       2.000000   \n",
              "max      850.000000     92.000000     10.00000  250898.090000       4.000000   \n",
              "\n",
              "         hascrcard  isactivemember  estimatedsalary        exited  \n",
              "count  10000.00000    10000.000000     10000.000000  10000.000000  \n",
              "mean       0.70550        0.515100    100090.239881      0.203700  \n",
              "std        0.45584        0.499797     57510.492818      0.402769  \n",
              "min        0.00000        0.000000        11.580000      0.000000  \n",
              "25%        0.00000        0.000000     51002.110000      0.000000  \n",
              "50%        1.00000        1.000000    100193.915000      0.000000  \n",
              "75%        1.00000        1.000000    149388.247500      0.000000  \n",
              "max        1.00000        1.000000    199992.480000      1.000000  "
            ]
          },
          "metadata": {},
          "output_type": "display_data"
        },
        {
          "data": {
            "text/html": [
              "<div>\n",
              "<style scoped>\n",
              "    .dataframe tbody tr th:only-of-type {\n",
              "        vertical-align: middle;\n",
              "    }\n",
              "\n",
              "    .dataframe tbody tr th {\n",
              "        vertical-align: top;\n",
              "    }\n",
              "\n",
              "    .dataframe thead th {\n",
              "        text-align: right;\n",
              "    }\n",
              "</style>\n",
              "<table border=\"1\" class=\"dataframe\">\n",
              "  <thead>\n",
              "    <tr style=\"text-align: right;\">\n",
              "      <th></th>\n",
              "      <th>geography</th>\n",
              "      <th>gender</th>\n",
              "    </tr>\n",
              "  </thead>\n",
              "  <tbody>\n",
              "    <tr>\n",
              "      <th>count</th>\n",
              "      <td>10000</td>\n",
              "      <td>10000</td>\n",
              "    </tr>\n",
              "    <tr>\n",
              "      <th>unique</th>\n",
              "      <td>3</td>\n",
              "      <td>2</td>\n",
              "    </tr>\n",
              "    <tr>\n",
              "      <th>top</th>\n",
              "      <td>France</td>\n",
              "      <td>Male</td>\n",
              "    </tr>\n",
              "    <tr>\n",
              "      <th>freq</th>\n",
              "      <td>5014</td>\n",
              "      <td>5457</td>\n",
              "    </tr>\n",
              "  </tbody>\n",
              "</table>\n",
              "</div>"
            ],
            "text/plain": [
              "       geography gender\n",
              "count      10000  10000\n",
              "unique         3      2\n",
              "top       France   Male\n",
              "freq        5014   5457"
            ]
          },
          "metadata": {},
          "output_type": "display_data"
        }
      ],
      "source": [
        "review(df_medianpasses)"
      ]
    },
    {
      "cell_type": "markdown",
      "metadata": {
        "id": "aUK7Ijyg0T4c"
      },
      "source": [
        "Данные проверим на моделях `DecisionTreeClassifier`, `RandomForestClassifier` и `LogisticRegression`"
      ]
    },
    {
      "cell_type": "code",
      "execution_count": null,
      "metadata": {
        "id": "tcIcOvfV0T4d"
      },
      "outputs": [],
      "source": [
        "df_nopasses = pd.get_dummies(df_nopasses, drop_first=True)\n",
        "df_zeropasses = pd.get_dummies(df_zeropasses, drop_first=True)\n",
        "df_medianpasses = pd.get_dummies(df_medianpasses, drop_first=True)"
      ]
    },
    {
      "cell_type": "markdown",
      "metadata": {
        "id": "QZ5oiTJ20T4d"
      },
      "source": [
        "### Масштабируем признаки"
      ]
    },
    {
      "cell_type": "code",
      "execution_count": null,
      "metadata": {
        "id": "_rbZ3q-J0T4d"
      },
      "outputs": [],
      "source": [
        "def split_data(features, target):\n",
        "    \"\"\"функция для формирования обучающей, валидационной и тестовой выборок\"\"\"\n",
        "    (features_train, features_valid, target_train, target_valid) = train_test_split(features, target, test_size = 0.4, random_state=12345)\n",
        "    (features_test, features_valid, target_test, target_valid) = train_test_split(features_valid, target_valid, test_size = 0.5, random_state=12345)\n",
        "    return (features_train, features_valid, features_test, target_train, target_valid, target_test)"
      ]
    },
    {
      "cell_type": "markdown",
      "metadata": {
        "id": "-FIx0SPK0T4d"
      },
      "source": [
        "Разобьем данные в подготовленых датафреймах на выборки"
      ]
    },
    {
      "cell_type": "code",
      "execution_count": null,
      "metadata": {
        "id": "fwrz8quu0T4e"
      },
      "outputs": [],
      "source": [
        "(features_train_df_nopasses, \n",
        " features_valid_df_nopasses, \n",
        " features_test_df_nopasses, \n",
        " target_train_df_nopasses, \n",
        " target_valid_df_nopasses, \n",
        " target_test_df_nopasses) = split_data(df_nopasses.drop(['exited'], \n",
        "                                                           axis = 1), \n",
        "                                     df_nopasses['exited']\n",
        "                                    )"
      ]
    },
    {
      "cell_type": "code",
      "execution_count": null,
      "metadata": {
        "id": "mMRlWzp30T4e"
      },
      "outputs": [],
      "source": [
        "(features_train_df_zeropasses, \n",
        " features_valid_df_zeropasses, \n",
        " features_test_df_zeropasses, \n",
        " target_train_df_zeropasses, \n",
        " target_valid_df_zeropasses, \n",
        " target_test_df_zeropasses) = split_data(df_zeropasses.drop(['exited'], \n",
        "                                                           axis = 1), \n",
        "                                     df_zeropasses['exited']\n",
        "                                    )"
      ]
    },
    {
      "cell_type": "code",
      "execution_count": null,
      "metadata": {
        "id": "WNmofZXy0T4e"
      },
      "outputs": [],
      "source": [
        "(features_train_df_medianpasses, \n",
        " features_valid_df_medianpasses, \n",
        " features_test_df_medianpasses, \n",
        " target_train_df_medianpasses, \n",
        " target_valid_df_medianpasses, \n",
        " target_test_df_medianpasses) = split_data(df_medianpasses.drop(['exited'], \n",
        "                                                           axis = 1), \n",
        "                                     df_medianpasses['exited']\n",
        "                                    )"
      ]
    },
    {
      "cell_type": "markdown",
      "metadata": {
        "id": "iDZS2HIw0T4e"
      },
      "source": [
        "Воспользуемся методом `стандартизации данных`."
      ]
    },
    {
      "cell_type": "code",
      "execution_count": null,
      "metadata": {
        "id": "SnOqQzeZ0T4e"
      },
      "outputs": [],
      "source": [
        "numerics = ['int16', 'int32', 'int64', 'float16', 'float32', 'float64']\n",
        "objects = ['object']\n",
        "df = df.select_dtypes(include=numerics)\n",
        "df_object = df.select_dtypes(include=objects)"
      ]
    },
    {
      "cell_type": "code",
      "execution_count": null,
      "metadata": {
        "id": "KyrbUB-b0T4f"
      },
      "outputs": [],
      "source": [
        "numeric = df.columns[:-1]"
      ]
    },
    {
      "cell_type": "code",
      "execution_count": null,
      "metadata": {
        "id": "sZbBK-XI0T4f",
        "outputId": "26858ddf-f640-4653-c273-2055d13c014c"
      },
      "outputs": [
        {
          "data": {
            "text/plain": [
              "Index(['creditscore', 'age', 'tenure', 'balance', 'numofproducts', 'hascrcard',\n",
              "       'isactivemember', 'estimatedsalary'],\n",
              "      dtype='object')"
            ]
          },
          "execution_count": 19,
          "metadata": {},
          "output_type": "execute_result"
        }
      ],
      "source": [
        "numeric"
      ]
    },
    {
      "cell_type": "code",
      "execution_count": null,
      "metadata": {
        "id": "LOWfoRHp0T4f"
      },
      "outputs": [],
      "source": [
        "scaler_df_nopasses = StandardScaler()\n",
        "scaler_df_nopasses.fit(features_train_df_nopasses[numeric])\n",
        "features_train_df_nopasses[numeric] = scaler_df_nopasses.transform(features_train_df_nopasses[numeric])\n",
        "features_valid_df_nopasses[numeric] = scaler_df_nopasses.transform(features_valid_df_nopasses[numeric]) \n",
        "features_test_df_nopasses[numeric] = scaler_df_nopasses.transform(features_test_df_nopasses[numeric]) "
      ]
    },
    {
      "cell_type": "code",
      "execution_count": null,
      "metadata": {
        "id": "2kjPUl6n0T4g"
      },
      "outputs": [],
      "source": [
        "scaler_df_zeropasses = StandardScaler()\n",
        "scaler_df_zeropasses.fit(features_train_df_zeropasses[numeric])\n",
        "features_train_df_zeropasses[numeric] = scaler_df_zeropasses.transform(features_train_df_zeropasses[numeric])\n",
        "features_valid_df_zeropasses[numeric] = scaler_df_zeropasses.transform(features_valid_df_zeropasses[numeric]) \n",
        "features_test_df_zeropasses[numeric] = scaler_df_zeropasses.transform(features_test_df_zeropasses[numeric]) "
      ]
    },
    {
      "cell_type": "code",
      "execution_count": null,
      "metadata": {
        "id": "YgkxIuFe0T4g"
      },
      "outputs": [],
      "source": [
        "scaler_df_medianpasses = StandardScaler()\n",
        "scaler_df_medianpasses.fit(features_train_df_medianpasses[numeric])\n",
        "features_train_df_medianpasses[numeric] = scaler_df_medianpasses.transform(features_train_df_medianpasses[numeric])\n",
        "features_valid_df_medianpasses[numeric] = scaler_df_medianpasses.transform(features_valid_df_medianpasses[numeric]) \n",
        "features_test_df_medianpasses[numeric] = scaler_df_medianpasses.transform(features_test_df_medianpasses[numeric]) "
      ]
    },
    {
      "cell_type": "markdown",
      "metadata": {
        "id": "8CYk-CWI0T4g"
      },
      "source": [
        "## Исследование задачи"
      ]
    },
    {
      "cell_type": "code",
      "execution_count": null,
      "metadata": {
        "id": "wcfOJF2L0T4h"
      },
      "outputs": [],
      "source": [
        "def rec_prec_f1(target_valid, prediction):\n",
        "    \"\"\"функция для подсчета f1 меры\"\"\"\n",
        "    print(\"F1-мера\", f1_score(target_valid, prediction))"
      ]
    },
    {
      "cell_type": "markdown",
      "metadata": {
        "id": "CswbrcF70T4h"
      },
      "source": [
        "### Матрицы ошибок и качество"
      ]
    },
    {
      "cell_type": "markdown",
      "metadata": {
        "id": "AOt11yxh0T4h"
      },
      "source": [
        "#### Матрица ошибок для `DecisionTreeClassifier`"
      ]
    },
    {
      "cell_type": "code",
      "execution_count": null,
      "metadata": {
        "id": "dqtKdK-a0T4i",
        "outputId": "671b122f-1bd0-481c-c6f5-42c4b15f444d"
      },
      "outputs": [
        {
          "name": "stdout",
          "output_type": "stream",
          "text": [
            "[[1276  192]\n",
            " [ 172  179]]\n"
          ]
        }
      ],
      "source": [
        "model_df_nopasses_dtc = DecisionTreeClassifier(random_state=12345)\n",
        "model_df_nopasses_dtc.fit(features_train_df_nopasses, target_train_df_nopasses)\n",
        "predicted_valid_df_nopasses_dtc = model_df_nopasses_dtc.predict(features_valid_df_nopasses)\n",
        "print(confusion_matrix(target_valid_df_nopasses, predicted_valid_df_nopasses_dtc))"
      ]
    },
    {
      "cell_type": "code",
      "execution_count": null,
      "metadata": {
        "id": "OTXODAs80T4i",
        "outputId": "0895d55a-95ef-4c19-a6a7-7362575a5941"
      },
      "outputs": [
        {
          "name": "stdout",
          "output_type": "stream",
          "text": [
            "[[1371  206]\n",
            " [ 225  198]]\n"
          ]
        }
      ],
      "source": [
        "model_df_zeropasses_dtc = DecisionTreeClassifier(random_state=12345)\n",
        "model_df_zeropasses_dtc.fit(features_train_df_zeropasses, target_train_df_zeropasses)\n",
        "predicted_valid_df_zeropasses_dtc = model_df_zeropasses_dtc.predict(features_valid_df_zeropasses)\n",
        "print(confusion_matrix(target_valid_df_zeropasses, predicted_valid_df_zeropasses_dtc))"
      ]
    },
    {
      "cell_type": "code",
      "execution_count": null,
      "metadata": {
        "id": "lRDBKFoA0T4i",
        "outputId": "97e9942c-33fa-4071-d459-2e84460fd54a"
      },
      "outputs": [
        {
          "name": "stdout",
          "output_type": "stream",
          "text": [
            "[[1379  198]\n",
            " [ 229  194]]\n"
          ]
        }
      ],
      "source": [
        "model_df_medianpasses_dtc = DecisionTreeClassifier(random_state=12345)\n",
        "model_df_medianpasses_dtc.fit(features_train_df_medianpasses, target_train_df_medianpasses)\n",
        "predicted_valid_df_medianpasses_dtc = model_df_medianpasses_dtc.predict(features_valid_df_medianpasses)\n",
        "print(confusion_matrix(target_valid_df_medianpasses, predicted_valid_df_medianpasses_dtc))"
      ]
    },
    {
      "cell_type": "markdown",
      "metadata": {
        "id": "y_ImZOHI0T4j"
      },
      "source": [
        "#####  Вывод"
      ]
    },
    {
      "cell_type": "markdown",
      "metadata": {
        "id": "A3kGg2xs0T4j"
      },
      "source": [
        "Модель `DecisionTreeClassifier` склонна к ложным ответам."
      ]
    },
    {
      "cell_type": "markdown",
      "metadata": {
        "id": "bmDUcAh50T4j"
      },
      "source": [
        "#### Изучим F1-меру для `DecisionTreeClassifier`"
      ]
    },
    {
      "cell_type": "code",
      "execution_count": null,
      "metadata": {
        "id": "HzMhmga90T4j",
        "outputId": "52b219ff-b28d-4fdd-b875-94bb1ddea463"
      },
      "outputs": [
        {
          "name": "stdout",
          "output_type": "stream",
          "text": [
            "F1-мера 0.4958448753462604\n"
          ]
        }
      ],
      "source": [
        "rec_prec_f1(target_valid_df_nopasses, predicted_valid_df_nopasses_dtc)"
      ]
    },
    {
      "cell_type": "code",
      "execution_count": null,
      "metadata": {
        "id": "E5-_omjd0T4k",
        "outputId": "d2c706fa-30a7-4db3-d770-8135adc1308f"
      },
      "outputs": [
        {
          "name": "stdout",
          "output_type": "stream",
          "text": [
            "F1-мера 0.4788391777509069\n"
          ]
        }
      ],
      "source": [
        "rec_prec_f1(target_valid_df_zeropasses, predicted_valid_df_zeropasses_dtc)"
      ]
    },
    {
      "cell_type": "code",
      "execution_count": null,
      "metadata": {
        "id": "JlsFGMhQ0T4k",
        "outputId": "c4e556dd-2859-409a-8370-f027c957675e"
      },
      "outputs": [
        {
          "name": "stdout",
          "output_type": "stream",
          "text": [
            "F1-мера 0.4760736196319018\n"
          ]
        }
      ],
      "source": [
        "rec_prec_f1(target_valid_df_medianpasses, predicted_valid_df_medianpasses_dtc)"
      ]
    },
    {
      "cell_type": "markdown",
      "metadata": {
        "id": "FhsL40sh0T4k"
      },
      "source": [
        "##### Вывод"
      ]
    },
    {
      "cell_type": "markdown",
      "metadata": {
        "id": "NyDSqlU90T4k"
      },
      "source": [
        "Качество модели `DecisionTreeClassifier` - среднее и требует улучшения. \n",
        "\n",
        "- качество F1-меры на датафрейме - `df_nopasses` равно `0.4958448753462604`;\n",
        "- качество F1-меры на датафрейме - `df_nopasses` равно `0.4788391777509069`;\n",
        "- качество F1-меры на датафрейме - `df_nopasses` равно `0.4760736196319018`."
      ]
    },
    {
      "cell_type": "markdown",
      "metadata": {
        "id": "HjUjx0s_0T4k"
      },
      "source": [
        "#### Матрица ошибок для `RandomForestClassifier`"
      ]
    },
    {
      "cell_type": "code",
      "execution_count": null,
      "metadata": {
        "id": "myYKtK8r0T4l",
        "outputId": "0eea7658-37bf-41af-fc84-06285564869a"
      },
      "outputs": [
        {
          "name": "stdout",
          "output_type": "stream",
          "text": [
            "[[1419   49]\n",
            " [ 191  160]]\n"
          ]
        }
      ],
      "source": [
        "model_df_nopasses_rfc = RandomForestClassifier(random_state=12345, n_estimators = 100)\n",
        "model_df_nopasses_rfc.fit(features_train_df_nopasses, target_train_df_nopasses)\n",
        "predicted_valid_df_nopasses_rfc = model_df_nopasses_rfc.predict(features_valid_df_nopasses)\n",
        "print(confusion_matrix(target_valid_df_nopasses, predicted_valid_df_nopasses_rfc))"
      ]
    },
    {
      "cell_type": "code",
      "execution_count": null,
      "metadata": {
        "id": "iFSATn6P0T4l",
        "outputId": "81c80027-e5af-4379-98c0-4ad6d2cf32f1"
      },
      "outputs": [
        {
          "name": "stdout",
          "output_type": "stream",
          "text": [
            "[[1514   63]\n",
            " [ 245  178]]\n"
          ]
        }
      ],
      "source": [
        "model_df_zeropasses_rfc = RandomForestClassifier(random_state=12345, n_estimators = 100)\n",
        "model_df_zeropasses_rfc.fit(features_train_df_zeropasses, target_train_df_zeropasses)\n",
        "predicted_valid_df_zeropasses_rfc = model_df_zeropasses_rfc.predict(features_valid_df_zeropasses)\n",
        "print(confusion_matrix(target_valid_df_zeropasses, predicted_valid_df_zeropasses_rfc))"
      ]
    },
    {
      "cell_type": "code",
      "execution_count": null,
      "metadata": {
        "id": "bMXTLYxr0T4l",
        "outputId": "266ca77a-f3a2-4808-b419-e86aaa9382a0"
      },
      "outputs": [
        {
          "name": "stdout",
          "output_type": "stream",
          "text": [
            "[[1517   60]\n",
            " [ 241  182]]\n"
          ]
        }
      ],
      "source": [
        "model_df_medianpasses_rfc = RandomForestClassifier(random_state=12345, n_estimators = 100)\n",
        "model_df_medianpasses_rfc.fit(features_train_df_medianpasses, target_train_df_medianpasses)\n",
        "predicted_valid_df_medianpasses_rfc = model_df_medianpasses_rfc.predict(features_valid_df_medianpasses)\n",
        "print(confusion_matrix(target_valid_df_medianpasses, predicted_valid_df_medianpasses_rfc))"
      ]
    },
    {
      "cell_type": "markdown",
      "metadata": {
        "id": "JsNCl4ze0T4l"
      },
      "source": [
        "##### Вывод"
      ]
    },
    {
      "cell_type": "markdown",
      "metadata": {
        "id": "3Tol94VV0T4m"
      },
      "source": [
        "Модель `RandomForestClassifier` склонна к ложным ответам."
      ]
    },
    {
      "cell_type": "markdown",
      "metadata": {
        "id": "NcRAl28k0T4m"
      },
      "source": [
        "#### Изучим F1-меру для `RandomForestClassifier`"
      ]
    },
    {
      "cell_type": "code",
      "execution_count": null,
      "metadata": {
        "id": "tKJDyo_20T4m",
        "outputId": "ff151a39-fb77-4998-cad7-940ec600a0b5"
      },
      "outputs": [
        {
          "name": "stdout",
          "output_type": "stream",
          "text": [
            "F1-мера 0.5714285714285714\n"
          ]
        }
      ],
      "source": [
        "rec_prec_f1(target_valid_df_nopasses, predicted_valid_df_nopasses_rfc)"
      ]
    },
    {
      "cell_type": "code",
      "execution_count": null,
      "metadata": {
        "id": "sIdaEVyp0T4m",
        "outputId": "4e9a32f5-e73b-44c9-ca89-dc8fa8f2b522"
      },
      "outputs": [
        {
          "name": "stdout",
          "output_type": "stream",
          "text": [
            "F1-мера 0.536144578313253\n"
          ]
        }
      ],
      "source": [
        "rec_prec_f1(target_valid_df_zeropasses, predicted_valid_df_zeropasses_rfc)"
      ]
    },
    {
      "cell_type": "code",
      "execution_count": null,
      "metadata": {
        "id": "scgxjzT90T4m",
        "outputId": "87151e32-0ac4-4c0c-c525-9f15f4956612"
      },
      "outputs": [
        {
          "name": "stdout",
          "output_type": "stream",
          "text": [
            "F1-мера 0.5473684210526315\n"
          ]
        }
      ],
      "source": [
        "rec_prec_f1(target_valid_df_medianpasses, predicted_valid_df_medianpasses_rfc)"
      ]
    },
    {
      "cell_type": "markdown",
      "metadata": {
        "id": "Ob69NDsh0T4n"
      },
      "source": [
        "##### Вывод"
      ]
    },
    {
      "cell_type": "markdown",
      "metadata": {
        "id": "c0ceepRm0T4n"
      },
      "source": [
        "Качество модели `RandomForestClassifier` - среднее и требует улучшений. \n",
        "\n",
        "- качество F1-меры на датафрейме - `df_nopasses` равно `0.5714285714285714`;\n",
        "- качество F1-меры на датафрейме - `df_nopasses` равно `0.536144578313253`;\n",
        "- качество F1-меры на датафрейме - `df_nopasses` равно `0.5473684210526315`."
      ]
    },
    {
      "cell_type": "markdown",
      "metadata": {
        "id": "MRzWzLjP0T4n"
      },
      "source": [
        "#### Матрица ошибок для `LogisticRegression`"
      ]
    },
    {
      "cell_type": "code",
      "execution_count": null,
      "metadata": {
        "id": "pJmOmaKd0T4n",
        "outputId": "76dfbd08-01b6-442d-b5c6-5501dbe76add"
      },
      "outputs": [
        {
          "name": "stdout",
          "output_type": "stream",
          "text": [
            "[[1426   42]\n",
            " [ 277   74]]\n"
          ]
        }
      ],
      "source": [
        "model_df_nopasses_lr = LogisticRegression(random_state=12345, solver='liblinear')\n",
        "model_df_nopasses_lr.fit(features_train_df_nopasses, target_train_df_nopasses)\n",
        "predicted_valid_df_nopasses_lr = model_df_nopasses_lr.predict(features_valid_df_nopasses)\n",
        "print(confusion_matrix(target_valid_df_nopasses, predicted_valid_df_nopasses_lr))"
      ]
    },
    {
      "cell_type": "code",
      "execution_count": null,
      "metadata": {
        "id": "d9zRGWq30T4n",
        "outputId": "fd7c9bce-7c23-4f03-a4af-8fdec134303a"
      },
      "outputs": [
        {
          "name": "stdout",
          "output_type": "stream",
          "text": [
            "[[1504   73]\n",
            " [ 344   79]]\n"
          ]
        }
      ],
      "source": [
        "model_df_zeropasses_lr = LogisticRegression(random_state=12345, solver='liblinear')\n",
        "model_df_zeropasses_lr.fit(features_train_df_zeropasses, target_train_df_zeropasses)\n",
        "predicted_valid_df_zeropasses_lr = model_df_zeropasses_lr.predict(features_valid_df_zeropasses)\n",
        "print(confusion_matrix(target_valid_df_zeropasses, predicted_valid_df_zeropasses_lr))"
      ]
    },
    {
      "cell_type": "code",
      "execution_count": null,
      "metadata": {
        "id": "W57OimH10T4n",
        "outputId": "bc30f573-ab95-409d-9802-d431a069d024"
      },
      "outputs": [
        {
          "name": "stdout",
          "output_type": "stream",
          "text": [
            "[[1504   73]\n",
            " [ 344   79]]\n"
          ]
        }
      ],
      "source": [
        "model_df_medianpasses_lr = LogisticRegression(random_state=12345, solver='liblinear')\n",
        "model_df_medianpasses_lr.fit(features_train_df_medianpasses, target_train_df_medianpasses)\n",
        "predicted_valid_df_medianpasses_lr = model_df_medianpasses_lr.predict(features_valid_df_medianpasses)\n",
        "print(confusion_matrix(target_valid_df_medianpasses, predicted_valid_df_medianpasses_lr))"
      ]
    },
    {
      "cell_type": "markdown",
      "metadata": {
        "id": "E9oLoB970T4o"
      },
      "source": [
        "##### Вывод"
      ]
    },
    {
      "cell_type": "markdown",
      "metadata": {
        "id": "LtmZetA60T4o"
      },
      "source": [
        "Модель `LogisticRegression` склонна к ложным ответам."
      ]
    },
    {
      "cell_type": "markdown",
      "metadata": {
        "id": "VMCJR4Yq0T4o"
      },
      "source": [
        "#### Изучим F1-меру для `LogisticRegression`"
      ]
    },
    {
      "cell_type": "code",
      "execution_count": null,
      "metadata": {
        "id": "2GRQGCXq0T4o",
        "outputId": "a3cc7b89-07ef-4df6-b75c-98b8d0bb30bf"
      },
      "outputs": [
        {
          "name": "stdout",
          "output_type": "stream",
          "text": [
            "F1-мера 0.3169164882226981\n"
          ]
        }
      ],
      "source": [
        "rec_prec_f1(target_valid_df_nopasses, predicted_valid_df_nopasses_lr)"
      ]
    },
    {
      "cell_type": "code",
      "execution_count": null,
      "metadata": {
        "id": "kImC_9pA0T4o",
        "outputId": "7c885cb4-4aa5-4c44-dd57-fab95334d7cb"
      },
      "outputs": [
        {
          "name": "stdout",
          "output_type": "stream",
          "text": [
            "F1-мера 0.27478260869565213\n"
          ]
        }
      ],
      "source": [
        "rec_prec_f1(target_valid_df_zeropasses, predicted_valid_df_zeropasses_lr)"
      ]
    },
    {
      "cell_type": "code",
      "execution_count": null,
      "metadata": {
        "id": "90lqAU5u0T4o",
        "outputId": "fbc346a2-fb82-427d-f7f0-2a0247175dd6"
      },
      "outputs": [
        {
          "name": "stdout",
          "output_type": "stream",
          "text": [
            "F1-мера 0.27478260869565213\n"
          ]
        }
      ],
      "source": [
        "rec_prec_f1(target_valid_df_medianpasses, predicted_valid_df_medianpasses_lr)"
      ]
    },
    {
      "cell_type": "markdown",
      "metadata": {
        "id": "DjAbDClF0T4p"
      },
      "source": [
        "##### Вывод"
      ]
    },
    {
      "cell_type": "markdown",
      "metadata": {
        "id": "HNPFH_CT0T4p"
      },
      "source": [
        "Качество модели `LogisticRegression` - низкое и требует улучшения. \n",
        "\n",
        "- качество F1-меры на датафрейме - `df_nopasses` равно `0.3169164882226981`;\n",
        "- качество F1-меры на датафрейме - `df_nopasses` равно `0.27478260869565213`;\n",
        "- качество F1-меры на датафрейме - `df_nopasses` равно `0.27478260869565213`."
      ]
    },
    {
      "cell_type": "markdown",
      "metadata": {
        "id": "nwwVJPiz0T4p"
      },
      "source": [
        "### Вывод"
      ]
    },
    {
      "cell_type": "markdown",
      "metadata": {
        "id": "Zo0wb7pL0T4p"
      },
      "source": [
        "Все 3 модели - `DecisionTreeClassifier`, `RandomForestClassifier`, `LogisticRegression` достаточно посредтсвенного качества и требуют улучшения. Отдельно отметим, что:\n",
        "- наибольшее качество у модели `RandomForestClassifier`;\n",
        "- наименьшее качество у модели `LogisticRegression`;\n",
        "- наибольшее качество F1-меры показала модель `RandomForestClassifier` у датафрейма - `df_nopasses` - `0.5714285714285714`;"
      ]
    },
    {
      "cell_type": "markdown",
      "metadata": {
        "id": "UhYClFJv0T4p"
      },
      "source": [
        "## Борьба с дисбалансом"
      ]
    },
    {
      "cell_type": "markdown",
      "metadata": {
        "id": "CbMhXtep0T4q"
      },
      "source": [
        "Посмотрим на баланс классов"
      ]
    },
    {
      "cell_type": "code",
      "execution_count": null,
      "metadata": {
        "id": "4u5KHga_0T4q",
        "outputId": "1b514580-1adc-4036-f664-5979a1856dc6"
      },
      "outputs": [
        {
          "name": "stdout",
          "output_type": "stream",
          "text": [
            "0    0.793546\n",
            "1    0.206454\n",
            "Name: exited, dtype: float64\n"
          ]
        }
      ],
      "source": [
        "print(target_train_df_nopasses.value_counts(normalize = 1))"
      ]
    },
    {
      "cell_type": "code",
      "execution_count": null,
      "metadata": {
        "id": "HMxc4CxH0T4q"
      },
      "outputs": [],
      "source": [
        "balance_rate_df_nopasses = list(target_train_df_nopasses.value_counts(normalize=True))"
      ]
    },
    {
      "cell_type": "code",
      "execution_count": null,
      "metadata": {
        "id": "7XsdxL1G0T4q",
        "outputId": "0247bb8b-b3ae-4c1b-a96b-7323e3e23846"
      },
      "outputs": [
        {
          "data": {
            "text/plain": [
              "0    0.800667\n",
              "1    0.199333\n",
              "Name: exited, dtype: float64"
            ]
          },
          "execution_count": 44,
          "metadata": {},
          "output_type": "execute_result"
        }
      ],
      "source": [
        "target_train_df_zeropasses.value_counts(normalize = 1)"
      ]
    },
    {
      "cell_type": "code",
      "execution_count": null,
      "metadata": {
        "id": "fol1DR-u0T4q"
      },
      "outputs": [],
      "source": [
        "balance_rate_df_zeropasses = list(target_train_df_zeropasses.value_counts(normalize=True))"
      ]
    },
    {
      "cell_type": "code",
      "execution_count": null,
      "metadata": {
        "id": "iM7_vj-60T4q",
        "outputId": "5830d66a-ce39-4396-9c30-67d6640f5034"
      },
      "outputs": [
        {
          "data": {
            "text/plain": [
              "0    0.800667\n",
              "1    0.199333\n",
              "Name: exited, dtype: float64"
            ]
          },
          "execution_count": 46,
          "metadata": {},
          "output_type": "execute_result"
        }
      ],
      "source": [
        "target_train_df_medianpasses.value_counts(normalize = 1)"
      ]
    },
    {
      "cell_type": "code",
      "execution_count": null,
      "metadata": {
        "id": "fvmtZ3Bm0T4r"
      },
      "outputs": [],
      "source": [
        "balance_rate_df_medianpasses = list(target_train_df_medianpasses.value_counts(normalize=True))"
      ]
    },
    {
      "cell_type": "markdown",
      "metadata": {
        "id": "qehm62Pj0T4r"
      },
      "source": [
        "### `class_weight`"
      ]
    },
    {
      "cell_type": "markdown",
      "metadata": {
        "id": "71ecP5bQ0T4r"
      },
      "source": [
        "Добавим в модели гиперпараметр `class_weight` со значением - `balanced`"
      ]
    },
    {
      "cell_type": "markdown",
      "metadata": {
        "id": "sqJK-y5w0T4r"
      },
      "source": [
        "#### `DecisionTreeClassifier`"
      ]
    },
    {
      "cell_type": "code",
      "execution_count": null,
      "metadata": {
        "id": "9z3BGSRo0T4r",
        "outputId": "499836d2-1b20-486f-c36c-107b65fc03ea"
      },
      "outputs": [
        {
          "name": "stdout",
          "output_type": "stream",
          "text": [
            "F1-мера 0.4720327421555253\n"
          ]
        }
      ],
      "source": [
        "model_df_nopasses_dtc = DecisionTreeClassifier(random_state=12345, class_weight='balanced')\n",
        "model_df_nopasses_dtc.fit(features_train_df_nopasses, target_train_df_nopasses)\n",
        "predicted_valid_df_nopasses_dtc = model_df_nopasses_dtc.predict(features_valid_df_nopasses)\n",
        "rec_prec_f1(target_valid_df_nopasses, predicted_valid_df_nopasses_dtc)"
      ]
    },
    {
      "cell_type": "code",
      "execution_count": null,
      "metadata": {
        "id": "9GXDWZbf0T4s",
        "outputId": "0436ad8a-3764-4f16-f561-56d99bf4f2d7"
      },
      "outputs": [
        {
          "name": "stdout",
          "output_type": "stream",
          "text": [
            "F1-мера 0.4839506172839506\n"
          ]
        }
      ],
      "source": [
        "model_df_zeropasses_dtc = DecisionTreeClassifier(random_state=12345, class_weight='balanced')\n",
        "model_df_zeropasses_dtc.fit(features_train_df_zeropasses, target_train_df_zeropasses)\n",
        "predicted_valid_df_zeropasses_dtc = model_df_zeropasses_dtc.predict(features_valid_df_zeropasses)\n",
        "rec_prec_f1(target_valid_df_zeropasses, predicted_valid_df_zeropasses_dtc)"
      ]
    },
    {
      "cell_type": "code",
      "execution_count": null,
      "metadata": {
        "id": "9mlE9ql40T4s",
        "outputId": "83f1cd90-7fb1-4fcc-dd3e-1ce91606c230"
      },
      "outputs": [
        {
          "name": "stdout",
          "output_type": "stream",
          "text": [
            "F1-мера 0.47654320987654325\n"
          ]
        }
      ],
      "source": [
        "model_df_medianpasses_dtc = DecisionTreeClassifier(random_state=12345, class_weight='balanced')\n",
        "model_df_medianpasses_dtc.fit(features_train_df_medianpasses, target_train_df_medianpasses)\n",
        "predicted_valid_df_medianpasses_dtc = model_df_medianpasses_dtc.predict(features_valid_df_medianpasses)\n",
        "rec_prec_f1(target_valid_df_medianpasses, predicted_valid_df_medianpasses_dtc)"
      ]
    },
    {
      "cell_type": "markdown",
      "metadata": {
        "id": "YfRitiUj0T4s"
      },
      "source": [
        "##### Вывод"
      ]
    },
    {
      "cell_type": "markdown",
      "metadata": {
        "id": "1efWpaFv0T4t"
      },
      "source": [
        "Качество F1-меры модели `DecisionTreeClassifier` стало еще меньше.\n",
        "\n",
        "- качество F1-меры на датафрейме - `df_nopasses` уменьшилось с `0.4958448753462604` до `0.4720327421555253`;\n",
        "- качество F1-меры на датафрейме - `df_nopasses` уменьшилось с `0.4958448753462604` до `0.4839506172839506`;\n",
        "- качество F1-меры на датафрейме - `df_nopasses` уменьшилось с `0.4958448753462604` до `0.47654320987654325`;"
      ]
    },
    {
      "cell_type": "markdown",
      "metadata": {
        "id": "vA_FhqEt0T4t"
      },
      "source": [
        "#### `RandomForestClassifier`"
      ]
    },
    {
      "cell_type": "code",
      "execution_count": null,
      "metadata": {
        "id": "vjPgF8EG0T4u",
        "outputId": "e6349c11-2f0e-4225-80ea-af470107a123"
      },
      "outputs": [
        {
          "name": "stdout",
          "output_type": "stream",
          "text": [
            "F1-мера 0.5683060109289617\n"
          ]
        }
      ],
      "source": [
        "model_df_nopasses_rfc = RandomForestClassifier(random_state=12345, n_estimators = 100, class_weight='balanced')\n",
        "model_df_nopasses_rfc.fit(features_train_df_nopasses, target_train_df_nopasses)\n",
        "predicted_valid_df_nopasses_rfc = model_df_nopasses_rfc.predict(features_valid_df_nopasses)\n",
        "rec_prec_f1(target_valid_df_nopasses, predicted_valid_df_nopasses_rfc)"
      ]
    },
    {
      "cell_type": "code",
      "execution_count": null,
      "metadata": {
        "id": "MPbOQzGz0T4u",
        "outputId": "9aa9c47a-c964-457f-b9f3-206acd7ad878"
      },
      "outputs": [
        {
          "name": "stdout",
          "output_type": "stream",
          "text": [
            "F1-мера 0.5146379044684128\n"
          ]
        }
      ],
      "source": [
        "model_df_zeropasses_rfc = RandomForestClassifier(random_state=12345, n_estimators = 100, class_weight='balanced')\n",
        "model_df_zeropasses_rfc.fit(features_train_df_zeropasses, target_train_df_zeropasses)\n",
        "predicted_valid_df_zeropasses_rfc = model_df_zeropasses_rfc.predict(features_valid_df_zeropasses)\n",
        "rec_prec_f1(target_valid_df_zeropasses, predicted_valid_df_zeropasses_rfc)"
      ]
    },
    {
      "cell_type": "code",
      "execution_count": null,
      "metadata": {
        "id": "LT1DKPxZ0T4u",
        "outputId": "24e25ae8-ca36-405e-9f25-82b24525c7de"
      },
      "outputs": [
        {
          "name": "stdout",
          "output_type": "stream",
          "text": [
            "F1-мера 0.5269645608628658\n"
          ]
        }
      ],
      "source": [
        "model_df_medianpasses_rfc = RandomForestClassifier(random_state=12345, n_estimators = 100, class_weight='balanced')\n",
        "model_df_medianpasses_rfc.fit(features_train_df_medianpasses, target_train_df_medianpasses)\n",
        "predicted_valid_df_medianpasses_rfc = model_df_medianpasses_rfc.predict(features_valid_df_medianpasses)\n",
        "rec_prec_f1(target_valid_df_medianpasses, predicted_valid_df_medianpasses_rfc)"
      ]
    },
    {
      "cell_type": "markdown",
      "metadata": {
        "id": "bdKGEw4t0T4u"
      },
      "source": [
        "##### Вывод"
      ]
    },
    {
      "cell_type": "markdown",
      "metadata": {
        "id": "2gksu5nY0T4v"
      },
      "source": [
        "Качество F1-меры модели `RandomForestClassifier` стало еще меньше.\n",
        "\n",
        "- качество F1-меры на датафрейме - `df_nopasses` уменьшилось с `0.5714285714285714` до `0.5683060109289617`;\n",
        "- качество F1-меры на датафрейме - `df_nopasses` уменьшилось с `0.536144578313253` до `0.5146379044684128`;\n",
        "- качество F1-меры на датафрейме - `df_nopasses` уменьшилось с `0.5473684210526315` до `0.5269645608628658`;"
      ]
    },
    {
      "cell_type": "markdown",
      "metadata": {
        "id": "UY3NPFyO0T4v"
      },
      "source": [
        "#### `LogisticRegression`"
      ]
    },
    {
      "cell_type": "code",
      "execution_count": null,
      "metadata": {
        "id": "TRe7tMN70T4v",
        "outputId": "736c34d7-158e-4330-cc9f-5804b319478c"
      },
      "outputs": [
        {
          "name": "stdout",
          "output_type": "stream",
          "text": [
            "F1-мера 0.5025432349949135\n"
          ]
        }
      ],
      "source": [
        "model_df_nopasses_lr = LogisticRegression(random_state=12345, solver='liblinear', class_weight='balanced')\n",
        "model_df_nopasses_lr.fit(features_train_df_nopasses, target_train_df_nopasses)\n",
        "predicted_valid_df_nopasses_lr = model_df_nopasses_lr.predict(features_valid_df_nopasses)\n",
        "rec_prec_f1(target_valid_df_nopasses, predicted_valid_df_nopasses_lr)"
      ]
    },
    {
      "cell_type": "code",
      "execution_count": null,
      "metadata": {
        "id": "AEbScU1-0T4v",
        "outputId": "b3bc02f0-b309-4b03-ad35-1e9ae5ee7b4b"
      },
      "outputs": [
        {
          "name": "stdout",
          "output_type": "stream",
          "text": [
            "F1-мера 0.4797238999137188\n"
          ]
        }
      ],
      "source": [
        "model_df_zeropasses_lr = LogisticRegression(random_state=12345, solver='liblinear', class_weight='balanced')\n",
        "model_df_zeropasses_lr.fit(features_train_df_zeropasses, target_train_df_zeropasses)\n",
        "predicted_valid_df_zeropasses_lr = model_df_zeropasses_lr.predict(features_valid_df_zeropasses)\n",
        "rec_prec_f1(target_valid_df_zeropasses, predicted_valid_df_zeropasses_lr)"
      ]
    },
    {
      "cell_type": "code",
      "execution_count": null,
      "metadata": {
        "id": "VyZrKpHh0T4v",
        "outputId": "ef522685-87cc-4fc3-9cbc-2aad045efd03"
      },
      "outputs": [
        {
          "name": "stdout",
          "output_type": "stream",
          "text": [
            "F1-мера 0.4775086505190312\n"
          ]
        }
      ],
      "source": [
        "model_df_medianpasses_lr = LogisticRegression(random_state=12345, solver='liblinear', class_weight='balanced')\n",
        "model_df_medianpasses_lr.fit(features_train_df_medianpasses, target_train_df_medianpasses)\n",
        "predicted_valid_df_medianpasses_lr = model_df_medianpasses_lr.predict(features_valid_df_medianpasses)\n",
        "rec_prec_f1(target_valid_df_medianpasses, predicted_valid_df_medianpasses_lr)"
      ]
    },
    {
      "cell_type": "markdown",
      "metadata": {
        "id": "mmFSvKHa0T4w"
      },
      "source": [
        "##### Вывод"
      ]
    },
    {
      "cell_type": "markdown",
      "metadata": {
        "id": "agso7LMu0T4w"
      },
      "source": [
        "Качество F1-меры модели `LogisticRegressio` стало больше, но тем не менее требует улучшения.\n",
        "\n",
        "- качество F1-меры на датафрейме - `df_nopasses` увеличилось с `0.3169164882226981` до `0.5025432349949135`;\n",
        "- качество F1-меры на датафрейме - `df_nopasses` увеличилось с `0.27478260869565213` до `0.4797238999137188`;\n",
        "- качество F1-меры на датафрейме - `df_nopasses` увеличилось с `0.27478260869565213` до `0.4775086505190312`;\n"
      ]
    },
    {
      "cell_type": "markdown",
      "metadata": {
        "id": "5D6Xoc120T4w"
      },
      "source": [
        "### `Upsampling`"
      ]
    },
    {
      "cell_type": "code",
      "execution_count": null,
      "metadata": {
        "id": "oeKQdezq0T4w"
      },
      "outputs": [],
      "source": [
        "def upsample(features, target, repeat):\n",
        "    features_zeros = features[target == 0]\n",
        "    features_ones = features[target == 1]\n",
        "    target_zeros = target[target == 0]\n",
        "    target_ones = target[target == 1]\n",
        "    features_upsampled = pd.concat([features_zeros] + [features_ones] * repeat)\n",
        "    target_upsampled = pd.concat([target_zeros] + [target_ones] * repeat)\n",
        "    features_upsampled, target_upsampled = shuffle(\n",
        "        features_upsampled, target_upsampled, random_state=12345)\n",
        "    return features_upsampled, target_upsampled"
      ]
    },
    {
      "cell_type": "code",
      "execution_count": null,
      "metadata": {
        "id": "mUXk9iNF0T4x"
      },
      "outputs": [],
      "source": [
        "(features_df_nopasses_upsampled, \n",
        "target_df_nopasses_upsampled) = upsample(features_train_df_nopasses,\n",
        "                                        target_train_df_nopasses,\n",
        "                                        math.ceil(balance_rate_df_nopasses[0]/balance_rate_df_nopasses[1])\n",
        "                                       )"
      ]
    },
    {
      "cell_type": "code",
      "execution_count": null,
      "metadata": {
        "id": "PIAerKhw0T4x"
      },
      "outputs": [],
      "source": [
        "(features_df_zeropasses_upsampled, \n",
        "target_df_zeropasses_upsampled) = upsample(features_train_df_zeropasses, \n",
        "                                          target_train_df_zeropasses, \n",
        "                                          math.ceil(balance_rate_df_nopasses[0]/balance_rate_df_nopasses[1])\n",
        "                                       )"
      ]
    },
    {
      "cell_type": "code",
      "execution_count": null,
      "metadata": {
        "id": "vW-7qlgr0T4x"
      },
      "outputs": [],
      "source": [
        "(features_df_medianpasses_upsampled, \n",
        "target_df_medianpasses_upsampled) = upsample(features_train_df_medianpasses, \n",
        "                                            target_train_df_medianpasses,\n",
        "                                            math.ceil(balance_rate_df_nopasses[0]/balance_rate_df_nopasses[1])\n",
        "                                       )"
      ]
    },
    {
      "cell_type": "markdown",
      "metadata": {
        "id": "-FAsEMwn0T4y"
      },
      "source": [
        "#### `DecisionTreeClassifier`"
      ]
    },
    {
      "cell_type": "code",
      "execution_count": null,
      "metadata": {
        "id": "9hphqv150T4y",
        "outputId": "52e51e0c-8e2d-4a8c-de2b-eb299c964f6d"
      },
      "outputs": [
        {
          "name": "stdout",
          "output_type": "stream",
          "text": [
            "F1-мера 0.46896551724137925\n"
          ]
        }
      ],
      "source": [
        "model_df_nopasses_dtc = DecisionTreeClassifier(random_state=12345)\n",
        "model_df_nopasses_dtc.fit(features_df_nopasses_upsampled, target_df_nopasses_upsampled)\n",
        "predicted_valid_df_nopasses_dtc = model_df_nopasses_dtc.predict(features_valid_df_nopasses)\n",
        "rec_prec_f1(target_valid_df_nopasses, predicted_valid_df_nopasses_dtc)"
      ]
    },
    {
      "cell_type": "code",
      "execution_count": null,
      "metadata": {
        "id": "_mXOjVRL0T4y",
        "outputId": "7163a67e-b758-47ec-b273-e3c217576173"
      },
      "outputs": [
        {
          "name": "stdout",
          "output_type": "stream",
          "text": [
            "F1-мера 0.4957264957264958\n"
          ]
        }
      ],
      "source": [
        "model_df_zeropasses_dtc = DecisionTreeClassifier(random_state=12345)\n",
        "model_df_zeropasses_dtc.fit(features_df_zeropasses_upsampled, target_df_zeropasses_upsampled)\n",
        "predicted_valid_df_zeropasses_dtc = model_df_zeropasses_dtc.predict(features_valid_df_zeropasses)\n",
        "rec_prec_f1(target_valid_df_zeropasses, predicted_valid_df_zeropasses_dtc)"
      ]
    },
    {
      "cell_type": "code",
      "execution_count": null,
      "metadata": {
        "id": "wgznX_Xr0T4z",
        "outputId": "d7ef11a4-d744-498d-e8e3-c14e0bd669b6"
      },
      "outputs": [
        {
          "name": "stdout",
          "output_type": "stream",
          "text": [
            "F1-мера 0.48175182481751827\n"
          ]
        }
      ],
      "source": [
        "model_df_medianpasses_dtc = DecisionTreeClassifier(random_state=12345)\n",
        "model_df_medianpasses_dtc.fit(features_df_medianpasses_upsampled, target_df_medianpasses_upsampled)\n",
        "predicted_valid_df_medianpasses_dtc = model_df_medianpasses_dtc.predict(features_valid_df_medianpasses)\n",
        "rec_prec_f1(target_valid_df_medianpasses, predicted_valid_df_medianpasses_dtc)"
      ]
    },
    {
      "cell_type": "markdown",
      "metadata": {
        "id": "El3vOeLU0T4z"
      },
      "source": [
        "##### Вывод"
      ]
    },
    {
      "cell_type": "markdown",
      "metadata": {
        "id": "HQDivZx10T4z"
      },
      "source": [
        "Качество F1-меры модели `DecisionTreeClassifier` стало еще меньше.\n",
        "\n",
        "- качество F1-меры на датафрейме - `df_nopasses` уменьшилось с `0.4958448753462604` до `0.46896551724137925`;\n",
        "- качество F1-меры на датафрейме - `df_nopasses` уменьшилось с `0.4958448753462604` до `0.4957264957264958`;\n",
        "- качество F1-меры на датафрейме - `df_nopasses` уменьшилось с `0.4958448753462604` до `0.48175182481751827`;"
      ]
    },
    {
      "cell_type": "markdown",
      "metadata": {
        "id": "SRFFxipH0T40"
      },
      "source": [
        "#### `RandomForestClassifier`"
      ]
    },
    {
      "cell_type": "code",
      "execution_count": null,
      "metadata": {
        "id": "uQWOu7b-0T40",
        "outputId": "b7873ec8-1309-4be7-ec2c-b587fcfe8708"
      },
      "outputs": [
        {
          "name": "stdout",
          "output_type": "stream",
          "text": [
            "F1-мера 0.6123076923076923\n"
          ]
        }
      ],
      "source": [
        "model_df_nopasses_rfc = RandomForestClassifier(random_state=12345, n_estimators = 100)\n",
        "model_df_nopasses_rfc.fit(features_df_nopasses_upsampled, target_df_nopasses_upsampled)\n",
        "predicted_valid_df_nopasses_rfc = model_df_nopasses_rfc.predict(features_valid_df_nopasses)\n",
        "rec_prec_f1(target_valid_df_nopasses, predicted_valid_df_nopasses_rfc)"
      ]
    },
    {
      "cell_type": "code",
      "execution_count": null,
      "metadata": {
        "id": "23aWlGci0T40",
        "outputId": "3c252d62-a2d5-448a-c195-c46207d7c01f"
      },
      "outputs": [
        {
          "name": "stdout",
          "output_type": "stream",
          "text": [
            "F1-мера 0.5816733067729083\n"
          ]
        }
      ],
      "source": [
        "model_df_zeropasses_rfc = RandomForestClassifier(random_state=12345, n_estimators = 100)\n",
        "model_df_zeropasses_rfc.fit(features_df_zeropasses_upsampled, target_df_zeropasses_upsampled)\n",
        "predicted_valid_df_zeropasses_rfc = model_df_zeropasses_rfc.predict(features_valid_df_zeropasses)\n",
        "rec_prec_f1(target_valid_df_zeropasses, predicted_valid_df_zeropasses_rfc)"
      ]
    },
    {
      "cell_type": "code",
      "execution_count": null,
      "metadata": {
        "id": "PvC_2AZ00T40",
        "outputId": "ee60bce8-b3cd-46af-d9d6-6d578ff1f507"
      },
      "outputs": [
        {
          "name": "stdout",
          "output_type": "stream",
          "text": [
            "F1-мера 0.5897771952817825\n"
          ]
        }
      ],
      "source": [
        "model_df_medianpasses_rfc = RandomForestClassifier(random_state=12345, n_estimators = 100)\n",
        "model_df_medianpasses_rfc.fit(features_df_medianpasses_upsampled, target_df_medianpasses_upsampled)\n",
        "predicted_valid_df_medianpasses_rfc = model_df_medianpasses_rfc.predict(features_valid_df_medianpasses)\n",
        "rec_prec_f1(target_valid_df_medianpasses, predicted_valid_df_medianpasses_rfc)"
      ]
    },
    {
      "cell_type": "markdown",
      "metadata": {
        "id": "Sfv_V7FE0T41"
      },
      "source": [
        "##### Вывод"
      ]
    },
    {
      "cell_type": "markdown",
      "metadata": {
        "id": "jYoggtyu0T41"
      },
      "source": [
        "Модель `RandomForestClassifier` заметно увеличилось.\n",
        "\n",
        "- качество F1-меры на датафрейме - `df_nopasses` увеличилось с `0.5714285714285714` до `0.6123076923076923`;\n",
        "- качество F1-меры на датафрейме - `df_nopasses` увеличилось с `0.536144578313253` до `0.5816733067729083`;\n",
        "- качество F1-меры на датафрейме - `df_nopasses` увеличилось с `0.5473684210526315` до `0.5897771952817825`."
      ]
    },
    {
      "cell_type": "markdown",
      "metadata": {
        "id": "S96y-wwE0T41"
      },
      "source": [
        "#### `LogisticRegression`"
      ]
    },
    {
      "cell_type": "code",
      "execution_count": null,
      "metadata": {
        "id": "49sB4-XX0T42",
        "outputId": "2b9b1b0d-4b39-41f6-d240-2cb8257f53df"
      },
      "outputs": [
        {
          "name": "stdout",
          "output_type": "stream",
          "text": [
            "F1-мера 0.5025432349949135\n"
          ]
        }
      ],
      "source": [
        "model_df_nopasses_lr = LogisticRegression(random_state=12345, solver='liblinear', class_weight='balanced')\n",
        "model_df_nopasses_lr.fit(features_df_nopasses_upsampled, target_df_nopasses_upsampled)\n",
        "predicted_valid_df_nopasses_lr = model_df_nopasses_lr.predict(features_valid_df_nopasses)\n",
        "rec_prec_f1(target_valid_df_nopasses, predicted_valid_df_nopasses_lr)"
      ]
    },
    {
      "cell_type": "code",
      "execution_count": null,
      "metadata": {
        "id": "ZuCTOfye0T42",
        "outputId": "96180d45-9148-4773-83d6-583b6bb1b207"
      },
      "outputs": [
        {
          "name": "stdout",
          "output_type": "stream",
          "text": [
            "F1-мера 0.4793103448275862\n"
          ]
        }
      ],
      "source": [
        "model_df_zeropasses_lr = LogisticRegression(random_state=12345, solver='liblinear', class_weight='balanced')\n",
        "model_df_zeropasses_lr.fit(features_df_zeropasses_upsampled, target_df_zeropasses_upsampled)\n",
        "predicted_valid_df_zeropasses_lr = model_df_zeropasses_lr.predict(features_valid_df_zeropasses)\n",
        "rec_prec_f1(target_valid_df_zeropasses, predicted_valid_df_zeropasses_lr)"
      ]
    },
    {
      "cell_type": "code",
      "execution_count": null,
      "metadata": {
        "id": "6TIzDhpn0T42",
        "outputId": "b1590395-9abc-4990-efcf-7774364d95c5"
      },
      "outputs": [
        {
          "name": "stdout",
          "output_type": "stream",
          "text": [
            "F1-мера 0.4775086505190312\n"
          ]
        }
      ],
      "source": [
        "model_df_medianpasses_lr = LogisticRegression(random_state=12345, solver='liblinear', class_weight='balanced')\n",
        "model_df_medianpasses_lr.fit(features_df_medianpasses_upsampled, target_df_medianpasses_upsampled)\n",
        "predicted_valid_df_medianpasses_lr = model_df_medianpasses_lr.predict(features_valid_df_medianpasses)\n",
        "rec_prec_f1(target_valid_df_medianpasses, predicted_valid_df_medianpasses_lr)"
      ]
    },
    {
      "cell_type": "markdown",
      "metadata": {
        "id": "aNprSwUV0T43"
      },
      "source": [
        "##### Вывод"
      ]
    },
    {
      "cell_type": "markdown",
      "metadata": {
        "id": "EvpQ1msZ0T43"
      },
      "source": [
        "Качество F1-меры модели `LogisticRegressio` стало больше, но тем не менее требует улучшения.\n",
        "\n",
        "- качество F1-меры на датафрейме - `df_nopasses` увеличилось с `0.3169164882226981` до `0.4565425023877746`;\n",
        "- качество F1-меры на датафрейме - `df_nopasses` увеличилось с `0.27478260869565213` до `0.47079646017699117`;\n",
        "- качество F1-меры на датафрейме - `df_nopasses` увеличилось с `0.27478260869565213` до `0.5227655986509275`;"
      ]
    },
    {
      "cell_type": "markdown",
      "metadata": {
        "id": "ZrGB4bEM0T44"
      },
      "source": [
        "### `Downsampling`"
      ]
    },
    {
      "cell_type": "code",
      "execution_count": null,
      "metadata": {
        "id": "sohrjk__0T44"
      },
      "outputs": [],
      "source": [
        "def downsample(features, target, fraction):\n",
        "    features_zeros = features[target == 0]\n",
        "    features_ones = features[target == 1]\n",
        "    target_zeros = target[target == 0]\n",
        "    target_ones = target[target == 1]\n",
        "    features_downsampled = pd.concat(\n",
        "        [features_zeros.sample(frac=1/fraction, random_state=12345)] + [features_ones])\n",
        "    target_downsampled = pd.concat(\n",
        "        [target_zeros.sample(frac=1/fraction, random_state=12345)] + [target_ones])\n",
        "    features_downsampled, target_downsampled = shuffle(\n",
        "        features_downsampled, target_downsampled, random_state=12345)\n",
        "    return features_downsampled, target_downsampled"
      ]
    },
    {
      "cell_type": "code",
      "execution_count": null,
      "metadata": {
        "id": "UnTF-55H0T44"
      },
      "outputs": [],
      "source": [
        "(features_df_nopasses_downsampled, \n",
        " target_df_nopasses_downsampled) = downsample(features_train_df_nopasses, \n",
        "                                              target_train_df_nopasses, \n",
        "                                              math.ceil(balance_rate_df_nopasses[0]/balance_rate_df_nopasses[1])\n",
        "                                             )"
      ]
    },
    {
      "cell_type": "code",
      "execution_count": null,
      "metadata": {
        "id": "CmxT_xDc0T44"
      },
      "outputs": [],
      "source": [
        "(features_df_zeropasses_downsampled, \n",
        " target_df_zeropasses_downsampled) = downsample(features_train_df_zeropasses,\n",
        "                                                target_train_df_zeropasses, \n",
        "                                                math.ceil(balance_rate_df_nopasses[0]/balance_rate_df_nopasses[1])\n",
        "                                               )"
      ]
    },
    {
      "cell_type": "code",
      "execution_count": null,
      "metadata": {
        "id": "Ab9MIEpK0T44"
      },
      "outputs": [],
      "source": [
        "(features_df_medianpasses_downsampled, \n",
        " target_df_medianpasses_downsampled) = downsample(features_train_df_medianpasses, \n",
        "                                                  target_train_df_medianpasses,\n",
        "                                                  math.ceil(balance_rate_df_nopasses[0]/balance_rate_df_nopasses[1])\n",
        "                                                 )"
      ]
    },
    {
      "cell_type": "markdown",
      "metadata": {
        "id": "P5SsczGG0T45"
      },
      "source": [
        "#### `DecisionTreeClassifier`"
      ]
    },
    {
      "cell_type": "code",
      "execution_count": null,
      "metadata": {
        "id": "jR4Tn62i0T45",
        "outputId": "b1897294-a4e5-4e66-9d34-95339b9bcaea"
      },
      "outputs": [
        {
          "name": "stdout",
          "output_type": "stream",
          "text": [
            "F1-мера 0.5037735849056603\n"
          ]
        }
      ],
      "source": [
        "model_df_nopasses_dtc = DecisionTreeClassifier(random_state=12345)\n",
        "model_df_nopasses_dtc.fit(features_df_nopasses_downsampled, target_df_nopasses_downsampled)\n",
        "predicted_valid_df_nopasses_dtc = model_df_nopasses_dtc.predict(features_valid_df_nopasses)\n",
        "rec_prec_f1(target_valid_df_nopasses, predicted_valid_df_nopasses_dtc)"
      ]
    },
    {
      "cell_type": "code",
      "execution_count": null,
      "metadata": {
        "id": "r1nMnAt40T45",
        "outputId": "ad263918-7b6c-4541-be25-f200cbc557ba"
      },
      "outputs": [
        {
          "name": "stdout",
          "output_type": "stream",
          "text": [
            "F1-мера 0.49128919860627185\n"
          ]
        }
      ],
      "source": [
        "model_df_zeropasses_dtc = DecisionTreeClassifier(random_state=12345)\n",
        "model_df_zeropasses_dtc.fit(features_df_zeropasses_downsampled, target_df_zeropasses_downsampled)\n",
        "predicted_valid_df_zeropasses_dtc = model_df_zeropasses_dtc.predict(features_valid_df_zeropasses)\n",
        "rec_prec_f1(target_valid_df_zeropasses, predicted_valid_df_zeropasses_dtc)"
      ]
    },
    {
      "cell_type": "code",
      "execution_count": null,
      "metadata": {
        "id": "YQdkfJ2X0T45",
        "outputId": "a958ff10-cc33-4ce2-c54e-b1d64c923afe"
      },
      "outputs": [
        {
          "name": "stdout",
          "output_type": "stream",
          "text": [
            "F1-мера 0.4952870608397601\n"
          ]
        }
      ],
      "source": [
        "model_df_medianpasses_dtc = DecisionTreeClassifier(random_state=12345)\n",
        "model_df_medianpasses_dtc.fit(features_df_medianpasses_downsampled, target_df_medianpasses_downsampled)\n",
        "predicted_valid_df_medianpasses_dtc = model_df_medianpasses_dtc.predict(features_valid_df_medianpasses)\n",
        "rec_prec_f1(target_valid_df_medianpasses, predicted_valid_df_medianpasses_dtc)"
      ]
    },
    {
      "cell_type": "markdown",
      "metadata": {
        "id": "SsDihOKN0T46"
      },
      "source": [
        "##### Вывод"
      ]
    },
    {
      "cell_type": "markdown",
      "metadata": {
        "id": "900In4fQ0T46"
      },
      "source": [
        "Качество F1-меры модели `DecisionTreeClassifier` увеличилось только на датафрейме `df_nopasses` - результат посредственный и требует улучшения.\n",
        "\n",
        "- качество F1-меры на датафрейме - `df_nopasses` увеличилось с `0.4958448753462604` до `0.5037735849056603`;\n",
        "- качество F1-меры на датафрейме - `df_nopasses` уменьшилось с `0.4958448753462604` до `0.49128919860627185`;\n",
        "- качество F1-меры на датафрейме - `df_nopasses` уменьшилось с `0.4958448753462604` до `0.4952870608397601`."
      ]
    },
    {
      "cell_type": "markdown",
      "metadata": {
        "id": "N3L74cSy0T46"
      },
      "source": [
        "#### `RandomForestClassifier`"
      ]
    },
    {
      "cell_type": "code",
      "execution_count": null,
      "metadata": {
        "id": "noFrWpc90T46",
        "outputId": "43405eaa-a05b-4043-a6a2-adbe923506d5"
      },
      "outputs": [
        {
          "name": "stdout",
          "output_type": "stream",
          "text": [
            "F1-мера 0.5607287449392714\n"
          ]
        }
      ],
      "source": [
        "model_df_nopasses_rfc = RandomForestClassifier(random_state=12345, n_estimators = 100)\n",
        "model_df_nopasses_rfc.fit(features_df_nopasses_downsampled, target_df_nopasses_downsampled)\n",
        "predicted_valid_df_nopasses_rfc = model_df_nopasses_rfc.predict(features_valid_df_nopasses)\n",
        "rec_prec_f1(target_valid_df_nopasses, predicted_valid_df_nopasses_rfc)"
      ]
    },
    {
      "cell_type": "code",
      "execution_count": null,
      "metadata": {
        "id": "tXpbr9Nr0T47",
        "outputId": "54160221-840f-46e7-cce1-34590d464853"
      },
      "outputs": [
        {
          "name": "stdout",
          "output_type": "stream",
          "text": [
            "F1-мера 0.584870848708487\n"
          ]
        }
      ],
      "source": [
        "model_df_zeropasses_rfc = RandomForestClassifier(random_state=12345, n_estimators = 100)\n",
        "model_df_zeropasses_rfc.fit(features_df_zeropasses_downsampled, target_df_zeropasses_downsampled)\n",
        "predicted_valid_df_zeropasses_rfc = model_df_zeropasses_rfc.predict(features_valid_df_zeropasses)\n",
        "rec_prec_f1(target_valid_df_zeropasses, predicted_valid_df_zeropasses_rfc)"
      ]
    },
    {
      "cell_type": "code",
      "execution_count": null,
      "metadata": {
        "id": "fxlnCDsk0T47",
        "outputId": "e1981cbf-c44e-4ec7-940c-a6e63400b2bc"
      },
      "outputs": [
        {
          "name": "stdout",
          "output_type": "stream",
          "text": [
            "F1-мера 0.5751391465677179\n"
          ]
        }
      ],
      "source": [
        "model_df_medianpasses_rfc = RandomForestClassifier(random_state=12345, n_estimators = 100)\n",
        "model_df_medianpasses_rfc.fit(features_df_medianpasses_downsampled, target_df_medianpasses_downsampled)\n",
        "predicted_valid_df_medianpasses_rfc = model_df_medianpasses_rfc.predict(features_valid_df_medianpasses)\n",
        "rec_prec_f1(target_valid_df_medianpasses, predicted_valid_df_medianpasses_rfc)"
      ]
    },
    {
      "cell_type": "markdown",
      "metadata": {
        "id": "OX78XNjL0T48"
      },
      "source": [
        "##### Вывод"
      ]
    },
    {
      "cell_type": "markdown",
      "metadata": {
        "id": "k4u3ITMB0T48"
      },
      "source": [
        "Модель `RandomForestClassifier` стало больше, но тем не менее требует улучшения.\n",
        "\n",
        "- качество F1-меры на датафрейме - `df_nopasses` увеличилось с `0.5714285714285714` до `0.5607287449392714`;\n",
        "- качество F1-меры на датафрейме - `df_nopasses` увеличилось с `0.536144578313253` до `0.584870848708487`;\n",
        "- качество F1-меры на датафрейме - `df_nopasses` увеличилось с `0.5473684210526315` до `0.5751391465677179`."
      ]
    },
    {
      "cell_type": "markdown",
      "metadata": {
        "id": "ieLKqdsa0T48"
      },
      "source": [
        "#### `LogisticRegression`"
      ]
    },
    {
      "cell_type": "code",
      "execution_count": null,
      "metadata": {
        "id": "7OvaxCne0T49",
        "outputId": "5e2d0d5d-1f1b-4856-8697-3b785302f8f8"
      },
      "outputs": [
        {
          "name": "stdout",
          "output_type": "stream",
          "text": [
            "F1-мера 0.494\n"
          ]
        }
      ],
      "source": [
        "model_df_nopasses_lr = LogisticRegression(random_state=12345, solver='liblinear', class_weight='balanced')\n",
        "model_df_nopasses_lr.fit(features_df_nopasses_downsampled, target_df_nopasses_downsampled)\n",
        "predicted_valid_df_nopasses_lr = model_df_nopasses_lr.predict(features_valid_df_nopasses)\n",
        "rec_prec_f1(target_valid_df_nopasses, predicted_valid_df_nopasses_lr)"
      ]
    },
    {
      "cell_type": "code",
      "execution_count": null,
      "metadata": {
        "id": "xAoYXBPd0T4-",
        "outputId": "5668c1c3-cdb0-4cb1-80bf-ecff9e79abf5"
      },
      "outputs": [
        {
          "name": "stdout",
          "output_type": "stream",
          "text": [
            "F1-мера 0.4871794871794872\n"
          ]
        }
      ],
      "source": [
        "model_df_zeropasses_lr = LogisticRegression(random_state=12345, solver='liblinear', class_weight='balanced')\n",
        "model_df_zeropasses_lr.fit(features_df_zeropasses_downsampled, target_df_zeropasses_downsampled)\n",
        "predicted_valid_df_zeropasses_lr = model_df_zeropasses_lr.predict(features_valid_df_zeropasses)\n",
        "rec_prec_f1(target_valid_df_zeropasses, predicted_valid_df_zeropasses_lr)"
      ]
    },
    {
      "cell_type": "code",
      "execution_count": null,
      "metadata": {
        "id": "fSzSs1Gz0T4-",
        "outputId": "9456cf57-9f20-4889-c746-d0131d4a0c18"
      },
      "outputs": [
        {
          "name": "stdout",
          "output_type": "stream",
          "text": [
            "F1-мера 0.4863481228668943\n"
          ]
        }
      ],
      "source": [
        "model_df_medianpasses_lr = LogisticRegression(random_state=12345, solver='liblinear', class_weight='balanced')\n",
        "model_df_medianpasses_lr.fit(features_df_medianpasses_downsampled, target_df_medianpasses_downsampled)\n",
        "predicted_valid_df_medianpasses_lr = model_df_medianpasses_lr.predict(features_valid_df_medianpasses)\n",
        "rec_prec_f1(target_valid_df_medianpasses, predicted_valid_df_medianpasses_lr)"
      ]
    },
    {
      "cell_type": "markdown",
      "metadata": {
        "id": "BoAkuuaO0T4-"
      },
      "source": [
        "##### Вывод"
      ]
    },
    {
      "cell_type": "markdown",
      "metadata": {
        "id": "ZWQTKsWD0T4-"
      },
      "source": [
        "Качество F1-меры модели `LogisticRegressio` стало больше, но тем не менее требует улучшения.\n",
        "\n",
        "- качество F1-меры на датафрейме - `df_nopasses` увеличилось с `0.3169164882226981` до `0.494`;\n",
        "- качество F1-меры на датафрейме - `df_nopasses` увеличилось с `0.27478260869565213` до `0.4871794871794872`;\n",
        "- качество F1-меры на датафрейме - `df_nopasses` увеличилось с `0.27478260869565213` до `0.4863481228668943`."
      ]
    },
    {
      "cell_type": "markdown",
      "metadata": {
        "id": "A1lo9cTs0T4-"
      },
      "source": [
        "### Вывод"
      ]
    },
    {
      "cell_type": "markdown",
      "metadata": {
        "id": "RCyLSwB10T4-"
      },
      "source": [
        "Наилучший результат показала модель `RandomForestClassifier` на датафрейме `df_nopasses`, с учеличением выборки `Upsampling`. Качество F1-меры равно `0.6123076923076923`."
      ]
    },
    {
      "cell_type": "markdown",
      "metadata": {
        "id": "8Mj5JVYL0T4_"
      },
      "source": [
        "## Улучшение модели "
      ]
    },
    {
      "cell_type": "markdown",
      "metadata": {
        "id": "QerluZdX0T4_"
      },
      "source": [
        "Наилучший результат показала модель `RandomForestClassifier` на датафрейме `df_nopasses`, с учеличением выборки `Upsampling`, с качеством F1-меры - `0.6123076923076923`. \n",
        "\n",
        "Попробуем еще улучшить данную модель путем перебора гиперпараметров."
      ]
    },
    {
      "cell_type": "code",
      "execution_count": null,
      "metadata": {
        "id": "lN6CINcF0T4_",
        "outputId": "e7c09576-1031-487b-fd57-c4a85bf164fe"
      },
      "outputs": [
        {
          "name": "stdout",
          "output_type": "stream",
          "text": [
            "CPU times: user 1min 2s, sys: 161 ms, total: 1min 3s\n",
            "Wall time: 1min 3s\n"
          ]
        }
      ],
      "source": [
        "%%time\n",
        "best_model = None\n",
        "best_est = 0\n",
        "best_depth = 0\n",
        "best_result = 0\n",
        "for est in range(10, 110, 10):\n",
        "    for depth in range(1, 15, 1):\n",
        "        model_rfc = RandomForestClassifier(random_state=12345, n_estimators=est, max_depth = depth)\n",
        "        model_rfc.fit(features_df_nopasses_upsampled, target_df_nopasses_upsampled)\n",
        "        predicted_valid = model_rfc.predict(features_valid_df_nopasses)\n",
        "        result = f1_score(target_valid_df_nopasses, predicted_valid)\n",
        "        if best_result < result:\n",
        "            best_model = model_rfc\n",
        "            best_est = est\n",
        "            best_depth = depth\n",
        "            best_result = result"
      ]
    },
    {
      "cell_type": "code",
      "execution_count": null,
      "metadata": {
        "id": "26cQdnPd0T4_",
        "outputId": "16de2edb-44e6-4fad-eac2-3ebf24194b2f"
      },
      "outputs": [
        {
          "name": "stdout",
          "output_type": "stream",
          "text": [
            "Лучший результат F1-меры по валидационной выборке равен 0.6168741355463349\n"
          ]
        }
      ],
      "source": [
        "print('Лучший результат F1-меры по валидационной выборке равен {}'.format(best_result))"
      ]
    },
    {
      "cell_type": "code",
      "execution_count": null,
      "metadata": {
        "id": "WRknHtbB0T4_",
        "outputId": "3584a053-3798-459b-d5d6-94deba757d9e"
      },
      "outputs": [
        {
          "data": {
            "image/png": "[encoded data removed]",
            "text/plain": [
              "<Figure size 1080x432 with 1 Axes>"
            ]
          },
          "metadata": {
            "needs_background": "light"
          },
          "output_type": "display_data"
        }
      ],
      "source": [
        "probabilities_valid_rfc = model_rfc.predict_proba(features_valid_df_nopasses)\n",
        "probabilities_one_valid_rfc = probabilities_valid_rfc[:, 1]\n",
        "fpr, tpr, thresholds = roc_curve(target_valid_df_nopasses, probabilities_one_valid_rfc) \n",
        "plt.figure(figsize=(15, 6))\n",
        "plt.plot(fpr, tpr)\n",
        "plt.plot([0, 1], [0, 1], linestyle='--')\n",
        "plt.xlim([0.0, 1.0])\n",
        "plt.ylim([0.0, 1.0])\n",
        "plt.xlabel('False Positive Rate')\n",
        "plt.ylabel('True Positive Rate')\n",
        "plt.title('ROC-кривая')\n",
        "plt.show()"
      ]
    },
    {
      "cell_type": "markdown",
      "metadata": {
        "id": "AddwW2U50T5A"
      },
      "source": [
        "## Тестирование модели"
      ]
    },
    {
      "cell_type": "code",
      "execution_count": null,
      "metadata": {
        "id": "RTAvLptE0T5A",
        "outputId": "0214315f-00a6-47ef-d0f8-d2c6fa6733f8"
      },
      "outputs": [
        {
          "name": "stdout",
          "output_type": "stream",
          "text": [
            "CPU times: user 831 ms, sys: 7.94 ms, total: 839 ms\n",
            "Wall time: 838 ms\n"
          ]
        }
      ],
      "source": [
        "%%time\n",
        "model = RandomForestClassifier(random_state=12345, n_estimators=best_est, max_depth = best_depth)\n",
        "model.fit(features_df_nopasses_upsampled, target_df_nopasses_upsampled)\n",
        "predicted_test = model.predict(features_test_df_nopasses)\n",
        "probabilities_valid = model.predict_proba(features_test_df_nopasses)\n",
        "probabilities_one_valid = probabilities_valid[:, 1]\n",
        "result_f1_score = f1_score(target_test_df_nopasses, predicted_test)\n",
        "result_roc_auc_score = roc_auc_score(target_test_df_nopasses, probabilities_one_valid)"
      ]
    },
    {
      "cell_type": "code",
      "execution_count": null,
      "metadata": {
        "id": "LULbWxTO0T5A",
        "outputId": "546633f0-6dae-4501-d51b-9876167aa436"
      },
      "outputs": [
        {
          "name": "stdout",
          "output_type": "stream",
          "text": [
            "F1-мера по тестовой выборке равна 0.6192358366271411\n"
          ]
        }
      ],
      "source": [
        "print('F1-мера по тестовой выборке равна {}'.format(result_f1_score, result_roc_auc_score))"
      ]
    },
    {
      "cell_type": "code",
      "execution_count": null,
      "metadata": {
        "id": "3fcwqqCp0T5A",
        "outputId": "1de3832b-05d4-4e2a-c34b-9599d035df31"
      },
      "outputs": [
        {
          "name": "stdout",
          "output_type": "stream",
          "text": [
            "Метрика AUC-ROC по тестовой выборке равна 0.8645410919693625\n"
          ]
        }
      ],
      "source": [
        "print('Метрика AUC-ROC по тестовой выборке равна {}'.format(result_roc_auc_score))"
      ]
    },
    {
      "cell_type": "code",
      "execution_count": null,
      "metadata": {
        "id": "4SXB3xWE0T5A",
        "outputId": "f6584fdf-7ad5-4581-aecc-02fd25ff4af1"
      },
      "outputs": [
        {
          "name": "stdout",
          "output_type": "stream",
          "text": [
            "Гиперпараметры n_estimators = 100, max_depth = 13\n"
          ]
        }
      ],
      "source": [
        "print('Гиперпараметры n_estimators = {}, max_depth = {}'.format(best_est, best_depth))"
      ]
    },
    {
      "cell_type": "code",
      "execution_count": null,
      "metadata": {
        "id": "JeyienAv0T5B",
        "outputId": "0e0bdb53-e7bb-4620-f8d6-bdaeb2a29092"
      },
      "outputs": [
        {
          "data": {
            "image/png": "[encoded data removed]",
            "text/plain": [
              "<Figure size 1080x432 with 1 Axes>"
            ]
          },
          "metadata": {
            "needs_background": "light"
          },
          "output_type": "display_data"
        }
      ],
      "source": [
        "fpr, tpr, thresholds = roc_curve(target_test_df_nopasses, probabilities_one_valid) \n",
        "plt.figure(figsize=(15, 6))\n",
        "plt.plot(fpr, tpr)\n",
        "plt.plot([0, 1], [0, 1], linestyle='--')\n",
        "plt.xlim([0.0, 1.0])\n",
        "plt.ylim([0.0, 1.0])\n",
        "plt.xlabel('False Positive Rate')\n",
        "plt.ylabel('True Positive Rate')\n",
        "plt.title('ROC-кривая')\n",
        "plt.show()"
      ]
    },
    {
      "cell_type": "markdown",
      "metadata": {
        "id": "Tz30pWMh0T5C"
      },
      "source": [
        "### Вывод"
      ]
    },
    {
      "cell_type": "markdown",
      "metadata": {
        "id": "2PXjPOwE0T5C"
      },
      "source": [
        "- лучшая модель основана на `RandomForestClassifier`;\n",
        "- лучшая выборка, где пропуски были удалены - `df_nopasses`;\n",
        "- наилучшая техника выравнимания - `Upsampling`;\n",
        "- F1-мера по тестовой выборке равна - `0.6192358366271411`;\n",
        "- метрика AUC-ROC по тестовой выборке равна - `0.8645410919693625`;\n",
        "- гиперпараметры `n_estimators=100`, `max_depth=13`."
      ]
    }
  ],
  "metadata": {
    "ExecuteTimeLog": [
      {
        "duration": 1164,
        "start_time": "2022-03-11T16:44:52.774Z"
      },
      {
        "duration": 4,
        "start_time": "2022-03-11T16:45:14.121Z"
      },
      {
        "duration": 268,
        "start_time": "2022-03-11T16:45:33.685Z"
      },
      {
        "duration": 3,
        "start_time": "2022-03-11T16:45:38.021Z"
      },
      {
        "duration": 3,
        "start_time": "2022-03-11T16:45:38.372Z"
      },
      {
        "duration": 27,
        "start_time": "2022-03-11T16:45:38.721Z"
      },
      {
        "duration": 57,
        "start_time": "2022-03-11T16:45:40.055Z"
      },
      {
        "duration": 10,
        "start_time": "2022-03-11T16:46:45.701Z"
      },
      {
        "duration": 3,
        "start_time": "2022-03-11T16:48:07.625Z"
      },
      {
        "duration": 23,
        "start_time": "2022-03-11T16:48:08.758Z"
      },
      {
        "duration": 74,
        "start_time": "2022-03-11T16:48:09.384Z"
      },
      {
        "duration": 3,
        "start_time": "2022-03-11T16:50:09.091Z"
      },
      {
        "duration": 70,
        "start_time": "2022-03-11T16:50:25.958Z"
      },
      {
        "duration": 5,
        "start_time": "2022-03-11T16:51:21.079Z"
      },
      {
        "duration": 203,
        "start_time": "2022-03-11T16:52:20.744Z"
      },
      {
        "duration": 6,
        "start_time": "2022-03-11T16:52:27.262Z"
      },
      {
        "duration": 5,
        "start_time": "2022-03-11T16:52:48.645Z"
      },
      {
        "duration": 3,
        "start_time": "2022-03-11T16:53:37.020Z"
      },
      {
        "duration": 8,
        "start_time": "2022-03-11T16:54:10.959Z"
      },
      {
        "duration": 4639,
        "start_time": "2022-03-11T16:55:04.221Z"
      },
      {
        "duration": 199,
        "start_time": "2022-03-11T16:55:44.137Z"
      },
      {
        "duration": 9,
        "start_time": "2022-03-11T16:56:30.275Z"
      },
      {
        "duration": 6,
        "start_time": "2022-03-11T16:56:32.814Z"
      },
      {
        "duration": 5,
        "start_time": "2022-03-11T16:58:04.160Z"
      },
      {
        "duration": 74,
        "start_time": "2022-03-11T16:58:13.769Z"
      },
      {
        "duration": 709,
        "start_time": "2022-03-11T16:58:24.543Z"
      },
      {
        "duration": 72,
        "start_time": "2022-03-11T16:58:26.610Z"
      },
      {
        "duration": 3,
        "start_time": "2022-03-11T16:58:37.361Z"
      },
      {
        "duration": 72,
        "start_time": "2022-03-11T16:58:40.387Z"
      },
      {
        "duration": 1125,
        "start_time": "2022-03-11T16:58:49.952Z"
      },
      {
        "duration": 3,
        "start_time": "2022-03-11T16:58:51.079Z"
      },
      {
        "duration": 28,
        "start_time": "2022-03-11T16:58:51.084Z"
      },
      {
        "duration": 82,
        "start_time": "2022-03-11T16:58:51.113Z"
      },
      {
        "duration": 3,
        "start_time": "2022-03-11T16:58:51.197Z"
      },
      {
        "duration": 4,
        "start_time": "2022-03-11T16:58:51.357Z"
      },
      {
        "duration": 68,
        "start_time": "2022-03-11T16:58:51.570Z"
      },
      {
        "duration": 267,
        "start_time": "2022-03-11T16:59:11.659Z"
      },
      {
        "duration": 180,
        "start_time": "2022-03-11T16:59:20.065Z"
      },
      {
        "duration": 5,
        "start_time": "2022-03-11T16:59:28.882Z"
      },
      {
        "duration": 75,
        "start_time": "2022-03-11T16:59:30.419Z"
      },
      {
        "duration": 7,
        "start_time": "2022-03-11T17:00:02.499Z"
      },
      {
        "duration": 225,
        "start_time": "2022-03-11T17:01:48.277Z"
      },
      {
        "duration": 171,
        "start_time": "2022-03-11T17:03:16.963Z"
      },
      {
        "duration": 7,
        "start_time": "2022-03-11T17:03:21.640Z"
      },
      {
        "duration": 178,
        "start_time": "2022-03-11T17:09:15.740Z"
      },
      {
        "duration": 25,
        "start_time": "2022-03-11T17:11:16.279Z"
      },
      {
        "duration": 25,
        "start_time": "2022-03-11T17:12:16.223Z"
      },
      {
        "duration": 25,
        "start_time": "2022-03-11T17:12:25.922Z"
      },
      {
        "duration": 7,
        "start_time": "2022-03-11T17:12:42.984Z"
      },
      {
        "duration": 66,
        "start_time": "2022-03-11T17:12:53.950Z"
      },
      {
        "duration": 6,
        "start_time": "2022-03-11T17:13:25.110Z"
      },
      {
        "duration": 22,
        "start_time": "2022-03-11T17:13:28.885Z"
      },
      {
        "duration": 55,
        "start_time": "2022-03-11T17:13:32.553Z"
      },
      {
        "duration": 27,
        "start_time": "2022-03-11T17:13:37.111Z"
      },
      {
        "duration": 23,
        "start_time": "2022-03-11T17:13:43.341Z"
      },
      {
        "duration": 4,
        "start_time": "2022-03-11T17:19:41.176Z"
      },
      {
        "duration": 3,
        "start_time": "2022-03-11T17:19:42.554Z"
      },
      {
        "duration": 23,
        "start_time": "2022-03-11T17:19:42.803Z"
      },
      {
        "duration": 72,
        "start_time": "2022-03-11T17:19:43.311Z"
      },
      {
        "duration": 3,
        "start_time": "2022-03-11T17:19:43.546Z"
      },
      {
        "duration": 4,
        "start_time": "2022-03-11T17:19:44.030Z"
      },
      {
        "duration": 6,
        "start_time": "2022-03-11T17:19:44.303Z"
      },
      {
        "duration": 7,
        "start_time": "2022-03-11T17:19:48.954Z"
      },
      {
        "duration": 7,
        "start_time": "2022-03-11T17:22:32.522Z"
      },
      {
        "duration": 80,
        "start_time": "2022-03-11T17:22:48.905Z"
      },
      {
        "duration": 22,
        "start_time": "2022-03-11T17:24:28.990Z"
      },
      {
        "duration": 76,
        "start_time": "2022-03-11T17:24:40.827Z"
      },
      {
        "duration": 6,
        "start_time": "2022-03-11T17:24:52.172Z"
      },
      {
        "duration": 75,
        "start_time": "2022-03-11T17:25:00.730Z"
      },
      {
        "duration": 1138,
        "start_time": "2022-03-11T17:25:33.042Z"
      },
      {
        "duration": 4,
        "start_time": "2022-03-11T17:25:34.182Z"
      },
      {
        "duration": 33,
        "start_time": "2022-03-11T17:25:34.188Z"
      },
      {
        "duration": 84,
        "start_time": "2022-03-11T17:25:34.223Z"
      },
      {
        "duration": 3,
        "start_time": "2022-03-11T17:25:34.900Z"
      },
      {
        "duration": 4,
        "start_time": "2022-03-11T17:25:36.325Z"
      },
      {
        "duration": 263,
        "start_time": "2022-03-11T17:25:43.558Z"
      },
      {
        "duration": 73,
        "start_time": "2022-03-11T17:25:48.238Z"
      },
      {
        "duration": 73,
        "start_time": "2022-03-11T17:26:16.078Z"
      },
      {
        "duration": 214,
        "start_time": "2022-03-11T17:30:57.921Z"
      },
      {
        "duration": 29,
        "start_time": "2022-03-11T17:31:03.387Z"
      },
      {
        "duration": 5,
        "start_time": "2022-03-11T17:32:10.054Z"
      },
      {
        "duration": 962,
        "start_time": "2022-03-11T17:32:11.024Z"
      },
      {
        "duration": 24,
        "start_time": "2022-03-11T17:32:12.070Z"
      },
      {
        "duration": 1103,
        "start_time": "2022-03-11T17:33:08.690Z"
      },
      {
        "duration": 3,
        "start_time": "2022-03-11T17:33:09.796Z"
      },
      {
        "duration": 28,
        "start_time": "2022-03-11T17:33:09.801Z"
      },
      {
        "duration": 76,
        "start_time": "2022-03-11T17:33:09.831Z"
      },
      {
        "duration": 3,
        "start_time": "2022-03-11T17:33:09.909Z"
      },
      {
        "duration": 17,
        "start_time": "2022-03-11T17:33:09.922Z"
      },
      {
        "duration": 6,
        "start_time": "2022-03-11T17:33:10.110Z"
      },
      {
        "duration": 11,
        "start_time": "2022-03-11T17:33:10.286Z"
      },
      {
        "duration": 76,
        "start_time": "2022-03-11T17:33:11.433Z"
      },
      {
        "duration": 403,
        "start_time": "2022-03-11T17:34:55.241Z"
      },
      {
        "duration": 10,
        "start_time": "2022-03-11T17:35:00.282Z"
      },
      {
        "duration": 181,
        "start_time": "2022-03-11T17:35:33.917Z"
      },
      {
        "duration": 189,
        "start_time": "2022-03-11T17:35:34.256Z"
      },
      {
        "duration": 10,
        "start_time": "2022-03-11T17:35:57.442Z"
      },
      {
        "duration": 198,
        "start_time": "2022-03-11T17:35:58.411Z"
      },
      {
        "duration": 4,
        "start_time": "2022-03-11T17:36:31.802Z"
      },
      {
        "duration": 4,
        "start_time": "2022-03-11T17:36:41.659Z"
      },
      {
        "duration": 5,
        "start_time": "2022-03-11T17:37:23.595Z"
      },
      {
        "duration": 4,
        "start_time": "2022-03-11T17:37:25.800Z"
      },
      {
        "duration": 23,
        "start_time": "2022-03-11T17:37:26.023Z"
      },
      {
        "duration": 71,
        "start_time": "2022-03-11T17:37:26.372Z"
      },
      {
        "duration": 3,
        "start_time": "2022-03-11T17:37:26.547Z"
      },
      {
        "duration": 4,
        "start_time": "2022-03-11T17:37:26.727Z"
      },
      {
        "duration": 5,
        "start_time": "2022-03-11T17:37:26.929Z"
      },
      {
        "duration": 10,
        "start_time": "2022-03-11T17:37:27.156Z"
      },
      {
        "duration": 73,
        "start_time": "2022-03-11T17:37:27.336Z"
      },
      {
        "duration": 10,
        "start_time": "2022-03-11T17:37:28.270Z"
      },
      {
        "duration": 57,
        "start_time": "2022-03-11T17:37:38.833Z"
      },
      {
        "duration": 176,
        "start_time": "2022-03-11T17:37:42.204Z"
      },
      {
        "duration": 193,
        "start_time": "2022-03-11T17:38:04.889Z"
      },
      {
        "duration": 4,
        "start_time": "2022-03-11T17:38:46.785Z"
      },
      {
        "duration": 188,
        "start_time": "2022-03-11T17:38:51.418Z"
      },
      {
        "duration": 4,
        "start_time": "2022-03-11T17:39:04.616Z"
      },
      {
        "duration": 3,
        "start_time": "2022-03-11T17:39:05.080Z"
      },
      {
        "duration": 25,
        "start_time": "2022-03-11T17:39:05.371Z"
      },
      {
        "duration": 73,
        "start_time": "2022-03-11T17:39:05.740Z"
      },
      {
        "duration": 3,
        "start_time": "2022-03-11T17:39:05.931Z"
      },
      {
        "duration": 4,
        "start_time": "2022-03-11T17:39:06.133Z"
      },
      {
        "duration": 5,
        "start_time": "2022-03-11T17:39:06.319Z"
      },
      {
        "duration": 11,
        "start_time": "2022-03-11T17:39:06.520Z"
      },
      {
        "duration": 75,
        "start_time": "2022-03-11T17:39:06.717Z"
      },
      {
        "duration": 10,
        "start_time": "2022-03-11T17:39:07.661Z"
      },
      {
        "duration": 180,
        "start_time": "2022-03-11T17:39:08.154Z"
      },
      {
        "duration": 171,
        "start_time": "2022-03-11T17:39:08.969Z"
      },
      {
        "duration": 197,
        "start_time": "2022-03-11T17:39:29.765Z"
      },
      {
        "duration": 5,
        "start_time": "2022-03-11T17:41:28.196Z"
      },
      {
        "duration": 8,
        "start_time": "2022-03-11T17:41:29.099Z"
      },
      {
        "duration": 4,
        "start_time": "2022-03-11T17:41:44.774Z"
      },
      {
        "duration": 185,
        "start_time": "2022-03-11T17:42:45.762Z"
      },
      {
        "duration": 186,
        "start_time": "2022-03-11T17:44:09.393Z"
      },
      {
        "duration": 192,
        "start_time": "2022-03-11T17:44:12.650Z"
      },
      {
        "duration": 187,
        "start_time": "2022-03-11T17:44:25.852Z"
      },
      {
        "duration": 180,
        "start_time": "2022-03-11T17:44:34.652Z"
      },
      {
        "duration": 1132,
        "start_time": "2022-03-11T17:46:36.550Z"
      },
      {
        "duration": 3,
        "start_time": "2022-03-11T17:46:37.684Z"
      },
      {
        "duration": 28,
        "start_time": "2022-03-11T17:46:37.689Z"
      },
      {
        "duration": 87,
        "start_time": "2022-03-11T17:46:37.719Z"
      },
      {
        "duration": 2,
        "start_time": "2022-03-11T17:46:37.808Z"
      },
      {
        "duration": 4,
        "start_time": "2022-03-11T17:46:38.062Z"
      },
      {
        "duration": 5,
        "start_time": "2022-03-11T17:46:38.276Z"
      },
      {
        "duration": 11,
        "start_time": "2022-03-11T17:46:38.477Z"
      },
      {
        "duration": 142,
        "start_time": "2022-03-11T17:46:38.675Z"
      },
      {
        "duration": 220,
        "start_time": "2022-03-11T17:48:24.852Z"
      },
      {
        "duration": 274,
        "start_time": "2022-03-11T17:48:32.643Z"
      },
      {
        "duration": 28,
        "start_time": "2022-03-11T17:48:46.257Z"
      },
      {
        "duration": 1145,
        "start_time": "2022-03-11T17:52:30.544Z"
      },
      {
        "duration": 3,
        "start_time": "2022-03-11T17:52:31.691Z"
      },
      {
        "duration": 31,
        "start_time": "2022-03-11T17:52:31.696Z"
      },
      {
        "duration": 75,
        "start_time": "2022-03-11T17:52:31.729Z"
      },
      {
        "duration": 3,
        "start_time": "2022-03-11T17:52:31.806Z"
      },
      {
        "duration": 4,
        "start_time": "2022-03-11T17:52:32.155Z"
      },
      {
        "duration": 5,
        "start_time": "2022-03-11T17:52:32.488Z"
      },
      {
        "duration": 80,
        "start_time": "2022-03-11T17:52:38.143Z"
      },
      {
        "duration": 279,
        "start_time": "2022-03-11T17:52:45.293Z"
      },
      {
        "duration": 11,
        "start_time": "2022-03-11T17:52:51.923Z"
      },
      {
        "duration": 4,
        "start_time": "2022-03-11T17:53:00.774Z"
      },
      {
        "duration": 4,
        "start_time": "2022-03-11T17:53:05.210Z"
      },
      {
        "duration": 206,
        "start_time": "2022-03-11T17:53:26.579Z"
      },
      {
        "duration": 26,
        "start_time": "2022-03-11T17:53:30.891Z"
      },
      {
        "duration": 1242,
        "start_time": "2022-03-11T17:54:00.943Z"
      },
      {
        "duration": 197,
        "start_time": "2022-03-11T17:54:15.757Z"
      },
      {
        "duration": 2545,
        "start_time": "2022-03-11T17:54:17.611Z"
      },
      {
        "duration": 7,
        "start_time": "2022-03-11T17:54:32.217Z"
      },
      {
        "duration": 898,
        "start_time": "2022-03-11T17:55:31.114Z"
      },
      {
        "duration": 1112,
        "start_time": "2022-03-11T17:55:41.171Z"
      },
      {
        "duration": 4,
        "start_time": "2022-03-11T17:55:42.285Z"
      },
      {
        "duration": 865,
        "start_time": "2022-03-11T17:55:42.291Z"
      },
      {
        "duration": 85,
        "start_time": "2022-03-11T17:55:43.158Z"
      },
      {
        "duration": 4,
        "start_time": "2022-03-11T17:55:43.245Z"
      },
      {
        "duration": 9,
        "start_time": "2022-03-11T17:55:43.250Z"
      },
      {
        "duration": 9,
        "start_time": "2022-03-11T17:55:43.261Z"
      },
      {
        "duration": 97,
        "start_time": "2022-03-11T17:55:43.272Z"
      },
      {
        "duration": 12,
        "start_time": "2022-03-11T17:55:46.576Z"
      },
      {
        "duration": 203,
        "start_time": "2022-03-11T17:55:49.885Z"
      },
      {
        "duration": 235,
        "start_time": "2022-03-11T17:55:50.296Z"
      },
      {
        "duration": 2648,
        "start_time": "2022-03-11T17:55:52.165Z"
      },
      {
        "duration": 7,
        "start_time": "2022-03-11T17:55:54.815Z"
      },
      {
        "duration": 1127,
        "start_time": "2022-03-11T17:56:54.561Z"
      },
      {
        "duration": 4,
        "start_time": "2022-03-11T17:56:55.690Z"
      },
      {
        "duration": 30,
        "start_time": "2022-03-11T17:56:55.696Z"
      },
      {
        "duration": 76,
        "start_time": "2022-03-11T17:56:55.809Z"
      },
      {
        "duration": 3,
        "start_time": "2022-03-11T17:56:56.252Z"
      },
      {
        "duration": 4,
        "start_time": "2022-03-11T17:56:56.468Z"
      },
      {
        "duration": 5,
        "start_time": "2022-03-11T17:56:56.652Z"
      },
      {
        "duration": 81,
        "start_time": "2022-03-11T17:56:56.848Z"
      },
      {
        "duration": 10,
        "start_time": "2022-03-11T17:56:58.614Z"
      },
      {
        "duration": 214,
        "start_time": "2022-03-11T17:57:01.033Z"
      },
      {
        "duration": 241,
        "start_time": "2022-03-11T17:57:01.467Z"
      },
      {
        "duration": 2559,
        "start_time": "2022-03-11T17:57:02.189Z"
      },
      {
        "duration": 7,
        "start_time": "2022-03-11T17:57:04.749Z"
      },
      {
        "duration": 25,
        "start_time": "2022-03-11T17:57:17.649Z"
      },
      {
        "duration": 1163,
        "start_time": "2022-03-11T17:57:46.622Z"
      },
      {
        "duration": 3,
        "start_time": "2022-03-11T17:57:47.787Z"
      },
      {
        "duration": 30,
        "start_time": "2022-03-11T17:57:47.792Z"
      },
      {
        "duration": 75,
        "start_time": "2022-03-11T17:57:47.824Z"
      },
      {
        "duration": 3,
        "start_time": "2022-03-11T17:57:47.900Z"
      },
      {
        "duration": 4,
        "start_time": "2022-03-11T17:57:47.968Z"
      },
      {
        "duration": 4,
        "start_time": "2022-03-11T17:57:48.168Z"
      },
      {
        "duration": 74,
        "start_time": "2022-03-11T17:57:48.397Z"
      },
      {
        "duration": 202,
        "start_time": "2022-03-11T17:57:52.385Z"
      },
      {
        "duration": 26,
        "start_time": "2022-03-11T17:57:53.126Z"
      },
      {
        "duration": 239,
        "start_time": "2022-03-11T17:57:53.722Z"
      },
      {
        "duration": 2563,
        "start_time": "2022-03-11T17:57:54.625Z"
      },
      {
        "duration": 7,
        "start_time": "2022-03-11T17:57:58.691Z"
      },
      {
        "duration": 9071,
        "start_time": "2022-03-11T17:58:29.612Z"
      },
      {
        "duration": 265,
        "start_time": "2022-03-11T17:58:38.685Z"
      },
      {
        "duration": 2494,
        "start_time": "2022-03-11T17:58:46.250Z"
      },
      {
        "duration": 7,
        "start_time": "2022-03-11T17:58:48.745Z"
      },
      {
        "duration": 4,
        "start_time": "2022-03-11T19:17:00.236Z"
      },
      {
        "duration": 4,
        "start_time": "2022-03-11T19:17:00.739Z"
      },
      {
        "duration": 21,
        "start_time": "2022-03-11T19:17:01.207Z"
      },
      {
        "duration": 74,
        "start_time": "2022-03-11T19:17:02.275Z"
      },
      {
        "duration": 3,
        "start_time": "2022-03-11T19:17:02.920Z"
      },
      {
        "duration": 4,
        "start_time": "2022-03-11T19:17:07.239Z"
      },
      {
        "duration": 5,
        "start_time": "2022-03-11T19:17:07.503Z"
      },
      {
        "duration": 77,
        "start_time": "2022-03-11T19:17:08.619Z"
      },
      {
        "duration": 165,
        "start_time": "2022-03-11T19:18:44.478Z"
      },
      {
        "duration": 4,
        "start_time": "2022-03-11T19:19:08.658Z"
      },
      {
        "duration": 5,
        "start_time": "2022-03-11T19:19:15.576Z"
      },
      {
        "duration": 6,
        "start_time": "2022-03-11T19:19:24.547Z"
      },
      {
        "duration": 4,
        "start_time": "2022-03-11T19:19:41.830Z"
      },
      {
        "duration": 6,
        "start_time": "2022-03-11T19:19:59.849Z"
      },
      {
        "duration": 6,
        "start_time": "2022-03-11T19:20:24.282Z"
      },
      {
        "duration": 6,
        "start_time": "2022-03-11T19:22:13.341Z"
      },
      {
        "duration": 1174,
        "start_time": "2022-03-11T19:22:27.416Z"
      },
      {
        "duration": 4,
        "start_time": "2022-03-11T19:22:28.592Z"
      },
      {
        "duration": 27,
        "start_time": "2022-03-11T19:22:28.598Z"
      },
      {
        "duration": 82,
        "start_time": "2022-03-11T19:22:28.626Z"
      },
      {
        "duration": 4,
        "start_time": "2022-03-11T19:22:28.710Z"
      },
      {
        "duration": 23,
        "start_time": "2022-03-11T19:22:28.716Z"
      },
      {
        "duration": 4,
        "start_time": "2022-03-11T19:22:28.895Z"
      },
      {
        "duration": 70,
        "start_time": "2022-03-11T19:22:29.082Z"
      },
      {
        "duration": 201,
        "start_time": "2022-03-11T19:22:29.604Z"
      },
      {
        "duration": 250,
        "start_time": "2022-03-11T19:22:29.864Z"
      },
      {
        "duration": 2534,
        "start_time": "2022-03-11T19:22:30.117Z"
      },
      {
        "duration": 6,
        "start_time": "2022-03-11T19:22:32.653Z"
      },
      {
        "duration": 10,
        "start_time": "2022-03-11T19:22:32.661Z"
      },
      {
        "duration": 536,
        "start_time": "2022-03-11T19:22:58.185Z"
      },
      {
        "duration": 5,
        "start_time": "2022-03-11T19:23:19.526Z"
      },
      {
        "duration": 5768,
        "start_time": "2022-03-11T19:23:24.578Z"
      },
      {
        "duration": 5563,
        "start_time": "2022-03-11T19:23:42.176Z"
      },
      {
        "duration": 1052,
        "start_time": "2022-03-11T19:24:01.286Z"
      },
      {
        "duration": 974,
        "start_time": "2022-03-11T19:24:12.165Z"
      },
      {
        "duration": 5907,
        "start_time": "2022-03-11T19:24:58.332Z"
      },
      {
        "duration": 1042,
        "start_time": "2022-03-11T19:25:05.204Z"
      },
      {
        "duration": 1124,
        "start_time": "2022-03-14T12:31:58.868Z"
      },
      {
        "duration": 3,
        "start_time": "2022-03-14T12:31:59.994Z"
      },
      {
        "duration": 46,
        "start_time": "2022-03-14T12:31:59.998Z"
      },
      {
        "duration": 65,
        "start_time": "2022-03-14T12:32:00.532Z"
      },
      {
        "duration": 3,
        "start_time": "2022-03-14T12:32:03.730Z"
      },
      {
        "duration": 4,
        "start_time": "2022-03-14T12:32:04.020Z"
      },
      {
        "duration": 4,
        "start_time": "2022-03-14T12:32:04.940Z"
      },
      {
        "duration": 67,
        "start_time": "2022-03-14T12:32:05.793Z"
      },
      {
        "duration": 1129,
        "start_time": "2022-03-14T12:32:17.156Z"
      },
      {
        "duration": 3,
        "start_time": "2022-03-14T12:32:18.287Z"
      },
      {
        "duration": 32,
        "start_time": "2022-03-14T12:32:18.292Z"
      },
      {
        "duration": 71,
        "start_time": "2022-03-14T12:32:18.325Z"
      },
      {
        "duration": 3,
        "start_time": "2022-03-14T12:32:20.509Z"
      },
      {
        "duration": 433,
        "start_time": "2022-03-14T12:37:58.722Z"
      },
      {
        "duration": 8,
        "start_time": "2022-03-14T12:38:25.592Z"
      },
      {
        "duration": 1230,
        "start_time": "2022-03-14T12:38:48.257Z"
      },
      {
        "duration": 3,
        "start_time": "2022-03-14T12:38:49.489Z"
      },
      {
        "duration": 32,
        "start_time": "2022-03-14T12:38:49.494Z"
      },
      {
        "duration": 69,
        "start_time": "2022-03-14T12:38:49.527Z"
      },
      {
        "duration": 2,
        "start_time": "2022-03-14T12:38:49.598Z"
      },
      {
        "duration": 5,
        "start_time": "2022-03-14T12:38:49.602Z"
      },
      {
        "duration": 9,
        "start_time": "2022-03-14T12:38:49.820Z"
      },
      {
        "duration": 65,
        "start_time": "2022-03-14T12:38:50.269Z"
      },
      {
        "duration": 185,
        "start_time": "2022-03-14T12:38:51.469Z"
      },
      {
        "duration": 212,
        "start_time": "2022-03-14T12:38:51.800Z"
      },
      {
        "duration": 1369,
        "start_time": "2022-03-14T12:38:52.331Z"
      },
      {
        "duration": 1134,
        "start_time": "2022-03-14T12:38:52.569Z"
      },
      {
        "duration": 66,
        "start_time": "2022-03-14T12:39:22.089Z"
      },
      {
        "duration": 1049,
        "start_time": "2022-03-14T12:39:24.584Z"
      },
      {
        "duration": 1121,
        "start_time": "2022-03-14T12:39:37.360Z"
      },
      {
        "duration": 3,
        "start_time": "2022-03-14T12:39:38.483Z"
      },
      {
        "duration": 31,
        "start_time": "2022-03-14T12:39:38.487Z"
      },
      {
        "duration": 70,
        "start_time": "2022-03-14T12:39:38.519Z"
      },
      {
        "duration": 3,
        "start_time": "2022-03-14T12:39:38.591Z"
      },
      {
        "duration": 4,
        "start_time": "2022-03-14T12:39:38.659Z"
      },
      {
        "duration": 10,
        "start_time": "2022-03-14T12:39:39.189Z"
      },
      {
        "duration": 675,
        "start_time": "2022-03-14T12:39:40.120Z"
      },
      {
        "duration": 5,
        "start_time": "2022-03-14T12:39:52.898Z"
      },
      {
        "duration": 9,
        "start_time": "2022-03-14T12:41:04.091Z"
      },
      {
        "duration": 67,
        "start_time": "2022-03-14T12:41:07.107Z"
      },
      {
        "duration": 68,
        "start_time": "2022-03-14T12:41:26.978Z"
      },
      {
        "duration": 614,
        "start_time": "2022-03-14T12:41:35.110Z"
      },
      {
        "duration": 64,
        "start_time": "2022-03-14T12:43:59.170Z"
      },
      {
        "duration": 64,
        "start_time": "2022-03-14T12:44:22.734Z"
      },
      {
        "duration": 67,
        "start_time": "2022-03-14T12:44:37.277Z"
      },
      {
        "duration": 63,
        "start_time": "2022-03-14T12:44:47.242Z"
      },
      {
        "duration": 3,
        "start_time": "2022-03-14T12:54:24.508Z"
      },
      {
        "duration": 603,
        "start_time": "2022-03-14T12:55:41.887Z"
      },
      {
        "duration": 325,
        "start_time": "2022-03-14T12:56:11.428Z"
      },
      {
        "duration": 5914,
        "start_time": "2022-03-14T12:56:20.745Z"
      },
      {
        "duration": 1161,
        "start_time": "2022-03-14T12:56:25.500Z"
      },
      {
        "duration": 292,
        "start_time": "2022-03-14T12:57:26.297Z"
      },
      {
        "duration": 325,
        "start_time": "2022-03-14T12:58:09.922Z"
      },
      {
        "duration": 309,
        "start_time": "2022-03-14T12:58:19.183Z"
      },
      {
        "duration": 9,
        "start_time": "2022-03-14T12:59:20.498Z"
      },
      {
        "duration": 5795,
        "start_time": "2022-03-14T13:00:33.787Z"
      },
      {
        "duration": 5932,
        "start_time": "2022-03-14T13:00:50.827Z"
      },
      {
        "duration": 1140,
        "start_time": "2022-03-14T13:01:47.144Z"
      },
      {
        "duration": 3,
        "start_time": "2022-03-14T13:01:48.285Z"
      },
      {
        "duration": 42,
        "start_time": "2022-03-14T13:01:48.290Z"
      },
      {
        "duration": 63,
        "start_time": "2022-03-14T13:01:48.334Z"
      },
      {
        "duration": 3,
        "start_time": "2022-03-14T13:01:48.398Z"
      },
      {
        "duration": 4,
        "start_time": "2022-03-14T13:01:58.811Z"
      },
      {
        "duration": 11,
        "start_time": "2022-03-14T13:05:01.780Z"
      },
      {
        "duration": 66,
        "start_time": "2022-03-14T13:05:10.279Z"
      },
      {
        "duration": 6,
        "start_time": "2022-03-14T13:05:50.699Z"
      },
      {
        "duration": 7,
        "start_time": "2022-03-14T13:06:04.707Z"
      },
      {
        "duration": 5,
        "start_time": "2022-03-14T13:06:15.064Z"
      },
      {
        "duration": 3,
        "start_time": "2022-03-14T13:06:26.899Z"
      },
      {
        "duration": 11,
        "start_time": "2022-03-14T13:08:11.214Z"
      },
      {
        "duration": 10,
        "start_time": "2022-03-14T13:08:53.819Z"
      },
      {
        "duration": 10,
        "start_time": "2022-03-14T13:09:25.958Z"
      },
      {
        "duration": 6,
        "start_time": "2022-03-14T13:09:26.024Z"
      },
      {
        "duration": 6,
        "start_time": "2022-03-14T13:09:26.216Z"
      },
      {
        "duration": 6,
        "start_time": "2022-03-14T13:09:26.376Z"
      },
      {
        "duration": 3,
        "start_time": "2022-03-14T13:09:26.978Z"
      },
      {
        "duration": 9,
        "start_time": "2022-03-14T13:09:27.377Z"
      },
      {
        "duration": 9,
        "start_time": "2022-03-14T13:09:27.835Z"
      },
      {
        "duration": 10,
        "start_time": "2022-03-14T13:09:28.178Z"
      },
      {
        "duration": 1112,
        "start_time": "2022-03-14T13:10:39.865Z"
      },
      {
        "duration": 2,
        "start_time": "2022-03-14T13:10:40.979Z"
      },
      {
        "duration": 40,
        "start_time": "2022-03-14T13:10:40.983Z"
      },
      {
        "duration": 62,
        "start_time": "2022-03-14T13:10:41.025Z"
      },
      {
        "duration": 2,
        "start_time": "2022-03-14T13:10:41.089Z"
      },
      {
        "duration": 8,
        "start_time": "2022-03-14T13:10:41.093Z"
      },
      {
        "duration": 12,
        "start_time": "2022-03-14T13:10:46.919Z"
      },
      {
        "duration": 7,
        "start_time": "2022-03-14T13:10:47.786Z"
      },
      {
        "duration": 7,
        "start_time": "2022-03-14T13:10:47.963Z"
      },
      {
        "duration": 11,
        "start_time": "2022-03-14T13:10:48.152Z"
      },
      {
        "duration": 187,
        "start_time": "2022-03-14T13:10:50.475Z"
      },
      {
        "duration": 221,
        "start_time": "2022-03-14T13:10:51.324Z"
      },
      {
        "duration": 3,
        "start_time": "2022-03-14T13:10:52.177Z"
      },
      {
        "duration": 9,
        "start_time": "2022-03-14T13:10:53.363Z"
      },
      {
        "duration": 10,
        "start_time": "2022-03-14T13:10:54.162Z"
      },
      {
        "duration": 9,
        "start_time": "2022-03-14T13:10:54.481Z"
      },
      {
        "duration": 1063,
        "start_time": "2022-03-14T13:13:10.519Z"
      },
      {
        "duration": 4,
        "start_time": "2022-03-14T13:13:11.584Z"
      },
      {
        "duration": 40,
        "start_time": "2022-03-14T13:13:11.590Z"
      },
      {
        "duration": 74,
        "start_time": "2022-03-14T13:13:11.631Z"
      },
      {
        "duration": 3,
        "start_time": "2022-03-14T13:13:11.707Z"
      },
      {
        "duration": 5,
        "start_time": "2022-03-14T13:13:12.366Z"
      },
      {
        "duration": 181,
        "start_time": "2022-03-14T13:13:13.730Z"
      },
      {
        "duration": 203,
        "start_time": "2022-03-14T13:13:14.198Z"
      },
      {
        "duration": 164,
        "start_time": "2022-03-14T13:13:15.132Z"
      },
      {
        "duration": 3,
        "start_time": "2022-03-14T13:13:18.700Z"
      },
      {
        "duration": 215,
        "start_time": "2022-03-14T13:13:19.100Z"
      },
      {
        "duration": 233,
        "start_time": "2022-03-14T13:13:19.331Z"
      },
      {
        "duration": 7,
        "start_time": "2022-03-14T13:15:32.696Z"
      },
      {
        "duration": 7,
        "start_time": "2022-03-14T13:15:43.196Z"
      },
      {
        "duration": 6,
        "start_time": "2022-03-14T13:45:02.928Z"
      },
      {
        "duration": 6,
        "start_time": "2022-03-14T13:45:18.621Z"
      },
      {
        "duration": 5,
        "start_time": "2022-03-14T13:45:26.134Z"
      },
      {
        "duration": 6,
        "start_time": "2022-03-14T13:46:29.412Z"
      },
      {
        "duration": 5,
        "start_time": "2022-03-14T13:46:31.012Z"
      },
      {
        "duration": 6,
        "start_time": "2022-03-14T13:46:32.510Z"
      },
      {
        "duration": 4,
        "start_time": "2022-03-14T13:47:39.343Z"
      },
      {
        "duration": 4,
        "start_time": "2022-03-14T13:48:22.087Z"
      },
      {
        "duration": 5,
        "start_time": "2022-03-14T13:48:22.491Z"
      },
      {
        "duration": 8,
        "start_time": "2022-03-14T13:51:35.901Z"
      },
      {
        "duration": 399,
        "start_time": "2022-03-14T13:51:44.344Z"
      },
      {
        "duration": 321,
        "start_time": "2022-03-14T13:51:56.414Z"
      },
      {
        "duration": 8,
        "start_time": "2022-03-14T13:51:58.411Z"
      },
      {
        "duration": 310,
        "start_time": "2022-03-14T13:52:41.834Z"
      },
      {
        "duration": 103,
        "start_time": "2022-03-14T13:52:51.258Z"
      },
      {
        "duration": 336,
        "start_time": "2022-03-14T13:53:12.018Z"
      },
      {
        "duration": 7,
        "start_time": "2022-03-14T13:53:15.823Z"
      },
      {
        "duration": 7,
        "start_time": "2022-03-14T13:53:52.470Z"
      },
      {
        "duration": 7,
        "start_time": "2022-03-14T13:53:56.185Z"
      },
      {
        "duration": 4,
        "start_time": "2022-03-14T13:54:30.952Z"
      },
      {
        "duration": 3,
        "start_time": "2022-03-14T13:55:31.478Z"
      },
      {
        "duration": 17,
        "start_time": "2022-03-14T13:59:35.016Z"
      },
      {
        "duration": 8,
        "start_time": "2022-03-14T14:00:11.924Z"
      },
      {
        "duration": 1064,
        "start_time": "2022-03-14T14:03:46.332Z"
      },
      {
        "duration": 4,
        "start_time": "2022-03-14T14:03:47.398Z"
      },
      {
        "duration": 30,
        "start_time": "2022-03-14T14:03:47.404Z"
      },
      {
        "duration": 79,
        "start_time": "2022-03-14T14:03:47.436Z"
      },
      {
        "duration": 3,
        "start_time": "2022-03-14T14:03:47.517Z"
      },
      {
        "duration": 4,
        "start_time": "2022-03-14T14:03:47.750Z"
      },
      {
        "duration": 185,
        "start_time": "2022-03-14T14:03:48.101Z"
      },
      {
        "duration": 212,
        "start_time": "2022-03-14T14:03:48.302Z"
      },
      {
        "duration": 3,
        "start_time": "2022-03-14T14:03:48.516Z"
      },
      {
        "duration": 401,
        "start_time": "2022-03-14T14:03:49.021Z"
      },
      {
        "duration": 1223,
        "start_time": "2022-03-14T14:03:48.201Z"
      },
      {
        "duration": 291,
        "start_time": "2022-03-14T14:03:49.584Z"
      },
      {
        "duration": 179,
        "start_time": "2022-03-14T14:04:40.246Z"
      },
      {
        "duration": 154,
        "start_time": "2022-03-14T14:04:40.521Z"
      },
      {
        "duration": 3,
        "start_time": "2022-03-14T14:04:40.929Z"
      },
      {
        "duration": 214,
        "start_time": "2022-03-14T14:04:42.861Z"
      },
      {
        "duration": 235,
        "start_time": "2022-03-14T14:04:43.625Z"
      },
      {
        "duration": 248,
        "start_time": "2022-03-14T14:04:44.259Z"
      },
      {
        "duration": 350,
        "start_time": "2022-03-14T14:12:30.547Z"
      },
      {
        "duration": 1058,
        "start_time": "2022-03-14T14:12:36.436Z"
      },
      {
        "duration": 3,
        "start_time": "2022-03-14T14:12:37.496Z"
      },
      {
        "duration": 38,
        "start_time": "2022-03-14T14:12:37.625Z"
      },
      {
        "duration": 68,
        "start_time": "2022-03-14T14:12:37.947Z"
      },
      {
        "duration": 3,
        "start_time": "2022-03-14T14:12:38.551Z"
      },
      {
        "duration": 4,
        "start_time": "2022-03-14T14:12:38.841Z"
      },
      {
        "duration": 186,
        "start_time": "2022-03-14T14:12:39.463Z"
      },
      {
        "duration": 212,
        "start_time": "2022-03-14T14:12:39.734Z"
      },
      {
        "duration": 176,
        "start_time": "2022-03-14T14:12:39.995Z"
      },
      {
        "duration": 3,
        "start_time": "2022-03-14T14:12:40.260Z"
      },
      {
        "duration": 225,
        "start_time": "2022-03-14T14:12:41.178Z"
      },
      {
        "duration": 237,
        "start_time": "2022-03-14T14:12:41.704Z"
      },
      {
        "duration": 243,
        "start_time": "2022-03-14T14:12:42.090Z"
      },
      {
        "duration": 1468,
        "start_time": "2022-03-14T14:12:43.003Z"
      },
      {
        "duration": 1443,
        "start_time": "2022-03-14T14:13:20.028Z"
      },
      {
        "duration": 6,
        "start_time": "2022-03-14T14:13:32.276Z"
      },
      {
        "duration": 1402,
        "start_time": "2022-03-14T14:13:39.436Z"
      },
      {
        "duration": 1400,
        "start_time": "2022-03-14T14:15:20.377Z"
      },
      {
        "duration": 1588,
        "start_time": "2022-03-14T14:15:44.688Z"
      },
      {
        "duration": 1691,
        "start_time": "2022-03-14T14:16:12.546Z"
      },
      {
        "duration": 5178,
        "start_time": "2022-03-14T14:17:21.124Z"
      },
      {
        "duration": 1816,
        "start_time": "2022-03-14T14:21:02.234Z"
      },
      {
        "duration": 1482,
        "start_time": "2022-03-14T14:21:29.749Z"
      },
      {
        "duration": 1674,
        "start_time": "2022-03-14T14:21:35.049Z"
      },
      {
        "duration": 1784,
        "start_time": "2022-03-14T14:21:42.475Z"
      },
      {
        "duration": 5113,
        "start_time": "2022-03-14T14:21:57.638Z"
      },
      {
        "duration": 5819,
        "start_time": "2022-03-14T14:25:07.741Z"
      },
      {
        "duration": 354,
        "start_time": "2022-03-14T14:27:01.641Z"
      },
      {
        "duration": 4,
        "start_time": "2022-03-14T14:27:38.346Z"
      },
      {
        "duration": 1417,
        "start_time": "2022-03-14T14:27:43.841Z"
      },
      {
        "duration": 1606,
        "start_time": "2022-03-14T14:27:45.259Z"
      },
      {
        "duration": 1791,
        "start_time": "2022-03-14T14:27:46.867Z"
      },
      {
        "duration": 1586,
        "start_time": "2022-03-14T14:27:53.549Z"
      },
      {
        "duration": 1694,
        "start_time": "2022-03-14T14:29:07.648Z"
      },
      {
        "duration": 1737,
        "start_time": "2022-03-14T14:29:38.609Z"
      },
      {
        "duration": 1455,
        "start_time": "2022-03-14T14:31:24.698Z"
      },
      {
        "duration": 1634,
        "start_time": "2022-03-14T14:31:26.154Z"
      },
      {
        "duration": 1724,
        "start_time": "2022-03-14T14:31:28.312Z"
      },
      {
        "duration": 1446,
        "start_time": "2022-03-14T14:32:28.219Z"
      },
      {
        "duration": 1708,
        "start_time": "2022-03-14T14:32:29.667Z"
      },
      {
        "duration": 1909,
        "start_time": "2022-03-14T14:32:31.377Z"
      },
      {
        "duration": 1556,
        "start_time": "2022-03-14T14:32:51.706Z"
      },
      {
        "duration": 1677,
        "start_time": "2022-03-14T14:32:53.891Z"
      },
      {
        "duration": 1673,
        "start_time": "2022-03-14T14:32:55.570Z"
      },
      {
        "duration": 1548,
        "start_time": "2022-03-14T14:34:05.542Z"
      },
      {
        "duration": 1450,
        "start_time": "2022-03-14T14:34:28.738Z"
      },
      {
        "duration": 1542,
        "start_time": "2022-03-14T14:35:24.242Z"
      },
      {
        "duration": 1310,
        "start_time": "2022-03-14T14:36:05.699Z"
      },
      {
        "duration": 234,
        "start_time": "2022-03-14T14:36:12.338Z"
      },
      {
        "duration": 263,
        "start_time": "2022-03-14T14:36:13.298Z"
      },
      {
        "duration": 895,
        "start_time": "2022-03-14T14:36:13.578Z"
      },
      {
        "duration": 1222,
        "start_time": "2022-03-14T14:36:35.667Z"
      },
      {
        "duration": 218,
        "start_time": "2022-03-14T14:36:37.847Z"
      },
      {
        "duration": 926,
        "start_time": "2022-03-14T14:36:38.090Z"
      },
      {
        "duration": 578,
        "start_time": "2022-03-14T14:36:39.018Z"
      },
      {
        "duration": 1116,
        "start_time": "2022-03-14T17:32:44.290Z"
      },
      {
        "duration": 3,
        "start_time": "2022-03-14T17:32:45.408Z"
      },
      {
        "duration": 43,
        "start_time": "2022-03-14T17:32:45.412Z"
      },
      {
        "duration": 65,
        "start_time": "2022-03-14T17:32:45.818Z"
      },
      {
        "duration": 3,
        "start_time": "2022-03-14T17:32:46.417Z"
      },
      {
        "duration": 4,
        "start_time": "2022-03-14T17:32:46.822Z"
      },
      {
        "duration": 181,
        "start_time": "2022-03-14T17:32:48.496Z"
      },
      {
        "duration": 216,
        "start_time": "2022-03-14T17:32:48.919Z"
      },
      {
        "duration": 195,
        "start_time": "2022-03-14T17:32:49.524Z"
      },
      {
        "duration": 3,
        "start_time": "2022-03-14T17:32:49.930Z"
      },
      {
        "duration": 243,
        "start_time": "2022-03-14T17:32:50.293Z"
      },
      {
        "duration": 253,
        "start_time": "2022-03-14T17:32:50.633Z"
      },
      {
        "duration": 257,
        "start_time": "2022-03-14T17:32:51.061Z"
      },
      {
        "duration": 1194,
        "start_time": "2022-03-14T17:32:51.960Z"
      },
      {
        "duration": 226,
        "start_time": "2022-03-14T17:32:53.754Z"
      },
      {
        "duration": 385,
        "start_time": "2022-03-14T17:32:54.491Z"
      },
      {
        "duration": 331,
        "start_time": "2022-03-14T17:33:03.237Z"
      },
      {
        "duration": 1252,
        "start_time": "2022-03-14T17:33:03.847Z"
      },
      {
        "duration": 216,
        "start_time": "2022-03-14T17:33:05.105Z"
      },
      {
        "duration": 286,
        "start_time": "2022-03-14T17:33:05.323Z"
      },
      {
        "duration": 156,
        "start_time": "2022-03-14T17:33:11.534Z"
      },
      {
        "duration": 3,
        "start_time": "2022-03-14T17:33:13.572Z"
      },
      {
        "duration": 220,
        "start_time": "2022-03-14T17:33:13.903Z"
      },
      {
        "duration": 272,
        "start_time": "2022-03-14T17:33:14.148Z"
      },
      {
        "duration": 262,
        "start_time": "2022-03-14T17:33:14.422Z"
      },
      {
        "duration": 1249,
        "start_time": "2022-03-14T17:33:14.954Z"
      },
      {
        "duration": 234,
        "start_time": "2022-03-14T17:33:16.205Z"
      },
      {
        "duration": 325,
        "start_time": "2022-03-14T17:33:16.441Z"
      },
      {
        "duration": 295,
        "start_time": "2022-03-14T17:33:17.272Z"
      },
      {
        "duration": 282,
        "start_time": "2022-03-14T17:34:38.611Z"
      },
      {
        "duration": 1475,
        "start_time": "2022-03-14T17:35:13.897Z"
      },
      {
        "duration": 1509,
        "start_time": "2022-03-14T17:35:42.476Z"
      },
      {
        "duration": 1510,
        "start_time": "2022-03-14T17:35:44.806Z"
      },
      {
        "duration": 1745,
        "start_time": "2022-03-14T17:36:05.682Z"
      },
      {
        "duration": 1435,
        "start_time": "2022-03-14T17:36:15.948Z"
      },
      {
        "duration": 1591,
        "start_time": "2022-03-14T17:36:26.397Z"
      },
      {
        "duration": 1565,
        "start_time": "2022-03-14T17:36:39.883Z"
      },
      {
        "duration": 1554,
        "start_time": "2022-03-14T17:36:56.953Z"
      },
      {
        "duration": 1654,
        "start_time": "2022-03-14T17:36:59.261Z"
      },
      {
        "duration": 1617,
        "start_time": "2022-03-14T17:37:24.125Z"
      },
      {
        "duration": 1714,
        "start_time": "2022-03-14T17:37:47.379Z"
      },
      {
        "duration": 1689,
        "start_time": "2022-03-14T17:38:08.545Z"
      },
      {
        "duration": 1422,
        "start_time": "2022-03-14T18:00:47.533Z"
      },
      {
        "duration": 16070,
        "start_time": "2022-03-14T18:01:27.790Z"
      },
      {
        "duration": 5,
        "start_time": "2022-03-14T18:01:43.862Z"
      },
      {
        "duration": 16716,
        "start_time": "2022-03-14T18:02:36.873Z"
      },
      {
        "duration": 1247,
        "start_time": "2022-03-14T18:05:11.772Z"
      },
      {
        "duration": 1337,
        "start_time": "2022-03-14T18:06:34.569Z"
      },
      {
        "duration": 15855,
        "start_time": "2022-03-14T18:06:57.215Z"
      },
      {
        "duration": 6,
        "start_time": "2022-03-14T18:07:13.072Z"
      },
      {
        "duration": 4,
        "start_time": "2022-03-14T18:07:23.193Z"
      },
      {
        "duration": 16658,
        "start_time": "2022-03-14T18:08:47.119Z"
      },
      {
        "duration": 4,
        "start_time": "2022-03-14T18:09:03.779Z"
      },
      {
        "duration": 151,
        "start_time": "2022-03-14T18:09:45.557Z"
      },
      {
        "duration": 2210,
        "start_time": "2022-03-14T18:09:56.862Z"
      },
      {
        "duration": 27283,
        "start_time": "2022-03-14T18:10:31.808Z"
      },
      {
        "duration": 7,
        "start_time": "2022-03-14T18:11:27.556Z"
      },
      {
        "duration": 6,
        "start_time": "2022-03-14T18:11:34.715Z"
      },
      {
        "duration": 145,
        "start_time": "2022-03-14T18:11:46.421Z"
      },
      {
        "duration": 5,
        "start_time": "2022-03-14T18:11:52.509Z"
      },
      {
        "duration": 107,
        "start_time": "2022-03-14T18:12:47.969Z"
      },
      {
        "duration": 99,
        "start_time": "2022-03-14T18:12:51.406Z"
      },
      {
        "duration": 95,
        "start_time": "2022-03-14T18:12:59.354Z"
      },
      {
        "duration": 6,
        "start_time": "2022-03-14T18:13:04.218Z"
      },
      {
        "duration": 7,
        "start_time": "2022-03-14T18:15:09.452Z"
      },
      {
        "duration": 6,
        "start_time": "2022-03-14T18:15:21.150Z"
      },
      {
        "duration": 95,
        "start_time": "2022-03-14T18:16:03.842Z"
      },
      {
        "duration": 5,
        "start_time": "2022-03-14T18:16:20.685Z"
      },
      {
        "duration": 110,
        "start_time": "2022-03-14T18:16:33.162Z"
      },
      {
        "duration": 6,
        "start_time": "2022-03-14T18:16:36.553Z"
      },
      {
        "duration": 6,
        "start_time": "2022-03-14T18:16:40.065Z"
      },
      {
        "duration": 6,
        "start_time": "2022-03-14T18:16:48.484Z"
      },
      {
        "duration": 16993,
        "start_time": "2022-03-14T18:18:01.270Z"
      },
      {
        "duration": 4,
        "start_time": "2022-03-14T18:18:18.265Z"
      },
      {
        "duration": 17207,
        "start_time": "2022-03-14T18:18:43.751Z"
      },
      {
        "duration": 6,
        "start_time": "2022-03-14T18:19:00.960Z"
      },
      {
        "duration": 7,
        "start_time": "2022-03-14T18:19:05.734Z"
      },
      {
        "duration": 17134,
        "start_time": "2022-03-14T18:19:09.737Z"
      },
      {
        "duration": 5,
        "start_time": "2022-03-14T18:19:26.873Z"
      },
      {
        "duration": 5,
        "start_time": "2022-03-14T18:19:37.681Z"
      },
      {
        "duration": 17703,
        "start_time": "2022-03-14T18:19:45.725Z"
      },
      {
        "duration": 6,
        "start_time": "2022-03-14T18:20:03.429Z"
      },
      {
        "duration": 6,
        "start_time": "2022-03-14T18:20:16.770Z"
      },
      {
        "duration": 16884,
        "start_time": "2022-03-14T18:20:19.144Z"
      },
      {
        "duration": 6,
        "start_time": "2022-03-14T18:20:36.030Z"
      },
      {
        "duration": 4,
        "start_time": "2022-03-14T18:20:44.814Z"
      },
      {
        "duration": 16401,
        "start_time": "2022-03-14T18:20:48.147Z"
      },
      {
        "duration": 5,
        "start_time": "2022-03-14T18:21:04.549Z"
      },
      {
        "duration": 17210,
        "start_time": "2022-03-14T18:21:46.170Z"
      },
      {
        "duration": 6,
        "start_time": "2022-03-14T18:22:03.382Z"
      },
      {
        "duration": 16054,
        "start_time": "2022-03-14T18:22:33.776Z"
      },
      {
        "duration": 6,
        "start_time": "2022-03-14T18:22:49.832Z"
      },
      {
        "duration": 16335,
        "start_time": "2022-03-14T18:23:18.536Z"
      },
      {
        "duration": 5,
        "start_time": "2022-03-14T18:23:34.872Z"
      },
      {
        "duration": 16126,
        "start_time": "2022-03-14T18:23:58.747Z"
      },
      {
        "duration": 6,
        "start_time": "2022-03-14T18:24:14.875Z"
      },
      {
        "duration": 6,
        "start_time": "2022-03-14T18:24:59.766Z"
      },
      {
        "duration": 23918,
        "start_time": "2022-03-14T18:25:01.883Z"
      },
      {
        "duration": 5,
        "start_time": "2022-03-14T18:25:25.802Z"
      },
      {
        "duration": 24330,
        "start_time": "2022-03-14T18:27:11.356Z"
      },
      {
        "duration": 14,
        "start_time": "2022-03-14T18:27:35.687Z"
      },
      {
        "duration": 17509,
        "start_time": "2022-03-14T18:27:40.376Z"
      },
      {
        "duration": 6,
        "start_time": "2022-03-14T18:27:57.887Z"
      },
      {
        "duration": 23668,
        "start_time": "2022-03-14T18:27:57.896Z"
      },
      {
        "duration": 5,
        "start_time": "2022-03-14T18:28:21.566Z"
      },
      {
        "duration": 16204,
        "start_time": "2022-03-14T18:29:12.048Z"
      },
      {
        "duration": 11371,
        "start_time": "2022-03-14T18:36:33.761Z"
      },
      {
        "duration": 5,
        "start_time": "2022-03-14T18:36:45.134Z"
      },
      {
        "duration": 11491,
        "start_time": "2022-03-14T18:37:41.535Z"
      },
      {
        "duration": 7,
        "start_time": "2022-03-14T18:37:53.027Z"
      },
      {
        "duration": 12898,
        "start_time": "2022-03-14T18:37:53.035Z"
      },
      {
        "duration": 6,
        "start_time": "2022-03-14T18:38:05.935Z"
      },
      {
        "duration": 12538,
        "start_time": "2022-03-14T18:38:05.943Z"
      },
      {
        "duration": 6,
        "start_time": "2022-03-14T18:38:18.482Z"
      },
      {
        "duration": 48343,
        "start_time": "2022-03-14T18:42:34.073Z"
      },
      {
        "duration": 9789,
        "start_time": "2022-03-14T18:43:50.767Z"
      },
      {
        "duration": 4,
        "start_time": "2022-03-14T18:44:00.559Z"
      },
      {
        "duration": 3903,
        "start_time": "2022-03-14T18:44:00.565Z"
      },
      {
        "duration": 7896,
        "start_time": "2022-03-14T18:44:04.470Z"
      },
      {
        "duration": 989,
        "start_time": "2022-03-14T18:44:12.368Z"
      },
      {
        "duration": 17566,
        "start_time": "2022-03-14T18:44:13.359Z"
      },
      {
        "duration": 6562,
        "start_time": "2022-03-14T18:44:30.928Z"
      },
      {
        "duration": 3241,
        "start_time": "2022-03-14T18:44:37.492Z"
      },
      {
        "duration": 7046,
        "start_time": "2022-03-14T18:44:40.737Z"
      },
      {
        "duration": 4951,
        "start_time": "2022-03-14T18:44:47.784Z"
      },
      {
        "duration": 8019,
        "start_time": "2022-03-14T18:44:52.736Z"
      },
      {
        "duration": 3115,
        "start_time": "2022-03-14T18:45:00.756Z"
      },
      {
        "duration": 2600,
        "start_time": "2022-03-14T18:45:03.873Z"
      },
      {
        "duration": 10890,
        "start_time": "2022-03-14T18:45:19.876Z"
      },
      {
        "duration": 6,
        "start_time": "2022-03-14T18:45:30.767Z"
      },
      {
        "duration": 5330,
        "start_time": "2022-03-14T18:45:30.775Z"
      },
      {
        "duration": -3224,
        "start_time": "2022-03-14T18:45:39.331Z"
      },
      {
        "duration": -32557,
        "start_time": "2022-03-14T18:46:08.665Z"
      },
      {
        "duration": -32563,
        "start_time": "2022-03-14T18:46:08.672Z"
      },
      {
        "duration": 4,
        "start_time": "2022-03-14T20:03:10.483Z"
      },
      {
        "duration": 730,
        "start_time": "2022-03-14T20:03:10.712Z"
      },
      {
        "duration": 503,
        "start_time": "2022-03-14T20:03:11.443Z"
      },
      {
        "duration": 1148,
        "start_time": "2022-03-14T20:03:11.948Z"
      },
      {
        "duration": 1302,
        "start_time": "2022-03-14T20:03:13.098Z"
      },
      {
        "duration": 10813,
        "start_time": "2022-03-14T20:03:14.402Z"
      },
      {
        "duration": 828,
        "start_time": "2022-03-14T20:03:25.216Z"
      },
      {
        "duration": 645,
        "start_time": "2022-03-14T20:03:26.047Z"
      },
      {
        "duration": 1208,
        "start_time": "2022-03-14T20:03:26.693Z"
      },
      {
        "duration": 539,
        "start_time": "2022-03-14T20:03:27.902Z"
      },
      {
        "duration": 1640,
        "start_time": "2022-03-14T20:03:28.443Z"
      },
      {
        "duration": 1561,
        "start_time": "2022-03-14T20:03:30.085Z"
      },
      {
        "duration": 952,
        "start_time": "2022-03-14T20:03:32.318Z"
      },
      {
        "duration": 229,
        "start_time": "2022-03-14T20:03:33.272Z"
      },
      {
        "duration": 226,
        "start_time": "2022-03-14T20:03:41.933Z"
      },
      {
        "duration": 994,
        "start_time": "2022-03-14T20:03:42.161Z"
      },
      {
        "duration": 224,
        "start_time": "2022-03-14T20:03:45.586Z"
      },
      {
        "duration": 7,
        "start_time": "2022-03-14T20:03:53.125Z"
      },
      {
        "duration": 10454,
        "start_time": "2022-03-14T20:04:09.891Z"
      },
      {
        "duration": 4,
        "start_time": "2022-03-14T20:04:20.347Z"
      },
      {
        "duration": 11680,
        "start_time": "2022-03-14T20:04:29.646Z"
      },
      {
        "duration": 4,
        "start_time": "2022-03-14T20:04:41.328Z"
      },
      {
        "duration": 11673,
        "start_time": "2022-03-14T20:04:43.310Z"
      },
      {
        "duration": 4,
        "start_time": "2022-03-14T20:04:54.985Z"
      },
      {
        "duration": 89332,
        "start_time": "2022-03-14T20:05:20.230Z"
      },
      {
        "duration": -1085,
        "start_time": "2022-03-14T20:06:50.649Z"
      },
      {
        "duration": 1169,
        "start_time": "2022-03-14T20:06:59.067Z"
      },
      {
        "duration": 268,
        "start_time": "2022-03-14T20:07:00.238Z"
      },
      {
        "duration": 586,
        "start_time": "2022-03-14T20:07:00.508Z"
      },
      {
        "duration": 1844,
        "start_time": "2022-03-14T20:07:01.096Z"
      },
      {
        "duration": 2067,
        "start_time": "2022-03-14T20:07:02.942Z"
      },
      {
        "duration": 1103,
        "start_time": "2022-03-14T20:07:05.011Z"
      },
      {
        "duration": 1287,
        "start_time": "2022-03-14T20:07:06.116Z"
      },
      {
        "duration": 1433,
        "start_time": "2022-03-14T20:07:07.405Z"
      },
      {
        "duration": 425,
        "start_time": "2022-03-14T20:07:08.840Z"
      },
      {
        "duration": 1179,
        "start_time": "2022-03-14T20:07:09.267Z"
      },
      {
        "duration": 2316,
        "start_time": "2022-03-14T20:07:10.448Z"
      },
      {
        "duration": 1312,
        "start_time": "2022-03-14T20:07:12.766Z"
      },
      {
        "duration": 1994,
        "start_time": "2022-03-14T20:07:14.080Z"
      },
      {
        "duration": 1034,
        "start_time": "2022-03-14T20:07:16.076Z"
      },
      {
        "duration": 908,
        "start_time": "2022-03-14T20:07:17.112Z"
      },
      {
        "duration": 1261,
        "start_time": "2022-03-14T20:07:18.022Z"
      },
      {
        "duration": 13314,
        "start_time": "2022-03-14T20:07:31.481Z"
      },
      {
        "duration": 4,
        "start_time": "2022-03-14T20:07:44.798Z"
      },
      {
        "duration": 12095,
        "start_time": "2022-03-14T20:07:46.191Z"
      },
      {
        "duration": 4,
        "start_time": "2022-03-14T20:07:58.288Z"
      },
      {
        "duration": 1316,
        "start_time": "2022-03-14T20:10:19.516Z"
      },
      {
        "duration": 3,
        "start_time": "2022-03-14T20:11:00.767Z"
      },
      {
        "duration": 1239,
        "start_time": "2022-03-14T20:11:20.423Z"
      },
      {
        "duration": 10650,
        "start_time": "2022-03-14T20:11:49.919Z"
      },
      {
        "duration": 1237,
        "start_time": "2022-03-14T20:14:09.496Z"
      },
      {
        "duration": 1284,
        "start_time": "2022-03-14T20:17:27.825Z"
      },
      {
        "duration": 11109,
        "start_time": "2022-03-14T20:18:04.618Z"
      },
      {
        "duration": 4,
        "start_time": "2022-03-14T20:18:15.728Z"
      },
      {
        "duration": 1504,
        "start_time": "2022-03-15T06:04:44.135Z"
      },
      {
        "duration": 7,
        "start_time": "2022-03-15T06:04:45.647Z"
      },
      {
        "duration": 46,
        "start_time": "2022-03-15T06:04:45.657Z"
      },
      {
        "duration": 135,
        "start_time": "2022-03-15T06:04:45.706Z"
      },
      {
        "duration": 6,
        "start_time": "2022-03-15T06:04:45.845Z"
      },
      {
        "duration": 6,
        "start_time": "2022-03-15T06:04:45.911Z"
      },
      {
        "duration": 300,
        "start_time": "2022-03-15T06:04:46.350Z"
      },
      {
        "duration": 282,
        "start_time": "2022-03-15T06:04:46.793Z"
      },
      {
        "duration": 238,
        "start_time": "2022-03-15T06:04:47.082Z"
      },
      {
        "duration": 5,
        "start_time": "2022-03-15T06:04:47.324Z"
      },
      {
        "duration": 315,
        "start_time": "2022-03-15T06:04:47.430Z"
      },
      {
        "duration": 20,
        "start_time": "2022-03-15T06:04:48.091Z"
      },
      {
        "duration": 326,
        "start_time": "2022-03-15T06:04:48.652Z"
      },
      {
        "duration": 9,
        "start_time": "2022-03-15T06:04:49.188Z"
      },
      {
        "duration": 330,
        "start_time": "2022-03-15T06:04:49.487Z"
      },
      {
        "duration": 7,
        "start_time": "2022-03-15T06:04:49.820Z"
      },
      {
        "duration": 4,
        "start_time": "2022-03-15T06:04:52.111Z"
      },
      {
        "duration": 3313,
        "start_time": "2022-03-15T06:07:58.628Z"
      },
      {
        "duration": 1458,
        "start_time": "2022-03-15T06:08:25.649Z"
      },
      {
        "duration": 4,
        "start_time": "2022-03-15T06:08:27.110Z"
      },
      {
        "duration": 35,
        "start_time": "2022-03-15T06:08:27.117Z"
      },
      {
        "duration": 143,
        "start_time": "2022-03-15T06:08:27.154Z"
      },
      {
        "duration": 4,
        "start_time": "2022-03-15T06:08:27.299Z"
      },
      {
        "duration": 8,
        "start_time": "2022-03-15T06:08:27.306Z"
      },
      {
        "duration": 300,
        "start_time": "2022-03-15T06:08:29.142Z"
      },
      {
        "duration": 283,
        "start_time": "2022-03-15T06:08:29.445Z"
      },
      {
        "duration": 235,
        "start_time": "2022-03-15T06:08:30.383Z"
      },
      {
        "duration": 4,
        "start_time": "2022-03-15T06:08:30.621Z"
      },
      {
        "duration": 452,
        "start_time": "2022-03-15T06:08:30.782Z"
      },
      {
        "duration": 491,
        "start_time": "2022-03-15T06:08:33.502Z"
      },
      {
        "duration": 508,
        "start_time": "2022-03-15T06:08:35.038Z"
      },
      {
        "duration": 4167,
        "start_time": "2022-03-15T06:08:43.662Z"
      },
      {
        "duration": 321,
        "start_time": "2022-03-15T06:09:26.389Z"
      },
      {
        "duration": 3092,
        "start_time": "2022-03-15T06:11:19.708Z"
      },
      {
        "duration": 2759,
        "start_time": "2022-03-15T06:12:12.224Z"
      },
      {
        "duration": 1277,
        "start_time": "2022-03-15T13:13:38.422Z"
      },
      {
        "duration": 4,
        "start_time": "2022-03-15T13:13:39.702Z"
      },
      {
        "duration": 45,
        "start_time": "2022-03-15T13:13:39.708Z"
      },
      {
        "duration": 88,
        "start_time": "2022-03-15T13:13:39.776Z"
      },
      {
        "duration": 6,
        "start_time": "2022-03-15T13:13:40.413Z"
      },
      {
        "duration": 6,
        "start_time": "2022-03-15T13:13:40.836Z"
      },
      {
        "duration": 219,
        "start_time": "2022-03-15T13:13:41.828Z"
      },
      {
        "duration": 299,
        "start_time": "2022-03-15T13:13:42.049Z"
      },
      {
        "duration": 239,
        "start_time": "2022-03-15T13:13:42.351Z"
      },
      {
        "duration": 9,
        "start_time": "2022-03-15T13:13:42.592Z"
      },
      {
        "duration": 299,
        "start_time": "2022-03-15T13:13:42.696Z"
      },
      {
        "duration": 13,
        "start_time": "2022-03-15T13:13:43.137Z"
      },
      {
        "duration": 336,
        "start_time": "2022-03-15T13:13:43.526Z"
      },
      {
        "duration": 8,
        "start_time": "2022-03-15T13:13:43.997Z"
      },
      {
        "duration": 334,
        "start_time": "2022-03-15T13:13:44.285Z"
      },
      {
        "duration": 9,
        "start_time": "2022-03-15T13:13:44.622Z"
      },
      {
        "duration": 13723,
        "start_time": "2022-03-15T13:13:45.628Z"
      },
      {
        "duration": 5,
        "start_time": "2022-03-15T13:13:59.354Z"
      },
      {
        "duration": 1656,
        "start_time": "2022-03-15T13:14:52.746Z"
      },
      {
        "duration": 5,
        "start_time": "2022-03-15T13:16:45.306Z"
      },
      {
        "duration": 4,
        "start_time": "2022-03-15T13:16:45.613Z"
      },
      {
        "duration": 22,
        "start_time": "2022-03-15T13:16:45.805Z"
      },
      {
        "duration": 78,
        "start_time": "2022-03-15T13:16:46.532Z"
      },
      {
        "duration": 3,
        "start_time": "2022-03-15T13:16:47.238Z"
      },
      {
        "duration": 6,
        "start_time": "2022-03-15T13:16:48.277Z"
      },
      {
        "duration": 198,
        "start_time": "2022-03-15T13:16:49.227Z"
      },
      {
        "duration": 194,
        "start_time": "2022-03-15T13:16:51.589Z"
      },
      {
        "duration": 3,
        "start_time": "2022-03-15T13:16:52.638Z"
      },
      {
        "duration": 267,
        "start_time": "2022-03-15T13:16:53.625Z"
      },
      {
        "duration": 6,
        "start_time": "2022-03-15T13:16:54.474Z"
      },
      {
        "duration": 301,
        "start_time": "2022-03-15T13:16:55.190Z"
      },
      {
        "duration": 6,
        "start_time": "2022-03-15T13:16:55.629Z"
      },
      {
        "duration": 288,
        "start_time": "2022-03-15T13:16:55.966Z"
      },
      {
        "duration": 6,
        "start_time": "2022-03-15T13:16:56.267Z"
      },
      {
        "duration": 12907,
        "start_time": "2022-03-15T13:16:57.108Z"
      },
      {
        "duration": 6,
        "start_time": "2022-03-15T13:17:10.017Z"
      },
      {
        "duration": 14230,
        "start_time": "2022-03-15T13:17:52.437Z"
      },
      {
        "duration": 5,
        "start_time": "2022-03-15T13:18:06.669Z"
      },
      {
        "duration": 14583,
        "start_time": "2022-03-15T13:18:11.841Z"
      },
      {
        "duration": 5,
        "start_time": "2022-03-15T13:18:26.426Z"
      },
      {
        "duration": 332,
        "start_time": "2022-03-15T13:18:42.166Z"
      },
      {
        "duration": 235,
        "start_time": "2022-03-15T13:21:18.217Z"
      },
      {
        "duration": 247,
        "start_time": "2022-03-15T13:21:39.474Z"
      },
      {
        "duration": 281,
        "start_time": "2022-03-15T13:21:59.356Z"
      },
      {
        "duration": 273,
        "start_time": "2022-03-15T13:22:20.994Z"
      },
      {
        "duration": 276,
        "start_time": "2022-03-15T13:22:29.356Z"
      },
      {
        "duration": 137746,
        "start_time": "2022-03-15T13:22:41.517Z"
      },
      {
        "duration": 44,
        "start_time": "2022-03-15T13:24:59.271Z"
      },
      {
        "duration": 1255,
        "start_time": "2022-03-15T13:25:49.807Z"
      },
      {
        "duration": 5,
        "start_time": "2022-03-15T13:25:51.064Z"
      },
      {
        "duration": 64,
        "start_time": "2022-03-15T13:25:51.072Z"
      },
      {
        "duration": 82,
        "start_time": "2022-03-15T13:25:51.138Z"
      },
      {
        "duration": 4,
        "start_time": "2022-03-15T13:25:51.223Z"
      },
      {
        "duration": 21,
        "start_time": "2022-03-15T13:25:51.229Z"
      },
      {
        "duration": 219,
        "start_time": "2022-03-15T13:25:52.270Z"
      },
      {
        "duration": 237,
        "start_time": "2022-03-15T13:25:53.157Z"
      },
      {
        "duration": 203,
        "start_time": "2022-03-15T13:25:53.401Z"
      },
      {
        "duration": 4,
        "start_time": "2022-03-15T13:25:53.606Z"
      },
      {
        "duration": 257,
        "start_time": "2022-03-15T13:25:53.796Z"
      },
      {
        "duration": 12,
        "start_time": "2022-03-15T13:25:54.778Z"
      },
      {
        "duration": 293,
        "start_time": "2022-03-15T13:25:54.994Z"
      },
      {
        "duration": 14,
        "start_time": "2022-03-15T13:25:55.289Z"
      },
      {
        "duration": 281,
        "start_time": "2022-03-15T13:25:55.758Z"
      },
      {
        "duration": 7,
        "start_time": "2022-03-15T13:25:56.069Z"
      },
      {
        "duration": 1276,
        "start_time": "2022-03-15T13:26:10.888Z"
      },
      {
        "duration": 5,
        "start_time": "2022-03-15T13:26:12.166Z"
      },
      {
        "duration": 32,
        "start_time": "2022-03-15T13:26:12.173Z"
      },
      {
        "duration": 96,
        "start_time": "2022-03-15T13:26:12.207Z"
      },
      {
        "duration": 4,
        "start_time": "2022-03-15T13:26:12.305Z"
      },
      {
        "duration": 12,
        "start_time": "2022-03-15T13:26:12.310Z"
      },
      {
        "duration": 238,
        "start_time": "2022-03-15T13:26:12.324Z"
      },
      {
        "duration": 244,
        "start_time": "2022-03-15T13:26:12.564Z"
      },
      {
        "duration": 197,
        "start_time": "2022-03-15T13:26:12.811Z"
      },
      {
        "duration": 3,
        "start_time": "2022-03-15T13:26:13.011Z"
      },
      {
        "duration": 274,
        "start_time": "2022-03-15T13:26:13.016Z"
      },
      {
        "duration": 17,
        "start_time": "2022-03-15T13:26:13.292Z"
      },
      {
        "duration": 290,
        "start_time": "2022-03-15T13:26:13.311Z"
      },
      {
        "duration": 5,
        "start_time": "2022-03-15T13:26:13.605Z"
      },
      {
        "duration": 297,
        "start_time": "2022-03-15T13:26:13.612Z"
      },
      {
        "duration": 6,
        "start_time": "2022-03-15T13:26:13.910Z"
      },
      {
        "duration": 1479,
        "start_time": "2022-03-15T13:26:15.846Z"
      },
      {
        "duration": 943,
        "start_time": "2022-03-15T13:26:16.384Z"
      },
      {
        "duration": 24401,
        "start_time": "2022-03-15T13:26:41.156Z"
      },
      {
        "duration": 1258,
        "start_time": "2022-03-15T13:27:16.397Z"
      },
      {
        "duration": 3,
        "start_time": "2022-03-15T13:27:17.658Z"
      },
      {
        "duration": 35,
        "start_time": "2022-03-15T13:27:17.663Z"
      },
      {
        "duration": 84,
        "start_time": "2022-03-15T13:27:17.700Z"
      },
      {
        "duration": 5,
        "start_time": "2022-03-15T13:27:17.802Z"
      },
      {
        "duration": 19,
        "start_time": "2022-03-15T13:27:17.809Z"
      },
      {
        "duration": 229,
        "start_time": "2022-03-15T13:27:17.830Z"
      },
      {
        "duration": 246,
        "start_time": "2022-03-15T13:27:18.990Z"
      },
      {
        "duration": 208,
        "start_time": "2022-03-15T13:27:19.238Z"
      },
      {
        "duration": 3,
        "start_time": "2022-03-15T13:27:19.449Z"
      },
      {
        "duration": 480,
        "start_time": "2022-03-15T13:27:19.455Z"
      },
      {
        "duration": 7,
        "start_time": "2022-03-15T13:27:19.937Z"
      },
      {
        "duration": 305,
        "start_time": "2022-03-15T13:27:19.946Z"
      },
      {
        "duration": 6,
        "start_time": "2022-03-15T13:27:20.253Z"
      },
      {
        "duration": 318,
        "start_time": "2022-03-15T13:27:20.260Z"
      },
      {
        "duration": 6,
        "start_time": "2022-03-15T13:27:20.580Z"
      },
      {
        "duration": 376,
        "start_time": "2022-03-15T13:27:31.673Z"
      },
      {
        "duration": 1204,
        "start_time": "2022-03-15T13:50:32.554Z"
      },
      {
        "duration": 4,
        "start_time": "2022-03-15T13:50:33.761Z"
      },
      {
        "duration": 39,
        "start_time": "2022-03-15T13:50:33.768Z"
      },
      {
        "duration": 99,
        "start_time": "2022-03-15T13:50:33.809Z"
      },
      {
        "duration": 4,
        "start_time": "2022-03-15T13:50:33.910Z"
      },
      {
        "duration": 9,
        "start_time": "2022-03-15T13:50:33.916Z"
      },
      {
        "duration": 208,
        "start_time": "2022-03-15T13:50:34.038Z"
      },
      {
        "duration": 246,
        "start_time": "2022-03-15T13:50:34.249Z"
      },
      {
        "duration": 199,
        "start_time": "2022-03-15T13:50:34.497Z"
      },
      {
        "duration": 3,
        "start_time": "2022-03-15T13:50:34.698Z"
      },
      {
        "duration": 257,
        "start_time": "2022-03-15T13:50:34.775Z"
      },
      {
        "duration": 1223,
        "start_time": "2022-03-15T13:50:41.886Z"
      },
      {
        "duration": 4,
        "start_time": "2022-03-15T13:50:43.111Z"
      },
      {
        "duration": 33,
        "start_time": "2022-03-15T13:50:43.118Z"
      },
      {
        "duration": 99,
        "start_time": "2022-03-15T13:50:43.153Z"
      },
      {
        "duration": 3,
        "start_time": "2022-03-15T13:50:43.254Z"
      },
      {
        "duration": 5,
        "start_time": "2022-03-15T13:50:44.088Z"
      },
      {
        "duration": 10,
        "start_time": "2022-03-15T13:53:12.149Z"
      },
      {
        "duration": 735,
        "start_time": "2022-03-15T13:55:15.077Z"
      },
      {
        "duration": 23,
        "start_time": "2022-03-15T13:55:37.176Z"
      },
      {
        "duration": 211,
        "start_time": "2022-03-15T13:55:51.366Z"
      },
      {
        "duration": 3,
        "start_time": "2022-03-15T13:55:51.579Z"
      },
      {
        "duration": 332,
        "start_time": "2022-03-15T13:56:20.338Z"
      },
      {
        "duration": 7185,
        "start_time": "2022-03-15T13:56:24.718Z"
      },
      {
        "duration": 7265,
        "start_time": "2022-03-15T13:56:46.586Z"
      },
      {
        "duration": 362,
        "start_time": "2022-03-15T13:57:03.605Z"
      },
      {
        "duration": 246,
        "start_time": "2022-03-15T13:57:36.583Z"
      },
      {
        "duration": 249,
        "start_time": "2022-03-15T13:57:44.397Z"
      },
      {
        "duration": 4,
        "start_time": "2022-03-15T13:57:50.687Z"
      },
      {
        "duration": 3,
        "start_time": "2022-03-15T13:57:51.024Z"
      },
      {
        "duration": 21,
        "start_time": "2022-03-15T13:57:51.203Z"
      },
      {
        "duration": 81,
        "start_time": "2022-03-15T13:57:51.537Z"
      },
      {
        "duration": 6,
        "start_time": "2022-03-15T13:57:51.955Z"
      },
      {
        "duration": 5,
        "start_time": "2022-03-15T13:57:52.097Z"
      },
      {
        "duration": 23,
        "start_time": "2022-03-15T13:57:52.808Z"
      },
      {
        "duration": 92,
        "start_time": "2022-03-15T13:57:55.246Z"
      },
      {
        "duration": 6,
        "start_time": "2022-03-15T13:58:14.348Z"
      },
      {
        "duration": 65,
        "start_time": "2022-03-15T13:58:18.028Z"
      },
      {
        "duration": 4,
        "start_time": "2022-03-15T14:01:28.037Z"
      },
      {
        "duration": 256,
        "start_time": "2022-03-15T14:01:41.498Z"
      },
      {
        "duration": 14,
        "start_time": "2022-03-15T14:02:12.957Z"
      },
      {
        "duration": 3,
        "start_time": "2022-03-15T14:02:13.157Z"
      },
      {
        "duration": 10,
        "start_time": "2022-03-15T14:02:13.384Z"
      },
      {
        "duration": 11,
        "start_time": "2022-03-15T14:02:15.469Z"
      },
      {
        "duration": 3,
        "start_time": "2022-03-15T14:02:15.826Z"
      },
      {
        "duration": 11,
        "start_time": "2022-03-15T14:02:16.115Z"
      },
      {
        "duration": 11,
        "start_time": "2022-03-15T14:02:24.417Z"
      },
      {
        "duration": 11,
        "start_time": "2022-03-15T14:02:24.935Z"
      },
      {
        "duration": 7,
        "start_time": "2022-03-15T14:02:25.132Z"
      },
      {
        "duration": 11,
        "start_time": "2022-03-15T14:02:25.335Z"
      },
      {
        "duration": 6,
        "start_time": "2022-03-15T14:02:25.826Z"
      },
      {
        "duration": 12,
        "start_time": "2022-03-15T14:02:26.427Z"
      },
      {
        "duration": 22,
        "start_time": "2022-03-15T14:03:25.828Z"
      },
      {
        "duration": 11,
        "start_time": "2022-03-15T14:03:35.217Z"
      },
      {
        "duration": 11,
        "start_time": "2022-03-15T14:03:43.388Z"
      },
      {
        "duration": 12,
        "start_time": "2022-03-15T14:03:43.678Z"
      },
      {
        "duration": 1221,
        "start_time": "2022-03-15T14:14:56.927Z"
      },
      {
        "duration": 4,
        "start_time": "2022-03-15T14:14:58.150Z"
      },
      {
        "duration": 31,
        "start_time": "2022-03-15T14:14:58.156Z"
      },
      {
        "duration": 94,
        "start_time": "2022-03-15T14:14:58.189Z"
      },
      {
        "duration": 3,
        "start_time": "2022-03-15T14:14:58.406Z"
      },
      {
        "duration": 6,
        "start_time": "2022-03-15T14:14:59.228Z"
      },
      {
        "duration": 6,
        "start_time": "2022-03-15T14:14:59.768Z"
      },
      {
        "duration": 15,
        "start_time": "2022-03-15T14:21:19.109Z"
      },
      {
        "duration": 5,
        "start_time": "2022-03-15T14:21:33.279Z"
      },
      {
        "duration": 1218,
        "start_time": "2022-03-15T14:22:10.229Z"
      },
      {
        "duration": 3,
        "start_time": "2022-03-15T14:22:11.450Z"
      },
      {
        "duration": 31,
        "start_time": "2022-03-15T14:22:11.456Z"
      },
      {
        "duration": 86,
        "start_time": "2022-03-15T14:22:11.489Z"
      },
      {
        "duration": 3,
        "start_time": "2022-03-15T14:22:11.577Z"
      },
      {
        "duration": 5,
        "start_time": "2022-03-15T14:22:11.601Z"
      },
      {
        "duration": 5,
        "start_time": "2022-03-15T14:22:11.609Z"
      },
      {
        "duration": 67,
        "start_time": "2022-03-15T14:22:11.658Z"
      },
      {
        "duration": 14,
        "start_time": "2022-03-15T14:22:11.836Z"
      },
      {
        "duration": 4,
        "start_time": "2022-03-15T14:22:13.189Z"
      },
      {
        "duration": 4,
        "start_time": "2022-03-15T14:22:37.457Z"
      },
      {
        "duration": 3,
        "start_time": "2022-03-15T14:23:03.369Z"
      },
      {
        "duration": 1178,
        "start_time": "2022-03-15T14:23:29.006Z"
      },
      {
        "duration": 5,
        "start_time": "2022-03-15T14:23:30.186Z"
      },
      {
        "duration": 28,
        "start_time": "2022-03-15T14:23:30.203Z"
      },
      {
        "duration": 100,
        "start_time": "2022-03-15T14:23:30.234Z"
      },
      {
        "duration": 3,
        "start_time": "2022-03-15T14:23:30.337Z"
      },
      {
        "duration": 22,
        "start_time": "2022-03-15T14:23:30.342Z"
      },
      {
        "duration": 14,
        "start_time": "2022-03-15T14:23:30.367Z"
      },
      {
        "duration": 78,
        "start_time": "2022-03-15T14:23:30.383Z"
      },
      {
        "duration": 14,
        "start_time": "2022-03-15T14:23:30.463Z"
      },
      {
        "duration": 5,
        "start_time": "2022-03-15T14:23:30.637Z"
      },
      {
        "duration": 10,
        "start_time": "2022-03-15T14:23:32.466Z"
      },
      {
        "duration": 3,
        "start_time": "2022-03-15T14:23:33.069Z"
      },
      {
        "duration": 3,
        "start_time": "2022-03-15T14:23:54.528Z"
      },
      {
        "duration": 12,
        "start_time": "2022-03-15T14:23:55.085Z"
      },
      {
        "duration": 4,
        "start_time": "2022-03-15T14:23:55.516Z"
      },
      {
        "duration": 12,
        "start_time": "2022-03-15T14:23:55.954Z"
      },
      {
        "duration": 15,
        "start_time": "2022-03-15T14:23:56.329Z"
      },
      {
        "duration": 11,
        "start_time": "2022-03-15T14:23:57.137Z"
      },
      {
        "duration": 6,
        "start_time": "2022-03-15T14:23:57.318Z"
      },
      {
        "duration": 12,
        "start_time": "2022-03-15T14:23:57.506Z"
      },
      {
        "duration": 9,
        "start_time": "2022-03-15T14:23:57.999Z"
      },
      {
        "duration": 12,
        "start_time": "2022-03-15T14:23:58.580Z"
      },
      {
        "duration": 12,
        "start_time": "2022-03-15T14:23:58.968Z"
      },
      {
        "duration": 12,
        "start_time": "2022-03-15T14:23:59.157Z"
      },
      {
        "duration": 28,
        "start_time": "2022-03-15T14:24:58.056Z"
      },
      {
        "duration": 30,
        "start_time": "2022-03-15T14:26:40.594Z"
      },
      {
        "duration": 38,
        "start_time": "2022-03-15T14:27:00.187Z"
      },
      {
        "duration": 35,
        "start_time": "2022-03-15T14:27:58.456Z"
      },
      {
        "duration": 24,
        "start_time": "2022-03-15T14:28:27.244Z"
      },
      {
        "duration": 22,
        "start_time": "2022-03-15T14:28:41.656Z"
      },
      {
        "duration": 32,
        "start_time": "2022-03-15T14:28:56.277Z"
      },
      {
        "duration": 20,
        "start_time": "2022-03-15T14:29:02.544Z"
      },
      {
        "duration": 24,
        "start_time": "2022-03-15T14:29:03.004Z"
      },
      {
        "duration": 24,
        "start_time": "2022-03-15T14:29:03.176Z"
      },
      {
        "duration": 1156,
        "start_time": "2022-03-15T17:24:45.349Z"
      },
      {
        "duration": 4,
        "start_time": "2022-03-15T17:24:49.040Z"
      },
      {
        "duration": 24,
        "start_time": "2022-03-15T17:24:49.430Z"
      },
      {
        "duration": 76,
        "start_time": "2022-03-15T17:24:50.006Z"
      },
      {
        "duration": 3,
        "start_time": "2022-03-15T17:24:50.731Z"
      },
      {
        "duration": 6,
        "start_time": "2022-03-15T17:24:51.098Z"
      },
      {
        "duration": 5,
        "start_time": "2022-03-15T17:24:51.369Z"
      },
      {
        "duration": 63,
        "start_time": "2022-03-15T17:24:53.176Z"
      },
      {
        "duration": 1188,
        "start_time": "2022-03-15T17:30:05.017Z"
      },
      {
        "duration": 3,
        "start_time": "2022-03-15T17:30:06.207Z"
      },
      {
        "duration": 36,
        "start_time": "2022-03-15T17:30:06.212Z"
      },
      {
        "duration": 72,
        "start_time": "2022-03-15T17:30:06.494Z"
      },
      {
        "duration": 4,
        "start_time": "2022-03-15T17:30:06.940Z"
      },
      {
        "duration": 6,
        "start_time": "2022-03-15T17:30:08.050Z"
      },
      {
        "duration": 6,
        "start_time": "2022-03-15T17:30:08.291Z"
      },
      {
        "duration": 64,
        "start_time": "2022-03-15T17:30:08.572Z"
      },
      {
        "duration": 268,
        "start_time": "2022-03-15T17:34:48.292Z"
      },
      {
        "duration": 1500,
        "start_time": "2022-03-15T17:35:22.919Z"
      },
      {
        "duration": 5,
        "start_time": "2022-03-15T17:35:24.422Z"
      },
      {
        "duration": 38,
        "start_time": "2022-03-15T17:35:24.429Z"
      },
      {
        "duration": 111,
        "start_time": "2022-03-15T17:35:24.470Z"
      },
      {
        "duration": 3,
        "start_time": "2022-03-15T17:35:24.583Z"
      },
      {
        "duration": 8,
        "start_time": "2022-03-15T17:35:24.588Z"
      },
      {
        "duration": 7,
        "start_time": "2022-03-15T17:35:24.598Z"
      },
      {
        "duration": 101,
        "start_time": "2022-03-15T17:35:25.610Z"
      },
      {
        "duration": 4,
        "start_time": "2022-03-15T17:35:26.197Z"
      },
      {
        "duration": 13,
        "start_time": "2022-03-15T17:35:27.527Z"
      },
      {
        "duration": 13,
        "start_time": "2022-03-15T17:35:36.082Z"
      },
      {
        "duration": 655,
        "start_time": "2022-03-15T17:35:46.938Z"
      },
      {
        "duration": 11,
        "start_time": "2022-03-15T17:36:22.252Z"
      },
      {
        "duration": 259,
        "start_time": "2022-03-15T17:37:11.627Z"
      },
      {
        "duration": 1139,
        "start_time": "2022-03-15T17:37:15.591Z"
      },
      {
        "duration": 4,
        "start_time": "2022-03-15T17:37:16.732Z"
      },
      {
        "duration": 38,
        "start_time": "2022-03-15T17:37:16.738Z"
      },
      {
        "duration": 121,
        "start_time": "2022-03-15T17:37:16.779Z"
      },
      {
        "duration": 4,
        "start_time": "2022-03-15T17:37:16.902Z"
      },
      {
        "duration": 7,
        "start_time": "2022-03-15T17:37:16.908Z"
      },
      {
        "duration": 6,
        "start_time": "2022-03-15T17:37:16.966Z"
      },
      {
        "duration": 66,
        "start_time": "2022-03-15T17:37:17.672Z"
      },
      {
        "duration": 5,
        "start_time": "2022-03-15T17:37:22.410Z"
      },
      {
        "duration": 13,
        "start_time": "2022-03-15T17:37:27.938Z"
      },
      {
        "duration": 17,
        "start_time": "2022-03-15T17:37:28.167Z"
      },
      {
        "duration": 1467,
        "start_time": "2022-03-15T17:38:12.825Z"
      },
      {
        "duration": 4,
        "start_time": "2022-03-15T17:38:14.294Z"
      },
      {
        "duration": 59,
        "start_time": "2022-03-15T17:38:14.301Z"
      },
      {
        "duration": 116,
        "start_time": "2022-03-15T17:38:14.362Z"
      },
      {
        "duration": 3,
        "start_time": "2022-03-15T17:38:15.086Z"
      },
      {
        "duration": 5,
        "start_time": "2022-03-15T17:38:16.170Z"
      },
      {
        "duration": 5,
        "start_time": "2022-03-15T17:38:17.507Z"
      },
      {
        "duration": 58,
        "start_time": "2022-03-15T17:38:17.792Z"
      },
      {
        "duration": 4,
        "start_time": "2022-03-15T17:38:21.993Z"
      },
      {
        "duration": 5390,
        "start_time": "2022-03-15T17:38:47.721Z"
      },
      {
        "duration": -46,
        "start_time": "2022-03-15T17:38:53.159Z"
      },
      {
        "duration": 14,
        "start_time": "2022-03-15T17:40:53.925Z"
      },
      {
        "duration": 12,
        "start_time": "2022-03-15T17:40:54.466Z"
      },
      {
        "duration": 11,
        "start_time": "2022-03-15T17:41:20.689Z"
      },
      {
        "duration": 5,
        "start_time": "2022-03-15T17:41:38.209Z"
      },
      {
        "duration": 16,
        "start_time": "2022-03-15T17:41:38.566Z"
      },
      {
        "duration": 8,
        "start_time": "2022-03-15T17:41:39.001Z"
      },
      {
        "duration": 1170,
        "start_time": "2022-03-15T17:42:14.779Z"
      },
      {
        "duration": 3,
        "start_time": "2022-03-15T17:42:15.951Z"
      },
      {
        "duration": 52,
        "start_time": "2022-03-15T17:42:15.957Z"
      },
      {
        "duration": 107,
        "start_time": "2022-03-15T17:42:16.011Z"
      },
      {
        "duration": 3,
        "start_time": "2022-03-15T17:42:16.120Z"
      },
      {
        "duration": 34,
        "start_time": "2022-03-15T17:42:16.124Z"
      },
      {
        "duration": 5,
        "start_time": "2022-03-15T17:42:16.202Z"
      },
      {
        "duration": 76,
        "start_time": "2022-03-15T17:42:16.410Z"
      },
      {
        "duration": 5,
        "start_time": "2022-03-15T17:42:16.826Z"
      },
      {
        "duration": 17,
        "start_time": "2022-03-15T17:42:17.326Z"
      },
      {
        "duration": 10,
        "start_time": "2022-03-15T17:42:17.994Z"
      },
      {
        "duration": 1165,
        "start_time": "2022-03-15T17:42:47.678Z"
      },
      {
        "duration": 3,
        "start_time": "2022-03-15T17:42:48.845Z"
      },
      {
        "duration": 23,
        "start_time": "2022-03-15T17:42:48.862Z"
      },
      {
        "duration": 76,
        "start_time": "2022-03-15T17:42:48.887Z"
      },
      {
        "duration": 3,
        "start_time": "2022-03-15T17:42:48.964Z"
      },
      {
        "duration": 5,
        "start_time": "2022-03-15T17:42:49.125Z"
      },
      {
        "duration": 5,
        "start_time": "2022-03-15T17:42:49.479Z"
      },
      {
        "duration": 64,
        "start_time": "2022-03-15T17:42:49.968Z"
      },
      {
        "duration": 4,
        "start_time": "2022-03-15T17:42:50.835Z"
      },
      {
        "duration": 4,
        "start_time": "2022-03-15T17:43:01.545Z"
      },
      {
        "duration": 14,
        "start_time": "2022-03-15T17:43:01.813Z"
      },
      {
        "duration": 9,
        "start_time": "2022-03-15T17:43:02.223Z"
      },
      {
        "duration": 1341,
        "start_time": "2022-03-15T17:43:49.947Z"
      },
      {
        "duration": 3,
        "start_time": "2022-03-15T17:43:51.291Z"
      },
      {
        "duration": 32,
        "start_time": "2022-03-15T17:43:51.296Z"
      },
      {
        "duration": 85,
        "start_time": "2022-03-15T17:43:51.329Z"
      },
      {
        "duration": 3,
        "start_time": "2022-03-15T17:43:51.415Z"
      },
      {
        "duration": 6,
        "start_time": "2022-03-15T17:43:51.420Z"
      },
      {
        "duration": 6,
        "start_time": "2022-03-15T17:43:51.907Z"
      },
      {
        "duration": 64,
        "start_time": "2022-03-15T17:43:52.435Z"
      },
      {
        "duration": 6,
        "start_time": "2022-03-15T17:44:05.650Z"
      },
      {
        "duration": 6,
        "start_time": "2022-03-15T17:44:09.582Z"
      },
      {
        "duration": 401,
        "start_time": "2022-03-15T17:44:20.074Z"
      },
      {
        "duration": 10,
        "start_time": "2022-03-15T17:44:37.617Z"
      },
      {
        "duration": 1089,
        "start_time": "2022-03-15T17:44:52.102Z"
      },
      {
        "duration": 3,
        "start_time": "2022-03-15T17:44:53.193Z"
      },
      {
        "duration": 26,
        "start_time": "2022-03-15T17:44:53.199Z"
      },
      {
        "duration": 88,
        "start_time": "2022-03-15T17:44:53.226Z"
      },
      {
        "duration": 4,
        "start_time": "2022-03-15T17:44:53.560Z"
      },
      {
        "duration": 5,
        "start_time": "2022-03-15T17:44:54.339Z"
      },
      {
        "duration": 5,
        "start_time": "2022-03-15T17:44:58.832Z"
      },
      {
        "duration": 98,
        "start_time": "2022-03-15T17:44:59.566Z"
      },
      {
        "duration": 5,
        "start_time": "2022-03-15T17:45:12.322Z"
      },
      {
        "duration": 5,
        "start_time": "2022-03-15T17:46:12.237Z"
      },
      {
        "duration": 5521,
        "start_time": "2022-03-15T17:46:16.010Z"
      },
      {
        "duration": 1195,
        "start_time": "2022-03-15T17:46:26.927Z"
      },
      {
        "duration": 4,
        "start_time": "2022-03-15T17:46:28.124Z"
      },
      {
        "duration": 32,
        "start_time": "2022-03-15T17:46:28.130Z"
      },
      {
        "duration": 114,
        "start_time": "2022-03-15T17:46:28.164Z"
      },
      {
        "duration": 4,
        "start_time": "2022-03-15T17:46:28.280Z"
      },
      {
        "duration": 7,
        "start_time": "2022-03-15T17:46:28.286Z"
      },
      {
        "duration": 7,
        "start_time": "2022-03-15T17:46:28.295Z"
      },
      {
        "duration": 88,
        "start_time": "2022-03-15T17:46:28.696Z"
      },
      {
        "duration": 5,
        "start_time": "2022-03-15T17:46:29.204Z"
      },
      {
        "duration": 5,
        "start_time": "2022-03-15T17:46:29.867Z"
      },
      {
        "duration": 5,
        "start_time": "2022-03-15T17:46:43.545Z"
      },
      {
        "duration": 14,
        "start_time": "2022-03-15T17:47:25.374Z"
      },
      {
        "duration": 19,
        "start_time": "2022-03-15T17:47:25.683Z"
      },
      {
        "duration": 11,
        "start_time": "2022-03-15T17:49:58.839Z"
      },
      {
        "duration": 12,
        "start_time": "2022-03-15T17:50:03.510Z"
      },
      {
        "duration": 14,
        "start_time": "2022-03-15T17:50:06.744Z"
      },
      {
        "duration": 4,
        "start_time": "2022-03-15T17:50:08.178Z"
      },
      {
        "duration": 14,
        "start_time": "2022-03-15T17:50:08.414Z"
      },
      {
        "duration": 7,
        "start_time": "2022-03-15T17:50:08.871Z"
      },
      {
        "duration": 11,
        "start_time": "2022-03-15T17:50:09.403Z"
      },
      {
        "duration": 7,
        "start_time": "2022-03-15T17:50:09.764Z"
      },
      {
        "duration": 12,
        "start_time": "2022-03-15T17:50:10.220Z"
      },
      {
        "duration": 6,
        "start_time": "2022-03-15T17:50:10.660Z"
      },
      {
        "duration": 295,
        "start_time": "2022-03-15T17:50:11.055Z"
      },
      {
        "duration": 246,
        "start_time": "2022-03-15T17:50:11.608Z"
      },
      {
        "duration": 1147,
        "start_time": "2022-03-15T17:51:20.318Z"
      },
      {
        "duration": 3,
        "start_time": "2022-03-15T17:51:21.467Z"
      },
      {
        "duration": 24,
        "start_time": "2022-03-15T17:51:21.472Z"
      },
      {
        "duration": 84,
        "start_time": "2022-03-15T17:51:21.498Z"
      },
      {
        "duration": 3,
        "start_time": "2022-03-15T17:51:21.584Z"
      },
      {
        "duration": 10,
        "start_time": "2022-03-15T17:51:21.588Z"
      },
      {
        "duration": 69,
        "start_time": "2022-03-15T17:51:21.634Z"
      },
      {
        "duration": 5,
        "start_time": "2022-03-15T17:51:21.852Z"
      },
      {
        "duration": 5,
        "start_time": "2022-03-15T17:51:22.227Z"
      },
      {
        "duration": 4,
        "start_time": "2022-03-15T17:51:22.534Z"
      },
      {
        "duration": 200,
        "start_time": "2022-03-15T17:51:22.771Z"
      },
      {
        "duration": 229,
        "start_time": "2022-03-15T17:51:23.847Z"
      },
      {
        "duration": 299,
        "start_time": "2022-03-15T17:51:25.237Z"
      },
      {
        "duration": 23,
        "start_time": "2022-03-15T17:51:48.480Z"
      },
      {
        "duration": 1453,
        "start_time": "2022-03-15T17:52:05.442Z"
      },
      {
        "duration": 5,
        "start_time": "2022-03-15T17:52:06.897Z"
      },
      {
        "duration": 27,
        "start_time": "2022-03-15T17:52:06.904Z"
      },
      {
        "duration": 130,
        "start_time": "2022-03-15T17:52:06.933Z"
      },
      {
        "duration": 3,
        "start_time": "2022-03-15T17:52:07.065Z"
      },
      {
        "duration": 5,
        "start_time": "2022-03-15T17:52:07.096Z"
      },
      {
        "duration": 78,
        "start_time": "2022-03-15T17:52:08.119Z"
      },
      {
        "duration": 4,
        "start_time": "2022-03-15T17:52:11.720Z"
      },
      {
        "duration": 3,
        "start_time": "2022-03-15T17:52:11.947Z"
      },
      {
        "duration": 110,
        "start_time": "2022-03-15T17:52:12.207Z"
      },
      {
        "duration": 4,
        "start_time": "2022-03-15T17:52:15.196Z"
      },
      {
        "duration": 4,
        "start_time": "2022-03-15T17:52:35.153Z"
      },
      {
        "duration": 6,
        "start_time": "2022-03-15T17:52:35.432Z"
      },
      {
        "duration": 60,
        "start_time": "2022-03-15T17:52:35.793Z"
      },
      {
        "duration": 4,
        "start_time": "2022-03-15T17:52:36.475Z"
      },
      {
        "duration": 5,
        "start_time": "2022-03-15T17:52:37.107Z"
      },
      {
        "duration": 5,
        "start_time": "2022-03-15T17:52:37.499Z"
      },
      {
        "duration": 12,
        "start_time": "2022-03-15T17:52:37.873Z"
      },
      {
        "duration": 18,
        "start_time": "2022-03-15T17:52:39.227Z"
      },
      {
        "duration": 12,
        "start_time": "2022-03-15T17:52:46.403Z"
      },
      {
        "duration": 4,
        "start_time": "2022-03-15T17:54:27.558Z"
      },
      {
        "duration": 11,
        "start_time": "2022-03-15T17:56:12.113Z"
      },
      {
        "duration": 10,
        "start_time": "2022-03-15T17:56:29.785Z"
      },
      {
        "duration": 10,
        "start_time": "2022-03-15T17:57:06.190Z"
      },
      {
        "duration": 3,
        "start_time": "2022-03-15T17:57:07.005Z"
      },
      {
        "duration": 3,
        "start_time": "2022-03-15T17:57:14.378Z"
      },
      {
        "duration": 9,
        "start_time": "2022-03-15T17:57:14.712Z"
      },
      {
        "duration": 10,
        "start_time": "2022-03-15T17:57:15.030Z"
      },
      {
        "duration": 11,
        "start_time": "2022-03-15T17:57:16.309Z"
      },
      {
        "duration": 6,
        "start_time": "2022-03-15T17:57:16.672Z"
      },
      {
        "duration": 11,
        "start_time": "2022-03-15T17:57:17.460Z"
      },
      {
        "duration": 6,
        "start_time": "2022-03-15T17:57:17.764Z"
      },
      {
        "duration": 26,
        "start_time": "2022-03-15T17:57:21.849Z"
      },
      {
        "duration": 28,
        "start_time": "2022-03-15T17:57:23.723Z"
      },
      {
        "duration": 26,
        "start_time": "2022-03-15T17:57:24.858Z"
      },
      {
        "duration": 30,
        "start_time": "2022-03-15T17:57:34.029Z"
      },
      {
        "duration": 31,
        "start_time": "2022-03-15T17:57:58.879Z"
      },
      {
        "duration": 19,
        "start_time": "2022-03-15T17:58:06.624Z"
      },
      {
        "duration": 6,
        "start_time": "2022-03-15T18:00:12.248Z"
      },
      {
        "duration": 7,
        "start_time": "2022-03-15T18:00:20.914Z"
      },
      {
        "duration": 6,
        "start_time": "2022-03-15T18:00:28.702Z"
      },
      {
        "duration": 380,
        "start_time": "2022-03-15T18:03:42.493Z"
      },
      {
        "duration": 41,
        "start_time": "2022-03-15T18:03:51.285Z"
      },
      {
        "duration": 3,
        "start_time": "2022-03-15T18:06:05.453Z"
      },
      {
        "duration": 3,
        "start_time": "2022-03-15T18:06:24.124Z"
      },
      {
        "duration": 32,
        "start_time": "2022-03-15T18:07:03.832Z"
      },
      {
        "duration": 3,
        "start_time": "2022-03-15T18:07:04.333Z"
      },
      {
        "duration": 409,
        "start_time": "2022-03-15T18:07:05.101Z"
      },
      {
        "duration": 5,
        "start_time": "2022-03-15T18:08:39.509Z"
      },
      {
        "duration": 4,
        "start_time": "2022-03-15T18:08:41.188Z"
      },
      {
        "duration": 23,
        "start_time": "2022-03-15T18:08:41.390Z"
      },
      {
        "duration": 115,
        "start_time": "2022-03-15T18:08:41.767Z"
      },
      {
        "duration": 3,
        "start_time": "2022-03-15T18:08:41.966Z"
      },
      {
        "duration": 7,
        "start_time": "2022-03-15T18:08:42.129Z"
      },
      {
        "duration": 5,
        "start_time": "2022-03-15T18:08:42.308Z"
      },
      {
        "duration": 66,
        "start_time": "2022-03-15T18:08:42.502Z"
      },
      {
        "duration": 5,
        "start_time": "2022-03-15T18:08:42.690Z"
      },
      {
        "duration": 5,
        "start_time": "2022-03-15T18:08:42.883Z"
      },
      {
        "duration": 5,
        "start_time": "2022-03-15T18:08:43.359Z"
      },
      {
        "duration": 16,
        "start_time": "2022-03-15T18:08:43.601Z"
      },
      {
        "duration": 13,
        "start_time": "2022-03-15T18:08:43.776Z"
      },
      {
        "duration": 3,
        "start_time": "2022-03-15T18:08:43.964Z"
      },
      {
        "duration": 4,
        "start_time": "2022-03-15T18:08:44.148Z"
      },
      {
        "duration": 11,
        "start_time": "2022-03-15T18:08:44.327Z"
      },
      {
        "duration": 11,
        "start_time": "2022-03-15T18:08:44.521Z"
      },
      {
        "duration": 10,
        "start_time": "2022-03-15T18:08:44.718Z"
      },
      {
        "duration": 29,
        "start_time": "2022-03-15T18:08:44.914Z"
      },
      {
        "duration": 28,
        "start_time": "2022-03-15T18:08:45.132Z"
      },
      {
        "duration": 26,
        "start_time": "2022-03-15T18:08:45.392Z"
      },
      {
        "duration": 6,
        "start_time": "2022-03-15T18:08:45.576Z"
      },
      {
        "duration": 7,
        "start_time": "2022-03-15T18:08:45.761Z"
      },
      {
        "duration": 5,
        "start_time": "2022-03-15T18:08:45.989Z"
      },
      {
        "duration": 32,
        "start_time": "2022-03-15T18:08:46.746Z"
      },
      {
        "duration": 4,
        "start_time": "2022-03-15T18:08:47.464Z"
      },
      {
        "duration": 10,
        "start_time": "2022-03-15T18:08:48.838Z"
      },
      {
        "duration": 38,
        "start_time": "2022-03-15T18:09:43.815Z"
      },
      {
        "duration": 14,
        "start_time": "2022-03-15T18:10:00.082Z"
      },
      {
        "duration": 36,
        "start_time": "2022-03-15T18:10:48.206Z"
      },
      {
        "duration": 12,
        "start_time": "2022-03-15T18:11:00.062Z"
      },
      {
        "duration": 32,
        "start_time": "2022-03-15T18:12:01.082Z"
      },
      {
        "duration": 4,
        "start_time": "2022-03-15T18:12:01.700Z"
      },
      {
        "duration": 32,
        "start_time": "2022-03-15T18:14:33.520Z"
      },
      {
        "duration": 4,
        "start_time": "2022-03-15T18:14:34.142Z"
      },
      {
        "duration": 12,
        "start_time": "2022-03-15T18:14:34.410Z"
      },
      {
        "duration": 35,
        "start_time": "2022-03-15T18:14:34.596Z"
      },
      {
        "duration": 12,
        "start_time": "2022-03-15T18:14:34.819Z"
      },
      {
        "duration": 31,
        "start_time": "2022-03-15T18:15:38.180Z"
      },
      {
        "duration": 4,
        "start_time": "2022-03-15T18:15:38.721Z"
      },
      {
        "duration": 11,
        "start_time": "2022-03-15T18:15:39.127Z"
      },
      {
        "duration": 36,
        "start_time": "2022-03-15T18:15:39.524Z"
      },
      {
        "duration": 14,
        "start_time": "2022-03-15T18:15:39.974Z"
      },
      {
        "duration": 34,
        "start_time": "2022-03-15T18:15:40.182Z"
      },
      {
        "duration": 12,
        "start_time": "2022-03-15T18:15:40.366Z"
      },
      {
        "duration": 3,
        "start_time": "2022-03-15T18:15:52.957Z"
      },
      {
        "duration": 34,
        "start_time": "2022-03-15T18:16:34.821Z"
      },
      {
        "duration": 34,
        "start_time": "2022-03-15T18:16:42.869Z"
      },
      {
        "duration": 4,
        "start_time": "2022-03-15T18:16:43.660Z"
      },
      {
        "duration": 12,
        "start_time": "2022-03-15T18:16:44.037Z"
      },
      {
        "duration": 15,
        "start_time": "2022-03-15T18:16:44.805Z"
      },
      {
        "duration": 11,
        "start_time": "2022-03-15T18:16:45.410Z"
      },
      {
        "duration": 30,
        "start_time": "2022-03-15T18:17:52.971Z"
      },
      {
        "duration": 33,
        "start_time": "2022-03-15T18:18:00.692Z"
      },
      {
        "duration": 46,
        "start_time": "2022-03-15T18:18:05.185Z"
      },
      {
        "duration": 14,
        "start_time": "2022-03-15T18:18:10.618Z"
      },
      {
        "duration": 14,
        "start_time": "2022-03-15T18:18:14.851Z"
      },
      {
        "duration": 12,
        "start_time": "2022-03-15T18:18:17.873Z"
      },
      {
        "duration": 628,
        "start_time": "2022-03-15T18:18:29.663Z"
      },
      {
        "duration": 732,
        "start_time": "2022-03-15T18:19:20.387Z"
      },
      {
        "duration": 1003,
        "start_time": "2022-03-15T18:20:02.262Z"
      },
      {
        "duration": 838,
        "start_time": "2022-03-15T18:20:15.725Z"
      },
      {
        "duration": 1003,
        "start_time": "2022-03-15T18:21:12.437Z"
      },
      {
        "duration": 645,
        "start_time": "2022-03-15T18:21:52.448Z"
      },
      {
        "duration": 13,
        "start_time": "2022-03-15T18:22:39.566Z"
      },
      {
        "duration": 13,
        "start_time": "2022-03-15T18:23:07.109Z"
      },
      {
        "duration": 12,
        "start_time": "2022-03-15T18:23:18.741Z"
      },
      {
        "duration": 27,
        "start_time": "2022-03-15T18:26:01.313Z"
      },
      {
        "duration": 20,
        "start_time": "2022-03-15T18:26:47.968Z"
      },
      {
        "duration": 41,
        "start_time": "2022-03-15T18:27:03.728Z"
      },
      {
        "duration": 13,
        "start_time": "2022-03-15T18:27:49.829Z"
      },
      {
        "duration": 15,
        "start_time": "2022-03-15T18:27:51.689Z"
      },
      {
        "duration": 10,
        "start_time": "2022-03-15T18:27:52.595Z"
      },
      {
        "duration": 4,
        "start_time": "2022-03-15T18:32:41.109Z"
      },
      {
        "duration": 9,
        "start_time": "2022-03-15T18:32:41.548Z"
      },
      {
        "duration": 10,
        "start_time": "2022-03-15T18:32:42.088Z"
      },
      {
        "duration": 11,
        "start_time": "2022-03-15T18:32:42.482Z"
      },
      {
        "duration": 639,
        "start_time": "2022-03-15T18:32:43.179Z"
      },
      {
        "duration": 733,
        "start_time": "2022-03-15T18:32:43.820Z"
      },
      {
        "duration": 795,
        "start_time": "2022-03-15T18:32:44.555Z"
      },
      {
        "duration": 14,
        "start_time": "2022-03-15T18:32:45.364Z"
      },
      {
        "duration": 11,
        "start_time": "2022-03-15T18:32:45.380Z"
      },
      {
        "duration": 11,
        "start_time": "2022-03-15T18:32:45.393Z"
      },
      {
        "duration": 68,
        "start_time": "2022-03-15T18:32:45.407Z"
      },
      {
        "duration": 104,
        "start_time": "2022-03-15T18:32:45.563Z"
      },
      {
        "duration": 150,
        "start_time": "2022-03-15T18:32:45.813Z"
      },
      {
        "duration": 9,
        "start_time": "2022-03-15T18:32:46.331Z"
      },
      {
        "duration": 13,
        "start_time": "2022-03-15T18:32:46.578Z"
      },
      {
        "duration": 11,
        "start_time": "2022-03-15T18:32:46.836Z"
      },
      {
        "duration": 6,
        "start_time": "2022-03-15T18:34:54.391Z"
      },
      {
        "duration": 209,
        "start_time": "2022-03-15T18:44:42.435Z"
      },
      {
        "duration": 201,
        "start_time": "2022-03-15T18:46:08.280Z"
      },
      {
        "duration": 4,
        "start_time": "2022-03-15T18:46:15.473Z"
      },
      {
        "duration": 13,
        "start_time": "2022-03-15T18:46:16.307Z"
      },
      {
        "duration": 12,
        "start_time": "2022-03-15T18:46:45.775Z"
      },
      {
        "duration": 4,
        "start_time": "2022-03-15T18:47:00.179Z"
      },
      {
        "duration": 12,
        "start_time": "2022-03-15T18:47:14.671Z"
      },
      {
        "duration": 11,
        "start_time": "2022-03-15T18:48:58.002Z"
      },
      {
        "duration": 11,
        "start_time": "2022-03-15T18:49:10.359Z"
      },
      {
        "duration": 11,
        "start_time": "2022-03-15T18:49:10.810Z"
      },
      {
        "duration": 11,
        "start_time": "2022-03-15T18:49:11.226Z"
      },
      {
        "duration": 5,
        "start_time": "2022-03-15T18:49:14.517Z"
      },
      {
        "duration": 9,
        "start_time": "2022-03-15T18:49:15.303Z"
      },
      {
        "duration": 11,
        "start_time": "2022-03-15T18:49:48.283Z"
      },
      {
        "duration": 10,
        "start_time": "2022-03-15T18:50:02.980Z"
      },
      {
        "duration": 9,
        "start_time": "2022-03-15T18:55:44.690Z"
      },
      {
        "duration": 48,
        "start_time": "2022-03-15T18:57:50.652Z"
      },
      {
        "duration": 48,
        "start_time": "2022-03-15T18:58:30.080Z"
      },
      {
        "duration": 10,
        "start_time": "2022-03-15T18:58:31.307Z"
      },
      {
        "duration": 5,
        "start_time": "2022-03-15T18:59:22.705Z"
      },
      {
        "duration": 12,
        "start_time": "2022-03-15T18:59:51.127Z"
      },
      {
        "duration": 4,
        "start_time": "2022-03-15T19:01:00.747Z"
      },
      {
        "duration": 11,
        "start_time": "2022-03-15T19:01:01.033Z"
      },
      {
        "duration": 10,
        "start_time": "2022-03-15T19:01:01.620Z"
      },
      {
        "duration": 12,
        "start_time": "2022-03-15T19:01:01.974Z"
      },
      {
        "duration": 52,
        "start_time": "2022-03-15T19:01:02.400Z"
      },
      {
        "duration": 10,
        "start_time": "2022-03-15T19:01:02.910Z"
      },
      {
        "duration": 1626,
        "start_time": "2022-03-16T07:23:55.058Z"
      },
      {
        "duration": 4,
        "start_time": "2022-03-16T07:23:56.687Z"
      },
      {
        "duration": 27,
        "start_time": "2022-03-16T07:23:56.702Z"
      },
      {
        "duration": 98,
        "start_time": "2022-03-16T07:23:56.731Z"
      },
      {
        "duration": 4,
        "start_time": "2022-03-16T07:23:56.854Z"
      },
      {
        "duration": 7,
        "start_time": "2022-03-16T07:23:57.031Z"
      },
      {
        "duration": 8,
        "start_time": "2022-03-16T07:23:57.228Z"
      },
      {
        "duration": 76,
        "start_time": "2022-03-16T07:23:57.411Z"
      },
      {
        "duration": 5,
        "start_time": "2022-03-16T07:23:57.820Z"
      },
      {
        "duration": 6,
        "start_time": "2022-03-16T07:23:58.057Z"
      },
      {
        "duration": 5,
        "start_time": "2022-03-16T07:23:58.395Z"
      },
      {
        "duration": 18,
        "start_time": "2022-03-16T07:24:06.281Z"
      },
      {
        "duration": 13,
        "start_time": "2022-03-16T07:24:06.672Z"
      },
      {
        "duration": 3,
        "start_time": "2022-03-16T07:24:07.181Z"
      },
      {
        "duration": 5,
        "start_time": "2022-03-16T07:24:07.607Z"
      },
      {
        "duration": 633,
        "start_time": "2022-03-16T07:24:08.116Z"
      },
      {
        "duration": 501,
        "start_time": "2022-03-16T07:24:08.250Z"
      },
      {
        "duration": 499,
        "start_time": "2022-03-16T07:24:08.254Z"
      },
      {
        "duration": 465,
        "start_time": "2022-03-16T07:24:08.289Z"
      },
      {
        "duration": 268,
        "start_time": "2022-03-16T07:24:08.926Z"
      },
      {
        "duration": 485,
        "start_time": "2022-03-16T07:24:08.711Z"
      },
      {
        "duration": 13,
        "start_time": "2022-03-16T07:24:18.309Z"
      },
      {
        "duration": 6,
        "start_time": "2022-03-16T07:24:18.730Z"
      },
      {
        "duration": 5,
        "start_time": "2022-03-16T07:24:18.958Z"
      },
      {
        "duration": 525,
        "start_time": "2022-03-16T07:24:19.168Z"
      },
      {
        "duration": 503,
        "start_time": "2022-03-16T07:24:19.920Z"
      },
      {
        "duration": 6,
        "start_time": "2022-03-16T07:24:39.599Z"
      },
      {
        "duration": 4,
        "start_time": "2022-03-16T07:24:41.419Z"
      },
      {
        "duration": 28,
        "start_time": "2022-03-16T07:24:41.622Z"
      },
      {
        "duration": 106,
        "start_time": "2022-03-16T07:24:42.009Z"
      },
      {
        "duration": 4,
        "start_time": "2022-03-16T07:24:42.189Z"
      },
      {
        "duration": 7,
        "start_time": "2022-03-16T07:24:42.382Z"
      },
      {
        "duration": 6,
        "start_time": "2022-03-16T07:24:42.561Z"
      },
      {
        "duration": 102,
        "start_time": "2022-03-16T07:24:42.761Z"
      },
      {
        "duration": 6,
        "start_time": "2022-03-16T07:24:42.960Z"
      },
      {
        "duration": 20,
        "start_time": "2022-03-16T07:24:43.159Z"
      },
      {
        "duration": 15,
        "start_time": "2022-03-16T07:24:43.387Z"
      },
      {
        "duration": 4,
        "start_time": "2022-03-16T07:24:43.591Z"
      },
      {
        "duration": 4,
        "start_time": "2022-03-16T07:24:43.805Z"
      },
      {
        "duration": 11,
        "start_time": "2022-03-16T07:24:43.979Z"
      },
      {
        "duration": 16,
        "start_time": "2022-03-16T07:24:44.177Z"
      },
      {
        "duration": 12,
        "start_time": "2022-03-16T07:24:45.589Z"
      },
      {
        "duration": 31,
        "start_time": "2022-03-16T07:24:45.940Z"
      },
      {
        "duration": 32,
        "start_time": "2022-03-16T07:24:46.359Z"
      },
      {
        "duration": 30,
        "start_time": "2022-03-16T07:24:47.239Z"
      },
      {
        "duration": 39,
        "start_time": "2022-03-16T07:24:48.508Z"
      },
      {
        "duration": 40,
        "start_time": "2022-03-16T07:24:49.018Z"
      },
      {
        "duration": 42,
        "start_time": "2022-03-16T07:24:49.409Z"
      },
      {
        "duration": 3,
        "start_time": "2022-03-16T07:24:50.199Z"
      },
      {
        "duration": 11,
        "start_time": "2022-03-16T07:24:50.530Z"
      },
      {
        "duration": 11,
        "start_time": "2022-03-16T07:24:50.881Z"
      },
      {
        "duration": 13,
        "start_time": "2022-03-16T07:24:51.290Z"
      },
      {
        "duration": 833,
        "start_time": "2022-03-16T07:24:52.208Z"
      },
      {
        "duration": 787,
        "start_time": "2022-03-16T07:24:53.043Z"
      },
      {
        "duration": 791,
        "start_time": "2022-03-16T07:24:53.833Z"
      },
      {
        "duration": 11,
        "start_time": "2022-03-16T07:24:54.627Z"
      },
      {
        "duration": 10,
        "start_time": "2022-03-16T07:24:54.641Z"
      },
      {
        "duration": 11,
        "start_time": "2022-03-16T07:24:54.653Z"
      },
      {
        "duration": 33,
        "start_time": "2022-03-16T07:24:54.768Z"
      },
      {
        "duration": 148,
        "start_time": "2022-03-16T07:24:54.958Z"
      },
      {
        "duration": 25,
        "start_time": "2022-03-16T07:24:55.202Z"
      },
      {
        "duration": 10,
        "start_time": "2022-03-16T07:24:55.559Z"
      },
      {
        "duration": 11,
        "start_time": "2022-03-16T07:24:55.741Z"
      },
      {
        "duration": 11,
        "start_time": "2022-03-16T07:24:55.975Z"
      },
      {
        "duration": 5,
        "start_time": "2022-03-16T07:24:56.550Z"
      },
      {
        "duration": 6,
        "start_time": "2022-03-16T07:31:07.769Z"
      },
      {
        "duration": 4,
        "start_time": "2022-03-16T07:31:07.960Z"
      },
      {
        "duration": 26,
        "start_time": "2022-03-16T07:31:08.153Z"
      },
      {
        "duration": 79,
        "start_time": "2022-03-16T07:31:08.513Z"
      },
      {
        "duration": 4,
        "start_time": "2022-03-16T07:31:09.323Z"
      },
      {
        "duration": 3,
        "start_time": "2022-03-16T07:38:11.953Z"
      },
      {
        "duration": 5,
        "start_time": "2022-03-16T07:38:12.282Z"
      },
      {
        "duration": 6,
        "start_time": "2022-03-16T07:38:13.152Z"
      },
      {
        "duration": 78,
        "start_time": "2022-03-16T07:38:13.601Z"
      },
      {
        "duration": 14,
        "start_time": "2022-03-16T07:42:54.120Z"
      },
      {
        "duration": 99,
        "start_time": "2022-03-16T07:43:00.652Z"
      },
      {
        "duration": 71,
        "start_time": "2022-03-16T07:43:19.130Z"
      },
      {
        "duration": 68,
        "start_time": "2022-03-16T07:43:37.256Z"
      },
      {
        "duration": 1333,
        "start_time": "2022-03-16T07:43:46.541Z"
      },
      {
        "duration": 7,
        "start_time": "2022-03-16T07:43:47.876Z"
      },
      {
        "duration": 34,
        "start_time": "2022-03-16T07:43:47.885Z"
      },
      {
        "duration": 106,
        "start_time": "2022-03-16T07:43:47.923Z"
      },
      {
        "duration": 4,
        "start_time": "2022-03-16T07:43:48.229Z"
      },
      {
        "duration": 6,
        "start_time": "2022-03-16T07:43:48.639Z"
      },
      {
        "duration": 6,
        "start_time": "2022-03-16T07:43:49.019Z"
      },
      {
        "duration": 16,
        "start_time": "2022-03-16T07:43:49.425Z"
      },
      {
        "duration": 88,
        "start_time": "2022-03-16T07:43:50.029Z"
      },
      {
        "duration": 70,
        "start_time": "2022-03-16T07:43:52.509Z"
      },
      {
        "duration": 70,
        "start_time": "2022-03-16T07:43:53.055Z"
      },
      {
        "duration": 37,
        "start_time": "2022-03-16T07:46:13.517Z"
      },
      {
        "duration": 4,
        "start_time": "2022-03-16T07:50:23.307Z"
      },
      {
        "duration": 12,
        "start_time": "2022-03-16T07:50:30.237Z"
      },
      {
        "duration": 13,
        "start_time": "2022-03-16T07:50:30.497Z"
      },
      {
        "duration": 13,
        "start_time": "2022-03-16T07:50:30.757Z"
      },
      {
        "duration": 84,
        "start_time": "2022-03-16T07:51:00.519Z"
      },
      {
        "duration": 4,
        "start_time": "2022-03-16T07:51:10.849Z"
      },
      {
        "duration": 32,
        "start_time": "2022-03-16T07:51:11.397Z"
      },
      {
        "duration": 31,
        "start_time": "2022-03-16T07:51:11.877Z"
      },
      {
        "duration": 29,
        "start_time": "2022-03-16T07:51:12.127Z"
      },
      {
        "duration": 5,
        "start_time": "2022-03-16T08:00:19.126Z"
      },
      {
        "duration": 5,
        "start_time": "2022-03-16T08:00:34.135Z"
      },
      {
        "duration": 4,
        "start_time": "2022-03-16T08:01:02.457Z"
      },
      {
        "duration": 10,
        "start_time": "2022-03-16T08:01:06.056Z"
      },
      {
        "duration": 14,
        "start_time": "2022-03-16T08:01:06.069Z"
      },
      {
        "duration": 12,
        "start_time": "2022-03-16T08:01:06.093Z"
      },
      {
        "duration": 3,
        "start_time": "2022-03-16T08:01:06.389Z"
      },
      {
        "duration": 30,
        "start_time": "2022-03-16T08:01:06.559Z"
      },
      {
        "duration": 33,
        "start_time": "2022-03-16T08:01:06.732Z"
      },
      {
        "duration": 32,
        "start_time": "2022-03-16T08:01:06.916Z"
      },
      {
        "duration": 4,
        "start_time": "2022-03-16T08:01:07.637Z"
      },
      {
        "duration": 36,
        "start_time": "2022-03-16T08:01:08.417Z"
      },
      {
        "duration": 39,
        "start_time": "2022-03-16T08:01:08.777Z"
      },
      {
        "duration": 40,
        "start_time": "2022-03-16T08:01:08.977Z"
      },
      {
        "duration": 10,
        "start_time": "2022-03-16T08:01:10.929Z"
      },
      {
        "duration": 12,
        "start_time": "2022-03-16T08:01:11.319Z"
      },
      {
        "duration": 10,
        "start_time": "2022-03-16T08:01:11.562Z"
      },
      {
        "duration": 703,
        "start_time": "2022-03-16T08:11:08.704Z"
      },
      {
        "duration": 787,
        "start_time": "2022-03-16T08:11:09.410Z"
      },
      {
        "duration": 810,
        "start_time": "2022-03-16T08:11:10.202Z"
      },
      {
        "duration": 10,
        "start_time": "2022-03-16T08:11:46.019Z"
      },
      {
        "duration": 11,
        "start_time": "2022-03-16T08:11:46.179Z"
      },
      {
        "duration": 11,
        "start_time": "2022-03-16T08:11:46.629Z"
      },
      {
        "duration": 10,
        "start_time": "2022-03-16T08:11:56.575Z"
      },
      {
        "duration": 11,
        "start_time": "2022-03-16T08:11:56.808Z"
      },
      {
        "duration": 10,
        "start_time": "2022-03-16T08:11:57.089Z"
      },
      {
        "duration": 117,
        "start_time": "2022-03-16T08:14:58.688Z"
      },
      {
        "duration": 199,
        "start_time": "2022-03-16T08:14:58.902Z"
      },
      {
        "duration": 103,
        "start_time": "2022-03-16T08:14:59.104Z"
      },
      {
        "duration": 11,
        "start_time": "2022-03-16T08:15:34.118Z"
      },
      {
        "duration": 11,
        "start_time": "2022-03-16T08:15:34.289Z"
      },
      {
        "duration": 10,
        "start_time": "2022-03-16T08:15:34.445Z"
      },
      {
        "duration": 6,
        "start_time": "2022-03-16T08:20:19.558Z"
      },
      {
        "duration": 18,
        "start_time": "2022-03-16T08:20:19.996Z"
      },
      {
        "duration": 15,
        "start_time": "2022-03-16T08:20:20.196Z"
      },
      {
        "duration": 14,
        "start_time": "2022-03-16T08:20:20.377Z"
      },
      {
        "duration": 57,
        "start_time": "2022-03-16T08:20:21.437Z"
      },
      {
        "duration": 10,
        "start_time": "2022-03-16T08:20:21.769Z"
      },
      {
        "duration": 169,
        "start_time": "2022-03-16T08:26:34.190Z"
      },
      {
        "duration": 7,
        "start_time": "2022-03-16T08:27:15.900Z"
      },
      {
        "duration": 7,
        "start_time": "2022-03-16T08:27:33.350Z"
      },
      {
        "duration": 44,
        "start_time": "2022-03-16T08:28:15.737Z"
      },
      {
        "duration": 10,
        "start_time": "2022-03-16T08:28:31.535Z"
      },
      {
        "duration": 50,
        "start_time": "2022-03-16T08:28:43.587Z"
      },
      {
        "duration": 39,
        "start_time": "2022-03-16T08:29:57.457Z"
      },
      {
        "duration": 44,
        "start_time": "2022-03-16T08:34:53.598Z"
      },
      {
        "duration": 368,
        "start_time": "2022-03-16T08:34:54.537Z"
      },
      {
        "duration": 57,
        "start_time": "2022-03-16T08:35:13.157Z"
      },
      {
        "duration": 685,
        "start_time": "2022-03-16T08:39:22.269Z"
      },
      {
        "duration": 765,
        "start_time": "2022-03-16T08:40:07.156Z"
      },
      {
        "duration": 821,
        "start_time": "2022-03-16T08:40:36.218Z"
      },
      {
        "duration": 728,
        "start_time": "2022-03-16T08:48:21.378Z"
      },
      {
        "duration": 776,
        "start_time": "2022-03-16T08:48:22.109Z"
      },
      {
        "duration": 799,
        "start_time": "2022-03-16T08:48:22.887Z"
      },
      {
        "duration": 116,
        "start_time": "2022-03-16T08:52:53.688Z"
      },
      {
        "duration": 26,
        "start_time": "2022-03-16T08:53:00.497Z"
      },
      {
        "duration": 97,
        "start_time": "2022-03-16T08:53:04.104Z"
      },
      {
        "duration": 12,
        "start_time": "2022-03-16T08:53:06.121Z"
      },
      {
        "duration": 11,
        "start_time": "2022-03-16T08:53:07.210Z"
      },
      {
        "duration": 10,
        "start_time": "2022-03-16T08:53:07.697Z"
      },
      {
        "duration": 67,
        "start_time": "2022-03-16T08:53:36.038Z"
      },
      {
        "duration": 96,
        "start_time": "2022-03-16T08:53:38.207Z"
      },
      {
        "duration": 104,
        "start_time": "2022-03-16T08:53:38.907Z"
      },
      {
        "duration": 62,
        "start_time": "2022-03-16T08:54:57.847Z"
      },
      {
        "duration": 105,
        "start_time": "2022-03-16T08:54:58.597Z"
      },
      {
        "duration": 4,
        "start_time": "2022-03-16T08:56:08.405Z"
      },
      {
        "duration": 12,
        "start_time": "2022-03-16T08:56:08.622Z"
      },
      {
        "duration": 14,
        "start_time": "2022-03-16T08:56:08.825Z"
      },
      {
        "duration": 12,
        "start_time": "2022-03-16T08:56:08.988Z"
      },
      {
        "duration": 56,
        "start_time": "2022-03-16T08:56:09.978Z"
      },
      {
        "duration": 11,
        "start_time": "2022-03-16T08:56:10.847Z"
      },
      {
        "duration": 52,
        "start_time": "2022-03-16T08:56:16.167Z"
      },
      {
        "duration": 10,
        "start_time": "2022-03-16T08:56:16.380Z"
      },
      {
        "duration": 59,
        "start_time": "2022-03-16T08:56:42.517Z"
      },
      {
        "duration": 62,
        "start_time": "2022-03-16T08:57:41.705Z"
      },
      {
        "duration": 64,
        "start_time": "2022-03-16T08:57:49.410Z"
      },
      {
        "duration": 67,
        "start_time": "2022-03-16T08:58:05.625Z"
      },
      {
        "duration": 68,
        "start_time": "2022-03-16T08:59:02.187Z"
      },
      {
        "duration": 89,
        "start_time": "2022-03-16T09:06:10.387Z"
      },
      {
        "duration": 1292,
        "start_time": "2022-03-16T09:06:40.395Z"
      },
      {
        "duration": 1454,
        "start_time": "2022-03-16T09:07:28.280Z"
      },
      {
        "duration": 1506,
        "start_time": "2022-03-16T09:08:09.477Z"
      },
      {
        "duration": 62,
        "start_time": "2022-03-16T09:11:11.205Z"
      },
      {
        "duration": 72,
        "start_time": "2022-03-16T09:11:15.684Z"
      },
      {
        "duration": 70,
        "start_time": "2022-03-16T09:11:17.228Z"
      },
      {
        "duration": 63,
        "start_time": "2022-03-16T09:11:30.517Z"
      },
      {
        "duration": 67,
        "start_time": "2022-03-16T09:11:31.408Z"
      },
      {
        "duration": 66,
        "start_time": "2022-03-16T09:11:33.011Z"
      },
      {
        "duration": 1439,
        "start_time": "2022-03-16T09:11:56.297Z"
      },
      {
        "duration": 1594,
        "start_time": "2022-03-16T09:11:59.017Z"
      },
      {
        "duration": 1509,
        "start_time": "2022-03-16T09:12:01.417Z"
      },
      {
        "duration": 89,
        "start_time": "2022-03-16T09:12:42.117Z"
      },
      {
        "duration": 104,
        "start_time": "2022-03-16T09:13:31.601Z"
      },
      {
        "duration": 128,
        "start_time": "2022-03-16T09:13:42.175Z"
      },
      {
        "duration": 53,
        "start_time": "2022-03-16T09:13:54.057Z"
      },
      {
        "duration": 5,
        "start_time": "2022-03-16T09:16:59.847Z"
      },
      {
        "duration": 12,
        "start_time": "2022-03-16T09:17:00.687Z"
      },
      {
        "duration": 12,
        "start_time": "2022-03-16T09:17:00.943Z"
      },
      {
        "duration": 11,
        "start_time": "2022-03-16T09:17:01.086Z"
      },
      {
        "duration": 19,
        "start_time": "2022-03-16T09:17:51.097Z"
      },
      {
        "duration": 20,
        "start_time": "2022-03-16T09:18:19.616Z"
      },
      {
        "duration": 19,
        "start_time": "2022-03-16T09:18:19.987Z"
      },
      {
        "duration": 283,
        "start_time": "2022-03-16T09:20:45.018Z"
      },
      {
        "duration": 286,
        "start_time": "2022-03-16T09:20:45.304Z"
      },
      {
        "duration": 297,
        "start_time": "2022-03-16T09:20:45.592Z"
      },
      {
        "duration": 21,
        "start_time": "2022-03-16T09:22:52.747Z"
      },
      {
        "duration": 22,
        "start_time": "2022-03-16T09:23:03.147Z"
      },
      {
        "duration": 269,
        "start_time": "2022-03-16T09:23:34.225Z"
      },
      {
        "duration": 294,
        "start_time": "2022-03-16T09:23:35.387Z"
      },
      {
        "duration": 298,
        "start_time": "2022-03-16T09:23:36.329Z"
      },
      {
        "duration": 74,
        "start_time": "2022-03-16T09:23:57.127Z"
      },
      {
        "duration": 86,
        "start_time": "2022-03-16T09:23:57.518Z"
      },
      {
        "duration": 134,
        "start_time": "2022-03-16T09:23:58.167Z"
      },
      {
        "duration": 102,
        "start_time": "2022-03-16T09:24:50.301Z"
      },
      {
        "duration": 95,
        "start_time": "2022-03-16T09:25:00.007Z"
      },
      {
        "duration": 93,
        "start_time": "2022-03-16T09:25:15.698Z"
      },
      {
        "duration": 7,
        "start_time": "2022-03-16T09:40:42.339Z"
      },
      {
        "duration": 43,
        "start_time": "2022-03-16T09:41:08.278Z"
      },
      {
        "duration": 39,
        "start_time": "2022-03-16T09:41:12.737Z"
      },
      {
        "duration": 9,
        "start_time": "2022-03-16T09:42:10.249Z"
      },
      {
        "duration": 7,
        "start_time": "2022-03-16T09:42:34.179Z"
      },
      {
        "duration": 4,
        "start_time": "2022-03-16T09:46:54.407Z"
      },
      {
        "duration": 12,
        "start_time": "2022-03-16T09:46:54.867Z"
      },
      {
        "duration": 12,
        "start_time": "2022-03-16T09:46:55.917Z"
      },
      {
        "duration": 12,
        "start_time": "2022-03-16T09:46:56.198Z"
      },
      {
        "duration": 6,
        "start_time": "2022-03-16T09:47:13.910Z"
      },
      {
        "duration": 16,
        "start_time": "2022-03-16T09:47:23.867Z"
      },
      {
        "duration": 7,
        "start_time": "2022-03-16T09:47:26.117Z"
      },
      {
        "duration": 16,
        "start_time": "2022-03-16T09:47:30.687Z"
      },
      {
        "duration": 8,
        "start_time": "2022-03-16T09:47:31.097Z"
      },
      {
        "duration": 8,
        "start_time": "2022-03-16T09:47:45.130Z"
      },
      {
        "duration": 7,
        "start_time": "2022-03-16T09:48:03.679Z"
      },
      {
        "duration": 8,
        "start_time": "2022-03-16T09:48:46.546Z"
      },
      {
        "duration": 7,
        "start_time": "2022-03-16T09:48:59.279Z"
      },
      {
        "duration": 90,
        "start_time": "2022-03-16T09:51:09.239Z"
      },
      {
        "duration": 6,
        "start_time": "2022-03-16T09:51:17.678Z"
      },
      {
        "duration": 6,
        "start_time": "2022-03-16T09:51:44.556Z"
      },
      {
        "duration": 245,
        "start_time": "2022-03-16T09:52:09.457Z"
      },
      {
        "duration": 7,
        "start_time": "2022-03-16T09:52:16.230Z"
      },
      {
        "duration": 11,
        "start_time": "2022-03-16T09:52:35.677Z"
      },
      {
        "duration": 7,
        "start_time": "2022-03-16T09:52:43.809Z"
      },
      {
        "duration": 11,
        "start_time": "2022-03-16T09:53:00.127Z"
      },
      {
        "duration": 16,
        "start_time": "2022-03-16T09:53:03.247Z"
      },
      {
        "duration": 47,
        "start_time": "2022-03-16T09:53:06.041Z"
      },
      {
        "duration": 49,
        "start_time": "2022-03-16T09:53:08.717Z"
      },
      {
        "duration": 52,
        "start_time": "2022-03-16T09:53:10.277Z"
      },
      {
        "duration": 1029,
        "start_time": "2022-03-16T09:53:56.698Z"
      },
      {
        "duration": 1054,
        "start_time": "2022-03-16T09:53:59.717Z"
      },
      {
        "duration": 1190,
        "start_time": "2022-03-16T09:54:01.569Z"
      },
      {
        "duration": 1061,
        "start_time": "2022-03-16T09:54:37.157Z"
      },
      {
        "duration": 32,
        "start_time": "2022-03-16T09:54:42.323Z"
      },
      {
        "duration": 114,
        "start_time": "2022-03-16T09:54:43.087Z"
      },
      {
        "duration": 88,
        "start_time": "2022-03-16T09:54:47.218Z"
      },
      {
        "duration": 7,
        "start_time": "2022-03-16T09:55:54.079Z"
      },
      {
        "duration": 11,
        "start_time": "2022-03-16T09:55:57.395Z"
      },
      {
        "duration": 7,
        "start_time": "2022-03-16T09:55:57.932Z"
      },
      {
        "duration": 12,
        "start_time": "2022-03-16T09:56:03.357Z"
      },
      {
        "duration": 7,
        "start_time": "2022-03-16T09:56:03.739Z"
      },
      {
        "duration": 11,
        "start_time": "2022-03-16T09:56:06.660Z"
      },
      {
        "duration": 7,
        "start_time": "2022-03-16T09:56:07.683Z"
      },
      {
        "duration": 11,
        "start_time": "2022-03-16T09:56:11.745Z"
      },
      {
        "duration": 7,
        "start_time": "2022-03-16T09:56:12.499Z"
      },
      {
        "duration": 11,
        "start_time": "2022-03-16T09:57:06.008Z"
      },
      {
        "duration": 26,
        "start_time": "2022-03-16T09:57:06.021Z"
      },
      {
        "duration": 12,
        "start_time": "2022-03-16T09:57:11.005Z"
      },
      {
        "duration": 7,
        "start_time": "2022-03-16T09:57:11.667Z"
      },
      {
        "duration": 1322,
        "start_time": "2022-03-16T09:57:15.617Z"
      },
      {
        "duration": 657,
        "start_time": "2022-03-16T09:57:16.284Z"
      },
      {
        "duration": 12,
        "start_time": "2022-03-16T09:57:21.176Z"
      },
      {
        "duration": 7,
        "start_time": "2022-03-16T09:57:21.767Z"
      },
      {
        "duration": 4,
        "start_time": "2022-03-16T10:01:56.097Z"
      },
      {
        "duration": 621,
        "start_time": "2022-03-16T10:02:07.598Z"
      },
      {
        "duration": 5,
        "start_time": "2022-03-16T10:02:15.477Z"
      },
      {
        "duration": 12,
        "start_time": "2022-03-16T10:02:16.248Z"
      },
      {
        "duration": 5,
        "start_time": "2022-03-16T10:02:45.087Z"
      },
      {
        "duration": 13,
        "start_time": "2022-03-16T10:02:45.338Z"
      },
      {
        "duration": 9,
        "start_time": "2022-03-16T10:02:52.189Z"
      },
      {
        "duration": 6,
        "start_time": "2022-03-16T10:03:00.607Z"
      },
      {
        "duration": 13,
        "start_time": "2022-03-16T10:03:01.038Z"
      },
      {
        "duration": 7,
        "start_time": "2022-03-16T10:03:08.559Z"
      },
      {
        "duration": 1252,
        "start_time": "2022-03-16T10:03:31.277Z"
      },
      {
        "duration": 677,
        "start_time": "2022-03-16T10:03:31.855Z"
      },
      {
        "duration": 1363,
        "start_time": "2022-03-16T10:03:38.937Z"
      },
      {
        "duration": 666,
        "start_time": "2022-03-16T10:03:39.636Z"
      },
      {
        "duration": 5,
        "start_time": "2022-03-16T10:03:43.877Z"
      },
      {
        "duration": 1351,
        "start_time": "2022-03-16T10:03:44.656Z"
      },
      {
        "duration": 12,
        "start_time": "2022-03-16T10:03:49.437Z"
      },
      {
        "duration": 6,
        "start_time": "2022-03-16T10:03:51.737Z"
      },
      {
        "duration": 6,
        "start_time": "2022-03-16T10:04:14.669Z"
      },
      {
        "duration": 6,
        "start_time": "2022-03-16T10:05:36.477Z"
      },
      {
        "duration": 504,
        "start_time": "2022-03-16T10:05:38.447Z"
      },
      {
        "duration": 5,
        "start_time": "2022-03-16T10:05:49.985Z"
      },
      {
        "duration": 10,
        "start_time": "2022-03-16T10:05:51.247Z"
      },
      {
        "duration": 7,
        "start_time": "2022-03-16T10:06:03.599Z"
      },
      {
        "duration": 13,
        "start_time": "2022-03-16T10:06:11.457Z"
      },
      {
        "duration": 6,
        "start_time": "2022-03-16T10:06:12.419Z"
      },
      {
        "duration": 11,
        "start_time": "2022-03-16T10:06:15.577Z"
      },
      {
        "duration": 7,
        "start_time": "2022-03-16T10:06:16.047Z"
      },
      {
        "duration": 580,
        "start_time": "2022-03-16T10:06:20.477Z"
      },
      {
        "duration": 630,
        "start_time": "2022-03-16T10:06:20.429Z"
      },
      {
        "duration": 5,
        "start_time": "2022-03-16T10:06:23.137Z"
      },
      {
        "duration": 609,
        "start_time": "2022-03-16T10:06:23.396Z"
      },
      {
        "duration": 4,
        "start_time": "2022-03-16T10:06:46.158Z"
      },
      {
        "duration": 11,
        "start_time": "2022-03-16T10:07:04.175Z"
      },
      {
        "duration": 7,
        "start_time": "2022-03-16T10:07:05.996Z"
      },
      {
        "duration": 11,
        "start_time": "2022-03-16T10:07:11.045Z"
      },
      {
        "duration": 8,
        "start_time": "2022-03-16T10:07:11.429Z"
      },
      {
        "duration": 4,
        "start_time": "2022-03-16T10:07:13.317Z"
      },
      {
        "duration": 12,
        "start_time": "2022-03-16T10:07:13.767Z"
      },
      {
        "duration": 8,
        "start_time": "2022-03-16T10:07:15.479Z"
      },
      {
        "duration": 12,
        "start_time": "2022-03-16T10:07:18.277Z"
      },
      {
        "duration": 8,
        "start_time": "2022-03-16T10:07:18.670Z"
      },
      {
        "duration": 12,
        "start_time": "2022-03-16T10:07:22.655Z"
      },
      {
        "duration": 7,
        "start_time": "2022-03-16T10:07:22.887Z"
      },
      {
        "duration": 5,
        "start_time": "2022-03-16T10:08:16.681Z"
      },
      {
        "duration": 12,
        "start_time": "2022-03-16T10:08:17.116Z"
      },
      {
        "duration": 7,
        "start_time": "2022-03-16T10:08:22.280Z"
      },
      {
        "duration": 8,
        "start_time": "2022-03-16T10:08:27.709Z"
      },
      {
        "duration": 14,
        "start_time": "2022-03-16T10:08:31.627Z"
      },
      {
        "duration": 8,
        "start_time": "2022-03-16T10:08:32.080Z"
      },
      {
        "duration": 13,
        "start_time": "2022-03-16T10:08:35.997Z"
      },
      {
        "duration": 7,
        "start_time": "2022-03-16T10:08:36.389Z"
      },
      {
        "duration": 12,
        "start_time": "2022-03-16T10:08:40.587Z"
      },
      {
        "duration": 7,
        "start_time": "2022-03-16T10:08:41.090Z"
      },
      {
        "duration": 13,
        "start_time": "2022-03-16T10:08:45.058Z"
      },
      {
        "duration": 8,
        "start_time": "2022-03-16T10:08:45.279Z"
      },
      {
        "duration": 11,
        "start_time": "2022-03-16T10:08:47.477Z"
      },
      {
        "duration": 7,
        "start_time": "2022-03-16T10:08:47.659Z"
      },
      {
        "duration": 11,
        "start_time": "2022-03-16T10:08:50.438Z"
      },
      {
        "duration": 7,
        "start_time": "2022-03-16T10:08:50.597Z"
      },
      {
        "duration": 11,
        "start_time": "2022-03-16T10:08:52.935Z"
      },
      {
        "duration": 7,
        "start_time": "2022-03-16T10:08:53.079Z"
      },
      {
        "duration": 11,
        "start_time": "2022-03-16T10:08:55.237Z"
      },
      {
        "duration": 7,
        "start_time": "2022-03-16T10:08:55.349Z"
      },
      {
        "duration": 10,
        "start_time": "2022-03-16T10:09:18.717Z"
      },
      {
        "duration": 7,
        "start_time": "2022-03-16T10:09:23.992Z"
      },
      {
        "duration": 8,
        "start_time": "2022-03-16T10:09:27.950Z"
      },
      {
        "duration": 6,
        "start_time": "2022-03-16T10:09:31.187Z"
      },
      {
        "duration": 12,
        "start_time": "2022-03-16T10:09:31.427Z"
      },
      {
        "duration": 8,
        "start_time": "2022-03-16T10:09:31.855Z"
      },
      {
        "duration": 5,
        "start_time": "2022-03-16T10:09:41.145Z"
      },
      {
        "duration": 14,
        "start_time": "2022-03-16T10:09:41.848Z"
      },
      {
        "duration": 14,
        "start_time": "2022-03-16T10:09:45.697Z"
      },
      {
        "duration": 7,
        "start_time": "2022-03-16T10:09:45.940Z"
      },
      {
        "duration": 12,
        "start_time": "2022-03-16T10:09:48.872Z"
      },
      {
        "duration": 7,
        "start_time": "2022-03-16T10:09:49.189Z"
      },
      {
        "duration": 12,
        "start_time": "2022-03-16T10:09:52.137Z"
      },
      {
        "duration": 7,
        "start_time": "2022-03-16T10:09:52.381Z"
      },
      {
        "duration": 11,
        "start_time": "2022-03-16T10:09:57.077Z"
      },
      {
        "duration": 6,
        "start_time": "2022-03-16T10:09:57.259Z"
      },
      {
        "duration": 11,
        "start_time": "2022-03-16T10:10:01.417Z"
      },
      {
        "duration": 6,
        "start_time": "2022-03-16T10:10:01.744Z"
      },
      {
        "duration": 12,
        "start_time": "2022-03-16T10:10:05.817Z"
      },
      {
        "duration": 7,
        "start_time": "2022-03-16T10:10:06.000Z"
      },
      {
        "duration": 11,
        "start_time": "2022-03-16T10:10:09.367Z"
      },
      {
        "duration": 6,
        "start_time": "2022-03-16T10:10:09.520Z"
      },
      {
        "duration": 15,
        "start_time": "2022-03-16T10:10:12.428Z"
      },
      {
        "duration": 8,
        "start_time": "2022-03-16T10:10:12.779Z"
      },
      {
        "duration": 5,
        "start_time": "2022-03-16T10:10:46.547Z"
      },
      {
        "duration": 12,
        "start_time": "2022-03-16T10:10:46.882Z"
      },
      {
        "duration": 10,
        "start_time": "2022-03-16T10:10:47.377Z"
      },
      {
        "duration": 11,
        "start_time": "2022-03-16T10:10:47.585Z"
      },
      {
        "duration": 22,
        "start_time": "2022-03-16T10:10:48.338Z"
      },
      {
        "duration": 24,
        "start_time": "2022-03-16T10:10:49.608Z"
      },
      {
        "duration": 25,
        "start_time": "2022-03-16T10:10:50.349Z"
      },
      {
        "duration": 5,
        "start_time": "2022-03-16T10:10:56.457Z"
      },
      {
        "duration": 11,
        "start_time": "2022-03-16T10:10:56.647Z"
      },
      {
        "duration": 12,
        "start_time": "2022-03-16T10:10:56.818Z"
      },
      {
        "duration": 12,
        "start_time": "2022-03-16T10:10:56.985Z"
      },
      {
        "duration": 48,
        "start_time": "2022-03-16T10:10:57.568Z"
      },
      {
        "duration": 56,
        "start_time": "2022-03-16T10:10:58.158Z"
      },
      {
        "duration": 51,
        "start_time": "2022-03-16T10:10:58.378Z"
      },
      {
        "duration": 995,
        "start_time": "2022-03-16T10:11:03.498Z"
      },
      {
        "duration": 1591,
        "start_time": "2022-03-16T10:11:04.495Z"
      },
      {
        "duration": 1694,
        "start_time": "2022-03-16T10:11:06.089Z"
      },
      {
        "duration": 45,
        "start_time": "2022-03-16T10:11:10.968Z"
      },
      {
        "duration": 295,
        "start_time": "2022-03-16T10:11:11.107Z"
      },
      {
        "duration": 107,
        "start_time": "2022-03-16T10:11:11.404Z"
      },
      {
        "duration": 6,
        "start_time": "2022-03-16T10:11:16.737Z"
      },
      {
        "duration": 11,
        "start_time": "2022-03-16T10:11:16.909Z"
      },
      {
        "duration": 11,
        "start_time": "2022-03-16T10:11:17.078Z"
      },
      {
        "duration": 12,
        "start_time": "2022-03-16T10:11:17.254Z"
      },
      {
        "duration": 29,
        "start_time": "2022-03-16T10:11:17.888Z"
      },
      {
        "duration": 33,
        "start_time": "2022-03-16T10:11:18.088Z"
      },
      {
        "duration": 32,
        "start_time": "2022-03-16T10:11:18.268Z"
      },
      {
        "duration": 379,
        "start_time": "2022-03-16T10:11:47.158Z"
      },
      {
        "duration": 393,
        "start_time": "2022-03-16T10:11:47.539Z"
      },
      {
        "duration": 393,
        "start_time": "2022-03-16T10:11:47.935Z"
      },
      {
        "duration": 21,
        "start_time": "2022-03-16T10:12:26.279Z"
      },
      {
        "duration": 101,
        "start_time": "2022-03-16T10:12:26.502Z"
      },
      {
        "duration": 83,
        "start_time": "2022-03-16T10:12:26.918Z"
      },
      {
        "duration": 1167,
        "start_time": "2022-03-16T12:29:03.802Z"
      },
      {
        "duration": 6,
        "start_time": "2022-03-16T12:29:04.971Z"
      },
      {
        "duration": 44,
        "start_time": "2022-03-16T12:29:04.979Z"
      },
      {
        "duration": 87,
        "start_time": "2022-03-16T12:29:05.424Z"
      },
      {
        "duration": 3,
        "start_time": "2022-03-16T12:29:06.604Z"
      },
      {
        "duration": 5,
        "start_time": "2022-03-16T12:29:06.965Z"
      },
      {
        "duration": 5,
        "start_time": "2022-03-16T12:29:07.314Z"
      },
      {
        "duration": 12,
        "start_time": "2022-03-16T12:29:07.674Z"
      },
      {
        "duration": 62,
        "start_time": "2022-03-16T12:29:07.874Z"
      },
      {
        "duration": 64,
        "start_time": "2022-03-16T12:29:08.044Z"
      },
      {
        "duration": 67,
        "start_time": "2022-03-16T12:29:08.234Z"
      },
      {
        "duration": 43,
        "start_time": "2022-03-16T12:29:08.610Z"
      },
      {
        "duration": 3,
        "start_time": "2022-03-16T12:29:08.983Z"
      },
      {
        "duration": 10,
        "start_time": "2022-03-16T12:29:09.362Z"
      },
      {
        "duration": 11,
        "start_time": "2022-03-16T12:29:09.559Z"
      },
      {
        "duration": 11,
        "start_time": "2022-03-16T12:29:09.772Z"
      },
      {
        "duration": 3,
        "start_time": "2022-03-16T12:29:10.164Z"
      },
      {
        "duration": 25,
        "start_time": "2022-03-16T12:29:10.352Z"
      },
      {
        "duration": 27,
        "start_time": "2022-03-16T12:29:10.549Z"
      },
      {
        "duration": 26,
        "start_time": "2022-03-16T12:29:10.732Z"
      },
      {
        "duration": 3,
        "start_time": "2022-03-16T12:29:13.212Z"
      },
      {
        "duration": 34,
        "start_time": "2022-03-16T12:29:17.602Z"
      },
      {
        "duration": 35,
        "start_time": "2022-03-16T12:29:19.052Z"
      },
      {
        "duration": 36,
        "start_time": "2022-03-16T12:29:19.452Z"
      },
      {
        "duration": 10,
        "start_time": "2022-03-16T12:29:20.434Z"
      },
      {
        "duration": 9,
        "start_time": "2022-03-16T12:29:20.614Z"
      },
      {
        "duration": 10,
        "start_time": "2022-03-16T12:29:20.804Z"
      },
      {
        "duration": 883,
        "start_time": "2022-03-16T12:29:21.562Z"
      },
      {
        "duration": 987,
        "start_time": "2022-03-16T12:29:22.447Z"
      },
      {
        "duration": 968,
        "start_time": "2022-03-16T12:29:23.436Z"
      },
      {
        "duration": 10,
        "start_time": "2022-03-16T12:29:24.407Z"
      },
      {
        "duration": 11,
        "start_time": "2022-03-16T12:29:24.419Z"
      },
      {
        "duration": 32,
        "start_time": "2022-03-16T12:29:24.431Z"
      },
      {
        "duration": 30,
        "start_time": "2022-03-16T12:29:24.466Z"
      },
      {
        "duration": 112,
        "start_time": "2022-03-16T12:29:24.564Z"
      },
      {
        "duration": 188,
        "start_time": "2022-03-16T12:29:24.680Z"
      },
      {
        "duration": 9,
        "start_time": "2022-03-16T12:29:26.053Z"
      },
      {
        "duration": 9,
        "start_time": "2022-03-16T12:29:26.414Z"
      },
      {
        "duration": 9,
        "start_time": "2022-03-16T12:29:26.817Z"
      },
      {
        "duration": 11,
        "start_time": "2022-03-16T12:29:51.004Z"
      },
      {
        "duration": 6,
        "start_time": "2022-03-16T12:29:51.070Z"
      },
      {
        "duration": 6,
        "start_time": "2022-03-16T12:29:51.128Z"
      },
      {
        "duration": 34,
        "start_time": "2022-03-16T12:29:51.283Z"
      },
      {
        "duration": 36,
        "start_time": "2022-03-16T12:29:51.329Z"
      },
      {
        "duration": 37,
        "start_time": "2022-03-16T12:29:51.367Z"
      },
      {
        "duration": 597,
        "start_time": "2022-03-16T12:29:51.483Z"
      },
      {
        "duration": 658,
        "start_time": "2022-03-16T12:29:52.081Z"
      },
      {
        "duration": 665,
        "start_time": "2022-03-16T12:29:52.742Z"
      },
      {
        "duration": 155,
        "start_time": "2022-03-16T12:29:53.409Z"
      },
      {
        "duration": 197,
        "start_time": "2022-03-16T12:29:53.566Z"
      },
      {
        "duration": 103,
        "start_time": "2022-03-16T12:29:53.765Z"
      },
      {
        "duration": 94,
        "start_time": "2022-03-16T12:29:53.871Z"
      },
      {
        "duration": 12,
        "start_time": "2022-03-16T12:29:53.968Z"
      },
      {
        "duration": 9,
        "start_time": "2022-03-16T12:29:53.982Z"
      },
      {
        "duration": 10,
        "start_time": "2022-03-16T12:29:53.993Z"
      },
      {
        "duration": 43,
        "start_time": "2022-03-16T12:29:54.079Z"
      },
      {
        "duration": 47,
        "start_time": "2022-03-16T12:29:54.263Z"
      },
      {
        "duration": 45,
        "start_time": "2022-03-16T12:29:54.432Z"
      },
      {
        "duration": 1234,
        "start_time": "2022-03-16T12:29:55.193Z"
      },
      {
        "duration": 1371,
        "start_time": "2022-03-16T12:29:56.429Z"
      },
      {
        "duration": 963,
        "start_time": "2022-03-16T12:29:57.802Z"
      },
      {
        "duration": 97,
        "start_time": "2022-03-16T12:29:58.767Z"
      },
      {
        "duration": 124,
        "start_time": "2022-03-16T12:29:58.866Z"
      },
      {
        "duration": 211,
        "start_time": "2022-03-16T12:29:59.063Z"
      },
      {
        "duration": 5,
        "start_time": "2022-03-16T12:29:59.951Z"
      },
      {
        "duration": 11,
        "start_time": "2022-03-16T12:30:00.122Z"
      },
      {
        "duration": 11,
        "start_time": "2022-03-16T12:30:00.300Z"
      },
      {
        "duration": 10,
        "start_time": "2022-03-16T12:30:00.453Z"
      },
      {
        "duration": 21,
        "start_time": "2022-03-16T12:30:00.788Z"
      },
      {
        "duration": 24,
        "start_time": "2022-03-16T12:30:00.986Z"
      },
      {
        "duration": 22,
        "start_time": "2022-03-16T12:30:01.133Z"
      },
      {
        "duration": 342,
        "start_time": "2022-03-16T12:30:01.821Z"
      },
      {
        "duration": 350,
        "start_time": "2022-03-16T12:30:02.165Z"
      },
      {
        "duration": 358,
        "start_time": "2022-03-16T12:30:02.517Z"
      },
      {
        "duration": 19,
        "start_time": "2022-03-16T12:30:02.953Z"
      },
      {
        "duration": 19,
        "start_time": "2022-03-16T12:30:03.164Z"
      },
      {
        "duration": 19,
        "start_time": "2022-03-16T12:30:03.364Z"
      },
      {
        "duration": 317,
        "start_time": "2022-03-16T12:59:54.514Z"
      },
      {
        "duration": 352,
        "start_time": "2022-03-16T12:59:55.822Z"
      },
      {
        "duration": 335,
        "start_time": "2022-03-16T12:59:56.843Z"
      },
      {
        "duration": 1479,
        "start_time": "2022-03-16T13:00:10.318Z"
      },
      {
        "duration": 3,
        "start_time": "2022-03-16T13:00:11.800Z"
      },
      {
        "duration": 48,
        "start_time": "2022-03-16T13:00:11.806Z"
      },
      {
        "duration": 108,
        "start_time": "2022-03-16T13:00:11.857Z"
      },
      {
        "duration": 3,
        "start_time": "2022-03-16T13:00:11.967Z"
      },
      {
        "duration": 6,
        "start_time": "2022-03-16T13:00:11.972Z"
      },
      {
        "duration": 21,
        "start_time": "2022-03-16T13:00:11.980Z"
      },
      {
        "duration": 16,
        "start_time": "2022-03-16T13:00:12.003Z"
      },
      {
        "duration": 64,
        "start_time": "2022-03-16T13:00:12.021Z"
      },
      {
        "duration": 77,
        "start_time": "2022-03-16T13:00:12.087Z"
      },
      {
        "duration": 59,
        "start_time": "2022-03-16T13:00:12.166Z"
      },
      {
        "duration": 53,
        "start_time": "2022-03-16T13:00:12.227Z"
      },
      {
        "duration": 3,
        "start_time": "2022-03-16T13:00:12.282Z"
      },
      {
        "duration": 13,
        "start_time": "2022-03-16T13:00:12.287Z"
      },
      {
        "duration": 10,
        "start_time": "2022-03-16T13:00:12.301Z"
      },
      {
        "duration": 11,
        "start_time": "2022-03-16T13:00:12.313Z"
      },
      {
        "duration": 3,
        "start_time": "2022-03-16T13:00:12.325Z"
      },
      {
        "duration": 58,
        "start_time": "2022-03-16T13:00:12.330Z"
      },
      {
        "duration": 24,
        "start_time": "2022-03-16T13:00:12.389Z"
      },
      {
        "duration": 24,
        "start_time": "2022-03-16T13:00:12.415Z"
      },
      {
        "duration": 23,
        "start_time": "2022-03-16T13:00:12.440Z"
      },
      {
        "duration": 36,
        "start_time": "2022-03-16T13:00:12.465Z"
      },
      {
        "duration": 33,
        "start_time": "2022-03-16T13:00:12.503Z"
      },
      {
        "duration": 53,
        "start_time": "2022-03-16T13:00:12.538Z"
      },
      {
        "duration": 9,
        "start_time": "2022-03-16T13:00:12.593Z"
      },
      {
        "duration": 11,
        "start_time": "2022-03-16T13:00:12.604Z"
      },
      {
        "duration": 9,
        "start_time": "2022-03-16T13:00:12.619Z"
      },
      {
        "duration": 643,
        "start_time": "2022-03-16T13:00:12.631Z"
      },
      {
        "duration": 689,
        "start_time": "2022-03-16T13:00:13.275Z"
      },
      {
        "duration": 700,
        "start_time": "2022-03-16T13:00:13.965Z"
      },
      {
        "duration": 8,
        "start_time": "2022-03-16T13:00:14.667Z"
      },
      {
        "duration": 11,
        "start_time": "2022-03-16T13:00:14.677Z"
      },
      {
        "duration": 11,
        "start_time": "2022-03-16T13:00:14.690Z"
      },
      {
        "duration": 161,
        "start_time": "2022-03-16T13:00:14.703Z"
      },
      {
        "duration": 27,
        "start_time": "2022-03-16T13:00:14.866Z"
      },
      {
        "duration": 117,
        "start_time": "2022-03-16T13:00:14.965Z"
      },
      {
        "duration": 111,
        "start_time": "2022-03-16T13:00:15.171Z"
      },
      {
        "duration": 19,
        "start_time": "2022-03-16T13:00:15.284Z"
      },
      {
        "duration": 22,
        "start_time": "2022-03-16T13:00:15.305Z"
      },
      {
        "duration": 15,
        "start_time": "2022-03-16T13:00:15.329Z"
      },
      {
        "duration": 8,
        "start_time": "2022-03-16T13:00:15.346Z"
      },
      {
        "duration": 26,
        "start_time": "2022-03-16T13:00:15.356Z"
      },
      {
        "duration": 40,
        "start_time": "2022-03-16T13:00:15.384Z"
      },
      {
        "duration": 42,
        "start_time": "2022-03-16T13:00:15.426Z"
      },
      {
        "duration": 38,
        "start_time": "2022-03-16T13:00:15.470Z"
      },
      {
        "duration": 612,
        "start_time": "2022-03-16T13:00:15.509Z"
      },
      {
        "duration": 648,
        "start_time": "2022-03-16T13:00:16.124Z"
      },
      {
        "duration": 646,
        "start_time": "2022-03-16T13:00:16.773Z"
      },
      {
        "duration": 51,
        "start_time": "2022-03-16T13:00:17.421Z"
      },
      {
        "duration": 194,
        "start_time": "2022-03-16T13:00:17.475Z"
      },
      {
        "duration": 192,
        "start_time": "2022-03-16T13:00:17.672Z"
      },
      {
        "duration": 98,
        "start_time": "2022-03-16T13:00:17.866Z"
      },
      {
        "duration": 43,
        "start_time": "2022-03-16T13:00:17.966Z"
      },
      {
        "duration": 19,
        "start_time": "2022-03-16T13:00:18.011Z"
      },
      {
        "duration": 31,
        "start_time": "2022-03-16T13:00:18.032Z"
      },
      {
        "duration": 58,
        "start_time": "2022-03-16T13:00:18.065Z"
      },
      {
        "duration": 46,
        "start_time": "2022-03-16T13:00:18.125Z"
      },
      {
        "duration": 44,
        "start_time": "2022-03-16T13:00:18.173Z"
      },
      {
        "duration": 847,
        "start_time": "2022-03-16T13:00:18.218Z"
      },
      {
        "duration": 943,
        "start_time": "2022-03-16T13:00:19.067Z"
      },
      {
        "duration": 966,
        "start_time": "2022-03-16T13:00:20.012Z"
      },
      {
        "duration": 84,
        "start_time": "2022-03-16T13:00:20.980Z"
      },
      {
        "duration": 196,
        "start_time": "2022-03-16T13:00:21.067Z"
      },
      {
        "duration": 200,
        "start_time": "2022-03-16T13:00:21.266Z"
      },
      {
        "duration": 93,
        "start_time": "2022-03-16T13:00:21.471Z"
      },
      {
        "duration": 25,
        "start_time": "2022-03-16T13:00:21.566Z"
      },
      {
        "duration": 12,
        "start_time": "2022-03-16T13:00:21.593Z"
      },
      {
        "duration": 12,
        "start_time": "2022-03-16T13:00:21.607Z"
      },
      {
        "duration": 45,
        "start_time": "2022-03-16T13:00:21.621Z"
      },
      {
        "duration": 29,
        "start_time": "2022-03-16T13:00:21.668Z"
      },
      {
        "duration": 28,
        "start_time": "2022-03-16T13:00:21.699Z"
      },
      {
        "duration": 342,
        "start_time": "2022-03-16T13:00:21.728Z"
      },
      {
        "duration": 522,
        "start_time": "2022-03-16T13:00:22.072Z"
      },
      {
        "duration": 515,
        "start_time": "2022-03-16T13:00:22.597Z"
      },
      {
        "duration": 53,
        "start_time": "2022-03-16T13:00:23.114Z"
      },
      {
        "duration": 194,
        "start_time": "2022-03-16T13:00:23.169Z"
      },
      {
        "duration": 111,
        "start_time": "2022-03-16T13:00:23.371Z"
      },
      {
        "duration": 465,
        "start_time": "2022-03-16T13:00:23.484Z"
      },
      {
        "duration": 513,
        "start_time": "2022-03-16T13:03:20.483Z"
      },
      {
        "duration": 729,
        "start_time": "2022-03-16T13:03:33.621Z"
      },
      {
        "duration": 572,
        "start_time": "2022-03-16T13:04:07.122Z"
      },
      {
        "duration": 375,
        "start_time": "2022-03-16T13:04:22.449Z"
      },
      {
        "duration": 496,
        "start_time": "2022-03-16T13:04:36.241Z"
      },
      {
        "duration": 403,
        "start_time": "2022-03-16T13:04:47.082Z"
      },
      {
        "duration": 359,
        "start_time": "2022-03-16T13:04:57.852Z"
      },
      {
        "duration": 387,
        "start_time": "2022-03-16T13:05:03.812Z"
      },
      {
        "duration": 508,
        "start_time": "2022-03-16T13:05:24.861Z"
      },
      {
        "duration": 357,
        "start_time": "2022-03-16T13:05:33.671Z"
      },
      {
        "duration": 677,
        "start_time": "2022-03-16T13:05:47.890Z"
      },
      {
        "duration": 386,
        "start_time": "2022-03-16T13:06:18.831Z"
      },
      {
        "duration": 549,
        "start_time": "2022-03-16T13:06:39.821Z"
      },
      {
        "duration": 399,
        "start_time": "2022-03-16T13:06:44.683Z"
      },
      {
        "duration": 648,
        "start_time": "2022-03-16T13:11:20.081Z"
      },
      {
        "duration": 6,
        "start_time": "2022-03-16T13:12:47.336Z"
      },
      {
        "duration": 487,
        "start_time": "2022-03-16T13:12:51.337Z"
      },
      {
        "duration": 4,
        "start_time": "2022-03-16T13:13:50.356Z"
      },
      {
        "duration": 241,
        "start_time": "2022-03-16T13:14:21.960Z"
      },
      {
        "duration": 7,
        "start_time": "2022-03-16T13:15:38.381Z"
      },
      {
        "duration": 334,
        "start_time": "2022-03-16T13:24:40.641Z"
      },
      {
        "duration": 312,
        "start_time": "2022-03-16T13:28:54.623Z"
      },
      {
        "duration": 249,
        "start_time": "2022-03-16T13:29:20.300Z"
      },
      {
        "duration": 259,
        "start_time": "2022-03-16T13:32:23.963Z"
      },
      {
        "duration": 20818,
        "start_time": "2022-03-16T13:33:13.973Z"
      },
      {
        "duration": 1100,
        "start_time": "2022-03-16T13:33:43.202Z"
      },
      {
        "duration": 4,
        "start_time": "2022-03-16T13:33:44.304Z"
      },
      {
        "duration": 42,
        "start_time": "2022-03-16T13:33:44.311Z"
      },
      {
        "duration": 84,
        "start_time": "2022-03-16T13:33:44.355Z"
      },
      {
        "duration": 4,
        "start_time": "2022-03-16T13:33:44.441Z"
      },
      {
        "duration": 6,
        "start_time": "2022-03-16T13:33:44.463Z"
      },
      {
        "duration": 7,
        "start_time": "2022-03-16T13:33:44.471Z"
      },
      {
        "duration": 13,
        "start_time": "2022-03-16T13:33:44.480Z"
      },
      {
        "duration": 71,
        "start_time": "2022-03-16T13:33:44.512Z"
      },
      {
        "duration": 106,
        "start_time": "2022-03-16T13:33:44.586Z"
      },
      {
        "duration": 102,
        "start_time": "2022-03-16T13:33:44.694Z"
      },
      {
        "duration": 45,
        "start_time": "2022-03-16T13:33:44.798Z"
      },
      {
        "duration": 18,
        "start_time": "2022-03-16T13:33:44.845Z"
      },
      {
        "duration": 9,
        "start_time": "2022-03-16T13:33:44.865Z"
      },
      {
        "duration": 9,
        "start_time": "2022-03-16T13:33:44.876Z"
      },
      {
        "duration": 12,
        "start_time": "2022-03-16T13:33:44.887Z"
      },
      {
        "duration": 3,
        "start_time": "2022-03-16T13:33:44.900Z"
      },
      {
        "duration": 30,
        "start_time": "2022-03-16T13:33:44.904Z"
      },
      {
        "duration": 49,
        "start_time": "2022-03-16T13:33:44.935Z"
      },
      {
        "duration": 27,
        "start_time": "2022-03-16T13:33:44.986Z"
      },
      {
        "duration": 4,
        "start_time": "2022-03-16T13:33:45.015Z"
      },
      {
        "duration": 56,
        "start_time": "2022-03-16T13:33:45.021Z"
      },
      {
        "duration": 34,
        "start_time": "2022-03-16T13:33:45.079Z"
      },
      {
        "duration": 53,
        "start_time": "2022-03-16T13:33:45.115Z"
      },
      {
        "duration": 9,
        "start_time": "2022-03-16T13:33:45.169Z"
      },
      {
        "duration": 9,
        "start_time": "2022-03-16T13:33:45.180Z"
      },
      {
        "duration": 11,
        "start_time": "2022-03-16T13:33:45.195Z"
      },
      {
        "duration": 632,
        "start_time": "2022-03-16T13:33:45.208Z"
      },
      {
        "duration": 662,
        "start_time": "2022-03-16T13:33:45.842Z"
      },
      {
        "duration": 880,
        "start_time": "2022-03-16T13:33:46.506Z"
      },
      {
        "duration": 8,
        "start_time": "2022-03-16T13:33:47.388Z"
      },
      {
        "duration": 10,
        "start_time": "2022-03-16T13:33:47.397Z"
      },
      {
        "duration": 10,
        "start_time": "2022-03-16T13:33:47.409Z"
      },
      {
        "duration": 52,
        "start_time": "2022-03-16T13:33:47.421Z"
      },
      {
        "duration": 101,
        "start_time": "2022-03-16T13:33:47.564Z"
      },
      {
        "duration": 110,
        "start_time": "2022-03-16T13:33:47.667Z"
      },
      {
        "duration": 184,
        "start_time": "2022-03-16T13:33:47.779Z"
      },
      {
        "duration": 9,
        "start_time": "2022-03-16T13:33:47.965Z"
      },
      {
        "duration": 8,
        "start_time": "2022-03-16T13:33:47.975Z"
      },
      {
        "duration": 9,
        "start_time": "2022-03-16T13:33:47.984Z"
      },
      {
        "duration": 5,
        "start_time": "2022-03-16T13:33:47.994Z"
      },
      {
        "duration": 5,
        "start_time": "2022-03-16T13:33:48.001Z"
      },
      {
        "duration": 69,
        "start_time": "2022-03-16T13:33:48.008Z"
      },
      {
        "duration": 36,
        "start_time": "2022-03-16T13:33:48.079Z"
      },
      {
        "duration": 48,
        "start_time": "2022-03-16T13:33:48.117Z"
      },
      {
        "duration": 685,
        "start_time": "2022-03-16T13:33:48.166Z"
      },
      {
        "duration": 647,
        "start_time": "2022-03-16T13:33:48.853Z"
      },
      {
        "duration": 638,
        "start_time": "2022-03-16T13:33:49.501Z"
      },
      {
        "duration": 32,
        "start_time": "2022-03-16T13:33:50.140Z"
      },
      {
        "duration": 196,
        "start_time": "2022-03-16T13:33:50.268Z"
      },
      {
        "duration": 203,
        "start_time": "2022-03-16T13:33:50.467Z"
      },
      {
        "duration": 4,
        "start_time": "2022-03-16T13:33:50.763Z"
      },
      {
        "duration": 13,
        "start_time": "2022-03-16T13:33:50.768Z"
      },
      {
        "duration": 9,
        "start_time": "2022-03-16T13:33:50.783Z"
      },
      {
        "duration": 8,
        "start_time": "2022-03-16T13:33:50.793Z"
      },
      {
        "duration": 63,
        "start_time": "2022-03-16T13:33:50.803Z"
      },
      {
        "duration": 47,
        "start_time": "2022-03-16T13:33:50.868Z"
      },
      {
        "duration": 60,
        "start_time": "2022-03-16T13:33:50.917Z"
      },
      {
        "duration": 850,
        "start_time": "2022-03-16T13:33:50.979Z"
      },
      {
        "duration": 910,
        "start_time": "2022-03-16T13:33:51.831Z"
      },
      {
        "duration": 914,
        "start_time": "2022-03-16T13:33:52.743Z"
      },
      {
        "duration": 29,
        "start_time": "2022-03-16T13:33:53.663Z"
      },
      {
        "duration": 199,
        "start_time": "2022-03-16T13:33:53.764Z"
      },
      {
        "duration": 201,
        "start_time": "2022-03-16T13:33:53.966Z"
      },
      {
        "duration": 94,
        "start_time": "2022-03-16T13:33:54.169Z"
      },
      {
        "duration": 14,
        "start_time": "2022-03-16T13:33:54.265Z"
      },
      {
        "duration": 8,
        "start_time": "2022-03-16T13:33:54.281Z"
      },
      {
        "duration": 8,
        "start_time": "2022-03-16T13:33:54.291Z"
      },
      {
        "duration": 18,
        "start_time": "2022-03-16T13:33:54.301Z"
      },
      {
        "duration": 50,
        "start_time": "2022-03-16T13:33:54.321Z"
      },
      {
        "duration": 21,
        "start_time": "2022-03-16T13:33:54.373Z"
      },
      {
        "duration": 329,
        "start_time": "2022-03-16T13:33:54.396Z"
      },
      {
        "duration": 340,
        "start_time": "2022-03-16T13:33:54.727Z"
      },
      {
        "duration": 335,
        "start_time": "2022-03-16T13:33:55.069Z"
      },
      {
        "duration": 59,
        "start_time": "2022-03-16T13:33:55.406Z"
      },
      {
        "duration": 111,
        "start_time": "2022-03-16T13:33:55.468Z"
      },
      {
        "duration": 198,
        "start_time": "2022-03-16T13:33:55.665Z"
      },
      {
        "duration": 440,
        "start_time": "2022-03-16T13:33:55.866Z"
      },
      {
        "duration": 26179,
        "start_time": "2022-03-16T13:33:56.308Z"
      },
      {
        "duration": 1422,
        "start_time": "2022-03-16T13:36:33.310Z"
      },
      {
        "duration": 828,
        "start_time": "2022-03-16T13:36:39.338Z"
      },
      {
        "duration": 22535,
        "start_time": "2022-03-16T13:37:08.571Z"
      },
      {
        "duration": 237,
        "start_time": "2022-03-16T13:37:42.940Z"
      },
      {
        "duration": 21699,
        "start_time": "2022-03-16T13:37:55.431Z"
      },
      {
        "duration": 260,
        "start_time": "2022-03-16T13:38:19.829Z"
      },
      {
        "duration": 5,
        "start_time": "2022-03-16T13:38:25.352Z"
      },
      {
        "duration": 29734,
        "start_time": "2022-03-16T13:38:48.640Z"
      },
      {
        "duration": 339,
        "start_time": "2022-03-16T13:39:18.376Z"
      },
      {
        "duration": 838,
        "start_time": "2022-03-16T13:39:36.875Z"
      },
      {
        "duration": 930,
        "start_time": "2022-03-16T13:39:37.716Z"
      },
      {
        "duration": 942,
        "start_time": "2022-03-16T13:39:38.648Z"
      },
      {
        "duration": 6,
        "start_time": "2022-03-16T13:39:55.952Z"
      },
      {
        "duration": 8,
        "start_time": "2022-03-16T13:39:56.142Z"
      },
      {
        "duration": 8,
        "start_time": "2022-03-16T13:39:56.300Z"
      },
      {
        "duration": 33,
        "start_time": "2022-03-16T13:39:57.860Z"
      },
      {
        "duration": 37,
        "start_time": "2022-03-16T13:40:00.260Z"
      },
      {
        "duration": 38,
        "start_time": "2022-03-16T13:40:00.429Z"
      },
      {
        "duration": 623,
        "start_time": "2022-03-16T13:41:15.399Z"
      },
      {
        "duration": 748,
        "start_time": "2022-03-16T13:41:16.299Z"
      },
      {
        "duration": 659,
        "start_time": "2022-03-16T13:41:17.049Z"
      },
      {
        "duration": 25,
        "start_time": "2022-03-16T13:41:57.641Z"
      },
      {
        "duration": 26,
        "start_time": "2022-03-16T13:41:58.011Z"
      },
      {
        "duration": 74,
        "start_time": "2022-03-16T13:41:58.189Z"
      },
      {
        "duration": 4,
        "start_time": "2022-03-16T13:42:32.900Z"
      },
      {
        "duration": 10,
        "start_time": "2022-03-16T13:42:33.510Z"
      },
      {
        "duration": 10,
        "start_time": "2022-03-16T13:42:33.959Z"
      },
      {
        "duration": 9,
        "start_time": "2022-03-16T13:42:34.110Z"
      },
      {
        "duration": 44,
        "start_time": "2022-03-16T13:42:35.620Z"
      },
      {
        "duration": 49,
        "start_time": "2022-03-16T13:42:36.260Z"
      },
      {
        "duration": 48,
        "start_time": "2022-03-16T13:42:36.446Z"
      },
      {
        "duration": 887,
        "start_time": "2022-03-16T13:43:15.428Z"
      },
      {
        "duration": 930,
        "start_time": "2022-03-16T13:43:16.317Z"
      },
      {
        "duration": 947,
        "start_time": "2022-03-16T13:43:17.248Z"
      },
      {
        "duration": 76,
        "start_time": "2022-03-16T13:43:48.399Z"
      },
      {
        "duration": 94,
        "start_time": "2022-03-16T13:43:48.569Z"
      },
      {
        "duration": 100,
        "start_time": "2022-03-16T13:43:48.764Z"
      },
      {
        "duration": 4,
        "start_time": "2022-03-16T13:44:13.298Z"
      },
      {
        "duration": 10,
        "start_time": "2022-03-16T13:44:13.595Z"
      },
      {
        "duration": 9,
        "start_time": "2022-03-16T13:44:13.968Z"
      },
      {
        "duration": 14,
        "start_time": "2022-03-16T13:44:14.130Z"
      },
      {
        "duration": 27,
        "start_time": "2022-03-16T13:44:14.889Z"
      },
      {
        "duration": 23,
        "start_time": "2022-03-16T13:44:15.079Z"
      },
      {
        "duration": 23,
        "start_time": "2022-03-16T13:44:15.270Z"
      },
      {
        "duration": 311,
        "start_time": "2022-03-16T13:44:44.701Z"
      },
      {
        "duration": 364,
        "start_time": "2022-03-16T13:44:45.014Z"
      },
      {
        "duration": 352,
        "start_time": "2022-03-16T13:44:45.380Z"
      },
      {
        "duration": 59,
        "start_time": "2022-03-16T13:45:10.917Z"
      },
      {
        "duration": 20,
        "start_time": "2022-03-16T13:45:11.074Z"
      },
      {
        "duration": 63,
        "start_time": "2022-03-16T13:45:11.300Z"
      },
      {
        "duration": 83,
        "start_time": "2022-03-16T13:45:50.280Z"
      },
      {
        "duration": 19,
        "start_time": "2022-03-16T13:45:50.464Z"
      },
      {
        "duration": 21,
        "start_time": "2022-03-16T13:45:50.663Z"
      },
      {
        "duration": 940,
        "start_time": "2022-03-16T13:46:30.327Z"
      },
      {
        "duration": 919,
        "start_time": "2022-03-16T13:47:03.572Z"
      },
      {
        "duration": 931,
        "start_time": "2022-03-16T13:47:15.350Z"
      },
      {
        "duration": 59632,
        "start_time": "2022-03-16T13:48:21.311Z"
      },
      {
        "duration": 4,
        "start_time": "2022-03-16T13:49:20.945Z"
      },
      {
        "duration": 112621,
        "start_time": "2022-03-16T13:49:32.151Z"
      },
      {
        "duration": 11,
        "start_time": "2022-03-16T13:51:24.780Z"
      },
      {
        "duration": 5,
        "start_time": "2022-03-16T13:51:37.891Z"
      },
      {
        "duration": 4,
        "start_time": "2022-03-16T13:51:59.389Z"
      },
      {
        "duration": 3,
        "start_time": "2022-03-16T13:52:01.127Z"
      },
      {
        "duration": 4,
        "start_time": "2022-03-16T13:52:23.079Z"
      },
      {
        "duration": 4,
        "start_time": "2022-03-16T13:52:57.665Z"
      },
      {
        "duration": 30928,
        "start_time": "2022-03-16T13:58:17.317Z"
      },
      {
        "duration": 856,
        "start_time": "2022-03-16T13:58:47.392Z"
      },
      {
        "duration": 1186,
        "start_time": "2022-03-16T13:58:59.325Z"
      },
      {
        "duration": 3,
        "start_time": "2022-03-16T13:59:00.513Z"
      },
      {
        "duration": 38,
        "start_time": "2022-03-16T13:59:00.518Z"
      },
      {
        "duration": 121,
        "start_time": "2022-03-16T13:59:00.558Z"
      },
      {
        "duration": 3,
        "start_time": "2022-03-16T13:59:00.681Z"
      },
      {
        "duration": 14,
        "start_time": "2022-03-16T13:59:00.686Z"
      },
      {
        "duration": 31,
        "start_time": "2022-03-16T13:59:00.703Z"
      },
      {
        "duration": 36,
        "start_time": "2022-03-16T13:59:00.736Z"
      },
      {
        "duration": 74,
        "start_time": "2022-03-16T13:59:00.774Z"
      },
      {
        "duration": 77,
        "start_time": "2022-03-16T13:59:00.850Z"
      },
      {
        "duration": 90,
        "start_time": "2022-03-16T13:59:00.929Z"
      },
      {
        "duration": 66,
        "start_time": "2022-03-16T13:59:01.020Z"
      },
      {
        "duration": 3,
        "start_time": "2022-03-16T13:59:01.088Z"
      },
      {
        "duration": 20,
        "start_time": "2022-03-16T13:59:01.093Z"
      },
      {
        "duration": 61,
        "start_time": "2022-03-16T13:59:01.115Z"
      },
      {
        "duration": 23,
        "start_time": "2022-03-16T13:59:01.178Z"
      },
      {
        "duration": 4,
        "start_time": "2022-03-16T13:59:01.203Z"
      },
      {
        "duration": 32,
        "start_time": "2022-03-16T13:59:01.208Z"
      },
      {
        "duration": 27,
        "start_time": "2022-03-16T13:59:01.242Z"
      },
      {
        "duration": 31,
        "start_time": "2022-03-16T13:59:01.271Z"
      },
      {
        "duration": 4,
        "start_time": "2022-03-16T13:59:01.304Z"
      },
      {
        "duration": 55,
        "start_time": "2022-03-16T13:59:01.310Z"
      },
      {
        "duration": 39,
        "start_time": "2022-03-16T13:59:01.369Z"
      },
      {
        "duration": 39,
        "start_time": "2022-03-16T13:59:01.411Z"
      },
      {
        "duration": 11,
        "start_time": "2022-03-16T13:59:01.452Z"
      },
      {
        "duration": 56,
        "start_time": "2022-03-16T13:59:01.465Z"
      },
      {
        "duration": 8,
        "start_time": "2022-03-16T13:59:01.523Z"
      },
      {
        "duration": 830,
        "start_time": "2022-03-16T13:59:01.533Z"
      },
      {
        "duration": 676,
        "start_time": "2022-03-16T13:59:02.365Z"
      },
      {
        "duration": 679,
        "start_time": "2022-03-16T13:59:03.043Z"
      },
      {
        "duration": 9,
        "start_time": "2022-03-16T13:59:03.724Z"
      },
      {
        "duration": 8,
        "start_time": "2022-03-16T13:59:03.735Z"
      },
      {
        "duration": 9,
        "start_time": "2022-03-16T13:59:03.763Z"
      },
      {
        "duration": 95,
        "start_time": "2022-03-16T13:59:03.773Z"
      },
      {
        "duration": 110,
        "start_time": "2022-03-16T13:59:03.870Z"
      },
      {
        "duration": 187,
        "start_time": "2022-03-16T13:59:03.982Z"
      },
      {
        "duration": 191,
        "start_time": "2022-03-16T13:59:04.172Z"
      },
      {
        "duration": 10,
        "start_time": "2022-03-16T13:59:04.365Z"
      },
      {
        "duration": 9,
        "start_time": "2022-03-16T13:59:04.377Z"
      },
      {
        "duration": 9,
        "start_time": "2022-03-16T13:59:04.388Z"
      },
      {
        "duration": 6,
        "start_time": "2022-03-16T13:59:04.399Z"
      },
      {
        "duration": 7,
        "start_time": "2022-03-16T13:59:04.406Z"
      },
      {
        "duration": 76,
        "start_time": "2022-03-16T13:59:04.415Z"
      },
      {
        "duration": 36,
        "start_time": "2022-03-16T13:59:04.492Z"
      },
      {
        "duration": 57,
        "start_time": "2022-03-16T13:59:04.530Z"
      },
      {
        "duration": 595,
        "start_time": "2022-03-16T13:59:04.588Z"
      },
      {
        "duration": 645,
        "start_time": "2022-03-16T13:59:05.185Z"
      },
      {
        "duration": 651,
        "start_time": "2022-03-16T13:59:05.832Z"
      },
      {
        "duration": 82,
        "start_time": "2022-03-16T13:59:06.485Z"
      },
      {
        "duration": 130,
        "start_time": "2022-03-16T13:59:06.570Z"
      },
      {
        "duration": 126,
        "start_time": "2022-03-16T13:59:06.764Z"
      },
      {
        "duration": 104,
        "start_time": "2022-03-16T13:59:06.965Z"
      },
      {
        "duration": 17,
        "start_time": "2022-03-16T13:59:07.072Z"
      },
      {
        "duration": 10,
        "start_time": "2022-03-16T13:59:07.091Z"
      },
      {
        "duration": 25,
        "start_time": "2022-03-16T13:59:07.104Z"
      },
      {
        "duration": 48,
        "start_time": "2022-03-16T13:59:07.131Z"
      },
      {
        "duration": 45,
        "start_time": "2022-03-16T13:59:07.180Z"
      },
      {
        "duration": 62,
        "start_time": "2022-03-16T13:59:07.227Z"
      },
      {
        "duration": 960,
        "start_time": "2022-03-16T13:59:07.291Z"
      },
      {
        "duration": 975,
        "start_time": "2022-03-16T13:59:08.253Z"
      },
      {
        "duration": 1007,
        "start_time": "2022-03-16T13:59:09.230Z"
      },
      {
        "duration": 47,
        "start_time": "2022-03-16T13:59:10.239Z"
      },
      {
        "duration": 205,
        "start_time": "2022-03-16T13:59:10.364Z"
      },
      {
        "duration": 31,
        "start_time": "2022-03-16T13:59:10.662Z"
      },
      {
        "duration": 8,
        "start_time": "2022-03-16T13:59:10.764Z"
      },
      {
        "duration": 101,
        "start_time": "2022-03-16T13:59:10.774Z"
      },
      {
        "duration": 9,
        "start_time": "2022-03-16T13:59:10.877Z"
      },
      {
        "duration": 8,
        "start_time": "2022-03-16T13:59:10.891Z"
      },
      {
        "duration": 20,
        "start_time": "2022-03-16T13:59:10.901Z"
      },
      {
        "duration": 54,
        "start_time": "2022-03-16T13:59:10.922Z"
      },
      {
        "duration": 22,
        "start_time": "2022-03-16T13:59:10.978Z"
      },
      {
        "duration": 340,
        "start_time": "2022-03-16T13:59:11.002Z"
      },
      {
        "duration": 344,
        "start_time": "2022-03-16T13:59:11.344Z"
      },
      {
        "duration": 341,
        "start_time": "2022-03-16T13:59:11.690Z"
      },
      {
        "duration": 34,
        "start_time": "2022-03-16T13:59:12.033Z"
      },
      {
        "duration": 198,
        "start_time": "2022-03-16T13:59:12.069Z"
      },
      {
        "duration": 194,
        "start_time": "2022-03-16T13:59:12.270Z"
      },
      {
        "duration": 1201,
        "start_time": "2022-03-16T13:59:12.467Z"
      },
      {
        "duration": 51095,
        "start_time": "2022-03-16T13:59:13.670Z"
      },
      {
        "duration": 4,
        "start_time": "2022-03-16T14:00:04.767Z"
      },
      {
        "duration": 760,
        "start_time": "2022-03-16T14:00:04.773Z"
      },
      {
        "duration": 654,
        "start_time": "2022-03-16T14:02:20.260Z"
      },
      {
        "duration": 4,
        "start_time": "2022-03-16T14:02:28.228Z"
      },
      {
        "duration": 630,
        "start_time": "2022-03-16T14:02:46.746Z"
      },
      {
        "duration": 646,
        "start_time": "2022-03-16T14:06:55.596Z"
      },
      {
        "duration": 4,
        "start_time": "2022-03-16T14:07:34.027Z"
      },
      {
        "duration": 4,
        "start_time": "2022-03-16T14:07:53.825Z"
      },
      {
        "duration": 3,
        "start_time": "2022-03-16T14:08:32.904Z"
      },
      {
        "duration": 22,
        "start_time": "2022-03-16T14:08:33.105Z"
      },
      {
        "duration": 20,
        "start_time": "2022-03-16T14:08:33.765Z"
      },
      {
        "duration": 29,
        "start_time": "2022-03-16T14:08:33.968Z"
      },
      {
        "duration": 27,
        "start_time": "2022-03-16T14:10:23.252Z"
      },
      {
        "duration": 26,
        "start_time": "2022-03-16T14:10:36.295Z"
      },
      {
        "duration": 26,
        "start_time": "2022-03-16T14:10:54.623Z"
      },
      {
        "duration": 650,
        "start_time": "2022-03-16T14:11:02.983Z"
      },
      {
        "duration": 30,
        "start_time": "2022-03-16T14:11:16.684Z"
      },
      {
        "duration": 36,
        "start_time": "2022-03-16T14:11:17.115Z"
      },
      {
        "duration": 33,
        "start_time": "2022-03-16T14:11:17.305Z"
      },
      {
        "duration": 21,
        "start_time": "2022-03-16T14:11:24.706Z"
      },
      {
        "duration": 21,
        "start_time": "2022-03-16T14:11:24.936Z"
      },
      {
        "duration": 23,
        "start_time": "2022-03-16T14:11:25.335Z"
      },
      {
        "duration": 24,
        "start_time": "2022-03-16T14:11:29.386Z"
      },
      {
        "duration": 4,
        "start_time": "2022-03-16T14:11:29.773Z"
      },
      {
        "duration": 32,
        "start_time": "2022-03-16T14:11:30.596Z"
      },
      {
        "duration": 36,
        "start_time": "2022-03-16T14:11:30.766Z"
      },
      {
        "duration": 34,
        "start_time": "2022-03-16T14:11:30.916Z"
      },
      {
        "duration": 10,
        "start_time": "2022-03-16T14:11:33.015Z"
      },
      {
        "duration": 10,
        "start_time": "2022-03-16T14:11:33.188Z"
      },
      {
        "duration": 9,
        "start_time": "2022-03-16T14:11:33.348Z"
      },
      {
        "duration": 647,
        "start_time": "2022-03-16T14:11:35.166Z"
      },
      {
        "duration": 702,
        "start_time": "2022-03-16T14:11:35.815Z"
      },
      {
        "duration": 660,
        "start_time": "2022-03-16T14:11:36.519Z"
      },
      {
        "duration": 10,
        "start_time": "2022-03-16T14:12:15.475Z"
      },
      {
        "duration": 10,
        "start_time": "2022-03-16T14:12:15.636Z"
      },
      {
        "duration": 10,
        "start_time": "2022-03-16T14:12:15.816Z"
      },
      {
        "duration": 623,
        "start_time": "2022-03-16T14:12:21.276Z"
      },
      {
        "duration": 640,
        "start_time": "2022-03-16T14:13:12.423Z"
      },
      {
        "duration": 559,
        "start_time": "2022-03-16T14:13:21.615Z"
      },
      {
        "duration": 579,
        "start_time": "2022-03-16T14:13:32.186Z"
      },
      {
        "duration": 1006,
        "start_time": "2022-03-16T14:13:40.476Z"
      },
      {
        "duration": 932,
        "start_time": "2022-03-16T14:13:44.325Z"
      },
      {
        "duration": 1174,
        "start_time": "2022-03-16T14:15:35.761Z"
      },
      {
        "duration": 4,
        "start_time": "2022-03-16T14:15:36.937Z"
      },
      {
        "duration": 26,
        "start_time": "2022-03-16T14:15:36.943Z"
      },
      {
        "duration": 68,
        "start_time": "2022-03-16T14:15:36.971Z"
      },
      {
        "duration": 3,
        "start_time": "2022-03-16T14:15:37.041Z"
      },
      {
        "duration": 20,
        "start_time": "2022-03-16T14:15:37.045Z"
      },
      {
        "duration": 6,
        "start_time": "2022-03-16T14:15:37.067Z"
      },
      {
        "duration": 13,
        "start_time": "2022-03-16T14:15:37.075Z"
      },
      {
        "duration": 74,
        "start_time": "2022-03-16T14:15:37.090Z"
      },
      {
        "duration": 59,
        "start_time": "2022-03-16T14:15:37.166Z"
      },
      {
        "duration": 85,
        "start_time": "2022-03-16T14:15:37.227Z"
      },
      {
        "duration": 49,
        "start_time": "2022-03-16T14:15:37.314Z"
      },
      {
        "duration": 3,
        "start_time": "2022-03-16T14:15:37.364Z"
      },
      {
        "duration": 13,
        "start_time": "2022-03-16T14:15:37.369Z"
      },
      {
        "duration": 10,
        "start_time": "2022-03-16T14:15:37.383Z"
      },
      {
        "duration": 14,
        "start_time": "2022-03-16T14:15:37.394Z"
      },
      {
        "duration": 3,
        "start_time": "2022-03-16T14:15:37.409Z"
      },
      {
        "duration": 51,
        "start_time": "2022-03-16T14:15:37.414Z"
      },
      {
        "duration": 31,
        "start_time": "2022-03-16T14:15:37.467Z"
      },
      {
        "duration": 31,
        "start_time": "2022-03-16T14:15:37.500Z"
      },
      {
        "duration": 3,
        "start_time": "2022-03-16T14:15:37.533Z"
      },
      {
        "duration": 57,
        "start_time": "2022-03-16T14:15:37.537Z"
      },
      {
        "duration": 35,
        "start_time": "2022-03-16T14:15:37.598Z"
      },
      {
        "duration": 59,
        "start_time": "2022-03-16T14:15:37.636Z"
      },
      {
        "duration": 8,
        "start_time": "2022-03-16T14:15:37.697Z"
      },
      {
        "duration": 9,
        "start_time": "2022-03-16T14:15:37.707Z"
      },
      {
        "duration": 10,
        "start_time": "2022-03-16T14:15:37.718Z"
      },
      {
        "duration": 657,
        "start_time": "2022-03-16T14:15:37.729Z"
      },
      {
        "duration": 714,
        "start_time": "2022-03-16T14:15:38.389Z"
      },
      {
        "duration": 692,
        "start_time": "2022-03-16T14:15:39.105Z"
      },
      {
        "duration": 10,
        "start_time": "2022-03-16T14:15:39.799Z"
      },
      {
        "duration": 10,
        "start_time": "2022-03-16T14:15:39.810Z"
      },
      {
        "duration": 8,
        "start_time": "2022-03-16T14:15:39.821Z"
      },
      {
        "duration": 55,
        "start_time": "2022-03-16T14:15:39.830Z"
      },
      {
        "duration": 117,
        "start_time": "2022-03-16T14:15:39.964Z"
      },
      {
        "duration": 192,
        "start_time": "2022-03-16T14:15:40.083Z"
      },
      {
        "duration": 95,
        "start_time": "2022-03-16T14:15:40.278Z"
      },
      {
        "duration": 98,
        "start_time": "2022-03-16T14:15:40.378Z"
      },
      {
        "duration": 9,
        "start_time": "2022-03-16T14:15:40.478Z"
      },
      {
        "duration": 10,
        "start_time": "2022-03-16T14:15:40.488Z"
      },
      {
        "duration": 6,
        "start_time": "2022-03-16T14:15:40.499Z"
      },
      {
        "duration": 10,
        "start_time": "2022-03-16T14:15:40.507Z"
      },
      {
        "duration": 60,
        "start_time": "2022-03-16T14:15:40.519Z"
      },
      {
        "duration": 37,
        "start_time": "2022-03-16T14:15:40.580Z"
      },
      {
        "duration": 52,
        "start_time": "2022-03-16T14:15:40.619Z"
      },
      {
        "duration": 591,
        "start_time": "2022-03-16T14:15:40.673Z"
      },
      {
        "duration": 644,
        "start_time": "2022-03-16T14:15:41.265Z"
      },
      {
        "duration": 643,
        "start_time": "2022-03-16T14:15:41.911Z"
      },
      {
        "duration": 107,
        "start_time": "2022-03-16T14:15:42.555Z"
      },
      {
        "duration": 111,
        "start_time": "2022-03-16T14:15:42.665Z"
      },
      {
        "duration": 199,
        "start_time": "2022-03-16T14:15:42.864Z"
      },
      {
        "duration": 93,
        "start_time": "2022-03-16T14:15:43.070Z"
      },
      {
        "duration": 11,
        "start_time": "2022-03-16T14:15:43.166Z"
      },
      {
        "duration": 10,
        "start_time": "2022-03-16T14:15:43.178Z"
      },
      {
        "duration": 9,
        "start_time": "2022-03-16T14:15:43.190Z"
      },
      {
        "duration": 65,
        "start_time": "2022-03-16T14:15:43.200Z"
      },
      {
        "duration": 43,
        "start_time": "2022-03-16T14:15:43.267Z"
      },
      {
        "duration": 61,
        "start_time": "2022-03-16T14:15:43.312Z"
      },
      {
        "duration": 871,
        "start_time": "2022-03-16T14:15:43.375Z"
      },
      {
        "duration": 1008,
        "start_time": "2022-03-16T14:15:44.248Z"
      },
      {
        "duration": 932,
        "start_time": "2022-03-16T14:15:45.262Z"
      },
      {
        "duration": 68,
        "start_time": "2022-03-16T14:15:46.196Z"
      },
      {
        "duration": 121,
        "start_time": "2022-03-16T14:15:46.266Z"
      },
      {
        "duration": 200,
        "start_time": "2022-03-16T14:15:46.465Z"
      },
      {
        "duration": 94,
        "start_time": "2022-03-16T14:15:46.671Z"
      },
      {
        "duration": 13,
        "start_time": "2022-03-16T14:15:46.767Z"
      },
      {
        "duration": 12,
        "start_time": "2022-03-16T14:15:46.782Z"
      },
      {
        "duration": 12,
        "start_time": "2022-03-16T14:15:46.800Z"
      },
      {
        "duration": 21,
        "start_time": "2022-03-16T14:15:46.814Z"
      },
      {
        "duration": 23,
        "start_time": "2022-03-16T14:15:46.863Z"
      },
      {
        "duration": 21,
        "start_time": "2022-03-16T14:15:46.888Z"
      },
      {
        "duration": 339,
        "start_time": "2022-03-16T14:15:46.911Z"
      },
      {
        "duration": 346,
        "start_time": "2022-03-16T14:15:47.252Z"
      },
      {
        "duration": 339,
        "start_time": "2022-03-16T14:15:47.600Z"
      },
      {
        "duration": 129,
        "start_time": "2022-03-16T14:15:47.941Z"
      },
      {
        "duration": 292,
        "start_time": "2022-03-16T14:15:48.072Z"
      },
      {
        "duration": 97,
        "start_time": "2022-03-16T14:15:48.367Z"
      },
      {
        "duration": 133,
        "start_time": "2022-03-16T14:15:48.466Z"
      },
      {
        "duration": 992,
        "start_time": "2022-03-16T14:15:47.609Z"
      },
      {
        "duration": 986,
        "start_time": "2022-03-16T14:15:47.616Z"
      },
      {
        "duration": 627,
        "start_time": "2022-03-16T14:15:52.712Z"
      },
      {
        "duration": 49908,
        "start_time": "2022-03-16T14:16:02.756Z"
      },
      {
        "duration": 4,
        "start_time": "2022-03-16T14:16:52.665Z"
      },
      {
        "duration": 636,
        "start_time": "2022-03-16T14:16:56.581Z"
      },
      {
        "duration": 600,
        "start_time": "2022-03-16T14:18:05.922Z"
      },
      {
        "duration": 672,
        "start_time": "2022-03-16T14:18:06.524Z"
      },
      {
        "duration": 662,
        "start_time": "2022-03-16T14:18:07.197Z"
      },
      {
        "duration": 51,
        "start_time": "2022-03-16T14:18:32.412Z"
      },
      {
        "duration": 87,
        "start_time": "2022-03-16T14:18:32.582Z"
      },
      {
        "duration": 26,
        "start_time": "2022-03-16T14:18:32.764Z"
      },
      {
        "duration": 106,
        "start_time": "2022-03-16T14:18:50.761Z"
      },
      {
        "duration": 71,
        "start_time": "2022-03-16T14:18:51.791Z"
      },
      {
        "duration": 91,
        "start_time": "2022-03-16T14:18:51.971Z"
      },
      {
        "duration": 4,
        "start_time": "2022-03-16T14:18:54.170Z"
      },
      {
        "duration": 10,
        "start_time": "2022-03-16T14:18:56.342Z"
      },
      {
        "duration": 11,
        "start_time": "2022-03-16T14:18:56.521Z"
      },
      {
        "duration": 9,
        "start_time": "2022-03-16T14:18:56.692Z"
      },
      {
        "duration": 42,
        "start_time": "2022-03-16T14:18:57.171Z"
      },
      {
        "duration": 45,
        "start_time": "2022-03-16T14:18:57.561Z"
      },
      {
        "duration": 45,
        "start_time": "2022-03-16T14:18:57.811Z"
      },
      {
        "duration": 832,
        "start_time": "2022-03-16T14:19:22.641Z"
      },
      {
        "duration": 932,
        "start_time": "2022-03-16T14:19:23.475Z"
      },
      {
        "duration": 933,
        "start_time": "2022-03-16T14:19:24.409Z"
      },
      {
        "duration": 101,
        "start_time": "2022-03-16T14:19:53.462Z"
      },
      {
        "duration": 31,
        "start_time": "2022-03-16T14:19:53.664Z"
      },
      {
        "duration": 125,
        "start_time": "2022-03-16T14:19:54.047Z"
      },
      {
        "duration": 43,
        "start_time": "2022-03-16T14:20:11.033Z"
      },
      {
        "duration": 5,
        "start_time": "2022-03-16T14:20:12.332Z"
      },
      {
        "duration": 11,
        "start_time": "2022-03-16T14:20:13.151Z"
      },
      {
        "duration": 10,
        "start_time": "2022-03-16T14:20:13.341Z"
      },
      {
        "duration": 10,
        "start_time": "2022-03-16T14:20:13.491Z"
      },
      {
        "duration": 25,
        "start_time": "2022-03-16T14:20:14.143Z"
      },
      {
        "duration": 23,
        "start_time": "2022-03-16T14:20:14.362Z"
      },
      {
        "duration": 21,
        "start_time": "2022-03-16T14:20:14.540Z"
      },
      {
        "duration": 20,
        "start_time": "2022-03-16T14:20:35.112Z"
      },
      {
        "duration": 314,
        "start_time": "2022-03-16T14:20:37.264Z"
      },
      {
        "duration": 359,
        "start_time": "2022-03-16T14:20:37.581Z"
      },
      {
        "duration": 351,
        "start_time": "2022-03-16T14:20:37.942Z"
      },
      {
        "duration": 21,
        "start_time": "2022-03-16T14:20:56.010Z"
      },
      {
        "duration": 18,
        "start_time": "2022-03-16T14:20:56.192Z"
      },
      {
        "duration": 113,
        "start_time": "2022-03-16T14:20:56.364Z"
      },
      {
        "duration": 47485,
        "start_time": "2022-03-16T14:22:30.333Z"
      },
      {
        "duration": 4,
        "start_time": "2022-03-16T14:23:17.820Z"
      },
      {
        "duration": 635,
        "start_time": "2022-03-16T14:23:21.822Z"
      },
      {
        "duration": 575,
        "start_time": "2022-03-16T14:25:47.901Z"
      },
      {
        "duration": 446,
        "start_time": "2022-03-16T14:25:59.082Z"
      },
      {
        "duration": 6,
        "start_time": "2022-03-16T14:26:54.181Z"
      },
      {
        "duration": 265,
        "start_time": "2022-03-16T14:26:57.911Z"
      },
      {
        "duration": 270,
        "start_time": "2022-03-16T14:27:59.201Z"
      },
      {
        "duration": 263,
        "start_time": "2022-03-16T14:28:28.721Z"
      },
      {
        "duration": 30,
        "start_time": "2022-03-16T14:29:23.800Z"
      },
      {
        "duration": 181,
        "start_time": "2022-03-16T14:29:51.083Z"
      },
      {
        "duration": 247,
        "start_time": "2022-03-16T14:30:37.561Z"
      },
      {
        "duration": 267,
        "start_time": "2022-03-16T14:30:58.255Z"
      },
      {
        "duration": 273,
        "start_time": "2022-03-16T14:31:10.233Z"
      },
      {
        "duration": 178,
        "start_time": "2022-03-16T14:31:22.482Z"
      },
      {
        "duration": 5,
        "start_time": "2022-03-16T14:31:28.331Z"
      },
      {
        "duration": 232,
        "start_time": "2022-03-16T14:31:41.965Z"
      },
      {
        "duration": 625,
        "start_time": "2022-03-16T14:34:53.928Z"
      },
      {
        "duration": 660,
        "start_time": "2022-03-16T14:35:07.378Z"
      },
      {
        "duration": 6,
        "start_time": "2022-03-16T16:04:50.566Z"
      },
      {
        "duration": 638,
        "start_time": "2022-03-16T16:04:50.770Z"
      },
      {
        "duration": 651,
        "start_time": "2022-03-16T16:04:51.410Z"
      },
      {
        "duration": 414,
        "start_time": "2022-03-16T16:04:52.064Z"
      },
      {
        "duration": 4,
        "start_time": "2022-03-16T16:04:53.173Z"
      },
      {
        "duration": 112,
        "start_time": "2022-03-16T16:04:53.494Z"
      },
      {
        "duration": 87,
        "start_time": "2022-03-16T16:04:53.873Z"
      },
      {
        "duration": 239,
        "start_time": "2022-03-16T16:04:54.240Z"
      },
      {
        "duration": 469,
        "start_time": "2022-03-16T16:04:54.482Z"
      },
      {
        "duration": 331,
        "start_time": "2022-03-16T16:04:54.954Z"
      },
      {
        "duration": 376,
        "start_time": "2022-03-16T16:04:55.288Z"
      },
      {
        "duration": 267,
        "start_time": "2022-03-16T16:04:55.667Z"
      },
      {
        "duration": 320,
        "start_time": "2022-03-16T16:04:55.937Z"
      },
      {
        "duration": 715,
        "start_time": "2022-03-16T16:04:56.260Z"
      },
      {
        "duration": 709,
        "start_time": "2022-03-16T16:04:56.977Z"
      },
      {
        "duration": 308,
        "start_time": "2022-03-16T16:04:57.689Z"
      },
      {
        "duration": 297,
        "start_time": "2022-03-16T16:04:57.999Z"
      },
      {
        "duration": 72,
        "start_time": "2022-03-16T16:04:58.297Z"
      },
      {
        "duration": 511,
        "start_time": "2022-03-16T16:04:58.371Z"
      },
      {
        "duration": 632,
        "start_time": "2022-03-16T16:04:58.884Z"
      },
      {
        "duration": 644,
        "start_time": "2022-03-16T16:04:59.518Z"
      },
      {
        "duration": 572,
        "start_time": "2022-03-16T16:05:00.164Z"
      },
      {
        "duration": 1124,
        "start_time": "2022-03-16T16:05:00.738Z"
      },
      {
        "duration": 1237,
        "start_time": "2022-03-16T16:05:01.864Z"
      },
      {
        "duration": 1067,
        "start_time": "2022-03-16T16:05:03.104Z"
      },
      {
        "duration": 852,
        "start_time": "2022-03-16T16:05:04.173Z"
      },
      {
        "duration": 1117,
        "start_time": "2022-03-16T16:05:05.028Z"
      },
      {
        "duration": 1383,
        "start_time": "2022-03-16T16:05:06.147Z"
      },
      {
        "duration": 749,
        "start_time": "2022-03-16T16:05:07.532Z"
      },
      {
        "duration": 729,
        "start_time": "2022-03-16T16:05:08.283Z"
      },
      {
        "duration": 13,
        "start_time": "2022-03-16T16:05:09.015Z"
      },
      {
        "duration": 363,
        "start_time": "2022-03-16T16:05:09.030Z"
      },
      {
        "duration": 522,
        "start_time": "2022-03-16T16:05:09.395Z"
      },
      {
        "duration": 749,
        "start_time": "2022-03-16T16:05:09.921Z"
      },
      {
        "duration": 620,
        "start_time": "2022-03-16T16:05:10.673Z"
      },
      {
        "duration": 686,
        "start_time": "2022-03-16T16:05:11.298Z"
      },
      {
        "duration": 836,
        "start_time": "2022-03-16T16:05:11.987Z"
      },
      {
        "duration": 978,
        "start_time": "2022-03-16T16:05:12.825Z"
      },
      {
        "duration": 729,
        "start_time": "2022-03-16T16:05:13.805Z"
      },
      {
        "duration": 1295,
        "start_time": "2022-03-16T16:05:14.536Z"
      },
      {
        "duration": 1391,
        "start_time": "2022-03-16T16:05:15.834Z"
      },
      {
        "duration": 1380,
        "start_time": "2022-03-16T16:05:17.226Z"
      },
      {
        "duration": 1128,
        "start_time": "2022-03-16T16:05:18.608Z"
      },
      {
        "duration": 932,
        "start_time": "2022-03-16T16:05:19.739Z"
      },
      {
        "duration": 830,
        "start_time": "2022-03-16T16:05:20.673Z"
      },
      {
        "duration": 1070,
        "start_time": "2022-03-16T16:05:21.506Z"
      },
      {
        "duration": 7115,
        "start_time": "2022-03-16T16:05:22.578Z"
      },
      {
        "duration": 763,
        "start_time": "2022-03-16T16:05:29.695Z"
      },
      {
        "duration": 311,
        "start_time": "2022-03-16T16:05:30.460Z"
      },
      {
        "duration": 895,
        "start_time": "2022-03-16T16:05:30.772Z"
      },
      {
        "duration": 991,
        "start_time": "2022-03-16T16:05:31.673Z"
      },
      {
        "duration": 857,
        "start_time": "2022-03-16T16:05:32.667Z"
      },
      {
        "duration": 732,
        "start_time": "2022-03-16T16:05:33.526Z"
      },
      {
        "duration": 287,
        "start_time": "2022-03-16T16:05:34.260Z"
      },
      {
        "duration": 132,
        "start_time": "2022-03-16T16:05:34.549Z"
      },
      {
        "duration": 229,
        "start_time": "2022-03-16T16:05:34.684Z"
      },
      {
        "duration": 200,
        "start_time": "2022-03-16T16:05:34.916Z"
      },
      {
        "duration": 394,
        "start_time": "2022-03-16T16:05:35.118Z"
      },
      {
        "duration": 1266,
        "start_time": "2022-03-16T16:05:35.514Z"
      },
      {
        "duration": 1050,
        "start_time": "2022-03-16T16:05:36.783Z"
      },
      {
        "duration": 1046,
        "start_time": "2022-03-16T16:05:37.835Z"
      },
      {
        "duration": 85,
        "start_time": "2022-03-16T16:05:38.883Z"
      },
      {
        "duration": 196,
        "start_time": "2022-03-16T16:05:38.972Z"
      },
      {
        "duration": 295,
        "start_time": "2022-03-16T16:05:39.170Z"
      },
      {
        "duration": 214,
        "start_time": "2022-03-16T16:05:39.468Z"
      },
      {
        "duration": 193,
        "start_time": "2022-03-16T16:05:39.684Z"
      },
      {
        "duration": 212,
        "start_time": "2022-03-16T16:05:39.879Z"
      },
      {
        "duration": 292,
        "start_time": "2022-03-16T16:05:40.094Z"
      },
      {
        "duration": 231,
        "start_time": "2022-03-16T16:05:40.388Z"
      },
      {
        "duration": 105,
        "start_time": "2022-03-16T16:05:40.622Z"
      },
      {
        "duration": 82,
        "start_time": "2022-03-16T16:05:40.729Z"
      },
      {
        "duration": 531,
        "start_time": "2022-03-16T16:05:40.813Z"
      },
      {
        "duration": 401,
        "start_time": "2022-03-16T16:05:41.346Z"
      },
      {
        "duration": 368,
        "start_time": "2022-03-16T16:05:41.749Z"
      },
      {
        "duration": 147,
        "start_time": "2022-03-16T16:05:42.120Z"
      },
      {
        "duration": 209,
        "start_time": "2022-03-16T16:05:42.269Z"
      },
      {
        "duration": 312,
        "start_time": "2022-03-16T16:05:42.562Z"
      },
      {
        "duration": 6,
        "start_time": "2022-03-16T16:07:48.242Z"
      },
      {
        "duration": 8,
        "start_time": "2022-03-16T16:08:00.283Z"
      },
      {
        "duration": 6,
        "start_time": "2022-03-16T16:08:32.253Z"
      },
      {
        "duration": 11,
        "start_time": "2022-03-16T16:08:37.025Z"
      },
      {
        "duration": 5,
        "start_time": "2022-03-16T16:08:46.923Z"
      },
      {
        "duration": 6,
        "start_time": "2022-03-16T16:09:02.877Z"
      },
      {
        "duration": 7,
        "start_time": "2022-03-16T16:09:19.037Z"
      },
      {
        "duration": 6,
        "start_time": "2022-03-16T16:10:02.939Z"
      },
      {
        "duration": 500,
        "start_time": "2022-03-16T16:11:18.607Z"
      },
      {
        "duration": 527,
        "start_time": "2022-03-16T16:11:44.873Z"
      },
      {
        "duration": 5,
        "start_time": "2022-03-16T16:11:50.860Z"
      },
      {
        "duration": 68,
        "start_time": "2022-03-16T16:12:11.265Z"
      },
      {
        "duration": 83,
        "start_time": "2022-03-16T16:12:14.961Z"
      },
      {
        "duration": 335,
        "start_time": "2022-03-16T16:13:01.892Z"
      },
      {
        "duration": 3,
        "start_time": "2022-03-16T16:13:37.340Z"
      },
      {
        "duration": 338,
        "start_time": "2022-03-16T16:13:37.685Z"
      },
      {
        "duration": 3,
        "start_time": "2022-03-16T16:14:04.614Z"
      },
      {
        "duration": 946,
        "start_time": "2022-03-16T16:14:04.841Z"
      },
      {
        "duration": 6,
        "start_time": "2022-03-16T16:14:21.726Z"
      },
      {
        "duration": 70,
        "start_time": "2022-03-16T16:14:46.843Z"
      },
      {
        "duration": 10,
        "start_time": "2022-03-16T16:14:56.259Z"
      },
      {
        "duration": 11,
        "start_time": "2022-03-16T16:15:16.030Z"
      },
      {
        "duration": 243,
        "start_time": "2022-03-16T16:15:16.402Z"
      },
      {
        "duration": 10,
        "start_time": "2022-03-16T16:15:58.821Z"
      },
      {
        "duration": 32,
        "start_time": "2022-03-16T16:15:59.013Z"
      },
      {
        "duration": 152,
        "start_time": "2022-03-16T16:15:59.203Z"
      },
      {
        "duration": 353,
        "start_time": "2022-03-16T16:16:01.129Z"
      },
      {
        "duration": 7,
        "start_time": "2022-03-16T16:16:20.581Z"
      },
      {
        "duration": 95,
        "start_time": "2022-03-16T16:16:20.788Z"
      },
      {
        "duration": 215,
        "start_time": "2022-03-16T16:16:20.969Z"
      },
      {
        "duration": 181,
        "start_time": "2022-03-16T16:16:21.385Z"
      },
      {
        "duration": 3,
        "start_time": "2022-03-16T16:16:22.045Z"
      },
      {
        "duration": 270,
        "start_time": "2022-03-16T16:16:22.249Z"
      },
      {
        "duration": 344,
        "start_time": "2022-03-16T16:16:22.541Z"
      },
      {
        "duration": 485,
        "start_time": "2022-03-16T16:16:22.907Z"
      },
      {
        "duration": 1900,
        "start_time": "2022-03-16T16:16:23.394Z"
      },
      {
        "duration": 1374,
        "start_time": "2022-03-16T16:16:25.296Z"
      },
      {
        "duration": 529,
        "start_time": "2022-03-16T16:16:26.672Z"
      },
      {
        "duration": 308,
        "start_time": "2022-03-16T16:16:27.203Z"
      },
      {
        "duration": 304,
        "start_time": "2022-03-16T16:16:27.512Z"
      },
      {
        "duration": 328,
        "start_time": "2022-03-16T16:16:27.817Z"
      },
      {
        "duration": 372,
        "start_time": "2022-03-16T16:16:28.148Z"
      },
      {
        "duration": 299,
        "start_time": "2022-03-16T16:16:28.522Z"
      },
      {
        "duration": 458,
        "start_time": "2022-03-16T16:16:28.824Z"
      },
      {
        "duration": 306,
        "start_time": "2022-03-16T16:16:29.284Z"
      },
      {
        "duration": 299,
        "start_time": "2022-03-16T16:16:29.592Z"
      },
      {
        "duration": 258,
        "start_time": "2022-03-16T16:16:29.893Z"
      },
      {
        "duration": 273,
        "start_time": "2022-03-16T16:16:30.153Z"
      },
      {
        "duration": 493,
        "start_time": "2022-03-16T16:16:30.428Z"
      },
      {
        "duration": 408,
        "start_time": "2022-03-16T16:16:30.924Z"
      },
      {
        "duration": 355,
        "start_time": "2022-03-16T16:16:31.335Z"
      },
      {
        "duration": 13,
        "start_time": "2022-03-16T16:16:33.163Z"
      },
      {
        "duration": 11,
        "start_time": "2022-03-16T16:16:34.176Z"
      },
      {
        "duration": 191,
        "start_time": "2022-03-16T16:16:34.452Z"
      },
      {
        "duration": 627,
        "start_time": "2022-03-16T16:16:35.415Z"
      },
      {
        "duration": 709,
        "start_time": "2022-03-16T16:16:36.044Z"
      },
      {
        "duration": 700,
        "start_time": "2022-03-16T16:16:36.763Z"
      },
      {
        "duration": 11,
        "start_time": "2022-03-16T16:16:37.465Z"
      },
      {
        "duration": 306,
        "start_time": "2022-03-16T16:16:37.479Z"
      },
      {
        "duration": 278,
        "start_time": "2022-03-16T16:16:37.788Z"
      },
      {
        "duration": 111,
        "start_time": "2022-03-16T16:16:39.389Z"
      },
      {
        "duration": 199,
        "start_time": "2022-03-16T16:16:39.664Z"
      },
      {
        "duration": 401,
        "start_time": "2022-03-16T16:16:39.869Z"
      },
      {
        "duration": 201,
        "start_time": "2022-03-16T16:16:40.792Z"
      },
      {
        "duration": 9,
        "start_time": "2022-03-16T16:16:43.411Z"
      },
      {
        "duration": 263,
        "start_time": "2022-03-16T16:16:43.422Z"
      },
      {
        "duration": 215,
        "start_time": "2022-03-16T16:16:43.743Z"
      },
      {
        "duration": 5,
        "start_time": "2022-03-16T16:16:44.322Z"
      },
      {
        "duration": 74,
        "start_time": "2022-03-16T16:16:44.557Z"
      },
      {
        "duration": 220,
        "start_time": "2022-03-16T16:16:44.733Z"
      },
      {
        "duration": 384,
        "start_time": "2022-03-16T16:16:44.955Z"
      },
      {
        "duration": 291,
        "start_time": "2022-03-16T16:16:45.342Z"
      },
      {
        "duration": 35,
        "start_time": "2022-03-16T16:16:47.234Z"
      },
      {
        "duration": 63,
        "start_time": "2022-03-16T16:16:47.823Z"
      },
      {
        "duration": 274,
        "start_time": "2022-03-16T16:16:48.048Z"
      },
      {
        "duration": 646,
        "start_time": "2022-03-16T16:16:49.340Z"
      },
      {
        "duration": 730,
        "start_time": "2022-03-16T16:16:49.988Z"
      },
      {
        "duration": 801,
        "start_time": "2022-03-16T16:16:50.720Z"
      },
      {
        "duration": 89,
        "start_time": "2022-03-16T16:16:51.787Z"
      },
      {
        "duration": 304,
        "start_time": "2022-03-16T16:16:52.006Z"
      },
      {
        "duration": 40,
        "start_time": "2022-03-16T16:16:53.042Z"
      },
      {
        "duration": 6,
        "start_time": "2022-03-16T16:17:00.052Z"
      },
      {
        "duration": 920,
        "start_time": "2022-03-16T16:17:00.861Z"
      },
      {
        "duration": 935,
        "start_time": "2022-03-16T16:17:01.783Z"
      },
      {
        "duration": 550,
        "start_time": "2022-03-16T16:17:02.721Z"
      },
      {
        "duration": 1667,
        "start_time": "2022-03-16T16:17:03.273Z"
      },
      {
        "duration": 75,
        "start_time": "2022-03-16T16:17:42.375Z"
      },
      {
        "duration": 4,
        "start_time": "2022-03-16T16:17:46.724Z"
      },
      {
        "duration": 219,
        "start_time": "2022-03-16T16:18:02.127Z"
      },
      {
        "duration": 23,
        "start_time": "2022-03-16T16:18:31.699Z"
      },
      {
        "duration": 5,
        "start_time": "2022-03-16T16:18:37.701Z"
      },
      {
        "duration": 2227,
        "start_time": "2022-03-16T16:18:50.178Z"
      },
      {
        "duration": 5,
        "start_time": "2022-03-16T16:18:54.482Z"
      },
      {
        "duration": 12,
        "start_time": "2022-03-16T16:18:57.812Z"
      },
      {
        "duration": 215,
        "start_time": "2022-03-16T16:19:15.353Z"
      },
      {
        "duration": 262,
        "start_time": "2022-03-16T16:19:26.086Z"
      },
      {
        "duration": 10,
        "start_time": "2022-03-16T16:19:32.331Z"
      },
      {
        "duration": 4,
        "start_time": "2022-03-16T16:19:42.333Z"
      },
      {
        "duration": 10,
        "start_time": "2022-03-16T16:19:53.942Z"
      },
      {
        "duration": 12,
        "start_time": "2022-03-16T16:19:54.175Z"
      },
      {
        "duration": 382,
        "start_time": "2022-03-16T16:19:54.363Z"
      },
      {
        "duration": 496,
        "start_time": "2022-03-16T16:19:55.008Z"
      },
      {
        "duration": 11,
        "start_time": "2022-03-16T16:20:07.078Z"
      },
      {
        "duration": 242,
        "start_time": "2022-03-16T16:20:10.140Z"
      },
      {
        "duration": 5,
        "start_time": "2022-03-16T16:20:38.742Z"
      },
      {
        "duration": 772,
        "start_time": "2022-03-16T16:20:39.250Z"
      },
      {
        "duration": 1119,
        "start_time": "2022-03-16T16:20:40.025Z"
      },
      {
        "duration": 792,
        "start_time": "2022-03-16T16:20:41.147Z"
      },
      {
        "duration": 871,
        "start_time": "2022-03-16T16:20:41.942Z"
      },
      {
        "duration": 89,
        "start_time": "2022-03-16T16:21:23.336Z"
      },
      {
        "duration": 6,
        "start_time": "2022-03-16T16:21:26.530Z"
      },
      {
        "duration": 90,
        "start_time": "2022-03-16T16:22:08.277Z"
      },
      {
        "duration": 214,
        "start_time": "2022-03-16T16:22:11.010Z"
      },
      {
        "duration": 4,
        "start_time": "2022-03-16T16:22:32.377Z"
      },
      {
        "duration": 5,
        "start_time": "2022-03-16T16:22:54.087Z"
      },
      {
        "duration": 3,
        "start_time": "2022-03-16T16:23:02.727Z"
      },
      {
        "duration": 701,
        "start_time": "2022-03-16T16:23:03.279Z"
      },
      {
        "duration": 818,
        "start_time": "2022-03-16T16:23:03.982Z"
      },
      {
        "duration": 856,
        "start_time": "2022-03-16T16:23:04.802Z"
      },
      {
        "duration": 560,
        "start_time": "2022-03-16T16:23:05.660Z"
      },
      {
        "duration": 988,
        "start_time": "2022-03-16T16:23:06.222Z"
      },
      {
        "duration": -1412,
        "start_time": "2022-03-16T16:23:08.625Z"
      },
      {
        "duration": -1416,
        "start_time": "2022-03-16T16:23:08.630Z"
      },
      {
        "duration": 11,
        "start_time": "2022-03-16T16:23:38.074Z"
      },
      {
        "duration": 10,
        "start_time": "2022-03-16T16:23:46.237Z"
      },
      {
        "duration": 12,
        "start_time": "2022-03-16T16:24:08.031Z"
      },
      {
        "duration": 10,
        "start_time": "2022-03-16T16:24:08.390Z"
      },
      {
        "duration": 10,
        "start_time": "2022-03-16T16:24:31.649Z"
      },
      {
        "duration": 243,
        "start_time": "2022-03-16T16:24:32.620Z"
      },
      {
        "duration": 9,
        "start_time": "2022-03-16T16:24:48.746Z"
      },
      {
        "duration": 16,
        "start_time": "2022-03-16T16:25:34.002Z"
      },
      {
        "duration": 58,
        "start_time": "2022-03-16T16:25:37.856Z"
      },
      {
        "duration": 15,
        "start_time": "2022-03-16T16:26:01.519Z"
      },
      {
        "duration": 66,
        "start_time": "2022-03-16T16:26:01.749Z"
      },
      {
        "duration": 572,
        "start_time": "2022-03-16T16:26:01.979Z"
      },
      {
        "duration": 137,
        "start_time": "2022-03-16T16:26:02.673Z"
      },
      {
        "duration": 63,
        "start_time": "2022-03-16T16:26:02.921Z"
      },
      {
        "duration": 64,
        "start_time": "2022-03-16T16:26:03.317Z"
      },
      {
        "duration": 950,
        "start_time": "2022-03-16T16:27:14.293Z"
      },
      {
        "duration": 1062,
        "start_time": "2022-03-16T16:27:15.245Z"
      },
      {
        "duration": 1059,
        "start_time": "2022-03-16T16:27:16.309Z"
      },
      {
        "duration": 103,
        "start_time": "2022-03-16T16:27:39.473Z"
      },
      {
        "duration": 251,
        "start_time": "2022-03-16T16:27:39.712Z"
      },
      {
        "duration": 98,
        "start_time": "2022-03-16T16:27:39.976Z"
      },
      {
        "duration": 5,
        "start_time": "2022-03-16T16:30:26.985Z"
      },
      {
        "duration": 6,
        "start_time": "2022-03-16T16:30:43.546Z"
      },
      {
        "duration": 10,
        "start_time": "2022-03-16T16:30:44.596Z"
      },
      {
        "duration": 10,
        "start_time": "2022-03-16T16:31:05.983Z"
      },
      {
        "duration": 15,
        "start_time": "2022-03-16T16:31:39.559Z"
      },
      {
        "duration": 30,
        "start_time": "2022-03-16T16:31:40.899Z"
      },
      {
        "duration": 21,
        "start_time": "2022-03-16T16:31:42.912Z"
      },
      {
        "duration": 123,
        "start_time": "2022-03-16T16:31:43.426Z"
      },
      {
        "duration": 337,
        "start_time": "2022-03-16T16:32:22.992Z"
      },
      {
        "duration": 820,
        "start_time": "2022-03-16T16:32:23.331Z"
      },
      {
        "duration": 1054,
        "start_time": "2022-03-16T16:32:24.153Z"
      },
      {
        "duration": 23,
        "start_time": "2022-03-16T16:32:45.976Z"
      },
      {
        "duration": 889,
        "start_time": "2022-03-16T16:32:46.065Z"
      },
      {
        "duration": 1109,
        "start_time": "2022-03-16T16:32:46.962Z"
      },
      {
        "duration": 51310,
        "start_time": "2022-03-16T16:34:08.895Z"
      },
      {
        "duration": 59674,
        "start_time": "2022-03-16T16:35:09.689Z"
      },
      {
        "duration": 51558,
        "start_time": "2022-03-16T16:36:32.228Z"
      },
      {
        "duration": 285,
        "start_time": "2022-03-16T16:37:35.755Z"
      },
      {
        "duration": 383,
        "start_time": "2022-03-16T16:37:56.670Z"
      },
      {
        "duration": 58423,
        "start_time": "2022-03-16T16:38:19.385Z"
      },
      {
        "duration": 5,
        "start_time": "2022-03-16T16:43:45.930Z"
      },
      {
        "duration": 62044,
        "start_time": "2022-03-16T16:43:54.998Z"
      },
      {
        "duration": 5,
        "start_time": "2022-03-16T16:44:57.044Z"
      },
      {
        "duration": 1341,
        "start_time": "2022-03-16T16:44:57.064Z"
      },
      {
        "duration": 9320,
        "start_time": "2022-03-16T16:46:15.664Z"
      },
      {
        "duration": 1255,
        "start_time": "2022-03-16T16:46:37.880Z"
      },
      {
        "duration": 3,
        "start_time": "2022-03-16T16:46:39.138Z"
      },
      {
        "duration": 790,
        "start_time": "2022-03-16T16:46:39.143Z"
      },
      {
        "duration": 487,
        "start_time": "2022-03-16T16:46:39.935Z"
      },
      {
        "duration": 915,
        "start_time": "2022-03-16T16:46:40.424Z"
      },
      {
        "duration": 1214,
        "start_time": "2022-03-16T16:46:41.341Z"
      },
      {
        "duration": 528,
        "start_time": "2022-03-16T16:46:42.557Z"
      },
      {
        "duration": 652,
        "start_time": "2022-03-16T16:46:43.087Z"
      },
      {
        "duration": 439,
        "start_time": "2022-03-16T16:46:43.741Z"
      },
      {
        "duration": 601,
        "start_time": "2022-03-16T16:46:44.182Z"
      },
      {
        "duration": 670,
        "start_time": "2022-03-16T16:46:44.788Z"
      },
      {
        "duration": 786,
        "start_time": "2022-03-16T16:46:45.459Z"
      },
      {
        "duration": 501,
        "start_time": "2022-03-16T16:46:46.247Z"
      },
      {
        "duration": 308,
        "start_time": "2022-03-16T16:46:46.750Z"
      },
      {
        "duration": 313,
        "start_time": "2022-03-16T16:46:47.060Z"
      },
      {
        "duration": 431,
        "start_time": "2022-03-16T16:46:47.375Z"
      },
      {
        "duration": 334,
        "start_time": "2022-03-16T16:46:47.808Z"
      },
      {
        "duration": 328,
        "start_time": "2022-03-16T16:46:48.144Z"
      },
      {
        "duration": 344,
        "start_time": "2022-03-16T16:46:48.473Z"
      },
      {
        "duration": 317,
        "start_time": "2022-03-16T16:46:48.818Z"
      },
      {
        "duration": 435,
        "start_time": "2022-03-16T16:46:49.136Z"
      },
      {
        "duration": 369,
        "start_time": "2022-03-16T16:46:49.572Z"
      },
      {
        "duration": 458,
        "start_time": "2022-03-16T16:46:49.944Z"
      },
      {
        "duration": 831,
        "start_time": "2022-03-16T16:46:50.405Z"
      },
      {
        "duration": 320,
        "start_time": "2022-03-16T16:46:51.238Z"
      },
      {
        "duration": 302,
        "start_time": "2022-03-16T16:46:51.565Z"
      },
      {
        "duration": 328,
        "start_time": "2022-03-16T16:46:51.873Z"
      },
      {
        "duration": 1112,
        "start_time": "2022-03-16T16:46:52.204Z"
      },
      {
        "duration": 689,
        "start_time": "2022-03-16T16:46:53.318Z"
      },
      {
        "duration": 706,
        "start_time": "2022-03-16T16:46:54.008Z"
      },
      {
        "duration": 10,
        "start_time": "2022-03-16T16:46:54.716Z"
      },
      {
        "duration": 298,
        "start_time": "2022-03-16T16:46:54.728Z"
      },
      {
        "duration": 257,
        "start_time": "2022-03-16T16:46:55.028Z"
      },
      {
        "duration": 296,
        "start_time": "2022-03-16T16:46:55.287Z"
      },
      {
        "duration": 531,
        "start_time": "2022-03-16T16:46:55.663Z"
      },
      {
        "duration": 409,
        "start_time": "2022-03-16T16:46:56.265Z"
      },
      {
        "duration": 452,
        "start_time": "2022-03-16T16:46:56.677Z"
      },
      {
        "duration": 254,
        "start_time": "2022-03-16T16:46:57.131Z"
      },
      {
        "duration": 294,
        "start_time": "2022-03-16T16:46:57.387Z"
      },
      {
        "duration": 263,
        "start_time": "2022-03-16T16:46:57.682Z"
      },
      {
        "duration": 262,
        "start_time": "2022-03-16T16:46:57.947Z"
      },
      {
        "duration": 299,
        "start_time": "2022-03-16T16:46:58.211Z"
      },
      {
        "duration": 304,
        "start_time": "2022-03-16T16:46:58.512Z"
      },
      {
        "duration": 334,
        "start_time": "2022-03-16T16:46:58.817Z"
      },
      {
        "duration": 502,
        "start_time": "2022-03-16T16:46:59.153Z"
      },
      {
        "duration": 356,
        "start_time": "2022-03-16T16:46:59.657Z"
      },
      {
        "duration": 344,
        "start_time": "2022-03-16T16:47:00.015Z"
      },
      {
        "duration": 475,
        "start_time": "2022-03-16T16:47:00.360Z"
      },
      {
        "duration": 1364,
        "start_time": "2022-03-16T16:47:00.837Z"
      },
      {
        "duration": 794,
        "start_time": "2022-03-16T16:47:02.203Z"
      },
      {
        "duration": 693,
        "start_time": "2022-03-16T16:47:02.999Z"
      },
      {
        "duration": 173,
        "start_time": "2022-03-16T16:47:03.694Z"
      },
      {
        "duration": 1055,
        "start_time": "2022-03-16T16:47:03.869Z"
      },
      {
        "duration": 405,
        "start_time": "2022-03-16T16:47:04.970Z"
      },
      {
        "duration": 605,
        "start_time": "2022-03-16T16:47:05.377Z"
      },
      {
        "duration": 659,
        "start_time": "2022-03-16T16:47:05.984Z"
      },
      {
        "duration": 897,
        "start_time": "2022-03-16T16:47:06.645Z"
      },
      {
        "duration": 1975,
        "start_time": "2022-03-16T16:47:07.544Z"
      },
      {
        "duration": 1509,
        "start_time": "2022-03-16T16:47:09.521Z"
      },
      {
        "duration": 816,
        "start_time": "2022-03-16T16:47:11.032Z"
      },
      {
        "duration": 477,
        "start_time": "2022-03-16T16:47:11.850Z"
      },
      {
        "duration": 1293,
        "start_time": "2022-03-16T16:47:12.329Z"
      },
      {
        "duration": 997,
        "start_time": "2022-03-16T16:47:13.625Z"
      },
      {
        "duration": 1012,
        "start_time": "2022-03-16T16:47:14.624Z"
      },
      {
        "duration": 131,
        "start_time": "2022-03-16T16:47:15.638Z"
      },
      {
        "duration": 795,
        "start_time": "2022-03-16T16:47:15.772Z"
      },
      {
        "duration": 1193,
        "start_time": "2022-03-16T16:47:16.570Z"
      },
      {
        "duration": 1884,
        "start_time": "2022-03-16T16:47:17.765Z"
      },
      {
        "duration": 841,
        "start_time": "2022-03-16T16:47:19.650Z"
      },
      {
        "duration": 462,
        "start_time": "2022-03-16T16:47:20.493Z"
      },
      {
        "duration": 588,
        "start_time": "2022-03-16T16:47:20.957Z"
      },
      {
        "duration": 592,
        "start_time": "2022-03-16T16:47:21.547Z"
      },
      {
        "duration": 1190,
        "start_time": "2022-03-16T16:47:22.141Z"
      },
      {
        "duration": 927,
        "start_time": "2022-03-16T16:47:23.333Z"
      },
      {
        "duration": 794,
        "start_time": "2022-03-16T16:47:24.263Z"
      },
      {
        "duration": 794,
        "start_time": "2022-03-16T16:47:25.058Z"
      },
      {
        "duration": 468,
        "start_time": "2022-03-16T16:47:25.854Z"
      },
      {
        "duration": 989,
        "start_time": "2022-03-16T16:47:26.324Z"
      },
      {
        "duration": 195,
        "start_time": "2022-03-16T16:47:27.315Z"
      },
      {
        "duration": 1002,
        "start_time": "2022-03-16T16:47:27.565Z"
      },
      {
        "duration": 1088,
        "start_time": "2022-03-16T16:47:28.574Z"
      },
      {
        "duration": 196605,
        "start_time": "2022-03-16T16:47:29.664Z"
      },
      {
        "duration": 5,
        "start_time": "2022-03-16T16:50:46.272Z"
      },
      {
        "duration": 1513,
        "start_time": "2022-03-16T16:50:46.279Z"
      },
      {
        "duration": 1117,
        "start_time": "2022-03-16T16:50:47.794Z"
      },
      {
        "duration": 934,
        "start_time": "2022-03-16T16:50:48.913Z"
      },
      {
        "duration": 4,
        "start_time": "2022-03-16T16:51:43.020Z"
      },
      {
        "duration": 494,
        "start_time": "2022-03-16T16:51:52.572Z"
      },
      {
        "duration": 179,
        "start_time": "2022-03-16T16:52:01.916Z"
      },
      {
        "duration": 3,
        "start_time": "2022-03-16T16:57:59.706Z"
      },
      {
        "duration": 214537,
        "start_time": "2022-03-16T16:57:59.712Z"
      },
      {
        "duration": 254,
        "start_time": "2022-03-16T17:01:34.252Z"
      },
      {
        "duration": 836,
        "start_time": "2022-03-16T17:01:34.508Z"
      },
      {
        "duration": 1029,
        "start_time": "2022-03-16T17:19:32.614Z"
      },
      {
        "duration": 276,
        "start_time": "2022-03-16T17:19:41.014Z"
      },
      {
        "duration": 1669,
        "start_time": "2022-03-16T17:20:34.688Z"
      },
      {
        "duration": 11,
        "start_time": "2022-03-16T17:21:13.767Z"
      },
      {
        "duration": 13,
        "start_time": "2022-03-16T17:21:14.120Z"
      },
      {
        "duration": 11,
        "start_time": "2022-03-16T17:21:14.475Z"
      },
      {
        "duration": 1538,
        "start_time": "2022-03-16T17:21:19.974Z"
      },
      {
        "duration": 1383,
        "start_time": "2022-03-16T17:21:30.675Z"
      },
      {
        "duration": 1112,
        "start_time": "2022-03-16T17:22:08.498Z"
      },
      {
        "duration": 6,
        "start_time": "2022-03-16T17:22:09.612Z"
      },
      {
        "duration": 256,
        "start_time": "2022-03-16T17:22:09.620Z"
      },
      {
        "duration": 319,
        "start_time": "2022-03-16T17:22:09.878Z"
      },
      {
        "duration": 3,
        "start_time": "2022-03-16T17:22:11.341Z"
      },
      {
        "duration": 6,
        "start_time": "2022-03-16T17:22:11.740Z"
      },
      {
        "duration": 6,
        "start_time": "2022-03-16T17:22:12.140Z"
      },
      {
        "duration": 17,
        "start_time": "2022-03-16T17:22:12.503Z"
      },
      {
        "duration": 334,
        "start_time": "2022-03-16T17:22:12.700Z"
      },
      {
        "duration": 120,
        "start_time": "2022-03-16T17:22:13.036Z"
      },
      {
        "duration": 106,
        "start_time": "2022-03-16T17:22:13.164Z"
      },
      {
        "duration": 51,
        "start_time": "2022-03-16T17:22:13.540Z"
      },
      {
        "duration": 4,
        "start_time": "2022-03-16T17:22:13.961Z"
      },
      {
        "duration": 16,
        "start_time": "2022-03-16T17:22:14.340Z"
      },
      {
        "duration": 18,
        "start_time": "2022-03-16T17:22:14.559Z"
      },
      {
        "duration": 13,
        "start_time": "2022-03-16T17:22:14.909Z"
      },
      {
        "duration": 5,
        "start_time": "2022-03-16T17:22:15.920Z"
      },
      {
        "duration": 51,
        "start_time": "2022-03-16T17:22:16.184Z"
      },
      {
        "duration": 54,
        "start_time": "2022-03-16T17:22:16.472Z"
      },
      {
        "duration": 77,
        "start_time": "2022-03-16T17:22:16.767Z"
      },
      {
        "duration": 5,
        "start_time": "2022-03-16T17:22:17.280Z"
      },
      {
        "duration": 44,
        "start_time": "2022-03-16T17:22:18.184Z"
      },
      {
        "duration": 42,
        "start_time": "2022-03-16T17:22:18.683Z"
      },
      {
        "duration": 36,
        "start_time": "2022-03-16T17:22:18.961Z"
      },
      {
        "duration": 11,
        "start_time": "2022-03-16T17:22:20.152Z"
      },
      {
        "duration": 11,
        "start_time": "2022-03-16T17:22:21.344Z"
      },
      {
        "duration": 11,
        "start_time": "2022-03-16T17:22:22.430Z"
      },
      {
        "duration": 670,
        "start_time": "2022-03-16T17:22:31.902Z"
      },
      {
        "duration": 688,
        "start_time": "2022-03-16T17:22:32.575Z"
      },
      {
        "duration": 1012,
        "start_time": "2022-03-16T17:22:33.266Z"
      },
      {
        "duration": 12,
        "start_time": "2022-03-16T17:22:34.281Z"
      },
      {
        "duration": 117,
        "start_time": "2022-03-16T17:22:34.295Z"
      },
      {
        "duration": 108,
        "start_time": "2022-03-16T17:22:34.414Z"
      },
      {
        "duration": 28,
        "start_time": "2022-03-16T17:22:36.792Z"
      },
      {
        "duration": 1358,
        "start_time": "2022-03-16T17:26:31.291Z"
      },
      {
        "duration": 4,
        "start_time": "2022-03-16T17:26:32.651Z"
      },
      {
        "duration": 849,
        "start_time": "2022-03-16T17:26:32.657Z"
      },
      {
        "duration": 424,
        "start_time": "2022-03-16T17:26:33.508Z"
      },
      {
        "duration": 629,
        "start_time": "2022-03-16T17:26:33.934Z"
      },
      {
        "duration": 871,
        "start_time": "2022-03-16T17:26:34.565Z"
      },
      {
        "duration": 869,
        "start_time": "2022-03-16T17:26:35.439Z"
      },
      {
        "duration": 581,
        "start_time": "2022-03-16T17:26:36.310Z"
      },
      {
        "duration": 788,
        "start_time": "2022-03-16T17:26:36.893Z"
      },
      {
        "duration": 942,
        "start_time": "2022-03-16T17:26:37.684Z"
      },
      {
        "duration": 1041,
        "start_time": "2022-03-16T17:26:38.628Z"
      },
      {
        "duration": 549,
        "start_time": "2022-03-16T17:26:39.671Z"
      },
      {
        "duration": 723,
        "start_time": "2022-03-16T17:26:40.265Z"
      },
      {
        "duration": 5,
        "start_time": "2022-03-16T17:26:57.938Z"
      },
      {
        "duration": 15,
        "start_time": "2022-03-16T17:26:58.566Z"
      },
      {
        "duration": 13,
        "start_time": "2022-03-16T17:26:59.259Z"
      },
      {
        "duration": 16,
        "start_time": "2022-03-16T17:26:59.907Z"
      },
      {
        "duration": 1220,
        "start_time": "2022-03-16T17:28:58.050Z"
      },
      {
        "duration": 3,
        "start_time": "2022-03-16T17:28:59.272Z"
      },
      {
        "duration": 279,
        "start_time": "2022-03-16T17:28:59.278Z"
      },
      {
        "duration": 291,
        "start_time": "2022-03-16T17:28:59.560Z"
      },
      {
        "duration": 3,
        "start_time": "2022-03-16T17:29:00.760Z"
      },
      {
        "duration": 15,
        "start_time": "2022-03-16T17:29:01.314Z"
      },
      {
        "duration": 327,
        "start_time": "2022-03-16T17:29:01.443Z"
      },
      {
        "duration": 339,
        "start_time": "2022-03-16T17:29:01.772Z"
      },
      {
        "duration": 349,
        "start_time": "2022-03-16T17:29:02.114Z"
      },
      {
        "duration": 269,
        "start_time": "2022-03-16T17:29:02.466Z"
      },
      {
        "duration": 334,
        "start_time": "2022-03-16T17:29:02.737Z"
      },
      {
        "duration": 232,
        "start_time": "2022-03-16T17:29:03.073Z"
      },
      {
        "duration": 369,
        "start_time": "2022-03-16T17:29:03.307Z"
      },
      {
        "duration": 14,
        "start_time": "2022-03-16T17:29:05.883Z"
      },
      {
        "duration": 46,
        "start_time": "2022-03-16T17:29:06.122Z"
      },
      {
        "duration": 156,
        "start_time": "2022-03-16T17:29:06.319Z"
      },
      {
        "duration": 3,
        "start_time": "2022-03-16T17:29:13.033Z"
      },
      {
        "duration": 293,
        "start_time": "2022-03-16T17:29:22.495Z"
      },
      {
        "duration": 245,
        "start_time": "2022-03-16T17:29:36.190Z"
      },
      {
        "duration": 10,
        "start_time": "2022-03-16T17:29:40.066Z"
      },
      {
        "duration": 3,
        "start_time": "2022-03-16T17:29:54.332Z"
      },
      {
        "duration": 263,
        "start_time": "2022-03-16T17:30:10.317Z"
      },
      {
        "duration": 4,
        "start_time": "2022-03-16T17:30:16.277Z"
      },
      {
        "duration": 611,
        "start_time": "2022-03-16T17:30:16.647Z"
      },
      {
        "duration": 14,
        "start_time": "2022-03-16T17:30:43.376Z"
      },
      {
        "duration": 4,
        "start_time": "2022-03-16T17:30:44.066Z"
      },
      {
        "duration": 5,
        "start_time": "2022-03-16T17:30:44.625Z"
      },
      {
        "duration": 1494,
        "start_time": "2022-03-16T17:30:58.083Z"
      },
      {
        "duration": 5,
        "start_time": "2022-03-16T17:30:59.580Z"
      },
      {
        "duration": 411,
        "start_time": "2022-03-16T17:30:59.588Z"
      },
      {
        "duration": 1100,
        "start_time": "2022-03-16T17:31:00.001Z"
      },
      {
        "duration": 605,
        "start_time": "2022-03-16T17:31:01.103Z"
      },
      {
        "duration": 805,
        "start_time": "2022-03-16T17:31:01.709Z"
      },
      {
        "duration": 441,
        "start_time": "2022-03-16T17:31:02.516Z"
      },
      {
        "duration": 323,
        "start_time": "2022-03-16T17:31:02.960Z"
      },
      {
        "duration": 367,
        "start_time": "2022-03-16T17:31:03.286Z"
      },
      {
        "duration": 302,
        "start_time": "2022-03-16T17:31:03.655Z"
      },
      {
        "duration": 770,
        "start_time": "2022-03-16T17:31:03.963Z"
      },
      {
        "duration": 617,
        "start_time": "2022-03-16T17:31:04.735Z"
      },
      {
        "duration": 641,
        "start_time": "2022-03-16T17:31:05.354Z"
      },
      {
        "duration": 277,
        "start_time": "2022-03-16T17:31:05.998Z"
      },
      {
        "duration": 294,
        "start_time": "2022-03-16T17:31:06.278Z"
      },
      {
        "duration": 635,
        "start_time": "2022-03-16T17:31:06.573Z"
      },
      {
        "duration": 383,
        "start_time": "2022-03-16T17:31:07.210Z"
      },
      {
        "duration": 861,
        "start_time": "2022-03-16T17:31:07.595Z"
      },
      {
        "duration": 1270,
        "start_time": "2022-03-16T17:31:08.459Z"
      },
      {
        "duration": 3,
        "start_time": "2022-03-16T17:31:11.474Z"
      },
      {
        "duration": 34,
        "start_time": "2022-03-16T17:31:13.488Z"
      },
      {
        "duration": 34,
        "start_time": "2022-03-16T17:31:14.600Z"
      },
      {
        "duration": 57,
        "start_time": "2022-03-16T17:31:15.148Z"
      },
      {
        "duration": 346,
        "start_time": "2022-03-16T17:31:15.862Z"
      },
      {
        "duration": 35,
        "start_time": "2022-03-16T17:31:17.045Z"
      },
      {
        "duration": 242,
        "start_time": "2022-03-16T17:31:17.678Z"
      },
      {
        "duration": 618,
        "start_time": "2022-03-16T17:31:17.932Z"
      },
      {
        "duration": 10,
        "start_time": "2022-03-16T17:31:19.827Z"
      },
      {
        "duration": 414,
        "start_time": "2022-03-16T17:31:20.219Z"
      },
      {
        "duration": 1345,
        "start_time": "2022-03-16T17:31:20.676Z"
      },
      {
        "duration": 960,
        "start_time": "2022-03-16T17:31:44.409Z"
      },
      {
        "duration": 1038,
        "start_time": "2022-03-16T17:31:45.371Z"
      },
      {
        "duration": 1278,
        "start_time": "2022-03-16T17:31:46.411Z"
      },
      {
        "duration": 12,
        "start_time": "2022-03-16T17:31:47.691Z"
      },
      {
        "duration": 851,
        "start_time": "2022-03-16T17:31:47.705Z"
      },
      {
        "duration": 928,
        "start_time": "2022-03-16T17:31:48.558Z"
      },
      {
        "duration": 56,
        "start_time": "2022-03-16T17:32:33.612Z"
      },
      {
        "duration": 332,
        "start_time": "2022-03-16T17:32:33.833Z"
      },
      {
        "duration": 502,
        "start_time": "2022-03-16T17:32:34.169Z"
      },
      {
        "duration": 12,
        "start_time": "2022-03-16T17:32:35.222Z"
      },
      {
        "duration": 264,
        "start_time": "2022-03-16T17:32:35.421Z"
      },
      {
        "duration": 118,
        "start_time": "2022-03-16T17:32:35.887Z"
      },
      {
        "duration": 9,
        "start_time": "2022-03-16T17:32:58.562Z"
      },
      {
        "duration": 75,
        "start_time": "2022-03-16T17:32:59.028Z"
      },
      {
        "duration": 9,
        "start_time": "2022-03-16T17:33:00.476Z"
      },
      {
        "duration": 166,
        "start_time": "2022-03-16T17:33:01.343Z"
      },
      {
        "duration": 376,
        "start_time": "2022-03-16T17:33:01.981Z"
      },
      {
        "duration": 5,
        "start_time": "2022-03-16T17:33:05.144Z"
      },
      {
        "duration": 243,
        "start_time": "2022-03-16T17:33:06.298Z"
      },
      {
        "duration": 213,
        "start_time": "2022-03-16T17:33:07.775Z"
      },
      {
        "duration": 612,
        "start_time": "2022-03-16T17:33:08.682Z"
      },
      {
        "duration": 3,
        "start_time": "2022-03-16T17:33:58.622Z"
      },
      {
        "duration": 33,
        "start_time": "2022-03-16T17:33:59.480Z"
      },
      {
        "duration": 98,
        "start_time": "2022-03-16T17:33:59.694Z"
      },
      {
        "duration": 38,
        "start_time": "2022-03-16T17:34:00.184Z"
      },
      {
        "duration": 7,
        "start_time": "2022-03-16T17:34:01.408Z"
      },
      {
        "duration": 6,
        "start_time": "2022-03-16T17:34:02.936Z"
      },
      {
        "duration": 259,
        "start_time": "2022-03-16T17:34:03.231Z"
      },
      {
        "duration": 646,
        "start_time": "2022-03-16T17:34:10.478Z"
      },
      {
        "duration": 685,
        "start_time": "2022-03-16T17:34:11.126Z"
      },
      {
        "duration": 728,
        "start_time": "2022-03-16T17:34:11.813Z"
      },
      {
        "duration": 5,
        "start_time": "2022-03-16T17:34:12.543Z"
      },
      {
        "duration": 594,
        "start_time": "2022-03-16T17:34:12.550Z"
      },
      {
        "duration": 629,
        "start_time": "2022-03-16T17:34:13.146Z"
      },
      {
        "duration": 23,
        "start_time": "2022-03-16T17:34:17.712Z"
      },
      {
        "duration": 145,
        "start_time": "2022-03-16T17:34:17.932Z"
      },
      {
        "duration": 403,
        "start_time": "2022-03-16T17:34:18.164Z"
      },
      {
        "duration": 82,
        "start_time": "2022-03-16T17:34:18.856Z"
      },
      {
        "duration": 139,
        "start_time": "2022-03-16T17:34:19.037Z"
      },
      {
        "duration": 247,
        "start_time": "2022-03-16T17:34:19.280Z"
      },
      {
        "duration": 7,
        "start_time": "2022-03-16T17:34:23.720Z"
      },
      {
        "duration": 591,
        "start_time": "2022-03-16T17:34:23.917Z"
      },
      {
        "duration": 656,
        "start_time": "2022-03-16T17:34:24.510Z"
      },
      {
        "duration": 407,
        "start_time": "2022-03-16T17:34:25.168Z"
      },
      {
        "duration": 279,
        "start_time": "2022-03-16T17:34:25.577Z"
      },
      {
        "duration": 7,
        "start_time": "2022-03-16T17:34:26.628Z"
      },
      {
        "duration": 32,
        "start_time": "2022-03-16T17:34:27.597Z"
      },
      {
        "duration": 45,
        "start_time": "2022-03-16T17:34:28.270Z"
      },
      {
        "duration": 55,
        "start_time": "2022-03-16T17:34:28.856Z"
      },
      {
        "duration": 619,
        "start_time": "2022-03-16T17:34:34.020Z"
      },
      {
        "duration": 694,
        "start_time": "2022-03-16T17:34:34.641Z"
      },
      {
        "duration": 678,
        "start_time": "2022-03-16T17:34:35.337Z"
      },
      {
        "duration": 25,
        "start_time": "2022-03-16T17:34:43.616Z"
      },
      {
        "duration": 329,
        "start_time": "2022-03-16T17:34:43.830Z"
      },
      {
        "duration": 296,
        "start_time": "2022-03-16T17:34:44.166Z"
      },
      {
        "duration": 4,
        "start_time": "2022-03-16T17:34:45.348Z"
      },
      {
        "duration": 275,
        "start_time": "2022-03-16T17:34:45.582Z"
      },
      {
        "duration": 552,
        "start_time": "2022-03-16T17:34:45.860Z"
      },
      {
        "duration": 893,
        "start_time": "2022-03-16T17:34:46.415Z"
      },
      {
        "duration": 310,
        "start_time": "2022-03-16T17:34:47.311Z"
      },
      {
        "duration": 408,
        "start_time": "2022-03-16T17:34:47.623Z"
      },
      {
        "duration": 453,
        "start_time": "2022-03-16T17:34:48.034Z"
      },
      {
        "duration": 933,
        "start_time": "2022-03-16T17:34:50.070Z"
      },
      {
        "duration": 1051,
        "start_time": "2022-03-16T17:34:51.005Z"
      },
      {
        "duration": 1063,
        "start_time": "2022-03-16T17:34:52.063Z"
      },
      {
        "duration": 94,
        "start_time": "2022-03-16T17:34:55.280Z"
      },
      {
        "duration": 386,
        "start_time": "2022-03-16T17:34:55.486Z"
      },
      {
        "duration": 777,
        "start_time": "2022-03-16T17:34:55.874Z"
      },
      {
        "duration": 5,
        "start_time": "2022-03-16T17:34:58.740Z"
      },
      {
        "duration": 11,
        "start_time": "2022-03-16T17:34:59.171Z"
      },
      {
        "duration": 11,
        "start_time": "2022-03-16T17:34:59.651Z"
      },
      {
        "duration": 354,
        "start_time": "2022-03-16T17:34:59.857Z"
      },
      {
        "duration": 651,
        "start_time": "2022-03-16T17:35:00.514Z"
      },
      {
        "duration": 1251,
        "start_time": "2022-03-16T17:35:01.168Z"
      },
      {
        "duration": 1363,
        "start_time": "2022-03-16T17:35:02.421Z"
      },
      {
        "duration": 794,
        "start_time": "2022-03-16T17:35:05.400Z"
      },
      {
        "duration": 433,
        "start_time": "2022-03-16T17:35:06.196Z"
      },
      {
        "duration": 816,
        "start_time": "2022-03-16T17:35:06.631Z"
      },
      {
        "duration": 73,
        "start_time": "2022-03-16T17:35:10.094Z"
      },
      {
        "duration": 501,
        "start_time": "2022-03-16T17:35:10.312Z"
      },
      {
        "duration": 1008,
        "start_time": "2022-03-16T17:35:10.815Z"
      },
      {
        "duration": 9041,
        "start_time": "2022-03-16T17:37:02.230Z"
      },
      {
        "duration": 50644,
        "start_time": "2022-03-16T17:37:15.364Z"
      },
      {
        "duration": 5,
        "start_time": "2022-03-16T17:38:10.116Z"
      },
      {
        "duration": 302,
        "start_time": "2022-03-16T17:38:15.275Z"
      },
      {
        "duration": 153,
        "start_time": "2022-03-16T17:39:04.339Z"
      },
      {
        "duration": 768,
        "start_time": "2022-03-16T17:39:19.983Z"
      },
      {
        "duration": 438,
        "start_time": "2022-03-16T17:39:46.557Z"
      },
      {
        "duration": 163,
        "start_time": "2022-03-16T17:39:52.551Z"
      },
      {
        "duration": 1362,
        "start_time": "2022-03-16T17:40:07.516Z"
      },
      {
        "duration": 4,
        "start_time": "2022-03-16T17:40:08.880Z"
      },
      {
        "duration": 109,
        "start_time": "2022-03-16T17:40:08.887Z"
      },
      {
        "duration": 280,
        "start_time": "2022-03-16T17:40:08.998Z"
      },
      {
        "duration": 5,
        "start_time": "2022-03-16T17:40:09.755Z"
      },
      {
        "duration": 7,
        "start_time": "2022-03-16T17:40:10.170Z"
      },
      {
        "duration": 6,
        "start_time": "2022-03-16T17:40:10.587Z"
      },
      {
        "duration": 17,
        "start_time": "2022-03-16T17:40:11.045Z"
      },
      {
        "duration": 64,
        "start_time": "2022-03-16T17:40:11.233Z"
      },
      {
        "duration": 69,
        "start_time": "2022-03-16T17:40:11.434Z"
      },
      {
        "duration": 64,
        "start_time": "2022-03-16T17:40:11.640Z"
      },
      {
        "duration": 33,
        "start_time": "2022-03-16T17:40:12.072Z"
      },
      {
        "duration": 4,
        "start_time": "2022-03-16T17:40:12.598Z"
      },
      {
        "duration": 11,
        "start_time": "2022-03-16T17:40:13.001Z"
      },
      {
        "duration": 11,
        "start_time": "2022-03-16T17:40:13.194Z"
      },
      {
        "duration": 11,
        "start_time": "2022-03-16T17:40:13.388Z"
      },
      {
        "duration": 10,
        "start_time": "2022-03-16T17:40:13.759Z"
      },
      {
        "duration": 3,
        "start_time": "2022-03-16T17:40:13.957Z"
      },
      {
        "duration": 5,
        "start_time": "2022-03-16T17:40:14.131Z"
      },
      {
        "duration": 2,
        "start_time": "2022-03-16T17:40:14.320Z"
      },
      {
        "duration": 215,
        "start_time": "2022-03-16T17:40:14.495Z"
      },
      {
        "duration": 61,
        "start_time": "2022-03-16T17:40:14.712Z"
      },
      {
        "duration": 38,
        "start_time": "2022-03-16T17:40:14.837Z"
      },
      {
        "duration": 4,
        "start_time": "2022-03-16T17:40:15.170Z"
      },
      {
        "duration": 33,
        "start_time": "2022-03-16T17:40:15.729Z"
      },
      {
        "duration": 48,
        "start_time": "2022-03-16T17:40:15.889Z"
      },
      {
        "duration": 57,
        "start_time": "2022-03-16T17:40:16.064Z"
      },
      {
        "duration": 6,
        "start_time": "2022-03-16T17:40:16.804Z"
      },
      {
        "duration": 8,
        "start_time": "2022-03-16T17:40:16.980Z"
      },
      {
        "duration": 7,
        "start_time": "2022-03-16T17:40:17.161Z"
      },
      {
        "duration": 734,
        "start_time": "2022-03-16T17:40:17.911Z"
      },
      {
        "duration": 787,
        "start_time": "2022-03-16T17:40:18.648Z"
      },
      {
        "duration": 726,
        "start_time": "2022-03-16T17:40:19.437Z"
      },
      {
        "duration": 6,
        "start_time": "2022-03-16T17:40:20.166Z"
      },
      {
        "duration": 79,
        "start_time": "2022-03-16T17:40:20.174Z"
      },
      {
        "duration": 32,
        "start_time": "2022-03-16T17:40:20.255Z"
      },
      {
        "duration": 72,
        "start_time": "2022-03-16T17:40:20.289Z"
      },
      {
        "duration": 222,
        "start_time": "2022-03-16T17:40:20.363Z"
      },
      {
        "duration": 187,
        "start_time": "2022-03-16T17:40:20.587Z"
      },
      {
        "duration": 7,
        "start_time": "2022-03-16T17:40:21.924Z"
      },
      {
        "duration": 45,
        "start_time": "2022-03-16T17:40:22.103Z"
      },
      {
        "duration": 6,
        "start_time": "2022-03-16T17:40:22.270Z"
      },
      {
        "duration": 11,
        "start_time": "2022-03-16T17:40:23.580Z"
      },
      {
        "duration": 6,
        "start_time": "2022-03-16T17:40:23.781Z"
      },
      {
        "duration": 307,
        "start_time": "2022-03-16T17:40:23.956Z"
      },
      {
        "duration": 110,
        "start_time": "2022-03-16T17:40:24.265Z"
      },
      {
        "duration": 324,
        "start_time": "2022-03-16T17:40:24.377Z"
      },
      {
        "duration": 222,
        "start_time": "2022-03-16T17:40:24.703Z"
      },
      {
        "duration": 32,
        "start_time": "2022-03-16T17:40:25.336Z"
      },
      {
        "duration": 35,
        "start_time": "2022-03-16T17:40:25.515Z"
      },
      {
        "duration": 49,
        "start_time": "2022-03-16T17:40:25.698Z"
      },
      {
        "duration": 887,
        "start_time": "2022-03-16T17:40:26.405Z"
      },
      {
        "duration": 684,
        "start_time": "2022-03-16T17:40:27.294Z"
      },
      {
        "duration": 672,
        "start_time": "2022-03-16T17:40:27.980Z"
      },
      {
        "duration": 31,
        "start_time": "2022-03-16T17:40:28.654Z"
      },
      {
        "duration": 437,
        "start_time": "2022-03-16T17:40:28.687Z"
      },
      {
        "duration": 354,
        "start_time": "2022-03-16T17:40:29.126Z"
      },
      {
        "duration": 235,
        "start_time": "2022-03-16T17:40:29.483Z"
      },
      {
        "duration": 181,
        "start_time": "2022-03-16T17:40:29.720Z"
      },
      {
        "duration": 134,
        "start_time": "2022-03-16T17:40:29.903Z"
      },
      {
        "duration": 215,
        "start_time": "2022-03-16T17:40:30.039Z"
      },
      {
        "duration": 165,
        "start_time": "2022-03-16T17:40:30.256Z"
      },
      {
        "duration": 124,
        "start_time": "2022-03-16T17:40:30.424Z"
      },
      {
        "duration": 216,
        "start_time": "2022-03-16T17:40:30.550Z"
      },
      {
        "duration": 1116,
        "start_time": "2022-03-16T17:40:30.769Z"
      },
      {
        "duration": 1016,
        "start_time": "2022-03-16T17:40:31.888Z"
      },
      {
        "duration": 1016,
        "start_time": "2022-03-16T17:40:32.906Z"
      },
      {
        "duration": 140,
        "start_time": "2022-03-16T17:40:33.924Z"
      },
      {
        "duration": 397,
        "start_time": "2022-03-16T17:40:34.067Z"
      },
      {
        "duration": 434,
        "start_time": "2022-03-16T17:40:34.467Z"
      },
      {
        "duration": 310,
        "start_time": "2022-03-16T17:40:34.903Z"
      },
      {
        "duration": 307,
        "start_time": "2022-03-16T17:40:35.217Z"
      },
      {
        "duration": 377,
        "start_time": "2022-03-16T17:40:35.531Z"
      },
      {
        "duration": 360,
        "start_time": "2022-03-16T17:40:35.911Z"
      },
      {
        "duration": 336,
        "start_time": "2022-03-16T17:40:36.273Z"
      },
      {
        "duration": 306,
        "start_time": "2022-03-16T17:40:36.612Z"
      },
      {
        "duration": 559,
        "start_time": "2022-03-16T17:40:36.920Z"
      },
      {
        "duration": 1304,
        "start_time": "2022-03-16T17:40:37.482Z"
      },
      {
        "duration": 354,
        "start_time": "2022-03-16T17:40:38.788Z"
      },
      {
        "duration": 685,
        "start_time": "2022-03-16T17:40:39.145Z"
      },
      {
        "duration": 331,
        "start_time": "2022-03-16T17:40:39.832Z"
      },
      {
        "duration": 581,
        "start_time": "2022-03-16T17:40:40.170Z"
      },
      {
        "duration": 1110,
        "start_time": "2022-03-16T17:40:40.753Z"
      },
      {
        "duration": 435,
        "start_time": "2022-03-16T17:40:50.838Z"
      },
      {
        "duration": 429,
        "start_time": "2022-03-16T17:40:56.141Z"
      },
      {
        "duration": 419,
        "start_time": "2022-03-16T17:40:58.868Z"
      },
      {
        "duration": 1236,
        "start_time": "2022-03-16T17:41:09.288Z"
      },
      {
        "duration": 4,
        "start_time": "2022-03-16T17:41:10.527Z"
      },
      {
        "duration": 1409,
        "start_time": "2022-03-16T17:41:10.533Z"
      },
      {
        "duration": 1119,
        "start_time": "2022-03-16T17:41:11.944Z"
      },
      {
        "duration": 702,
        "start_time": "2022-03-16T17:41:13.065Z"
      },
      {
        "duration": 928,
        "start_time": "2022-03-16T17:41:13.770Z"
      },
      {
        "duration": 1326,
        "start_time": "2022-03-16T17:41:14.700Z"
      },
      {
        "duration": 1038,
        "start_time": "2022-03-16T17:41:16.030Z"
      },
      {
        "duration": 968,
        "start_time": "2022-03-16T17:41:17.071Z"
      },
      {
        "duration": 721,
        "start_time": "2022-03-16T17:41:18.041Z"
      },
      {
        "duration": 824,
        "start_time": "2022-03-16T17:41:18.764Z"
      },
      {
        "duration": 1512,
        "start_time": "2022-03-16T17:41:19.590Z"
      },
      {
        "duration": 1293,
        "start_time": "2022-03-16T17:41:21.103Z"
      },
      {
        "duration": 3751,
        "start_time": "2022-03-16T17:41:22.399Z"
      },
      {
        "duration": 819,
        "start_time": "2022-03-16T17:41:26.153Z"
      },
      {
        "duration": 408,
        "start_time": "2022-03-16T17:41:26.974Z"
      },
      {
        "duration": 550,
        "start_time": "2022-03-16T17:41:27.385Z"
      },
      {
        "duration": 925,
        "start_time": "2022-03-16T17:41:27.936Z"
      },
      {
        "duration": 636,
        "start_time": "2022-03-16T17:41:28.863Z"
      },
      {
        "duration": 858,
        "start_time": "2022-03-16T17:41:29.502Z"
      },
      {
        "duration": 1298,
        "start_time": "2022-03-16T17:41:30.364Z"
      },
      {
        "duration": 1265,
        "start_time": "2022-03-16T17:41:31.665Z"
      },
      {
        "duration": 976,
        "start_time": "2022-03-16T17:41:32.934Z"
      },
      {
        "duration": 1043,
        "start_time": "2022-03-16T17:41:33.913Z"
      },
      {
        "duration": 1304,
        "start_time": "2022-03-16T17:41:34.958Z"
      },
      {
        "duration": 1262,
        "start_time": "2022-03-16T17:41:36.264Z"
      },
      {
        "duration": 1233,
        "start_time": "2022-03-16T17:41:37.528Z"
      },
      {
        "duration": 912,
        "start_time": "2022-03-16T17:41:38.764Z"
      },
      {
        "duration": 753,
        "start_time": "2022-03-16T17:41:39.678Z"
      },
      {
        "duration": 586,
        "start_time": "2022-03-16T17:41:40.434Z"
      },
      {
        "duration": 1595,
        "start_time": "2022-03-16T17:41:41.022Z"
      },
      {
        "duration": 871,
        "start_time": "2022-03-16T17:41:42.619Z"
      },
      {
        "duration": 721,
        "start_time": "2022-03-16T17:41:43.492Z"
      },
      {
        "duration": 598,
        "start_time": "2022-03-16T17:41:44.215Z"
      },
      {
        "duration": 1198,
        "start_time": "2022-03-16T17:41:44.815Z"
      },
      {
        "duration": 1123,
        "start_time": "2022-03-16T17:41:46.015Z"
      },
      {
        "duration": 938,
        "start_time": "2022-03-16T17:41:47.140Z"
      },
      {
        "duration": 483,
        "start_time": "2022-03-16T17:41:48.081Z"
      },
      {
        "duration": 413,
        "start_time": "2022-03-16T17:41:48.567Z"
      },
      {
        "duration": 581,
        "start_time": "2022-03-16T17:41:48.983Z"
      },
      {
        "duration": 484,
        "start_time": "2022-03-16T17:41:49.566Z"
      },
      {
        "duration": 637,
        "start_time": "2022-03-16T17:41:50.052Z"
      },
      {
        "duration": 698,
        "start_time": "2022-03-16T17:41:50.692Z"
      },
      {
        "duration": 532,
        "start_time": "2022-03-16T17:41:51.393Z"
      },
      {
        "duration": 774,
        "start_time": "2022-03-16T17:41:51.928Z"
      },
      {
        "duration": 540,
        "start_time": "2022-03-16T17:41:52.704Z"
      },
      {
        "duration": 630,
        "start_time": "2022-03-16T17:41:53.245Z"
      },
      {
        "duration": 587,
        "start_time": "2022-03-16T17:41:53.877Z"
      },
      {
        "duration": 334,
        "start_time": "2022-03-16T17:41:54.466Z"
      },
      {
        "duration": 630,
        "start_time": "2022-03-16T17:41:54.803Z"
      },
      {
        "duration": 597,
        "start_time": "2022-03-16T17:41:55.436Z"
      },
      {
        "duration": 1079,
        "start_time": "2022-03-16T17:41:56.036Z"
      },
      {
        "duration": 682,
        "start_time": "2022-03-16T17:41:57.117Z"
      },
      {
        "duration": 717,
        "start_time": "2022-03-16T17:41:57.801Z"
      },
      {
        "duration": 150,
        "start_time": "2022-03-16T17:41:58.520Z"
      },
      {
        "duration": 691,
        "start_time": "2022-03-16T17:41:58.673Z"
      },
      {
        "duration": 824,
        "start_time": "2022-03-16T17:41:59.367Z"
      },
      {
        "duration": 1022,
        "start_time": "2022-03-16T17:42:00.193Z"
      },
      {
        "duration": 1670,
        "start_time": "2022-03-16T17:42:01.217Z"
      },
      {
        "duration": 1357,
        "start_time": "2022-03-16T17:42:02.889Z"
      },
      {
        "duration": 1333,
        "start_time": "2022-03-16T17:42:04.248Z"
      },
      {
        "duration": 1037,
        "start_time": "2022-03-16T17:42:05.583Z"
      },
      {
        "duration": 876,
        "start_time": "2022-03-16T17:42:06.622Z"
      },
      {
        "duration": 1333,
        "start_time": "2022-03-16T17:42:07.501Z"
      },
      {
        "duration": 1692,
        "start_time": "2022-03-16T17:42:08.836Z"
      },
      {
        "duration": 1002,
        "start_time": "2022-03-16T17:42:10.530Z"
      },
      {
        "duration": 1108,
        "start_time": "2022-03-16T17:42:11.534Z"
      },
      {
        "duration": 121,
        "start_time": "2022-03-16T17:42:12.651Z"
      },
      {
        "duration": 1788,
        "start_time": "2022-03-16T17:42:12.775Z"
      },
      {
        "duration": 1200,
        "start_time": "2022-03-16T17:42:14.566Z"
      },
      {
        "duration": 545,
        "start_time": "2022-03-16T17:42:15.768Z"
      },
      {
        "duration": 982,
        "start_time": "2022-03-16T17:42:16.315Z"
      },
      {
        "duration": 1564,
        "start_time": "2022-03-16T17:42:17.299Z"
      },
      {
        "duration": 1056,
        "start_time": "2022-03-16T17:42:18.865Z"
      },
      {
        "duration": 1154,
        "start_time": "2022-03-16T17:42:19.923Z"
      },
      {
        "duration": 1006,
        "start_time": "2022-03-16T17:42:21.079Z"
      },
      {
        "duration": 992,
        "start_time": "2022-03-16T17:42:22.087Z"
      },
      {
        "duration": 1959,
        "start_time": "2022-03-16T17:42:23.082Z"
      },
      {
        "duration": 1219,
        "start_time": "2022-03-16T17:42:25.044Z"
      },
      {
        "duration": 985,
        "start_time": "2022-03-16T17:42:26.265Z"
      },
      {
        "duration": 611,
        "start_time": "2022-03-16T17:42:27.252Z"
      },
      {
        "duration": 683,
        "start_time": "2022-03-16T17:42:27.865Z"
      },
      {
        "duration": 1027,
        "start_time": "2022-03-16T17:42:28.550Z"
      },
      {
        "duration": 473,
        "start_time": "2022-03-16T17:42:34.120Z"
      },
      {
        "duration": 1204,
        "start_time": "2022-03-16T17:43:21.379Z"
      },
      {
        "duration": 3,
        "start_time": "2022-03-16T17:43:22.585Z"
      },
      {
        "duration": 399,
        "start_time": "2022-03-16T17:43:22.590Z"
      },
      {
        "duration": 330,
        "start_time": "2022-03-16T17:43:22.994Z"
      },
      {
        "duration": 143,
        "start_time": "2022-03-16T17:43:23.327Z"
      },
      {
        "duration": 203,
        "start_time": "2022-03-16T17:43:23.472Z"
      },
      {
        "duration": 241,
        "start_time": "2022-03-16T17:43:23.731Z"
      },
      {
        "duration": 223,
        "start_time": "2022-03-16T17:43:24.143Z"
      },
      {
        "duration": 292,
        "start_time": "2022-03-16T17:43:24.371Z"
      },
      {
        "duration": 67,
        "start_time": "2022-03-16T17:43:25.116Z"
      },
      {
        "duration": 86,
        "start_time": "2022-03-16T17:43:25.532Z"
      },
      {
        "duration": 45,
        "start_time": "2022-03-16T17:43:26.523Z"
      },
      {
        "duration": 4,
        "start_time": "2022-03-16T17:43:27.011Z"
      },
      {
        "duration": 10,
        "start_time": "2022-03-16T17:43:29.932Z"
      },
      {
        "duration": 11,
        "start_time": "2022-03-16T17:43:31.752Z"
      },
      {
        "duration": 15,
        "start_time": "2022-03-16T17:43:32.168Z"
      },
      {
        "duration": 6,
        "start_time": "2022-03-16T17:46:45.340Z"
      },
      {
        "duration": 294,
        "start_time": "2022-03-16T17:46:45.638Z"
      },
      {
        "duration": 629,
        "start_time": "2022-03-16T17:46:45.934Z"
      },
      {
        "duration": 1105,
        "start_time": "2022-03-16T17:46:46.565Z"
      },
      {
        "duration": 519,
        "start_time": "2022-03-16T17:46:47.672Z"
      },
      {
        "duration": 676,
        "start_time": "2022-03-16T17:46:48.194Z"
      },
      {
        "duration": 631,
        "start_time": "2022-03-16T17:46:48.873Z"
      },
      {
        "duration": 261,
        "start_time": "2022-03-16T17:46:49.507Z"
      },
      {
        "duration": 346,
        "start_time": "2022-03-16T17:46:49.770Z"
      },
      {
        "duration": 160,
        "start_time": "2022-03-16T17:46:50.118Z"
      },
      {
        "duration": 208,
        "start_time": "2022-03-16T17:46:50.280Z"
      },
      {
        "duration": 217,
        "start_time": "2022-03-16T17:46:50.491Z"
      },
      {
        "duration": 178,
        "start_time": "2022-03-16T17:46:50.711Z"
      },
      {
        "duration": 157,
        "start_time": "2022-03-16T17:46:51.039Z"
      },
      {
        "duration": 17,
        "start_time": "2022-03-16T17:46:51.460Z"
      },
      {
        "duration": 13,
        "start_time": "2022-03-16T17:46:51.687Z"
      },
      {
        "duration": 12,
        "start_time": "2022-03-16T17:46:52.113Z"
      },
      {
        "duration": 3,
        "start_time": "2022-03-16T17:46:52.359Z"
      },
      {
        "duration": 6,
        "start_time": "2022-03-16T17:46:52.802Z"
      },
      {
        "duration": 55,
        "start_time": "2022-03-16T17:46:53.033Z"
      },
      {
        "duration": 37,
        "start_time": "2022-03-16T17:46:53.411Z"
      },
      {
        "duration": 34,
        "start_time": "2022-03-16T17:46:53.746Z"
      },
      {
        "duration": 6,
        "start_time": "2022-03-16T17:47:06.091Z"
      },
      {
        "duration": 35,
        "start_time": "2022-03-16T17:47:08.210Z"
      },
      {
        "duration": 39,
        "start_time": "2022-03-16T17:47:08.580Z"
      },
      {
        "duration": 37,
        "start_time": "2022-03-16T17:47:08.909Z"
      },
      {
        "duration": 6,
        "start_time": "2022-03-16T17:47:15.571Z"
      },
      {
        "duration": 6,
        "start_time": "2022-03-16T17:47:16.315Z"
      },
      {
        "duration": 6,
        "start_time": "2022-03-16T17:47:16.685Z"
      },
      {
        "duration": 6,
        "start_time": "2022-03-16T17:48:13.589Z"
      },
      {
        "duration": 6,
        "start_time": "2022-03-16T17:48:13.916Z"
      },
      {
        "duration": 608,
        "start_time": "2022-03-16T17:48:14.168Z"
      },
      {
        "duration": 774,
        "start_time": "2022-03-16T17:48:43.272Z"
      },
      {
        "duration": 992,
        "start_time": "2022-03-16T17:48:44.048Z"
      },
      {
        "duration": 1053,
        "start_time": "2022-03-16T17:48:45.043Z"
      },
      {
        "duration": 7,
        "start_time": "2022-03-16T17:48:49.472Z"
      },
      {
        "duration": 493,
        "start_time": "2022-03-16T17:48:49.710Z"
      },
      {
        "duration": 773,
        "start_time": "2022-03-16T17:48:50.205Z"
      },
      {
        "duration": 101,
        "start_time": "2022-03-16T17:49:27.680Z"
      },
      {
        "duration": 104,
        "start_time": "2022-03-16T17:49:27.868Z"
      },
      {
        "duration": 204,
        "start_time": "2022-03-16T17:49:28.064Z"
      },
      {
        "duration": 7,
        "start_time": "2022-03-16T17:49:36.339Z"
      },
      {
        "duration": 169,
        "start_time": "2022-03-16T17:49:36.529Z"
      },
      {
        "duration": 986,
        "start_time": "2022-03-16T17:49:36.730Z"
      },
      {
        "duration": 9,
        "start_time": "2022-03-16T17:50:55.808Z"
      },
      {
        "duration": 5,
        "start_time": "2022-03-16T17:50:56.639Z"
      },
      {
        "duration": 7,
        "start_time": "2022-03-16T17:50:57.019Z"
      },
      {
        "duration": 6,
        "start_time": "2022-03-16T17:50:57.918Z"
      },
      {
        "duration": 156,
        "start_time": "2022-03-16T17:50:58.291Z"
      },
      {
        "duration": 6,
        "start_time": "2022-03-16T17:50:59.825Z"
      },
      {
        "duration": 45,
        "start_time": "2022-03-16T17:51:01.336Z"
      },
      {
        "duration": 52,
        "start_time": "2022-03-16T17:51:02.056Z"
      },
      {
        "duration": 36,
        "start_time": "2022-03-16T17:51:02.369Z"
      },
      {
        "duration": 1166,
        "start_time": "2022-03-16T17:54:28.258Z"
      },
      {
        "duration": 4,
        "start_time": "2022-03-16T17:54:29.425Z"
      },
      {
        "duration": 33,
        "start_time": "2022-03-16T17:54:29.431Z"
      },
      {
        "duration": 75,
        "start_time": "2022-03-16T17:54:29.466Z"
      },
      {
        "duration": 4,
        "start_time": "2022-03-16T17:54:30.261Z"
      },
      {
        "duration": 7,
        "start_time": "2022-03-16T17:54:30.683Z"
      },
      {
        "duration": 6,
        "start_time": "2022-03-16T17:54:31.115Z"
      },
      {
        "duration": 13,
        "start_time": "2022-03-16T17:54:31.560Z"
      },
      {
        "duration": 67,
        "start_time": "2022-03-16T17:54:31.871Z"
      },
      {
        "duration": 65,
        "start_time": "2022-03-16T17:54:32.466Z"
      },
      {
        "duration": 63,
        "start_time": "2022-03-16T17:54:32.746Z"
      },
      {
        "duration": 32,
        "start_time": "2022-03-16T17:54:33.247Z"
      },
      {
        "duration": 4,
        "start_time": "2022-03-16T17:54:33.679Z"
      },
      {
        "duration": 11,
        "start_time": "2022-03-16T17:54:34.187Z"
      },
      {
        "duration": 12,
        "start_time": "2022-03-16T17:54:34.434Z"
      },
      {
        "duration": 12,
        "start_time": "2022-03-16T17:54:34.705Z"
      },
      {
        "duration": 11,
        "start_time": "2022-03-16T17:54:35.145Z"
      },
      {
        "duration": 3,
        "start_time": "2022-03-16T17:54:35.374Z"
      },
      {
        "duration": 5,
        "start_time": "2022-03-16T17:54:35.596Z"
      },
      {
        "duration": 36,
        "start_time": "2022-03-16T17:54:35.863Z"
      },
      {
        "duration": 38,
        "start_time": "2022-03-16T17:54:36.089Z"
      },
      {
        "duration": 33,
        "start_time": "2022-03-16T17:54:36.346Z"
      },
      {
        "duration": 3,
        "start_time": "2022-03-16T17:54:36.840Z"
      },
      {
        "duration": 34,
        "start_time": "2022-03-16T17:54:38.583Z"
      },
      {
        "duration": 37,
        "start_time": "2022-03-16T17:54:38.911Z"
      },
      {
        "duration": 37,
        "start_time": "2022-03-16T17:54:39.418Z"
      },
      {
        "duration": 6,
        "start_time": "2022-03-16T17:54:46.415Z"
      },
      {
        "duration": 6,
        "start_time": "2022-03-16T17:54:46.800Z"
      },
      {
        "duration": 7,
        "start_time": "2022-03-16T17:54:47.908Z"
      },
      {
        "duration": 618,
        "start_time": "2022-03-16T17:54:52.658Z"
      },
      {
        "duration": 657,
        "start_time": "2022-03-16T17:55:11.647Z"
      },
      {
        "duration": 731,
        "start_time": "2022-03-16T17:55:12.305Z"
      },
      {
        "duration": 7,
        "start_time": "2022-03-16T17:55:51.632Z"
      },
      {
        "duration": 6,
        "start_time": "2022-03-16T17:55:51.871Z"
      },
      {
        "duration": 6,
        "start_time": "2022-03-16T17:55:52.142Z"
      },
      {
        "duration": 1577,
        "start_time": "2022-03-16T17:56:53.865Z"
      },
      {
        "duration": 4,
        "start_time": "2022-03-16T17:56:55.444Z"
      },
      {
        "duration": 43,
        "start_time": "2022-03-16T17:56:55.451Z"
      },
      {
        "duration": 80,
        "start_time": "2022-03-16T17:56:55.496Z"
      },
      {
        "duration": 3,
        "start_time": "2022-03-16T17:56:56.969Z"
      },
      {
        "duration": 5,
        "start_time": "2022-03-16T17:56:57.907Z"
      },
      {
        "duration": 5,
        "start_time": "2022-03-16T17:56:59.066Z"
      },
      {
        "duration": 13,
        "start_time": "2022-03-16T17:57:19.682Z"
      },
      {
        "duration": 72,
        "start_time": "2022-03-16T17:57:21.155Z"
      },
      {
        "duration": 97,
        "start_time": "2022-03-16T17:57:21.947Z"
      },
      {
        "duration": 103,
        "start_time": "2022-03-16T17:57:22.426Z"
      },
      {
        "duration": 34,
        "start_time": "2022-03-16T17:57:31.976Z"
      },
      {
        "duration": 4,
        "start_time": "2022-03-16T17:57:32.999Z"
      },
      {
        "duration": 11,
        "start_time": "2022-03-16T17:57:33.862Z"
      },
      {
        "duration": 11,
        "start_time": "2022-03-16T17:57:34.310Z"
      },
      {
        "duration": 12,
        "start_time": "2022-03-16T17:57:34.588Z"
      },
      {
        "duration": 10,
        "start_time": "2022-03-16T17:57:41.441Z"
      },
      {
        "duration": 3,
        "start_time": "2022-03-16T17:57:41.763Z"
      },
      {
        "duration": 6,
        "start_time": "2022-03-16T17:57:42.721Z"
      },
      {
        "duration": 54,
        "start_time": "2022-03-16T17:57:43.802Z"
      },
      {
        "duration": 35,
        "start_time": "2022-03-16T17:57:44.259Z"
      },
      {
        "duration": 35,
        "start_time": "2022-03-16T17:57:44.526Z"
      },
      {
        "duration": 3,
        "start_time": "2022-03-16T17:57:48.973Z"
      },
      {
        "duration": 45,
        "start_time": "2022-03-16T17:57:50.213Z"
      },
      {
        "duration": 49,
        "start_time": "2022-03-16T17:57:51.756Z"
      },
      {
        "duration": 49,
        "start_time": "2022-03-16T17:57:52.961Z"
      },
      {
        "duration": 36,
        "start_time": "2022-03-16T17:58:19.074Z"
      },
      {
        "duration": 7,
        "start_time": "2022-03-16T18:09:39.322Z"
      },
      {
        "duration": 7,
        "start_time": "2022-03-16T18:09:40.196Z"
      },
      {
        "duration": 6,
        "start_time": "2022-03-16T18:09:40.935Z"
      },
      {
        "duration": 690,
        "start_time": "2022-03-16T18:10:34.221Z"
      },
      {
        "duration": 731,
        "start_time": "2022-03-16T18:10:35.382Z"
      },
      {
        "duration": 701,
        "start_time": "2022-03-16T18:10:36.115Z"
      },
      {
        "duration": 6,
        "start_time": "2022-03-16T18:11:41.373Z"
      },
      {
        "duration": 6,
        "start_time": "2022-03-16T18:11:41.821Z"
      },
      {
        "duration": 7,
        "start_time": "2022-03-16T18:11:42.329Z"
      },
      {
        "duration": 942,
        "start_time": "2022-03-16T18:12:20.959Z"
      },
      {
        "duration": 1007,
        "start_time": "2022-03-16T18:12:22.333Z"
      },
      {
        "duration": 1000,
        "start_time": "2022-03-16T18:12:23.911Z"
      },
      {
        "duration": 7,
        "start_time": "2022-03-16T18:12:26.933Z"
      },
      {
        "duration": 6,
        "start_time": "2022-03-16T18:12:27.264Z"
      },
      {
        "duration": 8,
        "start_time": "2022-03-16T18:12:27.542Z"
      },
      {
        "duration": 34,
        "start_time": "2022-03-16T18:12:29.503Z"
      },
      {
        "duration": 31,
        "start_time": "2022-03-16T18:12:30.260Z"
      },
      {
        "duration": 34,
        "start_time": "2022-03-16T18:12:32.713Z"
      },
      {
        "duration": 7,
        "start_time": "2022-03-16T18:12:34.139Z"
      },
      {
        "duration": 6,
        "start_time": "2022-03-16T18:12:34.415Z"
      },
      {
        "duration": 7,
        "start_time": "2022-03-16T18:12:34.644Z"
      },
      {
        "duration": 7,
        "start_time": "2022-03-16T18:14:04.479Z"
      },
      {
        "duration": 6,
        "start_time": "2022-03-16T18:14:04.939Z"
      },
      {
        "duration": 6,
        "start_time": "2022-03-16T18:14:05.213Z"
      },
      {
        "duration": 6,
        "start_time": "2022-03-16T18:19:00.803Z"
      },
      {
        "duration": 10,
        "start_time": "2022-03-16T18:19:17.514Z"
      },
      {
        "duration": 4,
        "start_time": "2022-03-16T18:19:18.003Z"
      },
      {
        "duration": 7,
        "start_time": "2022-03-16T18:19:18.288Z"
      },
      {
        "duration": 5,
        "start_time": "2022-03-16T18:19:18.539Z"
      },
      {
        "duration": 7,
        "start_time": "2022-03-16T18:19:18.769Z"
      },
      {
        "duration": 5,
        "start_time": "2022-03-16T18:19:18.995Z"
      },
      {
        "duration": 31,
        "start_time": "2022-03-16T18:19:21.373Z"
      },
      {
        "duration": 34,
        "start_time": "2022-03-16T18:19:22.272Z"
      },
      {
        "duration": 34,
        "start_time": "2022-03-16T18:19:22.967Z"
      },
      {
        "duration": 611,
        "start_time": "2022-03-16T18:25:32.252Z"
      },
      {
        "duration": 691,
        "start_time": "2022-03-16T18:25:32.866Z"
      },
      {
        "duration": 649,
        "start_time": "2022-03-16T18:25:33.563Z"
      },
      {
        "duration": 54,
        "start_time": "2022-03-16T18:26:48.708Z"
      },
      {
        "duration": 32,
        "start_time": "2022-03-16T18:26:49.249Z"
      },
      {
        "duration": 22,
        "start_time": "2022-03-16T18:26:49.463Z"
      },
      {
        "duration": 37,
        "start_time": "2022-03-16T18:27:18.032Z"
      },
      {
        "duration": 137,
        "start_time": "2022-03-16T18:27:30.144Z"
      },
      {
        "duration": 6,
        "start_time": "2022-03-16T18:27:43.707Z"
      },
      {
        "duration": 11,
        "start_time": "2022-03-16T18:27:44.395Z"
      },
      {
        "duration": 10,
        "start_time": "2022-03-16T18:27:44.966Z"
      },
      {
        "duration": 10,
        "start_time": "2022-03-16T18:27:45.721Z"
      },
      {
        "duration": 41,
        "start_time": "2022-03-16T18:27:47.205Z"
      },
      {
        "duration": 44,
        "start_time": "2022-03-16T18:27:47.622Z"
      },
      {
        "duration": 40,
        "start_time": "2022-03-16T18:27:48.326Z"
      },
      {
        "duration": 949,
        "start_time": "2022-03-16T18:28:42.217Z"
      },
      {
        "duration": 996,
        "start_time": "2022-03-16T18:28:43.168Z"
      },
      {
        "duration": 983,
        "start_time": "2022-03-16T18:28:44.166Z"
      },
      {
        "duration": 108,
        "start_time": "2022-03-16T18:29:33.456Z"
      },
      {
        "duration": 118,
        "start_time": "2022-03-16T18:29:34.045Z"
      },
      {
        "duration": 55,
        "start_time": "2022-03-16T18:29:34.409Z"
      },
      {
        "duration": 45,
        "start_time": "2022-03-16T18:29:53.824Z"
      },
      {
        "duration": 80,
        "start_time": "2022-03-16T18:29:56.484Z"
      },
      {
        "duration": 124,
        "start_time": "2022-03-16T18:29:56.948Z"
      },
      {
        "duration": 66,
        "start_time": "2022-03-16T18:29:57.303Z"
      },
      {
        "duration": 7,
        "start_time": "2022-03-16T18:30:20.445Z"
      },
      {
        "duration": 11,
        "start_time": "2022-03-16T18:30:20.890Z"
      },
      {
        "duration": 15,
        "start_time": "2022-03-16T18:30:21.483Z"
      },
      {
        "duration": 13,
        "start_time": "2022-03-16T18:30:21.823Z"
      },
      {
        "duration": 23,
        "start_time": "2022-03-16T18:30:22.575Z"
      },
      {
        "duration": 19,
        "start_time": "2022-03-16T18:30:23.035Z"
      },
      {
        "duration": 18,
        "start_time": "2022-03-16T18:30:23.459Z"
      },
      {
        "duration": 18,
        "start_time": "2022-03-16T18:30:54.862Z"
      },
      {
        "duration": 18,
        "start_time": "2022-03-16T18:30:55.211Z"
      },
      {
        "duration": 18,
        "start_time": "2022-03-16T18:30:55.566Z"
      },
      {
        "duration": 78,
        "start_time": "2022-03-16T18:31:38.699Z"
      },
      {
        "duration": 14,
        "start_time": "2022-03-16T18:31:39.150Z"
      },
      {
        "duration": 16,
        "start_time": "2022-03-16T18:31:39.478Z"
      },
      {
        "duration": 15,
        "start_time": "2022-03-16T18:31:54.900Z"
      },
      {
        "duration": 16,
        "start_time": "2022-03-16T18:31:55.414Z"
      },
      {
        "duration": 18,
        "start_time": "2022-03-16T18:31:55.787Z"
      },
      {
        "duration": 64480,
        "start_time": "2022-03-16T18:35:11.686Z"
      },
      {
        "duration": 6,
        "start_time": "2022-03-16T18:36:22.240Z"
      },
      {
        "duration": 197,
        "start_time": "2022-03-16T18:36:28.621Z"
      },
      {
        "duration": 1126,
        "start_time": "2022-03-16T18:39:10.263Z"
      },
      {
        "duration": 547,
        "start_time": "2022-03-16T18:39:29.934Z"
      },
      {
        "duration": 280,
        "start_time": "2022-03-16T18:39:37.857Z"
      },
      {
        "duration": 1559,
        "start_time": "2022-03-16T18:40:01.960Z"
      },
      {
        "duration": 4,
        "start_time": "2022-03-16T18:40:03.522Z"
      },
      {
        "duration": 41,
        "start_time": "2022-03-16T18:40:03.529Z"
      },
      {
        "duration": 96,
        "start_time": "2022-03-16T18:40:03.573Z"
      },
      {
        "duration": 4,
        "start_time": "2022-03-16T18:40:04.421Z"
      },
      {
        "duration": 7,
        "start_time": "2022-03-16T18:40:04.913Z"
      },
      {
        "duration": 6,
        "start_time": "2022-03-16T18:40:05.658Z"
      },
      {
        "duration": 17,
        "start_time": "2022-03-16T18:40:05.737Z"
      },
      {
        "duration": 74,
        "start_time": "2022-03-16T18:40:05.781Z"
      },
      {
        "duration": 67,
        "start_time": "2022-03-16T18:40:05.857Z"
      },
      {
        "duration": 93,
        "start_time": "2022-03-16T18:40:05.926Z"
      },
      {
        "duration": 59,
        "start_time": "2022-03-16T18:40:06.021Z"
      },
      {
        "duration": 4,
        "start_time": "2022-03-16T18:40:06.082Z"
      },
      {
        "duration": 11,
        "start_time": "2022-03-16T18:40:06.128Z"
      },
      {
        "duration": 11,
        "start_time": "2022-03-16T18:40:06.174Z"
      },
      {
        "duration": 11,
        "start_time": "2022-03-16T18:40:06.223Z"
      },
      {
        "duration": 9,
        "start_time": "2022-03-16T18:40:06.297Z"
      },
      {
        "duration": 3,
        "start_time": "2022-03-16T18:40:06.342Z"
      },
      {
        "duration": 4,
        "start_time": "2022-03-16T18:40:06.417Z"
      },
      {
        "duration": 34,
        "start_time": "2022-03-16T18:40:06.472Z"
      },
      {
        "duration": 34,
        "start_time": "2022-03-16T18:40:06.522Z"
      },
      {
        "duration": 34,
        "start_time": "2022-03-16T18:40:06.566Z"
      },
      {
        "duration": 4,
        "start_time": "2022-03-16T18:40:06.735Z"
      },
      {
        "duration": 34,
        "start_time": "2022-03-16T18:40:07.911Z"
      },
      {
        "duration": 38,
        "start_time": "2022-03-16T18:40:08.085Z"
      },
      {
        "duration": 37,
        "start_time": "2022-03-16T18:40:08.254Z"
      },
      {
        "duration": 7,
        "start_time": "2022-03-16T18:40:08.945Z"
      },
      {
        "duration": 7,
        "start_time": "2022-03-16T18:40:09.119Z"
      },
      {
        "duration": 7,
        "start_time": "2022-03-16T18:40:09.295Z"
      },
      {
        "duration": 651,
        "start_time": "2022-03-16T18:40:10.000Z"
      },
      {
        "duration": 735,
        "start_time": "2022-03-16T18:40:10.653Z"
      },
      {
        "duration": 683,
        "start_time": "2022-03-16T18:40:11.390Z"
      },
      {
        "duration": 6,
        "start_time": "2022-03-16T18:40:12.075Z"
      },
      {
        "duration": 6,
        "start_time": "2022-03-16T18:40:12.083Z"
      },
      {
        "duration": 6,
        "start_time": "2022-03-16T18:40:12.091Z"
      },
      {
        "duration": 79,
        "start_time": "2022-03-16T18:40:12.186Z"
      },
      {
        "duration": 43,
        "start_time": "2022-03-16T18:40:12.364Z"
      },
      {
        "duration": 22,
        "start_time": "2022-03-16T18:40:12.564Z"
      },
      {
        "duration": 8,
        "start_time": "2022-03-16T18:40:13.344Z"
      },
      {
        "duration": 7,
        "start_time": "2022-03-16T18:40:13.537Z"
      },
      {
        "duration": 7,
        "start_time": "2022-03-16T18:40:13.727Z"
      },
      {
        "duration": 11,
        "start_time": "2022-03-16T18:40:15.046Z"
      },
      {
        "duration": 5,
        "start_time": "2022-03-16T18:40:15.235Z"
      },
      {
        "duration": 9,
        "start_time": "2022-03-16T18:40:15.430Z"
      },
      {
        "duration": 6,
        "start_time": "2022-03-16T18:40:15.626Z"
      },
      {
        "duration": 8,
        "start_time": "2022-03-16T18:40:15.814Z"
      },
      {
        "duration": 6,
        "start_time": "2022-03-16T18:40:16.012Z"
      },
      {
        "duration": 31,
        "start_time": "2022-03-16T18:40:16.790Z"
      },
      {
        "duration": 36,
        "start_time": "2022-03-16T18:40:16.977Z"
      },
      {
        "duration": 46,
        "start_time": "2022-03-16T18:40:17.174Z"
      },
      {
        "duration": 651,
        "start_time": "2022-03-16T18:40:17.941Z"
      },
      {
        "duration": 666,
        "start_time": "2022-03-16T18:40:18.597Z"
      },
      {
        "duration": 689,
        "start_time": "2022-03-16T18:40:19.265Z"
      },
      {
        "duration": 118,
        "start_time": "2022-03-16T18:40:19.956Z"
      },
      {
        "duration": 96,
        "start_time": "2022-03-16T18:40:20.078Z"
      },
      {
        "duration": 205,
        "start_time": "2022-03-16T18:40:20.177Z"
      },
      {
        "duration": 9,
        "start_time": "2022-03-16T18:40:20.464Z"
      },
      {
        "duration": 16,
        "start_time": "2022-03-16T18:40:20.564Z"
      },
      {
        "duration": 10,
        "start_time": "2022-03-16T18:40:20.761Z"
      },
      {
        "duration": 11,
        "start_time": "2022-03-16T18:40:20.954Z"
      },
      {
        "duration": 40,
        "start_time": "2022-03-16T18:40:21.343Z"
      },
      {
        "duration": 57,
        "start_time": "2022-03-16T18:40:21.546Z"
      },
      {
        "duration": 45,
        "start_time": "2022-03-16T18:40:21.747Z"
      },
      {
        "duration": 874,
        "start_time": "2022-03-16T18:40:22.526Z"
      },
      {
        "duration": 1005,
        "start_time": "2022-03-16T18:40:23.402Z"
      },
      {
        "duration": 988,
        "start_time": "2022-03-16T18:40:24.410Z"
      },
      {
        "duration": 80,
        "start_time": "2022-03-16T18:40:25.400Z"
      },
      {
        "duration": 102,
        "start_time": "2022-03-16T18:40:25.483Z"
      },
      {
        "duration": 198,
        "start_time": "2022-03-16T18:40:25.587Z"
      },
      {
        "duration": 77,
        "start_time": "2022-03-16T18:40:25.787Z"
      },
      {
        "duration": 102,
        "start_time": "2022-03-16T18:40:25.872Z"
      },
      {
        "duration": 14,
        "start_time": "2022-03-16T18:40:25.977Z"
      },
      {
        "duration": 12,
        "start_time": "2022-03-16T18:40:25.992Z"
      },
      {
        "duration": 19,
        "start_time": "2022-03-16T18:40:26.005Z"
      },
      {
        "duration": 50,
        "start_time": "2022-03-16T18:40:26.031Z"
      },
      {
        "duration": 19,
        "start_time": "2022-03-16T18:40:26.228Z"
      },
      {
        "duration": 456,
        "start_time": "2022-03-16T18:40:26.981Z"
      },
      {
        "duration": 483,
        "start_time": "2022-03-16T18:40:27.440Z"
      },
      {
        "duration": 385,
        "start_time": "2022-03-16T18:40:27.925Z"
      },
      {
        "duration": 151,
        "start_time": "2022-03-16T18:40:28.312Z"
      },
      {
        "duration": 116,
        "start_time": "2022-03-16T18:40:28.466Z"
      },
      {
        "duration": 98,
        "start_time": "2022-03-16T18:40:28.664Z"
      },
      {
        "duration": 62777,
        "start_time": "2022-03-16T18:40:29.905Z"
      },
      {
        "duration": 3,
        "start_time": "2022-03-16T18:41:32.684Z"
      },
      {
        "duration": 345,
        "start_time": "2022-03-16T18:41:32.689Z"
      },
      {
        "duration": 813,
        "start_time": "2022-03-16T18:41:33.036Z"
      },
      {
        "duration": 281,
        "start_time": "2022-03-16T18:41:33.852Z"
      },
      {
        "duration": 547,
        "start_time": "2022-03-16T18:42:08.982Z"
      },
      {
        "duration": 212,
        "start_time": "2022-03-16T18:42:15.471Z"
      },
      {
        "duration": 3,
        "start_time": "2022-03-16T18:43:55.658Z"
      },
      {
        "duration": 396,
        "start_time": "2022-03-16T18:44:07.087Z"
      },
      {
        "duration": 4,
        "start_time": "2022-03-16T18:44:31.205Z"
      },
      {
        "duration": 4,
        "start_time": "2022-03-16T18:45:41.353Z"
      },
      {
        "duration": 5,
        "start_time": "2022-03-16T18:46:28.007Z"
      },
      {
        "duration": 3,
        "start_time": "2022-03-16T18:48:09.046Z"
      },
      {
        "duration": 363,
        "start_time": "2022-03-16T18:48:28.697Z"
      },
      {
        "duration": 4,
        "start_time": "2022-03-16T18:48:30.734Z"
      },
      {
        "duration": 4,
        "start_time": "2022-03-16T18:48:35.214Z"
      },
      {
        "duration": 159,
        "start_time": "2022-03-16T18:48:35.770Z"
      },
      {
        "duration": 740,
        "start_time": "2022-03-16T18:52:42.390Z"
      },
      {
        "duration": 719,
        "start_time": "2022-03-16T18:52:49.321Z"
      },
      {
        "duration": 189,
        "start_time": "2022-03-16T18:53:33.219Z"
      },
      {
        "duration": 237,
        "start_time": "2022-03-16T18:53:41.810Z"
      },
      {
        "duration": 194,
        "start_time": "2022-03-16T18:53:49.879Z"
      },
      {
        "duration": 221,
        "start_time": "2022-03-16T18:53:58.216Z"
      },
      {
        "duration": 260,
        "start_time": "2022-03-16T18:54:03.824Z"
      },
      {
        "duration": 262,
        "start_time": "2022-03-16T18:54:51.319Z"
      },
      {
        "duration": 550,
        "start_time": "2022-03-16T18:55:02.831Z"
      },
      {
        "duration": 336,
        "start_time": "2022-03-16T18:55:14.436Z"
      },
      {
        "duration": 4,
        "start_time": "2022-03-16T18:56:30.220Z"
      },
      {
        "duration": 4,
        "start_time": "2022-03-16T19:00:08.038Z"
      },
      {
        "duration": 367,
        "start_time": "2022-03-16T19:00:13.279Z"
      },
      {
        "duration": 3,
        "start_time": "2022-03-16T19:00:39.545Z"
      },
      {
        "duration": 6,
        "start_time": "2022-03-16T19:01:00.004Z"
      },
      {
        "duration": 382,
        "start_time": "2022-03-16T19:01:34.412Z"
      },
      {
        "duration": 4,
        "start_time": "2022-03-16T19:01:38.710Z"
      },
      {
        "duration": 4,
        "start_time": "2022-03-16T19:02:22.564Z"
      },
      {
        "duration": 4,
        "start_time": "2022-03-16T19:02:23.783Z"
      },
      {
        "duration": 3,
        "start_time": "2022-03-16T19:02:27.119Z"
      },
      {
        "duration": 1177,
        "start_time": "2022-03-16T19:03:34.858Z"
      },
      {
        "duration": 4,
        "start_time": "2022-03-16T19:03:36.037Z"
      },
      {
        "duration": 39,
        "start_time": "2022-03-16T19:03:36.043Z"
      },
      {
        "duration": 77,
        "start_time": "2022-03-16T19:03:38.972Z"
      },
      {
        "duration": 4,
        "start_time": "2022-03-16T19:03:40.647Z"
      },
      {
        "duration": 6,
        "start_time": "2022-03-16T19:03:41.130Z"
      },
      {
        "duration": 6,
        "start_time": "2022-03-16T19:03:41.622Z"
      },
      {
        "duration": 12,
        "start_time": "2022-03-16T19:03:42.187Z"
      },
      {
        "duration": 94,
        "start_time": "2022-03-16T19:03:42.453Z"
      },
      {
        "duration": 99,
        "start_time": "2022-03-16T19:03:42.707Z"
      },
      {
        "duration": 73,
        "start_time": "2022-03-16T19:03:42.970Z"
      },
      {
        "duration": 34,
        "start_time": "2022-03-16T19:03:43.484Z"
      },
      {
        "duration": 4,
        "start_time": "2022-03-16T19:03:43.988Z"
      },
      {
        "duration": 11,
        "start_time": "2022-03-16T19:03:44.526Z"
      },
      {
        "duration": 12,
        "start_time": "2022-03-16T19:03:44.799Z"
      },
      {
        "duration": 13,
        "start_time": "2022-03-16T19:03:45.077Z"
      },
      {
        "duration": 14,
        "start_time": "2022-03-16T19:03:45.603Z"
      },
      {
        "duration": 4,
        "start_time": "2022-03-16T19:03:45.854Z"
      },
      {
        "duration": 6,
        "start_time": "2022-03-16T19:03:46.156Z"
      },
      {
        "duration": 35,
        "start_time": "2022-03-16T19:03:46.425Z"
      },
      {
        "duration": 36,
        "start_time": "2022-03-16T19:03:46.695Z"
      },
      {
        "duration": 36,
        "start_time": "2022-03-16T19:03:46.975Z"
      },
      {
        "duration": 3,
        "start_time": "2022-03-16T19:03:47.488Z"
      },
      {
        "duration": 33,
        "start_time": "2022-03-16T19:03:48.254Z"
      },
      {
        "duration": 35,
        "start_time": "2022-03-16T19:03:48.487Z"
      },
      {
        "duration": 38,
        "start_time": "2022-03-16T19:03:48.723Z"
      },
      {
        "duration": 6,
        "start_time": "2022-03-16T19:03:49.744Z"
      },
      {
        "duration": 6,
        "start_time": "2022-03-16T19:03:49.983Z"
      },
      {
        "duration": 7,
        "start_time": "2022-03-16T19:03:50.232Z"
      },
      {
        "duration": 644,
        "start_time": "2022-03-16T19:03:51.209Z"
      },
      {
        "duration": 755,
        "start_time": "2022-03-16T19:03:51.855Z"
      },
      {
        "duration": 927,
        "start_time": "2022-03-16T19:03:52.613Z"
      },
      {
        "duration": 5,
        "start_time": "2022-03-16T19:03:53.542Z"
      },
      {
        "duration": 6,
        "start_time": "2022-03-16T19:03:53.563Z"
      },
      {
        "duration": 9,
        "start_time": "2022-03-16T19:03:53.571Z"
      },
      {
        "duration": 179,
        "start_time": "2022-03-16T19:03:54.083Z"
      },
      {
        "duration": 59,
        "start_time": "2022-03-16T19:03:54.333Z"
      },
      {
        "duration": 200,
        "start_time": "2022-03-16T19:03:54.565Z"
      },
      {
        "duration": 7,
        "start_time": "2022-03-16T19:03:55.497Z"
      },
      {
        "duration": 7,
        "start_time": "2022-03-16T19:03:55.737Z"
      },
      {
        "duration": 7,
        "start_time": "2022-03-16T19:03:55.980Z"
      },
      {
        "duration": 20,
        "start_time": "2022-03-16T19:03:58.196Z"
      },
      {
        "duration": 5,
        "start_time": "2022-03-16T19:03:58.431Z"
      },
      {
        "duration": 7,
        "start_time": "2022-03-16T19:03:58.679Z"
      },
      {
        "duration": 5,
        "start_time": "2022-03-16T19:03:58.913Z"
      },
      {
        "duration": 7,
        "start_time": "2022-03-16T19:03:59.164Z"
      },
      {
        "duration": 5,
        "start_time": "2022-03-16T19:03:59.395Z"
      },
      {
        "duration": 31,
        "start_time": "2022-03-16T19:04:00.356Z"
      },
      {
        "duration": 35,
        "start_time": "2022-03-16T19:04:00.599Z"
      },
      {
        "duration": 34,
        "start_time": "2022-03-16T19:04:00.842Z"
      },
      {
        "duration": 624,
        "start_time": "2022-03-16T19:04:01.772Z"
      },
      {
        "duration": 663,
        "start_time": "2022-03-16T19:04:02.398Z"
      },
      {
        "duration": 671,
        "start_time": "2022-03-16T19:04:03.063Z"
      },
      {
        "duration": 38,
        "start_time": "2022-03-16T19:04:03.736Z"
      },
      {
        "duration": 188,
        "start_time": "2022-03-16T19:04:03.776Z"
      },
      {
        "duration": 646,
        "start_time": "2022-03-16T19:04:45.979Z"
      },
      {
        "duration": 689,
        "start_time": "2022-03-16T19:04:46.628Z"
      },
      {
        "duration": 848,
        "start_time": "2022-03-16T19:04:47.320Z"
      },
      {
        "duration": 8,
        "start_time": "2022-03-16T19:04:48.639Z"
      },
      {
        "duration": 7,
        "start_time": "2022-03-16T19:04:48.887Z"
      },
      {
        "duration": 7,
        "start_time": "2022-03-16T19:04:49.135Z"
      },
      {
        "duration": 141,
        "start_time": "2022-03-16T19:04:56.024Z"
      },
      {
        "duration": 22,
        "start_time": "2022-03-16T19:04:56.645Z"
      },
      {
        "duration": 197,
        "start_time": "2022-03-16T19:04:56.867Z"
      },
      {
        "duration": 6,
        "start_time": "2022-03-16T19:04:58.535Z"
      },
      {
        "duration": 8,
        "start_time": "2022-03-16T19:04:58.772Z"
      },
      {
        "duration": 6,
        "start_time": "2022-03-16T19:04:59.024Z"
      },
      {
        "duration": 7,
        "start_time": "2022-03-16T19:05:12.422Z"
      },
      {
        "duration": 5,
        "start_time": "2022-03-16T19:05:12.722Z"
      },
      {
        "duration": 7,
        "start_time": "2022-03-16T19:05:13.040Z"
      },
      {
        "duration": 4,
        "start_time": "2022-03-16T19:05:13.302Z"
      },
      {
        "duration": 7,
        "start_time": "2022-03-16T19:05:13.536Z"
      },
      {
        "duration": 6,
        "start_time": "2022-03-16T19:05:13.815Z"
      },
      {
        "duration": 31,
        "start_time": "2022-03-16T19:05:14.735Z"
      },
      {
        "duration": 36,
        "start_time": "2022-03-16T19:05:14.984Z"
      },
      {
        "duration": 47,
        "start_time": "2022-03-16T19:05:15.229Z"
      },
      {
        "duration": 589,
        "start_time": "2022-03-16T19:05:21.190Z"
      },
      {
        "duration": 622,
        "start_time": "2022-03-16T19:05:21.782Z"
      },
      {
        "duration": 652,
        "start_time": "2022-03-16T19:05:22.406Z"
      },
      {
        "duration": 136,
        "start_time": "2022-03-16T19:05:28.528Z"
      },
      {
        "duration": 67,
        "start_time": "2022-03-16T19:05:29.101Z"
      },
      {
        "duration": 23,
        "start_time": "2022-03-16T19:05:29.454Z"
      },
      {
        "duration": 4,
        "start_time": "2022-03-16T19:05:44.160Z"
      },
      {
        "duration": 12,
        "start_time": "2022-03-16T19:05:44.385Z"
      },
      {
        "duration": 11,
        "start_time": "2022-03-16T19:05:44.899Z"
      },
      {
        "duration": 11,
        "start_time": "2022-03-16T19:05:45.142Z"
      },
      {
        "duration": 40,
        "start_time": "2022-03-16T19:05:45.625Z"
      },
      {
        "duration": 58,
        "start_time": "2022-03-16T19:05:45.921Z"
      },
      {
        "duration": 44,
        "start_time": "2022-03-16T19:05:46.158Z"
      },
      {
        "duration": 927,
        "start_time": "2022-03-16T19:05:53.194Z"
      },
      {
        "duration": 996,
        "start_time": "2022-03-16T19:05:54.124Z"
      },
      {
        "duration": 941,
        "start_time": "2022-03-16T19:05:55.122Z"
      },
      {
        "duration": 58,
        "start_time": "2022-03-16T19:06:21.317Z"
      },
      {
        "duration": 82,
        "start_time": "2022-03-16T19:06:21.787Z"
      },
      {
        "duration": 28,
        "start_time": "2022-03-16T19:06:22.204Z"
      },
      {
        "duration": 5,
        "start_time": "2022-03-16T19:06:23.397Z"
      },
      {
        "duration": 11,
        "start_time": "2022-03-16T19:06:23.714Z"
      },
      {
        "duration": 12,
        "start_time": "2022-03-16T19:06:23.983Z"
      },
      {
        "duration": 12,
        "start_time": "2022-03-16T19:06:24.205Z"
      },
      {
        "duration": 18,
        "start_time": "2022-03-16T19:06:25.185Z"
      },
      {
        "duration": 25,
        "start_time": "2022-03-16T19:06:25.496Z"
      },
      {
        "duration": 20,
        "start_time": "2022-03-16T19:06:25.796Z"
      },
      {
        "duration": 483,
        "start_time": "2022-03-16T19:06:29.654Z"
      },
      {
        "duration": 526,
        "start_time": "2022-03-16T19:06:30.139Z"
      },
      {
        "duration": 359,
        "start_time": "2022-03-16T19:06:30.668Z"
      },
      {
        "duration": 148,
        "start_time": "2022-03-16T19:06:34.516Z"
      },
      {
        "duration": 37,
        "start_time": "2022-03-16T19:06:34.941Z"
      },
      {
        "duration": 16,
        "start_time": "2022-03-16T19:06:35.164Z"
      },
      {
        "duration": 24,
        "start_time": "2022-03-16T19:06:57.766Z"
      },
      {
        "duration": 65722,
        "start_time": "2022-03-16T19:06:59.970Z"
      },
      {
        "duration": 3,
        "start_time": "2022-03-16T19:08:42.968Z"
      },
      {
        "duration": 4,
        "start_time": "2022-03-16T19:08:44.374Z"
      },
      {
        "duration": 4,
        "start_time": "2022-03-16T19:08:50.942Z"
      },
      {
        "duration": 275,
        "start_time": "2022-03-16T19:08:53.756Z"
      },
      {
        "duration": 270,
        "start_time": "2022-03-16T19:09:28.803Z"
      },
      {
        "duration": 130,
        "start_time": "2022-03-16T19:09:33.745Z"
      },
      {
        "duration": 235,
        "start_time": "2022-03-16T19:09:41.804Z"
      },
      {
        "duration": 4,
        "start_time": "2022-03-16T19:09:45.136Z"
      },
      {
        "duration": 5,
        "start_time": "2022-03-16T19:09:46.680Z"
      },
      {
        "duration": 4,
        "start_time": "2022-03-16T19:09:47.706Z"
      },
      {
        "duration": 1093,
        "start_time": "2022-03-17T04:42:56.664Z"
      },
      {
        "duration": 3,
        "start_time": "2022-03-17T04:42:57.759Z"
      },
      {
        "duration": 33,
        "start_time": "2022-03-17T04:42:57.764Z"
      },
      {
        "duration": 68,
        "start_time": "2022-03-17T04:42:57.939Z"
      },
      {
        "duration": 3,
        "start_time": "2022-03-17T04:42:59.125Z"
      },
      {
        "duration": 5,
        "start_time": "2022-03-17T04:42:59.749Z"
      },
      {
        "duration": 5,
        "start_time": "2022-03-17T04:43:00.298Z"
      },
      {
        "duration": 12,
        "start_time": "2022-03-17T04:43:00.702Z"
      },
      {
        "duration": 58,
        "start_time": "2022-03-17T04:43:00.902Z"
      },
      {
        "duration": 56,
        "start_time": "2022-03-17T04:43:01.483Z"
      },
      {
        "duration": 59,
        "start_time": "2022-03-17T04:43:02.012Z"
      },
      {
        "duration": 39,
        "start_time": "2022-03-17T04:43:03.746Z"
      },
      {
        "duration": 3,
        "start_time": "2022-03-17T04:43:07.770Z"
      },
      {
        "duration": 9,
        "start_time": "2022-03-17T04:43:15.965Z"
      },
      {
        "duration": 10,
        "start_time": "2022-03-17T04:43:16.363Z"
      },
      {
        "duration": 10,
        "start_time": "2022-03-17T04:43:16.764Z"
      },
      {
        "duration": 9,
        "start_time": "2022-03-17T04:43:18.017Z"
      },
      {
        "duration": 2,
        "start_time": "2022-03-17T04:43:18.290Z"
      },
      {
        "duration": 4,
        "start_time": "2022-03-17T04:43:18.880Z"
      },
      {
        "duration": 34,
        "start_time": "2022-03-17T04:43:19.457Z"
      },
      {
        "duration": 1055,
        "start_time": "2022-03-17T04:44:18.897Z"
      },
      {
        "duration": 3,
        "start_time": "2022-03-17T04:44:19.954Z"
      },
      {
        "duration": 29,
        "start_time": "2022-03-17T04:44:19.959Z"
      },
      {
        "duration": 80,
        "start_time": "2022-03-17T04:44:19.989Z"
      },
      {
        "duration": 3,
        "start_time": "2022-03-17T04:44:20.702Z"
      },
      {
        "duration": 5,
        "start_time": "2022-03-17T04:44:21.059Z"
      },
      {
        "duration": 5,
        "start_time": "2022-03-17T04:44:21.452Z"
      },
      {
        "duration": 11,
        "start_time": "2022-03-17T04:44:21.854Z"
      },
      {
        "duration": 57,
        "start_time": "2022-03-17T04:44:22.045Z"
      },
      {
        "duration": 58,
        "start_time": "2022-03-17T04:44:22.237Z"
      },
      {
        "duration": 56,
        "start_time": "2022-03-17T04:44:22.429Z"
      },
      {
        "duration": 28,
        "start_time": "2022-03-17T04:44:22.800Z"
      },
      {
        "duration": 3,
        "start_time": "2022-03-17T04:44:23.181Z"
      },
      {
        "duration": 10,
        "start_time": "2022-03-17T04:44:23.534Z"
      },
      {
        "duration": 10,
        "start_time": "2022-03-17T04:44:23.739Z"
      },
      {
        "duration": 11,
        "start_time": "2022-03-17T04:44:23.920Z"
      },
      {
        "duration": 8,
        "start_time": "2022-03-17T04:44:24.308Z"
      },
      {
        "duration": 3,
        "start_time": "2022-03-17T04:44:24.486Z"
      },
      {
        "duration": 3,
        "start_time": "2022-03-17T04:44:24.674Z"
      },
      {
        "duration": 263,
        "start_time": "2022-03-17T04:44:24.869Z"
      },
      {
        "duration": -966,
        "start_time": "2022-03-17T04:44:26.100Z"
      },
      {
        "duration": 239,
        "start_time": "2022-03-17T04:44:25.266Z"
      },
      {
        "duration": 31,
        "start_time": "2022-03-17T04:45:20.709Z"
      },
      {
        "duration": 32,
        "start_time": "2022-03-17T04:45:27.589Z"
      },
      {
        "duration": 32,
        "start_time": "2022-03-17T04:45:28.075Z"
      },
      {
        "duration": 23,
        "start_time": "2022-03-17T04:45:28.360Z"
      },
      {
        "duration": 3,
        "start_time": "2022-03-17T04:45:29.287Z"
      },
      {
        "duration": 31,
        "start_time": "2022-03-17T04:45:31.154Z"
      },
      {
        "duration": 36,
        "start_time": "2022-03-17T04:45:32.039Z"
      },
      {
        "duration": 37,
        "start_time": "2022-03-17T04:45:33.714Z"
      },
      {
        "duration": 997,
        "start_time": "2022-03-17T04:45:43.891Z"
      },
      {
        "duration": 3,
        "start_time": "2022-03-17T04:45:44.889Z"
      },
      {
        "duration": 28,
        "start_time": "2022-03-17T04:45:44.894Z"
      },
      {
        "duration": 74,
        "start_time": "2022-03-17T04:45:44.923Z"
      },
      {
        "duration": 3,
        "start_time": "2022-03-17T04:45:45.762Z"
      },
      {
        "duration": 5,
        "start_time": "2022-03-17T04:45:46.149Z"
      },
      {
        "duration": 4,
        "start_time": "2022-03-17T04:45:46.545Z"
      },
      {
        "duration": 13,
        "start_time": "2022-03-17T04:45:46.936Z"
      },
      {
        "duration": 60,
        "start_time": "2022-03-17T04:45:47.650Z"
      },
      {
        "duration": 60,
        "start_time": "2022-03-17T04:45:47.848Z"
      },
      {
        "duration": 57,
        "start_time": "2022-03-17T04:45:48.378Z"
      },
      {
        "duration": 30,
        "start_time": "2022-03-17T04:45:48.895Z"
      },
      {
        "duration": 4,
        "start_time": "2022-03-17T04:45:53.307Z"
      },
      {
        "duration": 10,
        "start_time": "2022-03-17T04:45:55.556Z"
      },
      {
        "duration": 11,
        "start_time": "2022-03-17T04:45:56.553Z"
      },
      {
        "duration": 11,
        "start_time": "2022-03-17T04:45:57.182Z"
      },
      {
        "duration": 9,
        "start_time": "2022-03-17T04:45:59.819Z"
      },
      {
        "duration": 3,
        "start_time": "2022-03-17T04:46:00.219Z"
      },
      {
        "duration": 4,
        "start_time": "2022-03-17T04:46:00.480Z"
      },
      {
        "duration": 34,
        "start_time": "2022-03-17T04:46:01.136Z"
      },
      {
        "duration": 36,
        "start_time": "2022-03-17T04:46:01.586Z"
      },
      {
        "duration": 32,
        "start_time": "2022-03-17T04:46:01.822Z"
      },
      {
        "duration": 2,
        "start_time": "2022-03-17T04:46:02.648Z"
      },
      {
        "duration": 32,
        "start_time": "2022-03-17T04:46:05.740Z"
      },
      {
        "duration": 5,
        "start_time": "2022-03-17T05:11:51.142Z"
      },
      {
        "duration": 3,
        "start_time": "2022-03-17T05:11:51.498Z"
      },
      {
        "duration": 23,
        "start_time": "2022-03-17T05:11:51.898Z"
      },
      {
        "duration": 65,
        "start_time": "2022-03-17T05:11:52.369Z"
      },
      {
        "duration": 3,
        "start_time": "2022-03-17T05:11:54.060Z"
      },
      {
        "duration": 4,
        "start_time": "2022-03-17T05:11:54.505Z"
      },
      {
        "duration": 5,
        "start_time": "2022-03-17T05:11:54.955Z"
      },
      {
        "duration": 10,
        "start_time": "2022-03-17T05:11:55.381Z"
      },
      {
        "duration": 56,
        "start_time": "2022-03-17T05:11:55.999Z"
      },
      {
        "duration": 57,
        "start_time": "2022-03-17T05:11:56.598Z"
      },
      {
        "duration": 56,
        "start_time": "2022-03-17T05:11:56.879Z"
      },
      {
        "duration": 29,
        "start_time": "2022-03-17T05:11:58.306Z"
      },
      {
        "duration": 5,
        "start_time": "2022-03-17T05:16:33.721Z"
      },
      {
        "duration": 11,
        "start_time": "2022-03-17T05:16:34.427Z"
      },
      {
        "duration": 12,
        "start_time": "2022-03-17T05:16:35.842Z"
      },
      {
        "duration": 261,
        "start_time": "2022-03-17T05:16:36.173Z"
      },
      {
        "duration": 11,
        "start_time": "2022-03-17T05:16:41.755Z"
      },
      {
        "duration": 10,
        "start_time": "2022-03-17T05:16:43.461Z"
      },
      {
        "duration": 3,
        "start_time": "2022-03-17T05:16:43.773Z"
      },
      {
        "duration": 4,
        "start_time": "2022-03-17T05:16:44.068Z"
      },
      {
        "duration": 31,
        "start_time": "2022-03-17T05:16:44.743Z"
      },
      {
        "duration": 32,
        "start_time": "2022-03-17T05:16:45.199Z"
      },
      {
        "duration": 31,
        "start_time": "2022-03-17T05:16:45.423Z"
      },
      {
        "duration": 3,
        "start_time": "2022-03-17T05:16:48.640Z"
      },
      {
        "duration": 32,
        "start_time": "2022-03-17T05:16:49.457Z"
      },
      {
        "duration": 36,
        "start_time": "2022-03-17T05:16:50.187Z"
      },
      {
        "duration": 34,
        "start_time": "2022-03-17T05:16:51.661Z"
      },
      {
        "duration": 1088,
        "start_time": "2022-03-17T05:17:01.382Z"
      },
      {
        "duration": 3,
        "start_time": "2022-03-17T05:17:02.472Z"
      },
      {
        "duration": 33,
        "start_time": "2022-03-17T05:17:02.477Z"
      },
      {
        "duration": 74,
        "start_time": "2022-03-17T05:17:02.512Z"
      },
      {
        "duration": 3,
        "start_time": "2022-03-17T05:17:02.956Z"
      },
      {
        "duration": 5,
        "start_time": "2022-03-17T05:17:03.304Z"
      },
      {
        "duration": 5,
        "start_time": "2022-03-17T05:17:03.644Z"
      },
      {
        "duration": 13,
        "start_time": "2022-03-17T05:17:03.977Z"
      },
      {
        "duration": 58,
        "start_time": "2022-03-17T05:17:04.142Z"
      },
      {
        "duration": 58,
        "start_time": "2022-03-17T05:17:04.447Z"
      },
      {
        "duration": 58,
        "start_time": "2022-03-17T05:17:04.669Z"
      },
      {
        "duration": 29,
        "start_time": "2022-03-17T05:17:05.132Z"
      },
      {
        "duration": 4,
        "start_time": "2022-03-17T05:17:05.520Z"
      },
      {
        "duration": 10,
        "start_time": "2022-03-17T05:17:06.129Z"
      },
      {
        "duration": 11,
        "start_time": "2022-03-17T05:17:06.341Z"
      },
      {
        "duration": 11,
        "start_time": "2022-03-17T05:17:06.529Z"
      },
      {
        "duration": 9,
        "start_time": "2022-03-17T05:17:07.258Z"
      },
      {
        "duration": 3,
        "start_time": "2022-03-17T05:17:08.951Z"
      },
      {
        "duration": 4,
        "start_time": "2022-03-17T05:17:09.107Z"
      },
      {
        "duration": 32,
        "start_time": "2022-03-17T05:17:09.273Z"
      },
      {
        "duration": 31,
        "start_time": "2022-03-17T05:17:09.453Z"
      },
      {
        "duration": 32,
        "start_time": "2022-03-17T05:17:09.830Z"
      },
      {
        "duration": 2,
        "start_time": "2022-03-17T05:17:11.478Z"
      },
      {
        "duration": 30,
        "start_time": "2022-03-17T05:17:13.359Z"
      },
      {
        "duration": 35,
        "start_time": "2022-03-17T05:17:15.531Z"
      },
      {
        "duration": 34,
        "start_time": "2022-03-17T05:17:15.891Z"
      },
      {
        "duration": 5,
        "start_time": "2022-03-17T05:17:25.052Z"
      },
      {
        "duration": 6,
        "start_time": "2022-03-17T05:17:25.542Z"
      },
      {
        "duration": 6,
        "start_time": "2022-03-17T05:17:25.908Z"
      },
      {
        "duration": 582,
        "start_time": "2022-03-17T05:19:12.115Z"
      },
      {
        "duration": 638,
        "start_time": "2022-03-17T05:19:12.699Z"
      },
      {
        "duration": 647,
        "start_time": "2022-03-17T05:19:14.824Z"
      },
      {
        "duration": 588,
        "start_time": "2022-03-17T05:19:25.361Z"
      },
      {
        "duration": 641,
        "start_time": "2022-03-17T05:19:25.950Z"
      },
      {
        "duration": 626,
        "start_time": "2022-03-17T05:19:26.592Z"
      },
      {
        "duration": 13,
        "start_time": "2022-03-17T05:19:27.220Z"
      },
      {
        "duration": 6,
        "start_time": "2022-03-17T05:19:27.373Z"
      },
      {
        "duration": 5,
        "start_time": "2022-03-17T05:19:27.553Z"
      },
      {
        "duration": 22,
        "start_time": "2022-03-17T05:19:59.888Z"
      },
      {
        "duration": 24,
        "start_time": "2022-03-17T05:20:00.086Z"
      },
      {
        "duration": 23,
        "start_time": "2022-03-17T05:20:00.283Z"
      },
      {
        "duration": 5,
        "start_time": "2022-03-17T05:20:02.602Z"
      },
      {
        "duration": 5,
        "start_time": "2022-03-17T05:20:02.763Z"
      },
      {
        "duration": 5,
        "start_time": "2022-03-17T05:20:02.942Z"
      },
      {
        "duration": 7,
        "start_time": "2022-03-17T05:21:19.443Z"
      },
      {
        "duration": 5,
        "start_time": "2022-03-17T05:21:19.825Z"
      },
      {
        "duration": 7,
        "start_time": "2022-03-17T05:21:20.141Z"
      },
      {
        "duration": 5,
        "start_time": "2022-03-17T05:21:20.364Z"
      },
      {
        "duration": 6,
        "start_time": "2022-03-17T05:21:20.547Z"
      },
      {
        "duration": 5,
        "start_time": "2022-03-17T05:21:22.330Z"
      },
      {
        "duration": 29,
        "start_time": "2022-03-17T05:21:23.429Z"
      },
      {
        "duration": 32,
        "start_time": "2022-03-17T05:21:24.066Z"
      },
      {
        "duration": 32,
        "start_time": "2022-03-17T05:21:24.466Z"
      },
      {
        "duration": 850,
        "start_time": "2022-03-17T05:24:16.728Z"
      },
      {
        "duration": 915,
        "start_time": "2022-03-17T05:24:17.580Z"
      },
      {
        "duration": 912,
        "start_time": "2022-03-17T05:24:18.497Z"
      },
      {
        "duration": 20,
        "start_time": "2022-03-17T05:25:39.539Z"
      },
      {
        "duration": 80,
        "start_time": "2022-03-17T05:25:39.954Z"
      },
      {
        "duration": 20,
        "start_time": "2022-03-17T05:25:40.207Z"
      },
      {
        "duration": 5,
        "start_time": "2022-03-17T05:27:18.456Z"
      },
      {
        "duration": 12,
        "start_time": "2022-03-17T05:27:18.885Z"
      },
      {
        "duration": 12,
        "start_time": "2022-03-17T05:27:19.327Z"
      },
      {
        "duration": 10,
        "start_time": "2022-03-17T05:27:19.543Z"
      },
      {
        "duration": 37,
        "start_time": "2022-03-17T05:27:20.076Z"
      },
      {
        "duration": 38,
        "start_time": "2022-03-17T05:27:20.277Z"
      },
      {
        "duration": 40,
        "start_time": "2022-03-17T05:27:20.458Z"
      },
      {
        "duration": 37,
        "start_time": "2022-03-17T05:27:57.612Z"
      },
      {
        "duration": 54,
        "start_time": "2022-03-17T05:27:58.037Z"
      },
      {
        "duration": 53,
        "start_time": "2022-03-17T05:27:58.305Z"
      },
      {
        "duration": 803,
        "start_time": "2022-03-17T05:28:23.062Z"
      },
      {
        "duration": 890,
        "start_time": "2022-03-17T05:28:23.867Z"
      },
      {
        "duration": 884,
        "start_time": "2022-03-17T05:28:24.759Z"
      },
      {
        "duration": 31,
        "start_time": "2022-03-17T05:31:49.997Z"
      },
      {
        "duration": 28,
        "start_time": "2022-03-17T05:31:50.400Z"
      },
      {
        "duration": 28,
        "start_time": "2022-03-17T05:31:50.661Z"
      },
      {
        "duration": 4,
        "start_time": "2022-03-17T05:31:53.672Z"
      },
      {
        "duration": 10,
        "start_time": "2022-03-17T05:31:53.879Z"
      },
      {
        "duration": 11,
        "start_time": "2022-03-17T05:31:54.079Z"
      },
      {
        "duration": 10,
        "start_time": "2022-03-17T05:31:54.269Z"
      },
      {
        "duration": 16,
        "start_time": "2022-03-17T05:31:59.347Z"
      },
      {
        "duration": 17,
        "start_time": "2022-03-17T05:31:59.764Z"
      },
      {
        "duration": 17,
        "start_time": "2022-03-17T05:32:00.185Z"
      },
      {
        "duration": 301,
        "start_time": "2022-03-17T05:33:49.411Z"
      },
      {
        "duration": 317,
        "start_time": "2022-03-17T05:33:50.112Z"
      },
      {
        "duration": 317,
        "start_time": "2022-03-17T05:33:50.445Z"
      },
      {
        "duration": 19,
        "start_time": "2022-03-17T05:35:14.301Z"
      },
      {
        "duration": 52,
        "start_time": "2022-03-17T05:35:14.481Z"
      },
      {
        "duration": 14,
        "start_time": "2022-03-17T05:35:14.675Z"
      },
      {
        "duration": 44108,
        "start_time": "2022-03-17T05:38:20.312Z"
      },
      {
        "duration": 4,
        "start_time": "2022-03-17T05:39:07.140Z"
      },
      {
        "duration": 397,
        "start_time": "2022-03-17T05:39:10.769Z"
      },
      {
        "duration": 224,
        "start_time": "2022-03-17T05:39:57.065Z"
      },
      {
        "duration": 807,
        "start_time": "2022-03-17T05:40:08.820Z"
      },
      {
        "duration": 4,
        "start_time": "2022-03-17T05:40:19.601Z"
      },
      {
        "duration": 4,
        "start_time": "2022-03-17T05:40:32.484Z"
      },
      {
        "duration": 3,
        "start_time": "2022-03-17T05:40:43.324Z"
      },
      {
        "duration": 3,
        "start_time": "2022-03-17T05:40:53.797Z"
      },
      {
        "duration": 215,
        "start_time": "2022-03-17T05:41:10.623Z"
      },
      {
        "duration": 1345,
        "start_time": "2022-03-17T05:42:33.145Z"
      },
      {
        "duration": 4,
        "start_time": "2022-03-17T05:42:34.492Z"
      },
      {
        "duration": 27,
        "start_time": "2022-03-17T05:42:34.498Z"
      },
      {
        "duration": 67,
        "start_time": "2022-03-17T05:42:34.526Z"
      },
      {
        "duration": 3,
        "start_time": "2022-03-17T05:42:34.843Z"
      },
      {
        "duration": 4,
        "start_time": "2022-03-17T05:42:35.185Z"
      },
      {
        "duration": 4,
        "start_time": "2022-03-17T05:42:35.513Z"
      },
      {
        "duration": 12,
        "start_time": "2022-03-17T05:42:35.850Z"
      },
      {
        "duration": 57,
        "start_time": "2022-03-17T05:42:36.443Z"
      },
      {
        "duration": 56,
        "start_time": "2022-03-17T05:42:36.654Z"
      },
      {
        "duration": 56,
        "start_time": "2022-03-17T05:42:36.853Z"
      },
      {
        "duration": 29,
        "start_time": "2022-03-17T05:42:37.441Z"
      },
      {
        "duration": 4,
        "start_time": "2022-03-17T05:42:37.996Z"
      },
      {
        "duration": 10,
        "start_time": "2022-03-17T05:42:40.434Z"
      },
      {
        "duration": 11,
        "start_time": "2022-03-17T05:42:40.628Z"
      },
      {
        "duration": 12,
        "start_time": "2022-03-17T05:42:40.816Z"
      },
      {
        "duration": 9,
        "start_time": "2022-03-17T05:42:42.492Z"
      },
      {
        "duration": 2,
        "start_time": "2022-03-17T05:42:42.661Z"
      },
      {
        "duration": 4,
        "start_time": "2022-03-17T05:42:42.830Z"
      },
      {
        "duration": 32,
        "start_time": "2022-03-17T05:42:43.006Z"
      },
      {
        "duration": 32,
        "start_time": "2022-03-17T05:42:43.176Z"
      },
      {
        "duration": 32,
        "start_time": "2022-03-17T05:42:43.356Z"
      },
      {
        "duration": 3,
        "start_time": "2022-03-17T05:42:44.832Z"
      },
      {
        "duration": 31,
        "start_time": "2022-03-17T05:42:45.874Z"
      },
      {
        "duration": 35,
        "start_time": "2022-03-17T05:42:47.314Z"
      },
      {
        "duration": 34,
        "start_time": "2022-03-17T05:42:47.652Z"
      },
      {
        "duration": 5,
        "start_time": "2022-03-17T05:42:49.890Z"
      },
      {
        "duration": 6,
        "start_time": "2022-03-17T05:42:50.523Z"
      },
      {
        "duration": 6,
        "start_time": "2022-03-17T05:42:50.710Z"
      },
      {
        "duration": 583,
        "start_time": "2022-03-17T05:42:52.867Z"
      },
      {
        "duration": 629,
        "start_time": "2022-03-17T05:42:53.453Z"
      },
      {
        "duration": 627,
        "start_time": "2022-03-17T05:42:54.085Z"
      },
      {
        "duration": 4,
        "start_time": "2022-03-17T05:55:21.344Z"
      },
      {
        "duration": 3,
        "start_time": "2022-03-17T05:55:21.562Z"
      },
      {
        "duration": 27,
        "start_time": "2022-03-17T05:55:21.887Z"
      },
      {
        "duration": 65,
        "start_time": "2022-03-17T05:55:23.474Z"
      },
      {
        "duration": 3,
        "start_time": "2022-03-17T05:55:25.638Z"
      },
      {
        "duration": 5,
        "start_time": "2022-03-17T05:55:25.976Z"
      },
      {
        "duration": 5,
        "start_time": "2022-03-17T05:55:26.329Z"
      },
      {
        "duration": 11,
        "start_time": "2022-03-17T05:55:29.387Z"
      },
      {
        "duration": 55,
        "start_time": "2022-03-17T05:55:29.571Z"
      },
      {
        "duration": 58,
        "start_time": "2022-03-17T05:55:29.744Z"
      },
      {
        "duration": 61,
        "start_time": "2022-03-17T05:55:30.007Z"
      },
      {
        "duration": 29,
        "start_time": "2022-03-17T05:55:30.353Z"
      },
      {
        "duration": 4,
        "start_time": "2022-03-17T05:55:30.722Z"
      },
      {
        "duration": 12,
        "start_time": "2022-03-17T05:55:31.083Z"
      },
      {
        "duration": 12,
        "start_time": "2022-03-17T05:55:31.267Z"
      },
      {
        "duration": 12,
        "start_time": "2022-03-17T05:55:31.475Z"
      },
      {
        "duration": 10,
        "start_time": "2022-03-17T05:55:31.868Z"
      },
      {
        "duration": 3,
        "start_time": "2022-03-17T05:55:32.056Z"
      },
      {
        "duration": 4,
        "start_time": "2022-03-17T05:55:32.251Z"
      },
      {
        "duration": 30,
        "start_time": "2022-03-17T05:55:32.435Z"
      },
      {
        "duration": 32,
        "start_time": "2022-03-17T05:55:32.658Z"
      },
      {
        "duration": 30,
        "start_time": "2022-03-17T05:55:33.944Z"
      },
      {
        "duration": 3,
        "start_time": "2022-03-17T05:55:35.793Z"
      },
      {
        "duration": 42,
        "start_time": "2022-03-17T05:55:36.548Z"
      },
      {
        "duration": 33,
        "start_time": "2022-03-17T05:55:36.913Z"
      },
      {
        "duration": 36,
        "start_time": "2022-03-17T05:55:37.082Z"
      },
      {
        "duration": 6,
        "start_time": "2022-03-17T05:55:38.014Z"
      },
      {
        "duration": 6,
        "start_time": "2022-03-17T05:55:38.196Z"
      },
      {
        "duration": 6,
        "start_time": "2022-03-17T05:55:38.364Z"
      },
      {
        "duration": 582,
        "start_time": "2022-03-17T05:55:41.773Z"
      },
      {
        "duration": 623,
        "start_time": "2022-03-17T05:55:42.357Z"
      },
      {
        "duration": 630,
        "start_time": "2022-03-17T05:55:42.982Z"
      },
      {
        "duration": 5,
        "start_time": "2022-03-17T05:55:43.613Z"
      },
      {
        "duration": 20,
        "start_time": "2022-03-17T05:55:43.619Z"
      },
      {
        "duration": 6,
        "start_time": "2022-03-17T05:55:43.641Z"
      },
      {
        "duration": 23,
        "start_time": "2022-03-17T05:55:47.432Z"
      },
      {
        "duration": 100,
        "start_time": "2022-03-17T05:55:47.633Z"
      },
      {
        "duration": 23,
        "start_time": "2022-03-17T05:55:47.834Z"
      },
      {
        "duration": 5,
        "start_time": "2022-03-17T05:55:48.517Z"
      },
      {
        "duration": 6,
        "start_time": "2022-03-17T05:55:48.677Z"
      },
      {
        "duration": 5,
        "start_time": "2022-03-17T05:55:48.882Z"
      },
      {
        "duration": 7,
        "start_time": "2022-03-17T05:55:52.271Z"
      },
      {
        "duration": 4,
        "start_time": "2022-03-17T05:55:52.465Z"
      },
      {
        "duration": 7,
        "start_time": "2022-03-17T05:55:52.710Z"
      },
      {
        "duration": 5,
        "start_time": "2022-03-17T05:55:52.895Z"
      },
      {
        "duration": 8,
        "start_time": "2022-03-17T05:55:53.076Z"
      },
      {
        "duration": 5,
        "start_time": "2022-03-17T05:55:53.249Z"
      },
      {
        "duration": 29,
        "start_time": "2022-03-17T05:55:54.307Z"
      },
      {
        "duration": 32,
        "start_time": "2022-03-17T05:55:54.728Z"
      },
      {
        "duration": 31,
        "start_time": "2022-03-17T05:55:54.900Z"
      },
      {
        "duration": 585,
        "start_time": "2022-03-17T05:55:59.485Z"
      },
      {
        "duration": 627,
        "start_time": "2022-03-17T05:56:00.072Z"
      },
      {
        "duration": 617,
        "start_time": "2022-03-17T05:56:00.701Z"
      },
      {
        "duration": 20,
        "start_time": "2022-03-17T05:56:04.181Z"
      },
      {
        "duration": 22,
        "start_time": "2022-03-17T05:56:04.363Z"
      },
      {
        "duration": 21,
        "start_time": "2022-03-17T05:56:04.726Z"
      },
      {
        "duration": 3,
        "start_time": "2022-03-17T05:56:07.585Z"
      },
      {
        "duration": 9,
        "start_time": "2022-03-17T05:56:07.762Z"
      },
      {
        "duration": 8,
        "start_time": "2022-03-17T05:56:08.213Z"
      },
      {
        "duration": 10,
        "start_time": "2022-03-17T05:56:08.394Z"
      },
      {
        "duration": 36,
        "start_time": "2022-03-17T05:56:08.786Z"
      },
      {
        "duration": 39,
        "start_time": "2022-03-17T05:56:09.018Z"
      },
      {
        "duration": 39,
        "start_time": "2022-03-17T05:56:09.232Z"
      },
      {
        "duration": 802,
        "start_time": "2022-03-17T05:56:12.017Z"
      },
      {
        "duration": 882,
        "start_time": "2022-03-17T05:56:12.820Z"
      },
      {
        "duration": 879,
        "start_time": "2022-03-17T05:56:13.704Z"
      },
      {
        "duration": 25,
        "start_time": "2022-03-17T05:56:16.833Z"
      },
      {
        "duration": 29,
        "start_time": "2022-03-17T05:56:17.034Z"
      },
      {
        "duration": 27,
        "start_time": "2022-03-17T05:56:17.234Z"
      },
      {
        "duration": 76,
        "start_time": "2022-03-17T07:42:47.837Z"
      },
      {
        "duration": 2534,
        "start_time": "2022-03-17T07:42:53.016Z"
      },
      {
        "duration": 5,
        "start_time": "2022-03-17T07:42:55.554Z"
      },
      {
        "duration": 231,
        "start_time": "2022-03-17T07:42:55.562Z"
      },
      {
        "duration": 0,
        "start_time": "2022-03-17T07:42:55.796Z"
      },
      {
        "duration": 200,
        "start_time": "2022-03-17T07:43:10.157Z"
      },
      {
        "duration": 37,
        "start_time": "2022-03-17T07:43:13.851Z"
      },
      {
        "duration": 122,
        "start_time": "2022-03-17T07:43:15.467Z"
      },
      {
        "duration": 5,
        "start_time": "2022-03-17T07:43:18.436Z"
      },
      {
        "duration": 6,
        "start_time": "2022-03-17T07:43:18.767Z"
      },
      {
        "duration": 6,
        "start_time": "2022-03-17T07:43:19.077Z"
      },
      {
        "duration": 15,
        "start_time": "2022-03-17T07:43:20.444Z"
      },
      {
        "duration": 95,
        "start_time": "2022-03-17T07:43:20.608Z"
      },
      {
        "duration": 97,
        "start_time": "2022-03-17T07:43:22.304Z"
      },
      {
        "duration": 101,
        "start_time": "2022-03-17T07:43:22.475Z"
      },
      {
        "duration": 36,
        "start_time": "2022-03-17T07:43:23.264Z"
      },
      {
        "duration": 5,
        "start_time": "2022-03-17T07:43:25.056Z"
      },
      {
        "duration": 18,
        "start_time": "2022-03-17T07:43:25.525Z"
      },
      {
        "duration": 23,
        "start_time": "2022-03-17T07:43:25.695Z"
      },
      {
        "duration": 16,
        "start_time": "2022-03-17T07:43:25.855Z"
      },
      {
        "duration": 10,
        "start_time": "2022-03-17T07:43:27.235Z"
      },
      {
        "duration": 3,
        "start_time": "2022-03-17T07:43:27.397Z"
      },
      {
        "duration": 6,
        "start_time": "2022-03-17T07:43:27.547Z"
      },
      {
        "duration": 46,
        "start_time": "2022-03-17T07:43:27.705Z"
      },
      {
        "duration": 48,
        "start_time": "2022-03-17T07:43:27.965Z"
      },
      {
        "duration": 49,
        "start_time": "2022-03-17T07:43:28.115Z"
      },
      {
        "duration": 4,
        "start_time": "2022-03-17T07:43:29.677Z"
      },
      {
        "duration": 49,
        "start_time": "2022-03-17T07:43:30.445Z"
      },
      {
        "duration": 52,
        "start_time": "2022-03-17T07:43:30.655Z"
      },
      {
        "duration": 53,
        "start_time": "2022-03-17T07:43:30.824Z"
      },
      {
        "duration": 8,
        "start_time": "2022-03-17T07:43:32.836Z"
      },
      {
        "duration": 6,
        "start_time": "2022-03-17T07:43:33.008Z"
      },
      {
        "duration": 9,
        "start_time": "2022-03-17T07:43:35.136Z"
      },
      {
        "duration": 980,
        "start_time": "2022-03-17T07:43:37.165Z"
      },
      {
        "duration": 1022,
        "start_time": "2022-03-17T07:43:38.148Z"
      },
      {
        "duration": 1080,
        "start_time": "2022-03-17T07:43:39.173Z"
      },
      {
        "duration": 6,
        "start_time": "2022-03-17T07:43:41.305Z"
      },
      {
        "duration": 7,
        "start_time": "2022-03-17T07:43:41.477Z"
      },
      {
        "duration": 7,
        "start_time": "2022-03-17T07:43:41.637Z"
      },
      {
        "duration": 40,
        "start_time": "2022-03-17T07:43:43.404Z"
      },
      {
        "duration": 99,
        "start_time": "2022-03-17T07:43:43.645Z"
      },
      {
        "duration": 124,
        "start_time": "2022-03-17T07:43:43.749Z"
      },
      {
        "duration": 7,
        "start_time": "2022-03-17T07:43:46.227Z"
      },
      {
        "duration": 7,
        "start_time": "2022-03-17T07:43:46.387Z"
      },
      {
        "duration": 8,
        "start_time": "2022-03-17T07:43:46.555Z"
      },
      {
        "duration": 7,
        "start_time": "2022-03-17T07:43:52.976Z"
      },
      {
        "duration": 5,
        "start_time": "2022-03-17T07:43:53.935Z"
      },
      {
        "duration": 10,
        "start_time": "2022-03-17T07:43:54.123Z"
      },
      {
        "duration": 5,
        "start_time": "2022-03-17T07:43:54.278Z"
      },
      {
        "duration": 8,
        "start_time": "2022-03-17T07:43:54.477Z"
      },
      {
        "duration": 6,
        "start_time": "2022-03-17T07:43:54.639Z"
      },
      {
        "duration": 46,
        "start_time": "2022-03-17T07:43:58.345Z"
      },
      {
        "duration": 50,
        "start_time": "2022-03-17T07:43:58.535Z"
      },
      {
        "duration": 49,
        "start_time": "2022-03-17T07:43:58.705Z"
      },
      {
        "duration": 46,
        "start_time": "2022-03-17T07:44:34.855Z"
      },
      {
        "duration": 49,
        "start_time": "2022-03-17T07:44:35.444Z"
      },
      {
        "duration": 51,
        "start_time": "2022-03-17T07:44:36.052Z"
      },
      {
        "duration": 1340,
        "start_time": "2022-03-17T07:45:03.175Z"
      },
      {
        "duration": 989,
        "start_time": "2022-03-17T07:45:06.974Z"
      },
      {
        "duration": 1020,
        "start_time": "2022-03-17T07:45:07.966Z"
      },
      {
        "duration": 41,
        "start_time": "2022-03-17T07:45:19.704Z"
      },
      {
        "duration": 33,
        "start_time": "2022-03-17T07:45:19.944Z"
      },
      {
        "duration": 99,
        "start_time": "2022-03-17T07:45:20.144Z"
      },
      {
        "duration": 970,
        "start_time": "2022-03-17T07:46:36.752Z"
      },
      {
        "duration": 42,
        "start_time": "2022-03-17T07:46:40.501Z"
      },
      {
        "duration": 99,
        "start_time": "2022-03-17T07:46:40.744Z"
      },
      {
        "duration": 102,
        "start_time": "2022-03-17T07:46:40.944Z"
      },
      {
        "duration": 6,
        "start_time": "2022-03-17T07:46:42.124Z"
      },
      {
        "duration": 12,
        "start_time": "2022-03-17T07:46:42.312Z"
      },
      {
        "duration": 13,
        "start_time": "2022-03-17T07:46:42.484Z"
      },
      {
        "duration": 13,
        "start_time": "2022-03-17T07:46:42.673Z"
      },
      {
        "duration": 58,
        "start_time": "2022-03-17T07:46:43.024Z"
      },
      {
        "duration": 63,
        "start_time": "2022-03-17T07:46:43.915Z"
      },
      {
        "duration": 60,
        "start_time": "2022-03-17T07:46:44.094Z"
      },
      {
        "duration": 1276,
        "start_time": "2022-03-17T07:46:48.004Z"
      },
      {
        "duration": 1415,
        "start_time": "2022-03-17T07:46:49.283Z"
      },
      {
        "duration": 1422,
        "start_time": "2022-03-17T07:46:50.701Z"
      },
      {
        "duration": 1958,
        "start_time": "2022-03-17T07:48:31.658Z"
      },
      {
        "duration": 5,
        "start_time": "2022-03-17T07:48:33.619Z"
      },
      {
        "duration": 40,
        "start_time": "2022-03-17T07:48:33.626Z"
      },
      {
        "duration": 138,
        "start_time": "2022-03-17T07:48:33.669Z"
      },
      {
        "duration": 4,
        "start_time": "2022-03-17T07:48:33.810Z"
      },
      {
        "duration": 9,
        "start_time": "2022-03-17T07:48:33.816Z"
      },
      {
        "duration": 6,
        "start_time": "2022-03-17T07:48:33.843Z"
      },
      {
        "duration": 15,
        "start_time": "2022-03-17T07:48:34.173Z"
      },
      {
        "duration": 93,
        "start_time": "2022-03-17T07:48:34.316Z"
      },
      {
        "duration": 94,
        "start_time": "2022-03-17T07:48:34.515Z"
      },
      {
        "duration": 93,
        "start_time": "2022-03-17T07:48:34.666Z"
      },
      {
        "duration": 37,
        "start_time": "2022-03-17T07:48:34.985Z"
      },
      {
        "duration": 5,
        "start_time": "2022-03-17T07:48:35.333Z"
      },
      {
        "duration": 15,
        "start_time": "2022-03-17T07:48:35.653Z"
      },
      {
        "duration": 14,
        "start_time": "2022-03-17T07:48:35.831Z"
      },
      {
        "duration": 15,
        "start_time": "2022-03-17T07:48:35.983Z"
      },
      {
        "duration": 10,
        "start_time": "2022-03-17T07:48:36.312Z"
      },
      {
        "duration": 4,
        "start_time": "2022-03-17T07:48:36.484Z"
      },
      {
        "duration": 6,
        "start_time": "2022-03-17T07:48:36.645Z"
      },
      {
        "duration": 47,
        "start_time": "2022-03-17T07:48:36.830Z"
      },
      {
        "duration": 47,
        "start_time": "2022-03-17T07:48:36.984Z"
      },
      {
        "duration": 46,
        "start_time": "2022-03-17T07:48:37.151Z"
      },
      {
        "duration": 4,
        "start_time": "2022-03-17T07:48:37.456Z"
      },
      {
        "duration": 44,
        "start_time": "2022-03-17T07:48:37.975Z"
      },
      {
        "duration": 50,
        "start_time": "2022-03-17T07:48:38.134Z"
      },
      {
        "duration": 52,
        "start_time": "2022-03-17T07:48:38.313Z"
      },
      {
        "duration": 8,
        "start_time": "2022-03-17T07:48:38.973Z"
      },
      {
        "duration": 9,
        "start_time": "2022-03-17T07:48:39.126Z"
      },
      {
        "duration": 8,
        "start_time": "2022-03-17T07:48:39.304Z"
      },
      {
        "duration": 935,
        "start_time": "2022-03-17T07:48:39.983Z"
      },
      {
        "duration": 992,
        "start_time": "2022-03-17T07:48:40.921Z"
      },
      {
        "duration": 1013,
        "start_time": "2022-03-17T07:48:41.915Z"
      },
      {
        "duration": 12,
        "start_time": "2022-03-17T07:48:42.931Z"
      },
      {
        "duration": 7,
        "start_time": "2022-03-17T07:48:42.946Z"
      },
      {
        "duration": 8,
        "start_time": "2022-03-17T07:48:42.955Z"
      },
      {
        "duration": 81,
        "start_time": "2022-03-17T07:48:42.965Z"
      },
      {
        "duration": 193,
        "start_time": "2022-03-17T07:48:43.050Z"
      },
      {
        "duration": 199,
        "start_time": "2022-03-17T07:48:43.249Z"
      },
      {
        "duration": 7,
        "start_time": "2022-03-17T07:48:43.542Z"
      },
      {
        "duration": 7,
        "start_time": "2022-03-17T07:48:43.552Z"
      },
      {
        "duration": 7,
        "start_time": "2022-03-17T07:48:43.561Z"
      },
      {
        "duration": 7,
        "start_time": "2022-03-17T07:48:49.354Z"
      },
      {
        "duration": 6,
        "start_time": "2022-03-17T07:48:49.531Z"
      },
      {
        "duration": 9,
        "start_time": "2022-03-17T07:48:49.695Z"
      },
      {
        "duration": 5,
        "start_time": "2022-03-17T07:48:50.155Z"
      },
      {
        "duration": 9,
        "start_time": "2022-03-17T07:48:50.324Z"
      },
      {
        "duration": 5,
        "start_time": "2022-03-17T07:48:51.746Z"
      },
      {
        "duration": 46,
        "start_time": "2022-03-17T07:48:54.263Z"
      },
      {
        "duration": 52,
        "start_time": "2022-03-17T07:48:54.892Z"
      },
      {
        "duration": 50,
        "start_time": "2022-03-17T07:48:55.073Z"
      },
      {
        "duration": 899,
        "start_time": "2022-03-17T07:49:28.645Z"
      },
      {
        "duration": 1072,
        "start_time": "2022-03-17T07:49:29.547Z"
      },
      {
        "duration": 1012,
        "start_time": "2022-03-17T07:49:30.621Z"
      },
      {
        "duration": 60,
        "start_time": "2022-03-17T07:50:03.084Z"
      },
      {
        "duration": 48,
        "start_time": "2022-03-17T07:50:03.494Z"
      },
      {
        "duration": 170,
        "start_time": "2022-03-17T07:50:03.673Z"
      },
      {
        "duration": 6,
        "start_time": "2022-03-17T07:50:06.247Z"
      },
      {
        "duration": 12,
        "start_time": "2022-03-17T07:50:06.311Z"
      },
      {
        "duration": 12,
        "start_time": "2022-03-17T07:50:06.484Z"
      },
      {
        "duration": 13,
        "start_time": "2022-03-17T07:50:06.653Z"
      },
      {
        "duration": 60,
        "start_time": "2022-03-17T07:50:07.861Z"
      },
      {
        "duration": 61,
        "start_time": "2022-03-17T07:50:08.441Z"
      },
      {
        "duration": 60,
        "start_time": "2022-03-17T07:50:08.604Z"
      },
      {
        "duration": 7,
        "start_time": "2022-03-17T08:49:15.617Z"
      },
      {
        "duration": 5,
        "start_time": "2022-03-17T08:49:15.825Z"
      },
      {
        "duration": 48,
        "start_time": "2022-03-17T08:49:15.988Z"
      },
      {
        "duration": 115,
        "start_time": "2022-03-17T08:49:17.057Z"
      },
      {
        "duration": 6,
        "start_time": "2022-03-17T08:49:18.036Z"
      },
      {
        "duration": 7,
        "start_time": "2022-03-17T08:49:18.418Z"
      },
      {
        "duration": 6,
        "start_time": "2022-03-17T08:49:18.767Z"
      },
      {
        "duration": 15,
        "start_time": "2022-03-17T08:49:19.146Z"
      },
      {
        "duration": 100,
        "start_time": "2022-03-17T08:49:19.307Z"
      },
      {
        "duration": 99,
        "start_time": "2022-03-17T08:49:19.496Z"
      },
      {
        "duration": 97,
        "start_time": "2022-03-17T08:49:19.668Z"
      },
      {
        "duration": 34,
        "start_time": "2022-03-17T08:49:20.025Z"
      },
      {
        "duration": 5,
        "start_time": "2022-03-17T08:49:20.396Z"
      },
      {
        "duration": 20,
        "start_time": "2022-03-17T08:49:20.736Z"
      },
      {
        "duration": 14,
        "start_time": "2022-03-17T08:49:20.925Z"
      },
      {
        "duration": 14,
        "start_time": "2022-03-17T08:49:21.111Z"
      },
      {
        "duration": 13,
        "start_time": "2022-03-17T08:49:21.458Z"
      },
      {
        "duration": 5,
        "start_time": "2022-03-17T08:49:21.666Z"
      },
      {
        "duration": 7,
        "start_time": "2022-03-17T08:49:21.816Z"
      },
      {
        "duration": 76,
        "start_time": "2022-03-17T08:49:22.147Z"
      },
      {
        "duration": 54,
        "start_time": "2022-03-17T08:49:22.335Z"
      },
      {
        "duration": 56,
        "start_time": "2022-03-17T08:49:22.536Z"
      },
      {
        "duration": 5,
        "start_time": "2022-03-17T08:49:22.877Z"
      },
      {
        "duration": 48,
        "start_time": "2022-03-17T08:49:23.405Z"
      },
      {
        "duration": 53,
        "start_time": "2022-03-17T08:49:23.576Z"
      },
      {
        "duration": 53,
        "start_time": "2022-03-17T08:49:23.766Z"
      },
      {
        "duration": 7,
        "start_time": "2022-03-17T08:49:24.478Z"
      },
      {
        "duration": 10,
        "start_time": "2022-03-17T08:49:24.648Z"
      },
      {
        "duration": 11,
        "start_time": "2022-03-17T08:49:24.838Z"
      },
      {
        "duration": 985,
        "start_time": "2022-03-17T08:49:27.526Z"
      },
      {
        "duration": 1454,
        "start_time": "2022-03-17T08:49:28.514Z"
      },
      {
        "duration": 1084,
        "start_time": "2022-03-17T08:49:29.971Z"
      },
      {
        "duration": 9,
        "start_time": "2022-03-17T08:49:31.058Z"
      },
      {
        "duration": 15,
        "start_time": "2022-03-17T08:49:31.069Z"
      },
      {
        "duration": 10,
        "start_time": "2022-03-17T08:49:31.086Z"
      },
      {
        "duration": 71,
        "start_time": "2022-03-17T08:49:31.099Z"
      },
      {
        "duration": 194,
        "start_time": "2022-03-17T08:49:31.173Z"
      },
      {
        "duration": 127,
        "start_time": "2022-03-17T08:49:31.444Z"
      },
      {
        "duration": 99,
        "start_time": "2022-03-17T08:49:31.647Z"
      },
      {
        "duration": 9,
        "start_time": "2022-03-17T08:49:31.749Z"
      },
      {
        "duration": 8,
        "start_time": "2022-03-17T08:49:31.762Z"
      },
      {
        "duration": 8,
        "start_time": "2022-03-17T08:49:33.559Z"
      },
      {
        "duration": 6,
        "start_time": "2022-03-17T08:49:33.718Z"
      },
      {
        "duration": 8,
        "start_time": "2022-03-17T08:49:33.919Z"
      },
      {
        "duration": 7,
        "start_time": "2022-03-17T08:49:34.099Z"
      },
      {
        "duration": 10,
        "start_time": "2022-03-17T08:49:34.279Z"
      },
      {
        "duration": 5,
        "start_time": "2022-03-17T08:49:34.806Z"
      },
      {
        "duration": 52,
        "start_time": "2022-03-17T08:49:35.215Z"
      },
      {
        "duration": 50,
        "start_time": "2022-03-17T08:49:35.406Z"
      },
      {
        "duration": 71,
        "start_time": "2022-03-17T08:49:35.575Z"
      },
      {
        "duration": 963,
        "start_time": "2022-03-17T08:49:41.737Z"
      },
      {
        "duration": 1034,
        "start_time": "2022-03-17T08:49:42.703Z"
      },
      {
        "duration": 1076,
        "start_time": "2022-03-17T08:49:43.743Z"
      },
      {
        "duration": 137,
        "start_time": "2022-03-17T08:49:45.115Z"
      },
      {
        "duration": 43,
        "start_time": "2022-03-17T08:49:45.344Z"
      },
      {
        "duration": 43,
        "start_time": "2022-03-17T08:49:45.544Z"
      },
      {
        "duration": 6,
        "start_time": "2022-03-17T08:49:46.205Z"
      },
      {
        "duration": 13,
        "start_time": "2022-03-17T08:49:46.395Z"
      },
      {
        "duration": 14,
        "start_time": "2022-03-17T08:49:46.585Z"
      },
      {
        "duration": 12,
        "start_time": "2022-03-17T08:49:46.757Z"
      },
      {
        "duration": 58,
        "start_time": "2022-03-17T08:49:47.144Z"
      },
      {
        "duration": 62,
        "start_time": "2022-03-17T08:49:47.345Z"
      },
      {
        "duration": 61,
        "start_time": "2022-03-17T08:49:47.515Z"
      },
      {
        "duration": 1477,
        "start_time": "2022-03-17T08:49:50.147Z"
      },
      {
        "duration": 1525,
        "start_time": "2022-03-17T08:49:51.627Z"
      },
      {
        "duration": 1528,
        "start_time": "2022-03-17T08:49:53.154Z"
      },
      {
        "duration": 67,
        "start_time": "2022-03-17T08:49:54.685Z"
      },
      {
        "duration": 115,
        "start_time": "2022-03-17T08:49:54.846Z"
      },
      {
        "duration": 287,
        "start_time": "2022-03-17T08:49:54.965Z"
      },
      {
        "duration": 6,
        "start_time": "2022-03-17T08:49:55.344Z"
      },
      {
        "duration": 15,
        "start_time": "2022-03-17T08:49:55.352Z"
      },
      {
        "duration": 14,
        "start_time": "2022-03-17T08:49:55.369Z"
      },
      {
        "duration": 13,
        "start_time": "2022-03-17T08:49:55.396Z"
      },
      {
        "duration": 55,
        "start_time": "2022-03-17T08:49:55.411Z"
      },
      {
        "duration": 28,
        "start_time": "2022-03-17T08:49:55.469Z"
      },
      {
        "duration": 64,
        "start_time": "2022-03-17T08:49:55.500Z"
      },
      {
        "duration": 528,
        "start_time": "2022-03-17T08:49:55.566Z"
      },
      {
        "duration": 538,
        "start_time": "2022-03-17T08:49:56.096Z"
      },
      {
        "duration": 533,
        "start_time": "2022-03-17T08:49:56.643Z"
      },
      {
        "duration": 163,
        "start_time": "2022-03-17T08:49:57.181Z"
      },
      {
        "duration": 107,
        "start_time": "2022-03-17T08:49:57.346Z"
      },
      {
        "duration": 33,
        "start_time": "2022-03-17T08:49:57.549Z"
      },
      {
        "duration": 82053,
        "start_time": "2022-03-17T08:49:57.652Z"
      },
      {
        "duration": 5,
        "start_time": "2022-03-17T08:51:19.709Z"
      },
      {
        "duration": 352,
        "start_time": "2022-03-17T08:51:19.716Z"
      },
      {
        "duration": 1443,
        "start_time": "2022-03-17T08:51:20.071Z"
      },
      {
        "duration": 5,
        "start_time": "2022-03-17T08:51:21.517Z"
      },
      {
        "duration": 22,
        "start_time": "2022-03-17T08:51:21.525Z"
      },
      {
        "duration": 8,
        "start_time": "2022-03-17T08:51:21.550Z"
      },
      {
        "duration": 278,
        "start_time": "2022-03-17T08:51:21.560Z"
      },
      {
        "duration": 1683,
        "start_time": "2022-03-17T10:11:51.404Z"
      },
      {
        "duration": 4,
        "start_time": "2022-03-17T10:11:53.089Z"
      },
      {
        "duration": 45,
        "start_time": "2022-03-17T10:11:53.095Z"
      },
      {
        "duration": 84,
        "start_time": "2022-03-17T10:11:53.142Z"
      },
      {
        "duration": 3,
        "start_time": "2022-03-17T10:11:53.869Z"
      },
      {
        "duration": 5,
        "start_time": "2022-03-17T10:11:54.195Z"
      },
      {
        "duration": 5,
        "start_time": "2022-03-17T10:11:54.504Z"
      },
      {
        "duration": 13,
        "start_time": "2022-03-17T10:11:55.155Z"
      },
      {
        "duration": 67,
        "start_time": "2022-03-17T10:11:55.344Z"
      },
      {
        "duration": 64,
        "start_time": "2022-03-17T10:11:55.522Z"
      },
      {
        "duration": 70,
        "start_time": "2022-03-17T10:11:55.714Z"
      },
      {
        "duration": 25,
        "start_time": "2022-03-17T10:11:56.082Z"
      },
      {
        "duration": 4,
        "start_time": "2022-03-17T10:11:56.452Z"
      },
      {
        "duration": 11,
        "start_time": "2022-03-17T10:11:56.813Z"
      },
      {
        "duration": 11,
        "start_time": "2022-03-17T10:11:57.003Z"
      },
      {
        "duration": 11,
        "start_time": "2022-03-17T10:11:57.182Z"
      },
      {
        "duration": 8,
        "start_time": "2022-03-17T10:11:57.574Z"
      },
      {
        "duration": 3,
        "start_time": "2022-03-17T10:12:00.105Z"
      },
      {
        "duration": 5,
        "start_time": "2022-03-17T10:12:00.405Z"
      },
      {
        "duration": 42,
        "start_time": "2022-03-17T10:12:00.883Z"
      },
      {
        "duration": 34,
        "start_time": "2022-03-17T10:12:01.183Z"
      },
      {
        "duration": 31,
        "start_time": "2022-03-17T10:12:04.713Z"
      },
      {
        "duration": 5,
        "start_time": "2022-03-17T10:12:05.251Z"
      },
      {
        "duration": 32,
        "start_time": "2022-03-17T10:12:06.163Z"
      },
      {
        "duration": 37,
        "start_time": "2022-03-17T10:12:06.462Z"
      },
      {
        "duration": 36,
        "start_time": "2022-03-17T10:12:06.682Z"
      },
      {
        "duration": 6,
        "start_time": "2022-03-17T10:12:09.284Z"
      },
      {
        "duration": 6,
        "start_time": "2022-03-17T10:12:09.745Z"
      },
      {
        "duration": 5,
        "start_time": "2022-03-17T10:12:09.935Z"
      },
      {
        "duration": 707,
        "start_time": "2022-03-17T10:12:11.893Z"
      },
      {
        "duration": 717,
        "start_time": "2022-03-17T10:12:13.443Z"
      },
      {
        "duration": 731,
        "start_time": "2022-03-17T10:12:14.161Z"
      },
      {
        "duration": 7,
        "start_time": "2022-03-17T10:12:15.799Z"
      },
      {
        "duration": 7,
        "start_time": "2022-03-17T10:12:15.986Z"
      },
      {
        "duration": 7,
        "start_time": "2022-03-17T10:12:16.165Z"
      },
      {
        "duration": 38,
        "start_time": "2022-03-17T10:12:18.003Z"
      },
      {
        "duration": 104,
        "start_time": "2022-03-17T10:12:18.238Z"
      },
      {
        "duration": 117,
        "start_time": "2022-03-17T10:12:18.345Z"
      },
      {
        "duration": 7,
        "start_time": "2022-03-17T10:12:20.314Z"
      },
      {
        "duration": 6,
        "start_time": "2022-03-17T10:12:20.496Z"
      },
      {
        "duration": 6,
        "start_time": "2022-03-17T10:12:20.655Z"
      },
      {
        "duration": 7,
        "start_time": "2022-03-17T10:12:23.295Z"
      },
      {
        "duration": 5,
        "start_time": "2022-03-17T10:12:23.473Z"
      },
      {
        "duration": 8,
        "start_time": "2022-03-17T10:12:23.645Z"
      },
      {
        "duration": 5,
        "start_time": "2022-03-17T10:12:23.825Z"
      },
      {
        "duration": 6,
        "start_time": "2022-03-17T10:12:23.995Z"
      },
      {
        "duration": 4,
        "start_time": "2022-03-17T10:12:25.334Z"
      },
      {
        "duration": 34,
        "start_time": "2022-03-17T10:12:27.491Z"
      },
      {
        "duration": 35,
        "start_time": "2022-03-17T10:12:28.303Z"
      },
      {
        "duration": 35,
        "start_time": "2022-03-17T10:12:28.782Z"
      },
      {
        "duration": 597,
        "start_time": "2022-03-17T10:12:34.859Z"
      },
      {
        "duration": 636,
        "start_time": "2022-03-17T10:12:36.633Z"
      },
      {
        "duration": 638,
        "start_time": "2022-03-17T10:12:37.853Z"
      },
      {
        "duration": 25,
        "start_time": "2022-03-17T10:12:40.563Z"
      },
      {
        "duration": 23,
        "start_time": "2022-03-17T10:12:41.282Z"
      },
      {
        "duration": 20,
        "start_time": "2022-03-17T10:12:41.502Z"
      },
      {
        "duration": 4,
        "start_time": "2022-03-17T10:12:43.543Z"
      },
      {
        "duration": 10,
        "start_time": "2022-03-17T10:12:43.712Z"
      },
      {
        "duration": 10,
        "start_time": "2022-03-17T10:12:43.883Z"
      },
      {
        "duration": 10,
        "start_time": "2022-03-17T10:12:44.063Z"
      },
      {
        "duration": 37,
        "start_time": "2022-03-17T10:12:45.781Z"
      },
      {
        "duration": 40,
        "start_time": "2022-03-17T10:12:45.943Z"
      },
      {
        "duration": 42,
        "start_time": "2022-03-17T10:12:47.050Z"
      },
      {
        "duration": 825,
        "start_time": "2022-03-17T10:12:51.003Z"
      },
      {
        "duration": 904,
        "start_time": "2022-03-17T10:12:51.830Z"
      },
      {
        "duration": 897,
        "start_time": "2022-03-17T10:12:52.736Z"
      },
      {
        "duration": 66,
        "start_time": "2022-03-17T10:12:58.673Z"
      },
      {
        "duration": 30,
        "start_time": "2022-03-17T10:12:59.532Z"
      },
      {
        "duration": 60,
        "start_time": "2022-03-17T10:12:59.780Z"
      },
      {
        "duration": 5,
        "start_time": "2022-03-17T10:13:00.603Z"
      },
      {
        "duration": 9,
        "start_time": "2022-03-17T10:13:00.774Z"
      },
      {
        "duration": 13,
        "start_time": "2022-03-17T10:13:00.953Z"
      },
      {
        "duration": 12,
        "start_time": "2022-03-17T10:13:01.133Z"
      },
      {
        "duration": 20,
        "start_time": "2022-03-17T10:13:01.543Z"
      },
      {
        "duration": 21,
        "start_time": "2022-03-17T10:13:01.743Z"
      },
      {
        "duration": 21,
        "start_time": "2022-03-17T10:13:01.942Z"
      },
      {
        "duration": 313,
        "start_time": "2022-03-17T10:13:08.553Z"
      },
      {
        "duration": 347,
        "start_time": "2022-03-17T10:13:08.867Z"
      },
      {
        "duration": 362,
        "start_time": "2022-03-17T10:13:09.216Z"
      },
      {
        "duration": 15,
        "start_time": "2022-03-17T10:13:09.722Z"
      },
      {
        "duration": 15,
        "start_time": "2022-03-17T10:13:12.803Z"
      },
      {
        "duration": 16,
        "start_time": "2022-03-17T10:13:12.993Z"
      },
      {
        "duration": 43367,
        "start_time": "2022-03-17T10:13:14.723Z"
      },
      {
        "duration": 4,
        "start_time": "2022-03-17T10:14:00.034Z"
      },
      {
        "duration": 199,
        "start_time": "2022-03-17T10:14:02.163Z"
      },
      {
        "duration": 809,
        "start_time": "2022-03-17T10:14:06.523Z"
      },
      {
        "duration": 4,
        "start_time": "2022-03-17T10:14:10.314Z"
      },
      {
        "duration": 4,
        "start_time": "2022-03-17T10:14:11.205Z"
      },
      {
        "duration": 4,
        "start_time": "2022-03-17T10:14:11.594Z"
      },
      {
        "duration": 140,
        "start_time": "2022-03-17T10:14:13.684Z"
      },
      {
        "duration": 1555,
        "start_time": "2022-03-17T12:55:05.304Z"
      },
      {
        "duration": 4,
        "start_time": "2022-03-17T12:55:06.860Z"
      },
      {
        "duration": 31,
        "start_time": "2022-03-17T12:55:06.865Z"
      },
      {
        "duration": 75,
        "start_time": "2022-03-17T12:55:07.210Z"
      },
      {
        "duration": 3,
        "start_time": "2022-03-17T12:55:08.164Z"
      },
      {
        "duration": 4,
        "start_time": "2022-03-17T12:55:08.502Z"
      },
      {
        "duration": 4,
        "start_time": "2022-03-17T12:55:08.891Z"
      },
      {
        "duration": 13,
        "start_time": "2022-03-17T12:55:09.224Z"
      },
      {
        "duration": 60,
        "start_time": "2022-03-17T12:55:09.403Z"
      },
      {
        "duration": 56,
        "start_time": "2022-03-17T12:55:09.568Z"
      },
      {
        "duration": 57,
        "start_time": "2022-03-17T12:55:09.750Z"
      },
      {
        "duration": 22,
        "start_time": "2022-03-17T12:55:10.089Z"
      },
      {
        "duration": 3,
        "start_time": "2022-03-17T12:55:10.456Z"
      },
      {
        "duration": 9,
        "start_time": "2022-03-17T12:55:10.846Z"
      },
      {
        "duration": 11,
        "start_time": "2022-03-17T12:55:11.025Z"
      },
      {
        "duration": 10,
        "start_time": "2022-03-17T12:55:11.212Z"
      },
      {
        "duration": 6,
        "start_time": "2022-03-17T12:55:11.546Z"
      },
      {
        "duration": 3,
        "start_time": "2022-03-17T12:55:11.722Z"
      },
      {
        "duration": 3,
        "start_time": "2022-03-17T12:55:11.908Z"
      },
      {
        "duration": 29,
        "start_time": "2022-03-17T12:55:12.089Z"
      },
      {
        "duration": 29,
        "start_time": "2022-03-17T12:55:12.250Z"
      },
      {
        "duration": 33,
        "start_time": "2022-03-17T12:55:12.419Z"
      },
      {
        "duration": 2,
        "start_time": "2022-03-17T12:55:12.769Z"
      },
      {
        "duration": 41,
        "start_time": "2022-03-17T12:55:13.304Z"
      },
      {
        "duration": 35,
        "start_time": "2022-03-17T12:55:13.474Z"
      },
      {
        "duration": 35,
        "start_time": "2022-03-17T12:55:13.662Z"
      },
      {
        "duration": 6,
        "start_time": "2022-03-17T12:55:24.098Z"
      },
      {
        "duration": 6,
        "start_time": "2022-03-17T12:55:24.287Z"
      },
      {
        "duration": 5,
        "start_time": "2022-03-17T12:55:24.456Z"
      },
      {
        "duration": 612,
        "start_time": "2022-03-17T12:55:26.195Z"
      },
      {
        "duration": 677,
        "start_time": "2022-03-17T12:55:26.808Z"
      },
      {
        "duration": 786,
        "start_time": "2022-03-17T12:55:27.486Z"
      },
      {
        "duration": 6,
        "start_time": "2022-03-17T12:55:36.927Z"
      },
      {
        "duration": 6,
        "start_time": "2022-03-17T12:55:37.133Z"
      },
      {
        "duration": 5,
        "start_time": "2022-03-17T12:55:37.318Z"
      },
      {
        "duration": 80,
        "start_time": "2022-03-17T12:55:39.953Z"
      },
      {
        "duration": 27,
        "start_time": "2022-03-17T12:55:40.133Z"
      },
      {
        "duration": 5,
        "start_time": "2022-03-17T12:55:57.058Z"
      },
      {
        "duration": 5,
        "start_time": "2022-03-17T12:55:57.217Z"
      },
      {
        "duration": 103,
        "start_time": "2022-03-17T12:55:57.407Z"
      },
      {
        "duration": 8,
        "start_time": "2022-03-17T12:56:04.819Z"
      },
      {
        "duration": 21,
        "start_time": "2022-03-17T12:56:08.668Z"
      },
      {
        "duration": 5,
        "start_time": "2022-03-17T12:56:10.590Z"
      },
      {
        "duration": 5,
        "start_time": "2022-03-17T12:56:10.768Z"
      },
      {
        "duration": 5,
        "start_time": "2022-03-17T12:56:11.227Z"
      },
      {
        "duration": 5,
        "start_time": "2022-03-17T12:56:16.127Z"
      },
      {
        "duration": 4,
        "start_time": "2022-03-17T12:56:16.297Z"
      },
      {
        "duration": 6,
        "start_time": "2022-03-17T12:56:16.462Z"
      },
      {
        "duration": 4,
        "start_time": "2022-03-17T12:56:16.647Z"
      },
      {
        "duration": 6,
        "start_time": "2022-03-17T12:56:16.823Z"
      },
      {
        "duration": 4,
        "start_time": "2022-03-17T12:56:17.306Z"
      },
      {
        "duration": 30,
        "start_time": "2022-03-17T12:56:19.385Z"
      },
      {
        "duration": 41,
        "start_time": "2022-03-17T12:56:20.017Z"
      },
      {
        "duration": 32,
        "start_time": "2022-03-17T12:56:20.263Z"
      },
      {
        "duration": 606,
        "start_time": "2022-03-17T12:56:28.215Z"
      },
      {
        "duration": 658,
        "start_time": "2022-03-17T12:56:30.498Z"
      },
      {
        "duration": 654,
        "start_time": "2022-03-17T12:56:31.158Z"
      },
      {
        "duration": 25,
        "start_time": "2022-03-17T12:56:33.904Z"
      },
      {
        "duration": 83,
        "start_time": "2022-03-17T12:56:34.054Z"
      },
      {
        "duration": 25,
        "start_time": "2022-03-17T12:56:34.235Z"
      },
      {
        "duration": 4,
        "start_time": "2022-03-17T12:56:35.964Z"
      },
      {
        "duration": 7,
        "start_time": "2022-03-17T12:56:36.118Z"
      },
      {
        "duration": 9,
        "start_time": "2022-03-17T12:56:36.292Z"
      },
      {
        "duration": 8,
        "start_time": "2022-03-17T12:56:36.469Z"
      },
      {
        "duration": 42,
        "start_time": "2022-03-17T12:56:36.823Z"
      },
      {
        "duration": 41,
        "start_time": "2022-03-17T12:56:37.946Z"
      },
      {
        "duration": 43,
        "start_time": "2022-03-17T12:56:38.098Z"
      },
      {
        "duration": 865,
        "start_time": "2022-03-17T12:56:39.705Z"
      },
      {
        "duration": 913,
        "start_time": "2022-03-17T12:56:40.572Z"
      },
      {
        "duration": 907,
        "start_time": "2022-03-17T12:56:41.487Z"
      },
      {
        "duration": 29,
        "start_time": "2022-03-17T12:56:46.675Z"
      },
      {
        "duration": 26,
        "start_time": "2022-03-17T12:56:46.855Z"
      },
      {
        "duration": 106,
        "start_time": "2022-03-17T12:56:47.034Z"
      },
      {
        "duration": 4,
        "start_time": "2022-03-17T12:56:48.584Z"
      },
      {
        "duration": 9,
        "start_time": "2022-03-17T12:56:48.748Z"
      },
      {
        "duration": 9,
        "start_time": "2022-03-17T12:56:48.908Z"
      },
      {
        "duration": 9,
        "start_time": "2022-03-17T12:56:49.081Z"
      },
      {
        "duration": 17,
        "start_time": "2022-03-17T12:56:49.415Z"
      },
      {
        "duration": 18,
        "start_time": "2022-03-17T12:56:49.578Z"
      },
      {
        "duration": 18,
        "start_time": "2022-03-17T12:56:49.862Z"
      },
      {
        "duration": 320,
        "start_time": "2022-03-17T12:56:50.578Z"
      },
      {
        "duration": 355,
        "start_time": "2022-03-17T12:56:50.899Z"
      },
      {
        "duration": 344,
        "start_time": "2022-03-17T12:56:51.256Z"
      },
      {
        "duration": 19,
        "start_time": "2022-03-17T12:56:51.697Z"
      },
      {
        "duration": 16,
        "start_time": "2022-03-17T12:56:51.863Z"
      },
      {
        "duration": 18,
        "start_time": "2022-03-17T12:56:52.036Z"
      },
      {
        "duration": 44493,
        "start_time": "2022-03-17T12:56:53.314Z"
      },
      {
        "duration": 4,
        "start_time": "2022-03-17T12:57:37.808Z"
      },
      {
        "duration": 184,
        "start_time": "2022-03-17T12:57:37.813Z"
      },
      {
        "duration": 807,
        "start_time": "2022-03-17T12:57:58.282Z"
      },
      {
        "duration": 3,
        "start_time": "2022-03-17T12:58:00.082Z"
      },
      {
        "duration": 3,
        "start_time": "2022-03-17T12:58:01.123Z"
      },
      {
        "duration": 3,
        "start_time": "2022-03-17T12:58:01.508Z"
      },
      {
        "duration": 132,
        "start_time": "2022-03-17T12:58:02.802Z"
      },
      {
        "duration": 1735,
        "start_time": "2022-03-17T15:31:11.588Z"
      },
      {
        "duration": 4,
        "start_time": "2022-03-17T15:31:15.336Z"
      },
      {
        "duration": 43,
        "start_time": "2022-03-17T15:31:15.798Z"
      },
      {
        "duration": 77,
        "start_time": "2022-03-17T15:31:17.919Z"
      },
      {
        "duration": 3,
        "start_time": "2022-03-17T15:31:19.550Z"
      },
      {
        "duration": 5,
        "start_time": "2022-03-17T15:31:20.031Z"
      },
      {
        "duration": 5,
        "start_time": "2022-03-17T15:31:20.526Z"
      },
      {
        "duration": 12,
        "start_time": "2022-03-17T15:31:21.044Z"
      },
      {
        "duration": 63,
        "start_time": "2022-03-17T15:31:21.303Z"
      },
      {
        "duration": 61,
        "start_time": "2022-03-17T15:31:21.569Z"
      },
      {
        "duration": 58,
        "start_time": "2022-03-17T15:31:21.830Z"
      },
      {
        "duration": 22,
        "start_time": "2022-03-17T15:31:22.408Z"
      },
      {
        "duration": 4,
        "start_time": "2022-03-17T15:31:22.852Z"
      },
      {
        "duration": 11,
        "start_time": "2022-03-17T15:31:23.409Z"
      },
      {
        "duration": 10,
        "start_time": "2022-03-17T15:31:23.640Z"
      },
      {
        "duration": 9,
        "start_time": "2022-03-17T15:31:23.883Z"
      },
      {
        "duration": 7,
        "start_time": "2022-03-17T15:31:24.382Z"
      },
      {
        "duration": 2,
        "start_time": "2022-03-17T15:31:24.630Z"
      },
      {
        "duration": 4,
        "start_time": "2022-03-17T15:31:24.844Z"
      },
      {
        "duration": 48,
        "start_time": "2022-03-17T15:31:25.110Z"
      },
      {
        "duration": 48,
        "start_time": "2022-03-17T15:31:25.355Z"
      },
      {
        "duration": 47,
        "start_time": "2022-03-17T15:31:25.604Z"
      },
      {
        "duration": 3,
        "start_time": "2022-03-17T15:31:26.081Z"
      },
      {
        "duration": 44,
        "start_time": "2022-03-17T15:31:26.812Z"
      },
      {
        "duration": 38,
        "start_time": "2022-03-17T15:31:27.058Z"
      },
      {
        "duration": 36,
        "start_time": "2022-03-17T15:31:27.309Z"
      },
      {
        "duration": 6,
        "start_time": "2022-03-17T15:31:28.309Z"
      },
      {
        "duration": 6,
        "start_time": "2022-03-17T15:31:28.536Z"
      },
      {
        "duration": 5,
        "start_time": "2022-03-17T15:31:28.740Z"
      },
      {
        "duration": 630,
        "start_time": "2022-03-17T15:31:29.795Z"
      },
      {
        "duration": 690,
        "start_time": "2022-03-17T15:31:30.428Z"
      },
      {
        "duration": 679,
        "start_time": "2022-03-17T15:31:31.119Z"
      },
      {
        "duration": 6,
        "start_time": "2022-03-17T15:31:31.800Z"
      },
      {
        "duration": 6,
        "start_time": "2022-03-17T15:31:31.859Z"
      },
      {
        "duration": 6,
        "start_time": "2022-03-17T15:31:32.141Z"
      },
      {
        "duration": 55,
        "start_time": "2022-03-17T15:31:34.309Z"
      },
      {
        "duration": 26,
        "start_time": "2022-03-17T15:31:34.799Z"
      },
      {
        "duration": 26,
        "start_time": "2022-03-17T15:31:35.168Z"
      },
      {
        "duration": 6,
        "start_time": "2022-03-17T15:31:36.315Z"
      },
      {
        "duration": 7,
        "start_time": "2022-03-17T15:31:36.516Z"
      },
      {
        "duration": 6,
        "start_time": "2022-03-17T15:31:36.729Z"
      },
      {
        "duration": 6,
        "start_time": "2022-03-17T15:31:40.549Z"
      },
      {
        "duration": 4,
        "start_time": "2022-03-17T15:31:40.875Z"
      },
      {
        "duration": 6,
        "start_time": "2022-03-17T15:31:41.107Z"
      },
      {
        "duration": 5,
        "start_time": "2022-03-17T15:31:41.306Z"
      },
      {
        "duration": 6,
        "start_time": "2022-03-17T15:31:41.520Z"
      },
      {
        "duration": 4,
        "start_time": "2022-03-17T15:31:41.957Z"
      },
      {
        "duration": 33,
        "start_time": "2022-03-17T15:31:45.450Z"
      },
      {
        "duration": 35,
        "start_time": "2022-03-17T15:31:46.137Z"
      },
      {
        "duration": 36,
        "start_time": "2022-03-17T15:31:47.359Z"
      },
      {
        "duration": 599,
        "start_time": "2022-03-17T15:31:50.079Z"
      },
      {
        "duration": 648,
        "start_time": "2022-03-17T15:31:51.672Z"
      },
      {
        "duration": 657,
        "start_time": "2022-03-17T15:31:52.322Z"
      },
      {
        "duration": 162,
        "start_time": "2022-03-17T15:31:55.502Z"
      },
      {
        "duration": 53,
        "start_time": "2022-03-17T15:31:55.716Z"
      },
      {
        "duration": 20,
        "start_time": "2022-03-17T15:31:55.935Z"
      },
      {
        "duration": 4,
        "start_time": "2022-03-17T15:31:56.832Z"
      },
      {
        "duration": 8,
        "start_time": "2022-03-17T15:31:57.040Z"
      },
      {
        "duration": 10,
        "start_time": "2022-03-17T15:31:57.300Z"
      },
      {
        "duration": 10,
        "start_time": "2022-03-17T15:31:57.539Z"
      },
      {
        "duration": 39,
        "start_time": "2022-03-17T15:31:57.994Z"
      },
      {
        "duration": 40,
        "start_time": "2022-03-17T15:31:58.219Z"
      },
      {
        "duration": 53,
        "start_time": "2022-03-17T15:31:58.436Z"
      },
      {
        "duration": 854,
        "start_time": "2022-03-17T15:31:59.333Z"
      },
      {
        "duration": 948,
        "start_time": "2022-03-17T15:32:00.189Z"
      },
      {
        "duration": 966,
        "start_time": "2022-03-17T15:32:01.139Z"
      },
      {
        "duration": 60,
        "start_time": "2022-03-17T15:32:02.108Z"
      },
      {
        "duration": 115,
        "start_time": "2022-03-17T15:32:02.171Z"
      },
      {
        "duration": 279,
        "start_time": "2022-03-17T15:32:02.288Z"
      },
      {
        "duration": 93,
        "start_time": "2022-03-17T15:32:02.570Z"
      },
      {
        "duration": 12,
        "start_time": "2022-03-17T15:32:02.665Z"
      },
      {
        "duration": 12,
        "start_time": "2022-03-17T15:32:02.679Z"
      },
      {
        "duration": 11,
        "start_time": "2022-03-17T15:32:02.693Z"
      },
      {
        "duration": 18,
        "start_time": "2022-03-17T15:32:02.955Z"
      },
      {
        "duration": 18,
        "start_time": "2022-03-17T15:32:03.193Z"
      },
      {
        "duration": 19,
        "start_time": "2022-03-17T15:32:03.413Z"
      },
      {
        "duration": 445,
        "start_time": "2022-03-17T15:32:04.271Z"
      },
      {
        "duration": 475,
        "start_time": "2022-03-17T15:32:04.718Z"
      },
      {
        "duration": 350,
        "start_time": "2022-03-17T15:32:05.195Z"
      },
      {
        "duration": 20,
        "start_time": "2022-03-17T15:32:05.683Z"
      },
      {
        "duration": 14,
        "start_time": "2022-03-17T15:32:05.944Z"
      },
      {
        "duration": 17,
        "start_time": "2022-03-17T15:32:06.197Z"
      },
      {
        "duration": 63674,
        "start_time": "2022-03-17T15:32:07.982Z"
      },
      {
        "duration": 3,
        "start_time": "2022-03-17T15:33:11.662Z"
      },
      {
        "duration": 193,
        "start_time": "2022-03-17T15:33:11.667Z"
      },
      {
        "duration": 842,
        "start_time": "2022-03-17T15:33:15.570Z"
      },
      {
        "duration": 4,
        "start_time": "2022-03-17T15:33:17.554Z"
      },
      {
        "duration": 4,
        "start_time": "2022-03-17T15:33:17.990Z"
      },
      {
        "duration": 4,
        "start_time": "2022-03-17T15:33:19.139Z"
      },
      {
        "duration": 133,
        "start_time": "2022-03-17T15:33:19.412Z"
      }
    ],
    "kernelspec": {
      "display_name": "Python 3 (ipykernel)",
      "language": "python",
      "name": "python3"
    },
    "language_info": {
      "codemirror_mode": {
        "name": "ipython",
        "version": 3
      },
      "file_extension": ".py",
      "mimetype": "text/x-python",
      "name": "python",
      "nbconvert_exporter": "python",
      "pygments_lexer": "ipython3",
      "version": "3.9.5"
    },
    "toc": {
      "base_numbering": 1,
      "nav_menu": {},
      "number_sections": true,
      "sideBar": true,
      "skip_h1_title": true,
      "title_cell": "Содержание",
      "title_sidebar": "Contents",
      "toc_cell": true,
      "toc_position": {
        "height": "calc(100% - 180px)",
        "left": "10px",
        "top": "150px",
        "width": "366.387px"
      },
      "toc_section_display": true,
      "toc_window_display": true
    },
    "colab": {
      "name": "churn_prediction.ipynb",
      "provenance": [],
      "collapsed_sections": [
        "QZ5oiTJ20T4d",
        "CswbrcF70T4h",
        "AOt11yxh0T4h",
        "bmDUcAh50T4j",
        "HjUjx0s_0T4k",
        "NcRAl28k0T4m",
        "MRzWzLjP0T4n",
        "VMCJR4Yq0T4o",
        "nwwVJPiz0T4p",
        "qehm62Pj0T4r",
        "sqJK-y5w0T4r",
        "vA_FhqEt0T4t",
        "UY3NPFyO0T4v",
        "5D6Xoc120T4w",
        "-FAsEMwn0T4y",
        "SRFFxipH0T40",
        "S96y-wwE0T41",
        "ZrGB4bEM0T44",
        "P5SsczGG0T45",
        "N3L74cSy0T46",
        "ieLKqdsa0T48",
        "A1lo9cTs0T4-"
      ]
    }
  },
  "nbformat": 4,
  "nbformat_minor": 0
}